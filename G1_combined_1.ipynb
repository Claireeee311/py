{
 "cells": [
  {
   "cell_type": "markdown",
   "metadata": {},
   "source": [
    "## Combined_1 (Week 2)\n",
    "\n",
    "### 18 Jan (Wed)"
   ]
  },
  {
   "cell_type": "code",
   "execution_count": 1,
   "metadata": {},
   "outputs": [
    {
     "data": {
      "text/plain": [
       "True"
      ]
     },
     "execution_count": 1,
     "metadata": {},
     "output_type": "execute_result"
    }
   ],
   "source": [
    "bool(1)"
   ]
  },
  {
   "cell_type": "code",
   "execution_count": 2,
   "metadata": {},
   "outputs": [
    {
     "data": {
      "text/plain": [
       "True"
      ]
     },
     "execution_count": 2,
     "metadata": {},
     "output_type": "execute_result"
    }
   ],
   "source": [
    "bool(-100)"
   ]
  },
  {
   "cell_type": "code",
   "execution_count": 3,
   "metadata": {},
   "outputs": [
    {
     "name": "stdout",
     "output_type": "stream",
     "text": [
      "Something inside\n"
     ]
    }
   ],
   "source": [
    "a = 2\n",
    "if a:\n",
    "    print(\"Something inside\")"
   ]
  },
  {
   "cell_type": "code",
   "execution_count": 5,
   "metadata": {},
   "outputs": [
    {
     "data": {
      "text/plain": [
       "bool"
      ]
     },
     "execution_count": 5,
     "metadata": {},
     "output_type": "execute_result"
    }
   ],
   "source": [
    "type(a == 2)"
   ]
  },
  {
   "cell_type": "code",
   "execution_count": 6,
   "metadata": {},
   "outputs": [
    {
     "data": {
      "text/plain": [
       "bool"
      ]
     },
     "execution_count": 6,
     "metadata": {},
     "output_type": "execute_result"
    }
   ],
   "source": [
    "b = a == 2\n",
    "type(b)"
   ]
  },
  {
   "cell_type": "code",
   "execution_count": 7,
   "metadata": {},
   "outputs": [
    {
     "name": "stdout",
     "output_type": "stream",
     "text": [
      "3\n"
     ]
    }
   ],
   "source": [
    "def function(a):\n",
    "    if a < 5:\n",
    "        return a\n",
    "    else:\n",
    "        return None\n",
    "\n",
    "output = function(3)\n",
    "print(output)"
   ]
  },
  {
   "cell_type": "code",
   "execution_count": 9,
   "metadata": {},
   "outputs": [
    {
     "name": "stdout",
     "output_type": "stream",
     "text": [
      "None\n"
     ]
    }
   ],
   "source": [
    "outputB = function(6)\n",
    "print(outputB)"
   ]
  },
  {
   "cell_type": "code",
   "execution_count": 13,
   "metadata": {},
   "outputs": [
    {
     "name": "stdout",
     "output_type": "stream",
     "text": [
      "not true\n"
     ]
    }
   ],
   "source": [
    "if function(8):\n",
    "    print(\"Above is true\")\n",
    "else:\n",
    "    print(\"not true\")"
   ]
  },
  {
   "cell_type": "code",
   "execution_count": 14,
   "metadata": {},
   "outputs": [
    {
     "data": {
      "text/plain": [
       "1010"
      ]
     },
     "execution_count": 14,
     "metadata": {},
     "output_type": "execute_result"
    }
   ],
   "source": [
    "int('10'+'10')"
   ]
  },
  {
   "cell_type": "code",
   "execution_count": 15,
   "metadata": {},
   "outputs": [
    {
     "data": {
      "text/plain": [
       "101010"
      ]
     },
     "execution_count": 15,
     "metadata": {},
     "output_type": "execute_result"
    }
   ],
   "source": [
    "int('10'*3)"
   ]
  },
  {
   "cell_type": "code",
   "execution_count": 16,
   "metadata": {
    "scrolled": true
   },
   "outputs": [
    {
     "data": {
      "text/plain": [
       "2"
      ]
     },
     "execution_count": 16,
     "metadata": {},
     "output_type": "execute_result"
    }
   ],
   "source": [
    "5//2"
   ]
  },
  {
   "cell_type": "code",
   "execution_count": 17,
   "metadata": {},
   "outputs": [
    {
     "name": "stdout",
     "output_type": "stream",
     "text": [
      "5\n",
      "6\n",
      "7\n",
      "8\n",
      "9\n"
     ]
    }
   ],
   "source": [
    "mylist = [5,6,7,8,9]\n",
    "for x in mylist:\n",
    "    print(x)"
   ]
  },
  {
   "cell_type": "code",
   "execution_count": 18,
   "metadata": {},
   "outputs": [
    {
     "data": {
      "text/plain": [
       "[5, 6, 7]"
      ]
     },
     "execution_count": 18,
     "metadata": {},
     "output_type": "execute_result"
    }
   ],
   "source": [
    "mylist[:3]"
   ]
  },
  {
   "cell_type": "code",
   "execution_count": 20,
   "metadata": {},
   "outputs": [
    {
     "name": "stdout",
     "output_type": "stream",
     "text": [
      "s\n",
      "i\n",
      "n\n",
      "g\n",
      "a\n",
      "p\n",
      "o\n",
      "r\n",
      "e\n"
     ]
    }
   ],
   "source": [
    "mystring = 'singapore'\n",
    "mystring[:3]\n",
    "for char in mystring:\n",
    "    print(char)"
   ]
  },
  {
   "cell_type": "code",
   "execution_count": 24,
   "metadata": {},
   "outputs": [
    {
     "data": {
      "text/plain": [
       "'apple_orange'"
      ]
     },
     "execution_count": 24,
     "metadata": {},
     "output_type": "execute_result"
    }
   ],
   "source": [
    "\"_\".join(['apple','orange'])"
   ]
  },
  {
   "cell_type": "code",
   "execution_count": 30,
   "metadata": {},
   "outputs": [],
   "source": [
    "mylist = [217, 216, 215]\n",
    "mylist.append(199)"
   ]
  },
  {
   "cell_type": "code",
   "execution_count": 31,
   "metadata": {
    "scrolled": true
   },
   "outputs": [
    {
     "data": {
      "text/plain": [
       "[217, 216, 215, 199]"
      ]
     },
     "execution_count": 31,
     "metadata": {},
     "output_type": "execute_result"
    }
   ],
   "source": [
    "mylist"
   ]
  },
  {
   "cell_type": "code",
   "execution_count": 27,
   "metadata": {},
   "outputs": [
    {
     "data": {
      "text/plain": [
       "[217, 216, 215, 90, 91, 92]"
      ]
     },
     "execution_count": 27,
     "metadata": {},
     "output_type": "execute_result"
    }
   ],
   "source": [
    "[217, 216, 215] + [90, 91, 92]"
   ]
  },
  {
   "cell_type": "code",
   "execution_count": 32,
   "metadata": {},
   "outputs": [
    {
     "data": {
      "text/plain": [
       "217"
      ]
     },
     "execution_count": 32,
     "metadata": {},
     "output_type": "execute_result"
    }
   ],
   "source": [
    "mylist.pop(0)   # get from index 0\n",
    "\n",
    "## if you want the last, do mylist.pop(-1)\n"
   ]
  },
  {
   "cell_type": "code",
   "execution_count": 34,
   "metadata": {},
   "outputs": [
    {
     "data": {
      "text/plain": [
       "215"
      ]
     },
     "execution_count": 34,
     "metadata": {},
     "output_type": "execute_result"
    }
   ],
   "source": [
    "mylist.pop(1)   ## get from index 1"
   ]
  },
  {
   "cell_type": "code",
   "execution_count": 35,
   "metadata": {},
   "outputs": [],
   "source": [
    "mapper = {\n",
    "    'STI': 3340,\n",
    "    'SP500': 4462,\n",
    "    'FTSE': 7617,\n",
    "}"
   ]
  },
  {
   "cell_type": "code",
   "execution_count": 36,
   "metadata": {},
   "outputs": [
    {
     "data": {
      "text/plain": [
       "{'STI': 3340, 'SP500': 4462, 'FTSE': 7617}"
      ]
     },
     "execution_count": 36,
     "metadata": {},
     "output_type": "execute_result"
    }
   ],
   "source": [
    "mapper"
   ]
  },
  {
   "cell_type": "code",
   "execution_count": 38,
   "metadata": {},
   "outputs": [
    {
     "data": {
      "text/plain": [
       "['STI', 'SP500', 'FTSE']"
      ]
     },
     "execution_count": 38,
     "metadata": {},
     "output_type": "execute_result"
    }
   ],
   "source": [
    "list(mapper.keys())"
   ]
  },
  {
   "cell_type": "code",
   "execution_count": 39,
   "metadata": {},
   "outputs": [
    {
     "name": "stdout",
     "output_type": "stream",
     "text": [
      "STI\n",
      "SP500\n",
      "FTSE\n"
     ]
    }
   ],
   "source": [
    "for key in mapper.keys():\n",
    "    print(key)"
   ]
  },
  {
   "cell_type": "code",
   "execution_count": 41,
   "metadata": {},
   "outputs": [
    {
     "data": {
      "text/plain": [
       "[3340, 4462, 7617]"
      ]
     },
     "execution_count": 41,
     "metadata": {},
     "output_type": "execute_result"
    }
   ],
   "source": [
    "list(mapper.values())"
   ]
  },
  {
   "cell_type": "code",
   "execution_count": 43,
   "metadata": {},
   "outputs": [
    {
     "data": {
      "text/plain": [
       "[('STI', 3340), ('SP500', 4462), ('FTSE', 7617)]"
      ]
     },
     "execution_count": 43,
     "metadata": {},
     "output_type": "execute_result"
    }
   ],
   "source": [
    "list(mapper.items())"
   ]
  },
  {
   "cell_type": "code",
   "execution_count": 45,
   "metadata": {},
   "outputs": [
    {
     "name": "stdout",
     "output_type": "stream",
     "text": [
      "('STI', 3340)\n",
      "index_name  STI index_level  3340\n",
      "('SP500', 4462)\n",
      "index_name  SP500 index_level  4462\n",
      "('FTSE', 7617)\n",
      "index_name  FTSE index_level  7617\n"
     ]
    }
   ],
   "source": [
    "for a in mapper.items():\n",
    "    print(a)\n",
    "    index_name = a[0]\n",
    "    index_level = a[1]\n",
    "    print(\"index_name \", index_name, \"index_level \", index_level)"
   ]
  },
  {
   "cell_type": "code",
   "execution_count": 46,
   "metadata": {},
   "outputs": [
    {
     "name": "stdout",
     "output_type": "stream",
     "text": [
      "index_name  STI index_level  3340\n",
      "index_name  SP500 index_level  4462\n",
      "index_name  FTSE index_level  7617\n"
     ]
    }
   ],
   "source": [
    "for index_name, index_level in mapper.items():\n",
    "    print(\"index_name \", index_name, \"index_level \", index_level)"
   ]
  },
  {
   "cell_type": "code",
   "execution_count": 47,
   "metadata": {},
   "outputs": [],
   "source": [
    "newlist = [('a',1,10.0), ('b',2,12.0), ('c',3,13.0)]"
   ]
  },
  {
   "cell_type": "code",
   "execution_count": 48,
   "metadata": {},
   "outputs": [
    {
     "name": "stdout",
     "output_type": "stream",
     "text": [
      "doh a\n",
      "reh 1\n",
      "mi 10.0\n",
      "doh b\n",
      "reh 2\n",
      "mi 12.0\n",
      "doh c\n",
      "reh 3\n",
      "mi 13.0\n"
     ]
    }
   ],
   "source": [
    "for doh, reh, mi in newlist:\n",
    "    print(\"doh\", doh)\n",
    "    print(\"reh\", reh)\n",
    "    print(\"mi\", mi)\n",
    "    "
   ]
  },
  {
   "cell_type": "code",
   "execution_count": 49,
   "metadata": {},
   "outputs": [
    {
     "data": {
      "text/plain": [
       "[0, 0, 0, 0, 0, 0, 1, 2, 3, 4, 0, 2, 4, 6, 8, 0, 3, 6, 9, 12, 0, 4, 8, 12, 16]"
      ]
     },
     "execution_count": 49,
     "metadata": {},
     "output_type": "execute_result"
    }
   ],
   "source": [
    "[i*j for i in range(5) for j in range(5)]"
   ]
  },
  {
   "cell_type": "code",
   "execution_count": 50,
   "metadata": {},
   "outputs": [
    {
     "data": {
      "text/plain": [
       "[3, 7, 11]"
      ]
     },
     "execution_count": 50,
     "metadata": {},
     "output_type": "execute_result"
    }
   ],
   "source": [
    "something = [(1,2), (3,4), (5,6)]\n",
    "\n",
    "[a+b for a,b in something]"
   ]
  },
  {
   "cell_type": "markdown",
   "metadata": {},
   "source": [
    "## Contents\n",
    "\n",
    "**Class Exercise (Week 1)** <br>\n",
    "[Exercise 1.11](#Exercise_1_11) <br>\n",
    "[Exercise 1.12](#Exercise_1_12) <br>\n",
    "[Exercise 1.13](#Exercise_1_13) <br>\n",
    "[Exercise 1.14](#Exercise_1_14) <br>\n",
    "[Exercise 1.15](#Exercise_1_15) <br>\n",
    "[Exercise 1.16](#Exercise_1_16) <br>\n",
    "\n",
    "**Tutorial Questions (Week 2)** <br>\n",
    "[Question 1.21](#Question_1_21) <br>\n",
    "[Question 1.22](#Question_1_22) <br>\n",
    "[Question 1.23](#Question_1_23) <br>\n",
    "[Question 1.24](#Question_1_24) <br>\n",
    "[Question 1.25](#Question_1_25) <br>"
   ]
  },
  {
   "cell_type": "code",
   "execution_count": null,
   "metadata": {},
   "outputs": [],
   "source": []
  },
  {
   "cell_type": "markdown",
   "metadata": {},
   "source": [
    "<a id='Exercise_1_11'></a>\n",
    "\n",
    "### Exercise 1.11: Frequency of each value in a list\n",
    "\n",
    "Given a list of values with possible duplicates, you are tasked to count the frequency of each unique value."
   ]
  },
  {
   "cell_type": "code",
   "execution_count": 1,
   "metadata": {},
   "outputs": [],
   "source": [
    "long_list = [11, 230, 127, 183, 142, 186, 256, 182, 184, 50, 266, 179, 22, 30, 59, 236, 155, 57, 262, 279, 107, 98, 271, 240, 276, 23, 170, 207, 123, 228, 231, 205, 30, 161, 125, 212, 224, 34, 272, 106, 164, 26, 263, 3, 234, 244, 3, 260, 135, 29, 116, 44, 206, 131, 218, 201, 140, 208, 130, 247, 256, 272, 208, 262, 227, 242, 112, 138, 192, 7, 268, 184, 168, 5, 246, 199, 6, 26, 300, 54, 260, 69, 64, 61, 15, 288, 190, 78, 165, 7, 178, 71, 62, 131, 26, 75, 2, 52, 164, 195, 75, 80, 212, 127, 201, 184, 78, 106, 90, 256, 33, 241, 208, 39, 32, 240, 160, 172, 108, 144, 116, 251, 106, 278, 120, 99, 22, 148, 6, 185, 136, 235, 208, 114, 22, 229, 88, 225, 112, 236, 250, 32, 152, 195, 0, 160, 252, 15, 173, 283, 72, 94, 76, 226, 4, 44, 28, 120, 175, 56, 262, 178, 249, 246, 19, 203, 196, 207, 33, 94, 216, 280, 102, 250, 74, 277, 159, 23, 80, 63, 124, 240, 166, 137, 14, 255, 252, 112, 41, 90, 187, 108, 2, 60, 147, 114, 266, 173, 183, 84, 10, 173, 35, 248, 124, 207, 163, 44, 2, 171, 142, 174, 219, 114, 30, 290, 239, 63, 42, 103, 61, 58, 181, 18, 111, 119, 99, 171, 210, 59, 142, 278, 213, 35, 286, 285, 227, 91, 232, 196, 11, 91, 192, 241, 1, 275, 76, 210, 160, 32, 272, 120, 176, 33, 65, 26, 2, 248, 262, 286, 199, 12, 107, 253, 150, 138, 157, 31, 250, 30, 95, 96, 105, 261, 276, 146, 195, 190, 217, 62, 138, 268, 134, 39, 164, 8, 46, 152, 93, 263, 232, 264, 272, 53, 283, 286, 218, 293, 238, 5, 122, 241, 76, 106, 85, 103, 221, 77, 74, 236, 1, 13, 144, 235, 27, 50, 7, 17, 157, 296, 111, 1, 176, 297, 286, 115, 187, 272, 66, 185, 145, 254, 20, 232, 49, 289, 285, 222, 199, 103, 65, 33, 3, 88, 157, 276, 29, 88, 226, 194, 219, 98, 58, 193, 2, 255, 126, 41, 112, 83, 104, 296, 219, 148, 274, 34, 2, 15, 267, 286, 252, 275, 126, 173, 225, 223, 121, 136, 257, 214, 7, 291, 84, 60, 93, 284, 112, 195, 162, 296, 277, 204, 297, 120, 62, 218, 247, 150, 274, 108, 78, 146, 180, 168, 231, 39, 79, 45, 139, 75, 0, 83, 158, 273, 258, 242, 36, 268, 287, 106, 284, 184, 64, 235, 14, 159, 57, 168, 4, 3, 185, 180, 132, 132, 270, 148, 39, 18, 178, 121, 250, 29, 96, 190, 234, 34, 225, 187, 57, 57, 260, 219, 126, 158, 72, 248, 47, 180, 219, 253, 10, 84, 86, 5, 210, 147, 122, 61, 143, 84, 164, 250, 233, 225, 73, 133, 123, 148, 124, 214, 5, 48, 172, 102, 133, 100, 57, 253, 13, 0, 31, 272, 2, 87, 292, 243, 53, 298, 35, 116, 282, 187, 287, 30, 108, 298, 63, 285, 289, 132, 204, 30, 230, 95, 117, 254, 128, 203, 55, 36, 147, 2, 285, 168, 214, 239, 93, 171, 288, 265, 202, 168, 161, 217, 189, 36, 101, 46, 100, 101, 50, 266, 263, 170, 19, 126, 35, 67, 122, 147, 109, 76, 147, 177, 183, 51, 124, 220, 263, 265, 3, 41, 188, 234, 187, 157, 287, 21, 99, 46, 214, 68, 8, 230, 284, 234, 258, 296, 192, 6, 281, 31, 238, 297, 34, 120, 20, 6, 230, 127, 242, 248, 147, 294, 165, 266, 268, 258, 82, 121, 221, 9, 80, 240, 67, 271, 35, 78, 253, 207, 161, 257, 38, 128, 281, 281, 170, 167, 40, 113, 12, 93, 126, 41, 258, 233, 71, 242, 209, 82, 97, 150, 90, 276, 264, 51, 222, 6, 204, 118, 263, 102, 177, 113, 106, 288, 58, 94, 299, 131, 95, 183, 184, 108, 190, 273, 279, 99, 227, 10, 274, 81, 272, 50, 65, 114, 52, 52, 10, 181, 36, 281, 6, 97, 214, 279, 143, 203, 244, 250, 151, 180, 185, 169, 66, 51, 21, 201, 275, 250, 58, 108, 1, 87, 127, 95, 81, 212, 250, 222, 171, 83, 145, 149, 185, 67, 275, 206, 242, 67, 229, 118, 124, 117, 179, 141, 65, 40, 111, 81, 152, 79, 104, 67, 119, 27, 107, 295, 43, 97, 193, 148, 255, 247, 284, 69, 84, 268, 234, 251, 169, 99, 233, 126, 103, 233, 24, 196, 70, 181, 150, 181, 110, 257, 31, 299, 195, 25, 289, 36, 75, 152, 37, 115, 116, 171, 218, 278, 198, 200, 204, 260, 211, 97, 220, 167, 261, 168, 281, 67, 161, 297, 202, 56, 53, 230, 27, 64, 171, 299, 179, 66, 276, 209, 204, 282, 71, 132, 64, 299, 158, 163, 111, 252, 14, 180, 202, 286, 250, 142, 48, 271, 148, 151, 282, 116, 232, 188, 5, 150, 242, 292, 48, 119, 158, 10, 89, 124, 211, 253, 182, 295, 81, 199, 126, 139, 59, 154, 212, 101, 89, 45, 289, 69, 120, 264, 217, 279, 163, 103, 153, 159, 183, 81, 282, 77, 77, 4, 229, 10, 292, 222, 235, 205, 283, 194, 166, 63, 56, 92, 57, 184, 48, 285, 146, 184, 233, 76, 164, 83, 74, 178, 263, 137, 272, 4, 102, 111, 83, 229, 7, 268, 26, 274, 100, 231, 80, 223, 226, 151, 219, 5, 144, 169, 68, 175, 257, 48, 243, 185, 145, 115, 239, 259, 36, 192, 256, 19, 252, 95, 284, 62, 192, 281, 299, 34, 290, 70, 166, 9, 102, 279, 225, 147, 175, 269, 16, 115, 181, 150, 200, 89, 1, 298, 132, 93, 24, 209, 231, 225, 67, 239, 47, 280, 101, 210, 164, 241, 115, 259, 261, 157, 224, 296, 223, 127, 22, 280, 28, 170, 15, 201, 102, 245, 266, 161, 20, 210, 251, 249, 53, 282, 76, 126, 243, 196, 220, 265, 110, 146, 242, 248, 17, 181, 23, 77, 106, 296, 290, 243, 93]"
   ]
  },
  {
   "cell_type": "code",
   "execution_count": 2,
   "metadata": {},
   "outputs": [],
   "source": [
    "value_freq = {}\n",
    "for v in long_list:\n",
    "    value_freq[v] = value_freq.get(v, 0) + 1"
   ]
  },
  {
   "cell_type": "code",
   "execution_count": 3,
   "metadata": {
    "scrolled": true
   },
   "outputs": [
    {
     "name": "stdout",
     "output_type": "stream",
     "text": [
      "{11: 2, 230: 5, 127: 5, 183: 5, 142: 4, 186: 1, 256: 4, 182: 2, 184: 7, 50: 4, 266: 5, 179: 3, 22: 4, 30: 6, 59: 3, 236: 3, 155: 1, 57: 6, 262: 4, 279: 5, 107: 3, 98: 2, 271: 3, 240: 4, 276: 5, 23: 3, 170: 4, 207: 4, 123: 2, 228: 1, 231: 4, 205: 2, 161: 5, 125: 1, 212: 4, 224: 2, 34: 5, 272: 8, 106: 7, 164: 6, 26: 5, 263: 6, 3: 5, 234: 5, 244: 2, 260: 4, 135: 1, 29: 3, 116: 5, 44: 3, 206: 2, 131: 3, 218: 4, 201: 4, 140: 1, 208: 4, 130: 1, 247: 3, 227: 3, 242: 7, 112: 5, 138: 3, 192: 5, 7: 5, 268: 6, 168: 6, 5: 6, 246: 2, 199: 4, 6: 6, 300: 1, 54: 1, 69: 3, 64: 4, 61: 3, 15: 4, 288: 3, 190: 4, 78: 4, 165: 2, 178: 4, 71: 3, 62: 4, 75: 4, 2: 8, 52: 3, 195: 5, 80: 4, 90: 3, 33: 4, 241: 4, 39: 4, 32: 3, 160: 3, 172: 2, 108: 6, 144: 3, 251: 3, 278: 3, 120: 6, 99: 5, 148: 6, 185: 6, 136: 2, 235: 4, 114: 4, 229: 4, 88: 3, 225: 6, 250: 9, 152: 4, 0: 3, 252: 5, 173: 4, 283: 3, 72: 2, 94: 3, 76: 6, 226: 3, 4: 4, 28: 2, 175: 3, 56: 3, 249: 2, 19: 3, 203: 3, 196: 4, 216: 1, 280: 3, 102: 6, 74: 3, 277: 2, 159: 3, 63: 4, 124: 6, 166: 3, 137: 2, 14: 3, 255: 3, 41: 4, 187: 5, 60: 2, 147: 7, 84: 5, 10: 6, 35: 5, 248: 5, 163: 3, 171: 6, 174: 1, 219: 6, 290: 3, 239: 4, 42: 1, 103: 5, 58: 4, 181: 6, 18: 2, 111: 5, 119: 3, 210: 5, 213: 1, 286: 6, 285: 5, 91: 2, 232: 4, 1: 5, 275: 4, 176: 2, 65: 4, 12: 2, 253: 5, 150: 6, 157: 5, 31: 4, 95: 5, 96: 2, 105: 1, 261: 3, 146: 4, 217: 3, 134: 1, 8: 2, 46: 3, 93: 6, 264: 3, 53: 4, 293: 1, 238: 2, 122: 3, 85: 1, 221: 2, 77: 4, 13: 2, 27: 3, 17: 2, 296: 6, 297: 4, 115: 5, 66: 3, 145: 3, 254: 2, 20: 3, 49: 1, 289: 4, 222: 4, 194: 2, 193: 2, 126: 8, 83: 5, 104: 2, 274: 4, 267: 1, 223: 3, 121: 3, 257: 4, 214: 5, 291: 1, 284: 5, 162: 1, 204: 5, 180: 5, 79: 2, 45: 2, 139: 2, 158: 4, 273: 2, 258: 4, 36: 6, 287: 3, 132: 5, 270: 1, 47: 2, 86: 1, 143: 2, 233: 5, 73: 1, 133: 2, 48: 5, 100: 3, 87: 2, 292: 3, 243: 4, 298: 3, 282: 5, 117: 2, 128: 2, 55: 1, 265: 3, 202: 3, 189: 1, 101: 4, 67: 7, 109: 1, 177: 2, 51: 3, 220: 3, 188: 2, 21: 2, 68: 2, 281: 6, 294: 1, 82: 2, 9: 2, 38: 1, 167: 2, 40: 2, 113: 2, 209: 3, 97: 4, 118: 2, 299: 5, 81: 5, 151: 3, 169: 3, 149: 1, 141: 1, 295: 2, 43: 1, 24: 2, 70: 2, 110: 2, 25: 1, 37: 1, 198: 1, 200: 2, 211: 2, 89: 3, 154: 1, 153: 1, 92: 1, 259: 2, 269: 1, 16: 1, 245: 1}\n"
     ]
    }
   ],
   "source": [
    "print(value_freq)"
   ]
  },
  {
   "cell_type": "code",
   "execution_count": 51,
   "metadata": {},
   "outputs": [],
   "source": [
    "a = [55]*100"
   ]
  },
  {
   "cell_type": "code",
   "execution_count": 55,
   "metadata": {},
   "outputs": [],
   "source": [
    "## not efficient -- double multiple work\n",
    "for entry in a:\n",
    "    a.count(entry)"
   ]
  },
  {
   "cell_type": "code",
   "execution_count": 56,
   "metadata": {},
   "outputs": [
    {
     "name": "stdout",
     "output_type": "stream",
     "text": [
      "55\n"
     ]
    }
   ],
   "source": [
    "for entry in set(a):\n",
    "    print(entry)\n",
    "    a.count(entry)"
   ]
  },
  {
   "cell_type": "code",
   "execution_count": 60,
   "metadata": {},
   "outputs": [],
   "source": [
    "dictionary = {}\n",
    "listB = [5,6,7,5,5]\n",
    "\n",
    "## check whether the key exists\n",
    "for entry in listB:\n",
    "    if entry in dictionary.keys():\n",
    "        dictionary[entry] += 1\n",
    "    else:\n",
    "        dictionary[entry] = 1"
   ]
  },
  {
   "cell_type": "code",
   "execution_count": 61,
   "metadata": {},
   "outputs": [
    {
     "data": {
      "text/plain": [
       "{5: 3, 6: 1, 7: 1}"
      ]
     },
     "execution_count": 61,
     "metadata": {},
     "output_type": "execute_result"
    }
   ],
   "source": [
    "dictionary"
   ]
  },
  {
   "cell_type": "code",
   "execution_count": 62,
   "metadata": {},
   "outputs": [
    {
     "data": {
      "text/plain": [
       "3"
      ]
     },
     "execution_count": 62,
     "metadata": {},
     "output_type": "execute_result"
    }
   ],
   "source": [
    "dictionary.get(5,0)\n",
    "\n",
    "## this means --> \n",
    "## if 5 is in dictionary.keys():\n",
    "##     return dictionary[5]\n",
    "## else:\n",
    "##     return 0"
   ]
  },
  {
   "cell_type": "code",
   "execution_count": 63,
   "metadata": {},
   "outputs": [
    {
     "data": {
      "text/plain": [
       "'monkey'"
      ]
     },
     "execution_count": 63,
     "metadata": {},
     "output_type": "execute_result"
    }
   ],
   "source": [
    "dictionary.get(10,'monkey')"
   ]
  },
  {
   "cell_type": "markdown",
   "metadata": {},
   "source": [
    "<a id='Exercise_1_12'></a>\n",
    "\n",
    "### Exercise 1.12: Value that first appears at least three times\n",
    "\n",
    "Given a list of values with possible duplicates, print the first value that appears at least 3 times in the list."
   ]
  },
  {
   "cell_type": "code",
   "execution_count": 4,
   "metadata": {},
   "outputs": [
    {
     "name": "stdout",
     "output_type": "stream",
     "text": [
      "26\n"
     ]
    }
   ],
   "source": [
    "value_freq = {}\n",
    "for v in long_list:\n",
    "    f = value_freq.get(v, 0)\n",
    "    if f == 2:\n",
    "        print(v)\n",
    "        break\n",
    "    value_freq[v] = f + 1"
   ]
  },
  {
   "cell_type": "code",
   "execution_count": null,
   "metadata": {},
   "outputs": [],
   "source": [
    "value_freq = {}\n",
    "for v in long_list:\n",
    "    f = value_freq.get(v, 0)\n",
    "    value_freq[v] = f + 1\n",
    "    if f == 3:\n",
    "        print(v)\n",
    "        break"
   ]
  },
  {
   "cell_type": "code",
   "execution_count": null,
   "metadata": {},
   "outputs": [],
   "source": [
    "[1,2,2,2,1,1,1,2]\n",
    "\n",
    "{1: 4, 2: 4}"
   ]
  },
  {
   "cell_type": "markdown",
   "metadata": {},
   "source": [
    "<a id='Exercise_1_13'></a>\n",
    "\n",
    "### Exercise 1.13: Print pattern\n",
    "\n",
    "Print the following pattern of 10 rows and 19 columns."
   ]
  },
  {
   "cell_type": "markdown",
   "metadata": {},
   "source": [
    "```\n",
    "*******************\n",
    "---------*---------\n",
    "********---********\n",
    "-------*****-------\n",
    "******-------******\n",
    "-----*********-----\n",
    "****-----------****\n",
    "---*************---\n",
    "**---------------**\n",
    "-*****************-\n",
    "```"
   ]
  },
  {
   "cell_type": "code",
   "execution_count": 5,
   "metadata": {},
   "outputs": [
    {
     "name": "stdout",
     "output_type": "stream",
     "text": [
      "*******************\n",
      "---------*---------\n",
      "********---********\n",
      "-------*****-------\n",
      "******-------******\n",
      "-----*********-----\n",
      "****-----------****\n",
      "---*************---\n",
      "**---------------**\n",
      "-*****************-\n"
     ]
    }
   ],
   "source": [
    "print('*' * 19)\n",
    "for i in range(1,10):\n",
    "    if i % 2 == 1:\n",
    "        print('-' * (10 - i) + '*' * (2 * i - 1) + '-' * (10 - i))\n",
    "    else:\n",
    "        print('*' * (10 - i) + '-' * (2 * i - 1) + '*' * (10 - i))"
   ]
  },
  {
   "cell_type": "markdown",
   "metadata": {},
   "source": [
    "<a id='Exercise_1_14'></a>\n",
    "\n",
    "### Exercise 1.14: Geometric progression\n",
    "\n",
    "Construct a geometric progression given the first term and the ratio between consecutive terms. Then, print the first 20 terms."
   ]
  },
  {
   "cell_type": "code",
   "execution_count": 6,
   "metadata": {},
   "outputs": [],
   "source": [
    "first_term, ratio = 512, 1.5"
   ]
  },
  {
   "cell_type": "code",
   "execution_count": 7,
   "metadata": {},
   "outputs": [
    {
     "name": "stdout",
     "output_type": "stream",
     "text": [
      "[512.0, 768.0, 1152.0, 1728.0, 2592.0, 3888.0, 5832.0, 8748.0, 13122.0, 19683.0, 29524.5, 44286.75, 66430.125, 99645.1875, 149467.78125, 224201.671875, 336302.5078125, 504453.76171875, 756680.642578125, 1135020.9638671875]\n"
     ]
    }
   ],
   "source": [
    "print([first_term * ratio ** i for i in range(20)])"
   ]
  },
  {
   "cell_type": "code",
   "execution_count": 8,
   "metadata": {},
   "outputs": [
    {
     "name": "stdout",
     "output_type": "stream",
     "text": [
      "[512.0, 768.0, 1152.0, 1728.0, 2592.0, 3888.0, 5832.0, 8748.0, 13122.0, 19683.0, 29524.5, 44286.75, 66430.125, 99645.1875, 149467.78125, 224201.671875, 336302.5078125, 504453.76171875, 756680.642578125, 1135020.9638671875]\n"
     ]
    }
   ],
   "source": [
    "## the following is what the above list-comprehension is effectively doing\n",
    "holder = []\n",
    "for i in range(20):\n",
    "    holder.append(first_term * ratio ** i)\n",
    "print(holder)"
   ]
  },
  {
   "cell_type": "code",
   "execution_count": 66,
   "metadata": {},
   "outputs": [
    {
     "name": "stdout",
     "output_type": "stream",
     "text": [
      "[1.0, 1.5, 2.25, 3.375, 5.0625, 7.59375, 11.390625, 17.0859375, 25.62890625, 38.443359375, 57.6650390625, 86.49755859375, 129.746337890625, 194.6195068359375, 291.92926025390625, 437.8938903808594, 656.8408355712891, 985.2612533569336, 1477.8918800354004, 2216.8378200531006]\n"
     ]
    }
   ],
   "source": [
    "ratio = 1.5\n",
    "\n",
    "#print([i for i in range(20)])\n",
    "print([ratio ** i for i in range(20)])\n",
    "#print([first_term * ratio ** i for i in range(20)])"
   ]
  },
  {
   "cell_type": "markdown",
   "metadata": {},
   "source": [
    "<a id='Exercise_1_15'></a>\n",
    "\n",
    "### Exercise 1.15: Find start time\n",
    "\n",
    "Suppose a presentation session at a conference starts at 0825hrs, and each speaker is given 25 minutes to talk. If the speakers present in the ascending order of their last name, find out when Einstein will start his presentation.\n",
    "- There will be no duplicate surnames\n",
    "- Take the last word as the surname"
   ]
  },
  {
   "cell_type": "code",
   "execution_count": 67,
   "metadata": {},
   "outputs": [],
   "source": [
    "physicists = ['Erwin Schroedinger', 'Wolfgang Pauli', 'Max Born', 'Niels Bohr', 'Max Planck', 'Madame Curie', 'Hendrik Antoon Lorentz', 'Albert Einstein', 'Paul Langevin', 'Louis Victor de Broglie', 'Paul Dirac', 'Werner Heisenberg']"
   ]
  },
  {
   "cell_type": "code",
   "execution_count": 10,
   "metadata": {},
   "outputs": [
    {
     "name": "stdout",
     "output_type": "stream",
     "text": [
      "1030hrs\n"
     ]
    }
   ],
   "source": [
    "surname = [i.split()[-1] for i in physicists]\n",
    "surname.sort()\n",
    "v = 8 * 60 + 25 * (surname.index('Einstein') + 1)\n",
    "print('{:02d}{:02d}hrs'.format(v //60, v % 60))"
   ]
  },
  {
   "cell_type": "code",
   "execution_count": 70,
   "metadata": {},
   "outputs": [
    {
     "data": {
      "text/plain": [
       "['Schroedinger',\n",
       " 'Pauli',\n",
       " 'Born',\n",
       " 'Bohr',\n",
       " 'Planck',\n",
       " 'Curie',\n",
       " 'Lorentz',\n",
       " 'Einstein',\n",
       " 'Langevin',\n",
       " 'Broglie',\n",
       " 'Dirac',\n",
       " 'Heisenberg']"
      ]
     },
     "execution_count": 70,
     "metadata": {},
     "output_type": "execute_result"
    }
   ],
   "source": [
    "#[i for i in physicists]\n",
    "#[i.split() for i in physicists]\n",
    "[i.split()[-1] for i in physicists]"
   ]
  },
  {
   "cell_type": "code",
   "execution_count": 4,
   "metadata": {},
   "outputs": [
    {
     "name": "stdout",
     "output_type": "stream",
     "text": [
      "5\n"
     ]
    }
   ],
   "source": [
    "physicists = ['Erwin Schroedinger', 'Wolfgang Pauli', 'Max Born', 'Niels Bohr', 'Max Planck', 'Madame Curie', 'Hendrik Antoon Lorentz', 'Albert Einstein', 'Paul Langevin', 'Louis Victor de Broglie', 'Paul Dirac', 'Werner Heisenberg']\n",
    "surname = [i.split()[-1] for i in physicists]\n",
    "surname.sort()\n",
    "print(surname.index('Einstein'))"
   ]
  },
  {
   "cell_type": "markdown",
   "metadata": {},
   "source": [
    "<a id='Exercise_1_16'></a>\n",
    "\n",
    "### Exercise 1.16: list words that have appeared at least 4 times\n",
    "\n",
    "Given a string of words, list all words (in any order) that have appeared 4 times or more. (For context, the following is taken from one of Lee Kuan Yew's speeches https://www.nas.gov.sg/archivesonline/data/pdfdoc/lky19650912a.pdf in 1965, with minor changes to some punctuations)\n",
    "\n",
    "*Note: This is different from the SCORM lecture which involves one of Donald Trump's speech*"
   ]
  },
  {
   "cell_type": "code",
   "execution_count": 6,
   "metadata": {},
   "outputs": [],
   "source": [
    "speech = \"\"\"\n",
    "But I say to you. Here we make the model multi-racial society. \n",
    "This is not a country that belongs to any single community. It belongs to all of us. \n",
    "You helped built it, your fathers, your grandfathers helped build this.\n",
    "There was no naval base here, and it is not the British who built it. \n",
    "It was your labour, your father’s labour which built that. My grandfather come here and built. \n",
    "Yes, he came here looking for his fortune, but he stayed — my grandfather was born here.\n",
    "Over 100 years ago, this was a mud-flat, swamp. Today, this is a modern city. \n",
    "Ten years from now, this will be a metropolis. Never fear.\n",
    "\"\"\""
   ]
  },
  {
   "cell_type": "code",
   "execution_count": 7,
   "metadata": {},
   "outputs": [
    {
     "data": {
      "text/plain": [
       "'\\nBut I say to you. Here we make the model multi-racial society. \\nThis is not a country that belongs to any single community. It belongs to all of us. \\nYou helped built it, your fathers, your grandfathers helped build this.\\nThere was no naval base here, and it is not the British who built it. \\nIt was your labour, your father’s labour which built that. My grandfather come here and built. \\nYes, he came here looking for his fortune, but he stayed — my grandfather was born here.\\nOver 100 years ago, this was a mud-flat, swamp. Today, this is a modern city. \\nTen years from now, this will be a metropolis. Never fear.\\n'"
      ]
     },
     "execution_count": 7,
     "metadata": {},
     "output_type": "execute_result"
    }
   ],
   "source": [
    "speech"
   ]
  },
  {
   "cell_type": "code",
   "execution_count": 8,
   "metadata": {},
   "outputs": [],
   "source": [
    "example = 'fullstopstop.'"
   ]
  },
  {
   "cell_type": "code",
   "execution_count": 9,
   "metadata": {},
   "outputs": [
    {
     "data": {
      "text/plain": [
       "'fullstartstart.'"
      ]
     },
     "execution_count": 9,
     "metadata": {},
     "output_type": "execute_result"
    }
   ],
   "source": [
    "#example.replace('.','')\n",
    "example.replace('stop','start')"
   ]
  },
  {
   "cell_type": "code",
   "execution_count": 10,
   "metadata": {},
   "outputs": [
    {
     "data": {
      "text/plain": [
       "['But',\n",
       " 'I',\n",
       " 'say',\n",
       " 'to',\n",
       " 'you.',\n",
       " 'Here',\n",
       " 'we',\n",
       " 'make',\n",
       " 'the',\n",
       " 'model',\n",
       " 'multi-racial',\n",
       " 'society.',\n",
       " 'This',\n",
       " 'is',\n",
       " 'not',\n",
       " 'a',\n",
       " 'country',\n",
       " 'that',\n",
       " 'belongs',\n",
       " 'to',\n",
       " 'any',\n",
       " 'single',\n",
       " 'community.',\n",
       " 'It',\n",
       " 'belongs',\n",
       " 'to',\n",
       " 'all',\n",
       " 'of',\n",
       " 'us.',\n",
       " 'You',\n",
       " 'helped',\n",
       " 'built',\n",
       " 'it,',\n",
       " 'your',\n",
       " 'fathers,',\n",
       " 'your',\n",
       " 'grandfathers',\n",
       " 'helped',\n",
       " 'build',\n",
       " 'this.',\n",
       " 'There',\n",
       " 'was',\n",
       " 'no',\n",
       " 'naval',\n",
       " 'base',\n",
       " 'here,',\n",
       " 'and',\n",
       " 'it',\n",
       " 'is',\n",
       " 'not',\n",
       " 'the',\n",
       " 'British',\n",
       " 'who',\n",
       " 'built',\n",
       " 'it.',\n",
       " 'It',\n",
       " 'was',\n",
       " 'your',\n",
       " 'labour,',\n",
       " 'your',\n",
       " 'father’s',\n",
       " 'labour',\n",
       " 'which',\n",
       " 'built',\n",
       " 'that.',\n",
       " 'My',\n",
       " 'grandfather',\n",
       " 'come',\n",
       " 'here',\n",
       " 'and',\n",
       " 'built.',\n",
       " 'Yes,',\n",
       " 'he',\n",
       " 'came',\n",
       " 'here',\n",
       " 'looking',\n",
       " 'for',\n",
       " 'his',\n",
       " 'fortune,',\n",
       " 'but',\n",
       " 'he',\n",
       " 'stayed',\n",
       " '—',\n",
       " 'my',\n",
       " 'grandfather',\n",
       " 'was',\n",
       " 'born',\n",
       " 'here.',\n",
       " 'Over',\n",
       " '100',\n",
       " 'years',\n",
       " 'ago,',\n",
       " 'this',\n",
       " 'was',\n",
       " 'a',\n",
       " 'mud-flat,',\n",
       " 'swamp.',\n",
       " 'Today,',\n",
       " 'this',\n",
       " 'is',\n",
       " 'a',\n",
       " 'modern',\n",
       " 'city.',\n",
       " 'Ten',\n",
       " 'years',\n",
       " 'from',\n",
       " 'now,',\n",
       " 'this',\n",
       " 'will',\n",
       " 'be',\n",
       " 'a',\n",
       " 'metropolis.',\n",
       " 'Never',\n",
       " 'fear.']"
      ]
     },
     "execution_count": 10,
     "metadata": {},
     "output_type": "execute_result"
    }
   ],
   "source": [
    "[w for w in speech.split()]"
   ]
  },
  {
   "cell_type": "code",
   "execution_count": 11,
   "metadata": {},
   "outputs": [
    {
     "data": {
      "text/plain": [
       "['But',\n",
       " 'I',\n",
       " 'say',\n",
       " 'to',\n",
       " 'you',\n",
       " 'Here',\n",
       " 'we',\n",
       " 'make',\n",
       " 'the',\n",
       " 'model',\n",
       " 'multi-racial',\n",
       " 'society',\n",
       " 'This',\n",
       " 'is',\n",
       " 'not',\n",
       " 'a',\n",
       " 'country',\n",
       " 'that',\n",
       " 'belongs',\n",
       " 'to',\n",
       " 'any',\n",
       " 'single',\n",
       " 'community',\n",
       " 'It',\n",
       " 'belongs',\n",
       " 'to',\n",
       " 'all',\n",
       " 'of',\n",
       " 'us',\n",
       " 'You',\n",
       " 'helped',\n",
       " 'built',\n",
       " 'it',\n",
       " 'your',\n",
       " 'fathers',\n",
       " 'your',\n",
       " 'grandfathers',\n",
       " 'helped',\n",
       " 'build',\n",
       " 'this',\n",
       " 'There',\n",
       " 'was',\n",
       " 'no',\n",
       " 'naval',\n",
       " 'base',\n",
       " 'here',\n",
       " 'and',\n",
       " 'it',\n",
       " 'is',\n",
       " 'not',\n",
       " 'the',\n",
       " 'British',\n",
       " 'who',\n",
       " 'built',\n",
       " 'it',\n",
       " 'It',\n",
       " 'was',\n",
       " 'your',\n",
       " 'labour',\n",
       " 'your',\n",
       " 'father’s',\n",
       " 'labour',\n",
       " 'which',\n",
       " 'built',\n",
       " 'that',\n",
       " 'My',\n",
       " 'grandfather',\n",
       " 'come',\n",
       " 'here',\n",
       " 'and',\n",
       " 'built',\n",
       " 'Yes',\n",
       " 'he',\n",
       " 'came',\n",
       " 'here',\n",
       " 'looking',\n",
       " 'for',\n",
       " 'his',\n",
       " 'fortune',\n",
       " 'but',\n",
       " 'he',\n",
       " 'stayed',\n",
       " '—',\n",
       " 'my',\n",
       " 'grandfather',\n",
       " 'was',\n",
       " 'born',\n",
       " 'here',\n",
       " 'Over',\n",
       " '100',\n",
       " 'years',\n",
       " 'ago',\n",
       " 'this',\n",
       " 'was',\n",
       " 'a',\n",
       " 'mud-flat',\n",
       " 'swamp',\n",
       " 'Today',\n",
       " 'this',\n",
       " 'is',\n",
       " 'a',\n",
       " 'modern',\n",
       " 'city',\n",
       " 'Ten',\n",
       " 'years',\n",
       " 'from',\n",
       " 'now',\n",
       " 'this',\n",
       " 'will',\n",
       " 'be',\n",
       " 'a',\n",
       " 'metropolis',\n",
       " 'Never',\n",
       " 'fear']"
      ]
     },
     "execution_count": 11,
     "metadata": {},
     "output_type": "execute_result"
    }
   ],
   "source": [
    "[n for n in speech.replace('.', ' ').replace(',', ' ').split()]"
   ]
  },
  {
   "cell_type": "code",
   "execution_count": 12,
   "metadata": {},
   "outputs": [
    {
     "name": "stdout",
     "output_type": "stream",
     "text": [
      "['here', 'this', 'a', 'it', 'built', 'your', 'was']\n"
     ]
    }
   ],
   "source": [
    "word = [w.lower() for w in speech.replace('.', ' ').replace(',', ' ').split()]\n",
    "word_count = {}\n",
    "for w in word:\n",
    "    word_count[w] = word_count.get(w, 0) + 1\n",
    "print([w for w, c in word_count.items() if c >= 4])"
   ]
  },
  {
   "cell_type": "code",
   "execution_count": 84,
   "metadata": {},
   "outputs": [
    {
     "data": {
      "text/plain": [
       "dict_items([('but', 2), ('i', 1), ('say', 1), ('to', 3), ('you', 2), ('here', 5), ('we', 1), ('make', 1), ('the', 2), ('model', 1), ('multi-racial', 1), ('society', 1), ('this', 5), ('is', 3), ('not', 2), ('a', 4), ('country', 1), ('that', 2), ('belongs', 2), ('any', 1), ('single', 1), ('community', 1), ('it', 5), ('all', 1), ('of', 1), ('us', 1), ('helped', 2), ('built', 4), ('your', 4), ('fathers', 1), ('grandfathers', 1), ('build', 1), ('there', 1), ('was', 4), ('no', 1), ('naval', 1), ('base', 1), ('and', 2), ('british', 1), ('who', 1), ('labour', 2), ('father’s', 1), ('which', 1), ('my', 2), ('grandfather', 2), ('come', 1), ('yes', 1), ('he', 2), ('came', 1), ('looking', 1), ('for', 1), ('his', 1), ('fortune', 1), ('stayed', 1), ('—', 1), ('born', 1), ('over', 1), ('100', 1), ('years', 2), ('ago', 1), ('mud-flat', 1), ('swamp', 1), ('today', 1), ('modern', 1), ('city', 1), ('ten', 1), ('from', 1), ('now', 1), ('will', 1), ('be', 1), ('metropolis', 1), ('never', 1), ('fear', 1)])"
      ]
     },
     "execution_count": 84,
     "metadata": {},
     "output_type": "execute_result"
    }
   ],
   "source": [
    "word_count.items()"
   ]
  },
  {
   "cell_type": "code",
   "execution_count": 83,
   "metadata": {
    "collapsed": true
   },
   "outputs": [
    {
     "data": {
      "text/plain": [
       "[('but', 2),\n",
       " ('i', 1),\n",
       " ('say', 1),\n",
       " ('to', 3),\n",
       " ('you', 2),\n",
       " ('here', 5),\n",
       " ('we', 1),\n",
       " ('make', 1),\n",
       " ('the', 2),\n",
       " ('model', 1),\n",
       " ('multi-racial', 1),\n",
       " ('society', 1),\n",
       " ('this', 5),\n",
       " ('is', 3),\n",
       " ('not', 2),\n",
       " ('a', 4),\n",
       " ('country', 1),\n",
       " ('that', 2),\n",
       " ('belongs', 2),\n",
       " ('any', 1),\n",
       " ('single', 1),\n",
       " ('community', 1),\n",
       " ('it', 5),\n",
       " ('all', 1),\n",
       " ('of', 1),\n",
       " ('us', 1),\n",
       " ('helped', 2),\n",
       " ('built', 4),\n",
       " ('your', 4),\n",
       " ('fathers', 1),\n",
       " ('grandfathers', 1),\n",
       " ('build', 1),\n",
       " ('there', 1),\n",
       " ('was', 4),\n",
       " ('no', 1),\n",
       " ('naval', 1),\n",
       " ('base', 1),\n",
       " ('and', 2),\n",
       " ('british', 1),\n",
       " ('who', 1),\n",
       " ('labour', 2),\n",
       " ('father’s', 1),\n",
       " ('which', 1),\n",
       " ('my', 2),\n",
       " ('grandfather', 2),\n",
       " ('come', 1),\n",
       " ('yes', 1),\n",
       " ('he', 2),\n",
       " ('came', 1),\n",
       " ('looking', 1),\n",
       " ('for', 1),\n",
       " ('his', 1),\n",
       " ('fortune', 1),\n",
       " ('stayed', 1),\n",
       " ('—', 1),\n",
       " ('born', 1),\n",
       " ('over', 1),\n",
       " ('100', 1),\n",
       " ('years', 2),\n",
       " ('ago', 1),\n",
       " ('mud-flat', 1),\n",
       " ('swamp', 1),\n",
       " ('today', 1),\n",
       " ('modern', 1),\n",
       " ('city', 1),\n",
       " ('ten', 1),\n",
       " ('from', 1),\n",
       " ('now', 1),\n",
       " ('will', 1),\n",
       " ('be', 1),\n",
       " ('metropolis', 1),\n",
       " ('never', 1),\n",
       " ('fear', 1)]"
      ]
     },
     "execution_count": 83,
     "metadata": {},
     "output_type": "execute_result"
    }
   ],
   "source": [
    "[x for x in word_count.items()]"
   ]
  },
  {
   "cell_type": "code",
   "execution_count": 86,
   "metadata": {
    "collapsed": true
   },
   "outputs": [
    {
     "data": {
      "text/plain": [
       "[2,\n",
       " 1,\n",
       " 1,\n",
       " 3,\n",
       " 2,\n",
       " 5,\n",
       " 1,\n",
       " 1,\n",
       " 2,\n",
       " 1,\n",
       " 1,\n",
       " 1,\n",
       " 5,\n",
       " 3,\n",
       " 2,\n",
       " 4,\n",
       " 1,\n",
       " 2,\n",
       " 2,\n",
       " 1,\n",
       " 1,\n",
       " 1,\n",
       " 5,\n",
       " 1,\n",
       " 1,\n",
       " 1,\n",
       " 2,\n",
       " 4,\n",
       " 4,\n",
       " 1,\n",
       " 1,\n",
       " 1,\n",
       " 1,\n",
       " 4,\n",
       " 1,\n",
       " 1,\n",
       " 1,\n",
       " 2,\n",
       " 1,\n",
       " 1,\n",
       " 2,\n",
       " 1,\n",
       " 1,\n",
       " 2,\n",
       " 2,\n",
       " 1,\n",
       " 1,\n",
       " 2,\n",
       " 1,\n",
       " 1,\n",
       " 1,\n",
       " 1,\n",
       " 1,\n",
       " 1,\n",
       " 1,\n",
       " 1,\n",
       " 1,\n",
       " 1,\n",
       " 2,\n",
       " 1,\n",
       " 1,\n",
       " 1,\n",
       " 1,\n",
       " 1,\n",
       " 1,\n",
       " 1,\n",
       " 1,\n",
       " 1,\n",
       " 1,\n",
       " 1,\n",
       " 1,\n",
       " 1,\n",
       " 1]"
      ]
     },
     "execution_count": 86,
     "metadata": {},
     "output_type": "execute_result"
    }
   ],
   "source": [
    "#[w for w, c in word_count.items()]\n",
    "[c for w, c in word_count.items()]"
   ]
  },
  {
   "cell_type": "markdown",
   "metadata": {},
   "source": [
    "## [Sample solution] Tutorial 1"
   ]
  },
  {
   "cell_type": "markdown",
   "metadata": {},
   "source": [
    "<a id='Question_1_21'></a>\n",
    "\n",
    "### Question 1.21: Find the pair of nearest points\n",
    "\n",
    "Given a list of 200 2-dimensional points, find the two points which are has the smallest Euclidean distance apart."
   ]
  },
  {
   "cell_type": "code",
   "execution_count": 14,
   "metadata": {},
   "outputs": [],
   "source": [
    "points = [[1.6917766692855842, -5.755629277630385], [7.675827069862372, 7.301699114949773], [-3.2909129520196334, 9.613848011649935], [-9.085072103632527, -1.494685042518995], [-1.4697584875414886, -2.7246611030972367], [-2.976539234942413, -4.837062248394437], [-5.764304539098299, 2.993570134491293], [-7.315877529023922, -9.705105482173941], [1.707258575977411, 8.485934115270496], [-8.351619858350414, -5.223846451971372], [-5.828795444668502, 3.976366472397393], [8.720271552698694, -3.2124379846092825], [-0.4054482808742037, 9.317930145526955], [6.510986951874475, -2.1819354371980904], [-2.9962592160097756, -7.31509680893523], [9.083360339101048, 7.829967068419251], [-1.3331436878552552, 3.1603946549411432], [6.458132015006093, 8.822434340960669], [7.16827365354672, -3.4508012637846512], [-5.326845746838891, 9.040483027647156], [4.876441225663108, 5.232449738531539], [8.712743288792506, -3.7280349050848205], [7.466241207765329, 2.379265289757564], [-0.9978936202890551, 1.6449368506129112], [-2.6773431893653266, -0.40694827311359916], [-1.8106293810449987, 2.213838668872807], [4.947071131296752, 3.8097106485733008], [5.950466307087394, -7.2512068192895125], [-1.1945786627066717, -5.044692372482798], [2.8811835000735186, 8.851997733796221], [-0.2955365925438471, -9.53917142360364], [-2.011593976593165, -3.542159913868959], [-5.769156935219925, -5.5530087458111606], [9.295871879150603, -3.1240063531616125], [9.756200956431801, 6.479447636789221], [0.8652659943599339, 7.223803402253235], [-3.0332492431783713, -2.1682838845029355], [-0.46657573289961896, 6.8578688639078464], [-2.8117123795590304, -9.572150259865635], [7.203169784969749, 8.753192289873127], [5.224452974702636, 6.857696807277627], [-0.049900556065052726, -1.6942071762016973], [3.5917999402331073, 5.805997834258715], [-5.726479558318768, -7.825976148522635], [4.4719508762928974, -0.47119270370785493], [-8.51658927302788, 9.019684845294073], [9.998303580126834, 1.0909413091749443], [-7.490707783997972, -4.918960983306291], [-2.3814557996463215, 0.4179856971303444], [-4.74392775076129, -4.954224114510013], [-3.3798603785546284, 7.4349511827236405], [3.348941636633935, -4.119066801277675], [3.069597715313229, 8.095932206766918], [-9.977767715384749, 6.31860517880245], [-7.694480444296634, -2.2312884198209426], [7.009378799427232, -9.813278209833005], [-6.892764172568169, 0.4037318298032808], [1.934551861184664, 9.647259153474256], [-1.684970151131278, 6.715523798836713], [4.778791910872442, -6.302597588632741], [7.880213948051896, -6.87757837319777], [3.018764954167871, 9.55577737941606], [9.442098648513728, -1.7971299117298027], [4.294009056182848, 2.9257922144291086], [-7.488141519192402, 3.194146869954558], [4.4044943363257865, 3.47156887284239], [-5.265210866237737, 0.935707859404797], [1.0874401120301478, 4.769687266008177], [3.6677610968015735, 2.329559760946882], [1.3264496075559418, 6.8853295396453476], [2.5218992542292025, -5.3065171699363445], [-6.891179995601471, 1.4638922450737049], [-4.104604058398198, -0.3519967592988227], [-6.387767854843327, -4.577263623649737], [5.677380281111347, -7.529320047947541], [6.8499814135785435, 2.7651117469683975], [4.524713991980372, 7.031248939975825], [-6.219936466401483, 6.892438002621454], [7.118149238188241, -9.529551925292782], [4.114057119430395, -2.8804850370519564], [1.1264331754207308, 9.342444010097452], [-3.3387597997519496, -1.030669371597714], [2.754752556298641, -3.8303761593096564], [2.909388807772359, -5.627376431102753], [4.069630695597288, 4.094098821729082], [-0.22956514974007902, -4.58853096311544], [7.534625539128605, -4.639398935950235], [4.0975226435368235, 1.7820187555361073], [4.523097584062741, 1.049588730388077], [8.417023917682236, 0.1800789755507548], [0.7221429129456567, 6.043776101932181], [7.951069747757323, 3.5232376580146934], [4.436388479108524, 1.9518412860140444], [0.8948126626225257, 1.6870313023848187], [-8.572283501649252, 7.636418415404268], [-7.598099763010668, 9.74677805351963], [-5.474665381459111, -0.09997403697378004], [-9.62348607265123, 8.1817556106746], [4.832941301248653, -7.471586076153429], [0.05489249120935469, 4.427018862646381], [-0.7623078015360356, -4.907223326092369], [5.034440191453175, -7.262422368215999], [0.6749115867488484, 1.0617316506040897], [-5.1257522163309694, 3.0558877666004243], [7.989879083992175, 6.113310630467961], [-6.717271141351702, 6.257733867841495], [2.983926361240556, 3.042070100993019], [5.110723815722771, 9.969387392449438], [7.979605659313002, -3.119594793941558], [2.8722736848244175, -8.92267951192901], [1.4725245815339516, 7.7370401415203425], [5.418909068505318, -9.899664895856628], [-0.3293559589320534, -9.437455767069785], [-5.34092368773914, 0.9864061312783186], [-5.154479072122699, 6.40140805792705], [-0.9157534309671682, -3.9493086221799834], [6.995617487705161, 4.338249584691781], [-4.621252431635439, -5.671606152930753], [-7.925718226173945, 5.084347460461391], [-9.208656699649092, 2.2542831481077954], [2.677446578667597, -2.815260402542414], [1.5725772741199417, 5.984661070798369], [-8.214349445840588, 2.8719923126330187], [-5.250694847383057, 8.186106947277043], [-9.602658269493816, 9.444386484846465], [9.115835186422256, 5.871935528361178], [-2.5287196350232737, 2.887246469932851], [-2.1372641737135734, -1.8391371234033809], [-1.1082552861090988, -4.2077726793698496], [4.629226584152599, -1.8924358944589734], [-5.2525786527691665, -9.369867782433111], [9.689666432703984, 8.631856666441546], [-3.1058640538038906, -7.112691119818997], [3.8351850067247675, -7.816140083215879], [8.059420357182002, -3.9918994148213045], [8.987126313071869, 9.670169215984295], [-8.004125422134386, -7.1932295635881065], [-0.06738368787870286, 4.151225812072738], [-6.321804627995416, 6.465945820534664], [-6.272914208292708, -6.651387059839684], [-0.650918077356728, 1.1571804929060008], [9.900367553654284, -9.549655307552209], [-5.356214337566534, -1.5157332931067398], [-5.493398811827042, -5.103215154502985], [4.394427744530926, -6.258852539216266], [0.651214329260787, 8.205110848341754], [-2.887747978726665, 0.45437176710394667], [7.2358298248090875, -0.7626602653399406], [-1.6802984837606445, -1.521300620569285], [6.2871381561148745, 7.550379731999151], [8.828265968582258, -5.450358190359445], [-2.771419010097665, 4.965733736649366], [7.283791183364258, -9.330647069466309], [1.1503066518591716, -1.494280922589116], [5.430985505849231, 3.6506997889161177], [6.368883543730131, 2.5665925873045214], [8.27268807049646, -2.8108071086508613], [-8.761049538238906, -1.6668399813187218], [6.969563475322449, 4.870653532707438], [-3.8088639686044923, -8.04770050129066], [-6.588753626385426, -5.479445503860109], [0.3628758153674525, -7.375003116652234], [4.2110293083088735, -8.173588108962464], [9.109404060819152, 5.0945898294577425], [1.202164552896999, -6.704377860207917], [3.678524338607412, -6.480872921026548], [-9.2398934138698, 9.76162162677548], [5.014304634637492, -2.4366142669971076], [-0.7032174537587714, -8.412492474901585], [-7.914280615312719, -9.611747935706859], [8.375659961940777, 8.983443372571148], [-3.3398204611856848, -4.1187025796210825], [7.776476441020563, -2.147519947412942], [6.021515870950164, 9.586902937160275], [5.399893902345628, -4.2287458010492145], [1.1876175402532994, -1.6866656645274158], [9.74486427533984, 4.557794093707109], [-9.224676163399579, -2.700399005920211], [0.8443253817877387, 5.148506043849885], [3.8089155234248278, -0.08432848625492895], [8.657341530126452, 9.731798284743121], [5.54498708607046, -9.173588536034211], [-3.324039445073714, 9.816471573057132], [3.4925222371530076, -4.5624259495605095], [-9.58522266877101, -2.958387712219963], [-6.1029158407825275, 0.3190439014138118], [2.9081452608597242, 0.15094304627423938], [8.14261912316013, 0.14005581572142312], [-9.86297822478999, 9.9630163124958], [2.8257928317496344, -2.7283387054290165], [3.7547434905675114, -1.7952181505798883], [-5.749168201073395, 6.1766418276003705], [-4.680119791390682, 8.930237286122129], [-3.953594775616896, 6.842726263223426], [8.502438568323704, -0.7444855789600986], [-2.9955321537705615, 3.3497140964060073], [-2.1949766474129113, 2.0897368044250157], [8.72756539060871, 4.6607545572283104], [-4.153754350587191, 2.3678095388120113], [4.862091715463841, 2.1254725176755827]]"
   ]
  },
  {
   "cell_type": "code",
   "execution_count": 15,
   "metadata": {
    "scrolled": true
   },
   "outputs": [
    {
     "name": "stdout",
     "output_type": "stream",
     "text": [
      "min distance is 0.091 between point [-5.265210866237737, 0.935707859404797] and point [-5.34092368773914, 0.9864061312783186]\n"
     ]
    }
   ],
   "source": [
    "min_dist = float('inf')\n",
    "n = len(points)\n",
    "for i in range(n):\n",
    "    for j in range(i+1, n):\n",
    "        d = (points[i][0] - points[j][0]) ** 2 + (points[i][1] - points[j][1]) ** 2\n",
    "        if d < min_dist:\n",
    "            min_dist = d\n",
    "            saved_pt_1 = [points[i][0], points[i][1]]   # points[i]\n",
    "            saved_pt_2 = [points[j][0], points[j][1]]   # points[j]\n",
    "print('min distance is {0:.3f} between point {1} and point {2}'.format(min_dist**0.5, saved_pt_1, saved_pt_2)) "
   ]
  },
  {
   "cell_type": "markdown",
   "metadata": {},
   "source": [
    "<a id='Question_1_22'></a>\n",
    "\n",
    "### Question 1.22: Find longest palindrome\n",
    "\n",
    "A palindrome is a sequence of characters that reads the same backwards as forwards. For example, 'madam' is a palindrome. Given a string s, find the longest palindrome present within that string. If there are two palindromes are of same length, return the one that appears first. <br>"
   ]
  },
  {
   "cell_type": "code",
   "execution_count": 3,
   "metadata": {},
   "outputs": [],
   "source": [
    "s = 'abbabcdefghijihgfedcbaaabbbbaaaabbaaaabbbbaaabc'"
   ]
  },
  {
   "cell_type": "code",
   "execution_count": 4,
   "metadata": {
    "scrolled": false
   },
   "outputs": [
    {
     "name": "stdout",
     "output_type": "stream",
     "text": [
      "The longest palindrome is cbaaabbbbaaaabbaaaabbbbaaabc\n"
     ]
    }
   ],
   "source": [
    "n = len(s)\n",
    "palindrome = {}\n",
    "\n",
    "# find palindromes with odd number of char\n",
    "for i in range(n):\n",
    "    j = 1                           \n",
    "    while j <= i and j < n - i:               # consider strings center at [i], from index i-j to index i+j\n",
    "        if s[i-j] != s[i+j]:\n",
    "            break                             # break when the characters do not match\n",
    "        j += 1\n",
    "    if 2 * j - 1 not in palindrome:   # 2*j-1 is length of the 'eve'\n",
    "         palindrome[2*j-1] = s[i-j+1:i+j]   # s[i-j+1:i+j] is 'eve'\n",
    "\n",
    "# find palindromes with even number of char\n",
    "for i in range(n-1):\n",
    "    if s[i] == s[i+1]:                        # consider strings center at [i] and [i+1]\n",
    "        j = 1\n",
    "        while j <= i and j < n - i - 1:       # from index i-j to index i+1+j\n",
    "            if s[i-j] != s[i+1+j]:\n",
    "                break\n",
    "            j += 1\n",
    "        if 2 * j not in palindrome:\n",
    "            palindrome[2*j] = s[i-j+1:i+1+j]\n",
    "\n",
    "#print(palindrome)\n",
    "longest = max(palindrome.keys())\n",
    "print(\"The longest palindrome is\", palindrome[longest])\n",
    "\n",
    "# longest is the dictionary's key (eg. 4)\n",
    "# palindrome[longest] is the corresponding value (eg. 'oooo')\n"
   ]
  },
  {
   "cell_type": "markdown",
   "metadata": {},
   "source": [
    "<a id='Question_1_23'></a>\n",
    "\n",
    "### Question 1.23 : Largest number in a string\n",
    "\n",
    "In a **single scan**, find the largest number in a string if we were to cast a slice of the string to float."
   ]
  },
  {
   "cell_type": "code",
   "execution_count": 5,
   "metadata": {},
   "outputs": [],
   "source": [
    "s = 'abc123def456.789.012345.6789-12345678.9012311111.456$#@'\n",
    "\n",
    "## s = 7.89.8a"
   ]
  },
  {
   "cell_type": "code",
   "execution_count": 6,
   "metadata": {},
   "outputs": [
    {
     "name": "stdout",
     "output_type": "stream",
     "text": [
      "9012311111.456\n"
     ]
    }
   ],
   "source": [
    "n = len(s)\n",
    "max_float = 0.0\n",
    "first, second = '0', '0'\n",
    "for i in range(n):\n",
    "    if s[i].isdigit():\n",
    "        first += s[i]                             # concatenate the new digit\n",
    "        second += s[i]\n",
    "    elif s[i] == '.':\n",
    "        max_float = max(max_float, float(second)) # settle the second buffer which may contain a decimal\n",
    "        second = first + '.'                      # then, make a new standby buffer for a decimal with '.' \n",
    "        first = '0'                               # then, make a new buffer for an integer without '.'\n",
    "    elif len(first) > 1 or len(second) > 1:       \n",
    "        max_float = max(max_float, max(float(first), float(second)))  # settle the digits in the buffers and then reset\n",
    "        first, second = '0', '0'\n",
    "\n",
    "max_float = max(max_float, max(float(first), float(second)))\n",
    "print(max_float)"
   ]
  },
  {
   "cell_type": "markdown",
   "metadata": {},
   "source": [
    "<a id='Question_1_24'></a>\n",
    "\n",
    "### Question 1.24: primality test algorithm\n",
    "\n",
    "Given an integer, determine whether it is a prime number (return True or False). A prime number is only divisible by one and itself."
   ]
  },
  {
   "cell_type": "code",
   "execution_count": 7,
   "metadata": {
    "scrolled": false
   },
   "outputs": [
    {
     "name": "stdout",
     "output_type": "stream",
     "text": [
      "True\n"
     ]
    }
   ],
   "source": [
    "# naive algorithm\n",
    "\n",
    "n = 991\n",
    "is_prime = True              # initialize\n",
    "for i in range(2, n):        # check for all possible factors from 2 to n-1\n",
    "    if n % i == 0:\n",
    "        is_prime = False     # set is_prime to False if divisible\n",
    "\n",
    "print(is_prime)   # the only way to remain True is to never enter the 'if-block'"
   ]
  },
  {
   "cell_type": "code",
   "execution_count": 8,
   "metadata": {
    "scrolled": true
   },
   "outputs": [
    {
     "name": "stdout",
     "output_type": "stream",
     "text": [
      "True\n"
     ]
    }
   ],
   "source": [
    "# improvement 1: early stopping\n",
    "\n",
    "is_prime = True\n",
    "for i in range(2, n):\n",
    "    if n % i == 0:\n",
    "        is_prime = False\n",
    "        break                # break out of the for loop\n",
    "\n",
    "print(is_prime)"
   ]
  },
  {
   "cell_type": "code",
   "execution_count": 9,
   "metadata": {},
   "outputs": [
    {
     "name": "stdout",
     "output_type": "stream",
     "text": [
      "True\n"
     ]
    }
   ],
   "source": [
    "# improvement 2: check odd numbers\n",
    "\n",
    "is_prime = True\n",
    "if n % 2 == 0:                   # check whether n is an even number\n",
    "    is_prime = False\n",
    "else:                                \n",
    "    for i in range(3, n, 2):     # starting from 3, increment by 2 at each step     \n",
    "        if n % i == 0:           # n is divisible by i\n",
    "            is_prime = False\n",
    "            break\n",
    "print(is_prime)"
   ]
  },
  {
   "cell_type": "code",
   "execution_count": 92,
   "metadata": {},
   "outputs": [
    {
     "name": "stdout",
     "output_type": "stream",
     "text": [
      "3\n",
      "5\n",
      "7\n"
     ]
    }
   ],
   "source": [
    "for i in range(3,9,2):\n",
    "    print(i)"
   ]
  },
  {
   "cell_type": "code",
   "execution_count": 10,
   "metadata": {},
   "outputs": [
    {
     "name": "stdout",
     "output_type": "stream",
     "text": [
      "True\n"
     ]
    }
   ],
   "source": [
    "# improvement 3\n",
    "\n",
    "is_prime = True\n",
    "if n % 2 == 0:\n",
    "    is_prime = False\n",
    "else:\n",
    "    for i in range(3, int(n**0.5)+1, 2):   # only check until sqrt(n)\n",
    "        if n % i == 0:\n",
    "            is_prime = False\n",
    "            break\n",
    "print(is_prime)"
   ]
  },
  {
   "cell_type": "markdown",
   "metadata": {},
   "source": [
    "<a id='Question_1_25'></a>\n",
    "\n",
    "### Question 1.25: Sudoku checker\n",
    "\n",
    "Sudoku is a game where each row, each column, and each of the nine 3 × 3 subgrids that compose the full grid contain all digits from 1 to 9. Given a sudoku set-up represented by a list of nine strings, with each string comprising nine characters (either a space or a digit between 1 and 9), return the list of possible values for each cell.\n",
    "<br>\n",
    "When there is uncertainty, you are allowed to list multiple values for one cell, after removing the impossible values for each cell. *Note: Each cell can be treated as though it was attempted the beginning of the game, ie. there is no need for any look-ahead knowledge.*"
   ]
  },
  {
   "cell_type": "markdown",
   "metadata": {},
   "source": [
    "#### Hint:\n",
    "1. Build the initial sudoku board with -1 being unfilled ==> the board is a 2-dimensional array\n",
    "2. Build a list of possible values for each cell ==> this should be a 3-dimensional array\n",
    "3. If a cell is marked with a value `v`<br>\n",
    "3a) other cells in the same row should mark `v` as impossible<br>\n",
    "3b) other cells in the same column should mark `v` as impossible<br>\n",
    "3c) the 3x3 square where this cell is in should mark `v` as impossible<br>\n",
    "4. Output the list of possible values for each empty cell"
   ]
  },
  {
   "cell_type": "code",
   "execution_count": 96,
   "metadata": {},
   "outputs": [],
   "source": [
    "sudoku1 = [\n",
    "    '  7   1  ', \n",
    "    ' 59   23 ', \n",
    "    '823   456', \n",
    "    '51     78', \n",
    "    '9  1 3  4', \n",
    "    '  42 89  ', \n",
    "    ' 753 689 ', \n",
    "    ' 86   71 ', \n",
    "    ' 9     4 '\n",
    "]"
   ]
  },
  {
   "cell_type": "code",
   "execution_count": null,
   "metadata": {},
   "outputs": [],
   "source": [
    "# gi = row // 3\n",
    "## row 0/1/2 gives gi = 0\n",
    "## row 3/4/5 gives gi = 1\n",
    "## row 6/7/8 gives gi = 2\n"
   ]
  },
  {
   "cell_type": "code",
   "execution_count": 93,
   "metadata": {},
   "outputs": [
    {
     "data": {
      "text/plain": [
       "[[-1, -1, -1, -1, -1, -1, -1, -1, -1],\n",
       " [-1, -1, -1, -1, -1, -1, -1, -1, -1],\n",
       " [-1, -1, -1, -1, -1, -1, -1, -1, -1],\n",
       " [-1, -1, -1, -1, -1, -1, -1, -1, -1],\n",
       " [-1, -1, -1, -1, -1, -1, -1, -1, -1],\n",
       " [-1, -1, -1, -1, -1, -1, -1, -1, -1],\n",
       " [-1, -1, -1, -1, -1, -1, -1, -1, -1],\n",
       " [-1, -1, -1, -1, -1, -1, -1, -1, -1],\n",
       " [-1, -1, -1, -1, -1, -1, -1, -1, -1]]"
      ]
     },
     "execution_count": 93,
     "metadata": {},
     "output_type": "execute_result"
    }
   ],
   "source": [
    "[[-1] * 9 for _ in range(9)]"
   ]
  },
  {
   "cell_type": "code",
   "execution_count": 95,
   "metadata": {},
   "outputs": [
    {
     "data": {
      "text/plain": [
       "[[[True, True, True, True, True, True, True, True, True, True],\n",
       "  [True, True, True, True, True, True, True, True, True, True],\n",
       "  [True, True, True, True, True, True, True, True, True, True]],\n",
       " [[True, True, True, True, True, True, True, True, True, True],\n",
       "  [True, True, True, True, True, True, True, True, True, True],\n",
       "  [True, True, True, True, True, True, True, True, True, True]],\n",
       " [[True, True, True, True, True, True, True, True, True, True],\n",
       "  [True, True, True, True, True, True, True, True, True, True],\n",
       "  [True, True, True, True, True, True, True, True, True, True]]]"
      ]
     },
     "execution_count": 95,
     "metadata": {},
     "output_type": "execute_result"
    }
   ],
   "source": [
    "\n",
    "possible = [[[True] * 10 for _ in range(3)] for _ in range(3)]\n",
    "possible"
   ]
  },
  {
   "cell_type": "code",
   "execution_count": 98,
   "metadata": {},
   "outputs": [
    {
     "name": "stdout",
     "output_type": "stream",
     "text": [
      "  7   1  \n",
      "<class 'str'> 9\n"
     ]
    }
   ],
   "source": [
    "for s in sudoku1:\n",
    "    print(s)\n",
    "    print(type(s), len(s))\n",
    "    break"
   ]
  },
  {
   "cell_type": "code",
   "execution_count": 104,
   "metadata": {},
   "outputs": [
    {
     "name": "stdout",
     "output_type": "stream",
     "text": [
      "m\n",
      "a\n"
     ]
    }
   ],
   "source": [
    "string = 'machinelearning'\n",
    "print(string[0])\n",
    "print(string[1])"
   ]
  },
  {
   "cell_type": "code",
   "execution_count": 103,
   "metadata": {},
   "outputs": [
    {
     "name": "stdout",
     "output_type": "stream",
     "text": [
      " \n",
      " \n"
     ]
    }
   ],
   "source": [
    "print(s[0])\n",
    "print(s[1])"
   ]
  },
  {
   "cell_type": "code",
   "execution_count": 106,
   "metadata": {},
   "outputs": [
    {
     "name": "stdout",
     "output_type": "stream",
     "text": [
      "7\n",
      "row 0 col 2\n",
      "1\n",
      "row 0 col 6\n"
     ]
    }
   ],
   "source": [
    "row = 0\n",
    "for s in sudoku1:\n",
    "    for col in range(9):\n",
    "        if s[col] != ' ':\n",
    "            v = int(s[col])\n",
    "            print(v)\n",
    "            print(\"row\", row, \"col\", col)\n",
    "    break"
   ]
  },
  {
   "cell_type": "code",
   "execution_count": 108,
   "metadata": {
    "scrolled": true
   },
   "outputs": [
    {
     "name": "stdout",
     "output_type": "stream",
     "text": [
      "row 0 jj 0 v 7\n",
      "row 0 jj 1 v 7\n",
      "row 0 jj 3 v 7\n",
      "row 0 jj 4 v 7\n",
      "row 0 jj 5 v 7\n",
      "row 0 jj 6 v 7\n",
      "row 0 jj 7 v 7\n",
      "row 0 jj 8 v 7\n",
      "row 0 jj 0 v 5\n",
      "row 0 jj 2 v 5\n",
      "row 0 jj 3 v 5\n",
      "row 0 jj 4 v 5\n",
      "row 0 jj 5 v 5\n",
      "row 0 jj 6 v 5\n",
      "row 0 jj 7 v 5\n",
      "row 0 jj 8 v 5\n",
      "row 0 jj 1 v 8\n",
      "row 0 jj 2 v 8\n",
      "row 0 jj 3 v 8\n",
      "row 0 jj 4 v 8\n",
      "row 0 jj 5 v 8\n",
      "row 0 jj 6 v 8\n",
      "row 0 jj 7 v 8\n",
      "row 0 jj 8 v 8\n",
      "row 0 jj 1 v 5\n",
      "row 0 jj 2 v 5\n",
      "row 0 jj 3 v 5\n",
      "row 0 jj 4 v 5\n",
      "row 0 jj 5 v 5\n",
      "row 0 jj 6 v 5\n",
      "row 0 jj 7 v 5\n",
      "row 0 jj 8 v 5\n",
      "row 0 jj 1 v 9\n",
      "row 0 jj 2 v 9\n",
      "row 0 jj 3 v 9\n",
      "row 0 jj 4 v 9\n",
      "row 0 jj 5 v 9\n",
      "row 0 jj 6 v 9\n",
      "row 0 jj 7 v 9\n",
      "row 0 jj 8 v 9\n",
      "row 0 jj 0 v 4\n",
      "row 0 jj 1 v 4\n",
      "row 0 jj 3 v 4\n",
      "row 0 jj 4 v 4\n",
      "row 0 jj 5 v 4\n",
      "row 0 jj 6 v 4\n",
      "row 0 jj 7 v 4\n",
      "row 0 jj 8 v 4\n",
      "row 0 jj 0 v 7\n",
      "row 0 jj 2 v 7\n",
      "row 0 jj 3 v 7\n",
      "row 0 jj 4 v 7\n",
      "row 0 jj 5 v 7\n",
      "row 0 jj 6 v 7\n",
      "row 0 jj 7 v 7\n",
      "row 0 jj 8 v 7\n",
      "row 0 jj 0 v 8\n",
      "row 0 jj 2 v 8\n",
      "row 0 jj 3 v 8\n",
      "row 0 jj 4 v 8\n",
      "row 0 jj 5 v 8\n",
      "row 0 jj 6 v 8\n",
      "row 0 jj 7 v 8\n",
      "row 0 jj 8 v 8\n",
      "row 0 jj 0 v 9\n",
      "row 0 jj 2 v 9\n",
      "row 0 jj 3 v 9\n",
      "row 0 jj 4 v 9\n",
      "row 0 jj 5 v 9\n",
      "row 0 jj 6 v 9\n",
      "row 0 jj 7 v 9\n",
      "row 0 jj 8 v 9\n"
     ]
    }
   ],
   "source": [
    "row = 0\n",
    "for s in sudoku1:\n",
    "    for col in range(9):\n",
    "        if s[col] != ' ':\n",
    "            v = int(s[col])\n",
    "            for jj in range(9):\n",
    "                if jj != col:\n",
    "                    print(\"row\", row, \"jj\", jj, \"v\", v)\n",
    "            break\n",
    "\n",
    "            "
   ]
  },
  {
   "cell_type": "code",
   "execution_count": 12,
   "metadata": {
    "scrolled": true
   },
   "outputs": [
    {
     "name": "stdout",
     "output_type": "stream",
     "text": [
      "(1, 1): 4 6\n",
      "(1, 2): 4 6\n",
      "(1, 4): 4 5 6 8 9\n",
      "(1, 5): 2 3 4 5 6 8 9\n",
      "(1, 6): 2 4 5 9\n",
      "(1, 8): 8\n",
      "(1, 9): 9\n",
      "(2, 1): 1 4 6\n",
      "(2, 4): 4 6 7 8\n",
      "(2, 5): 1 4 6 7 8\n",
      "(2, 6): 1 4 7\n",
      "(2, 9): 7\n",
      "(3, 4): 7 9\n",
      "(3, 5): 1 7 9\n",
      "(3, 6): 1 7 9\n",
      "(4, 3): 2\n",
      "(4, 4): 4 6 9\n",
      "(4, 5): 4 6 9\n",
      "(4, 6): 4 9\n",
      "(4, 7): 3 6\n",
      "(5, 2): 6\n",
      "(5, 3): 2 8\n",
      "(5, 5): 5 6 7\n",
      "(5, 7): 5 6\n",
      "(5, 8): 2 6\n",
      "(6, 1): 3 6 7\n",
      "(6, 2): 3 6\n",
      "(6, 5): 5 6 7\n",
      "(6, 8): 6\n",
      "(6, 9): 1 3 5\n",
      "(7, 1): 1 2 4\n",
      "(7, 5): 1 2 4\n",
      "(7, 9): 2\n",
      "(8, 1): 2 3 4\n",
      "(8, 4): 4 5 9\n",
      "(8, 5): 2 4 5 9\n",
      "(8, 6): 2 4 5 9\n",
      "(8, 9): 2 3 5\n",
      "(9, 1): 1 2 3\n",
      "(9, 3): 1 2\n",
      "(9, 4): 5 7 8\n",
      "(9, 5): 1 2 5 7 8\n",
      "(9, 6): 1 2 5 7\n",
      "(9, 7): 3 5 6\n",
      "(9, 9): 2 3 5\n"
     ]
    }
   ],
   "source": [
    "value = [[-1] * 9 for _ in range(9)]\n",
    "possible = [[[True] * 10 for _ in range(9)] for _ in range(9)]\n",
    "\n",
    "row = 0\n",
    "for s in sudoku1:\n",
    "    if len(s) != 9:\n",
    "        print('length should be 9:', s)\n",
    "    for col in range(9):\n",
    "        if s[col] != ' ':\n",
    "            v = int(s[col])\n",
    "            value[row][col] = v       # replace the -1, to indicate that this cell is already given in the question\n",
    "            for jj in range(9):\n",
    "                if jj != col:\n",
    "                    possible[row][jj][v] = False # mark other cells in the same row false on the same value\n",
    "            for ii in range(9):\n",
    "                if ii != row:\n",
    "                    possible[ii][col][v] = False # mark other cells in the same column false on the same value\n",
    "            gi = row // 3 * 3   ## top left (either 0/3/6) green square in class\n",
    "            gj = col // 3 * 3   ## top left (either 0/3/6) green square in class\n",
    "            for ii in range(3):\n",
    "                for jj in range(3):\n",
    "                    possible[gi + ii][gj + jj][v] = False # mark other cells in the same 3x3 grid false on the same value\n",
    "    row += 1\n",
    "    \n",
    "# just printing the results\n",
    "for row in range(9):\n",
    "    for col in range(9):\n",
    "        if value[row][col] == -1:\n",
    "            print('(%d, %d): %s' % (row+1, col+1, ' '.join([str(v) for v in range(1, 10) if possible[row][col][v]])))"
   ]
  },
  {
   "cell_type": "code",
   "execution_count": null,
   "metadata": {},
   "outputs": [],
   "source": [
    "for row in range(1,10):\n",
    "    for col in range(1,10):\n",
    "        print(\"The possible candidates at row %s and col %s is %s\" \\\n",
    "              (row, col, possible[row][col]))"
   ]
  }
 ],
 "metadata": {
  "kernelspec": {
   "display_name": "Python 3 (ipykernel)",
   "language": "python",
   "name": "python3"
  },
  "language_info": {
   "codemirror_mode": {
    "name": "ipython",
    "version": 3
   },
   "file_extension": ".py",
   "mimetype": "text/x-python",
   "name": "python",
   "nbconvert_exporter": "python",
   "pygments_lexer": "ipython3",
   "version": "3.10.9"
  }
 },
 "nbformat": 4,
 "nbformat_minor": 4
}
