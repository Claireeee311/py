{
 "cells": [
  {
   "cell_type": "markdown",
   "metadata": {},
   "source": [
    "<h1 style='font-family: Verdana'>Assignment 1</h1>\n",
    "\n",
    "There are eight questions in total. Each question is worth 5 marks. The maximum possible score for this assignment is 40 marks. \n",
    "\n",
    "Please replace ```### Your code here ###``` or ```# replace the pass with your code``` with the *your solution code*, but **do not remove the existing code or change the names of each function, class, parameters, attributes and methods that are already provided in the question**.\n",
    "\n",
    "For each question, there will be two open test-cases, and three hidden test-cases. Rounding errors of 1e-05 will be tolerated for `float` number output, ie. if the exact answer is 0.5, your answer will be accepted as long as it is between 0.49999 and 0.50001.\n",
    "\n",
    "[Rule 1] Please attempt the questions in good faith. If you were to hard-code the answers (for example using a dictionary to map the known inputs and outputs), no credit will be awarded for that.\n",
    "\n",
    "[Rule 2] Please ensure that you *return* (NOT *print*) the output.\n",
    "\n",
    "[Rule 3] You are not allowed to import any library. It is okay to use whatever built-in Python functions."
   ]
  },
  {
   "cell_type": "markdown",
   "metadata": {},
   "source": [
    "<h2 style='font-family: Verdana'>Question 1 - V fan</h2>\n",
    "\n",
    "Write a function `vfan`, which takes in a single character, a *positive odd-valued* integer and a second single character. You can assume the two single characters are ASCII directly interpretable by Python.\n",
    "\n",
    "The function will return a multi-line string of v-shaped fan pattern. The number of lines depends on the input integer.\n",
    "\n",
    "For example, the call of `vfan('!', 5, '%')` will return: `'!        %\\n!!      %%\\n!!!    %%%\\n!!!!  %%%%\\n!!!!!%%%%%'`. \n",
    "\n",
    "If the returned string is displayed with the `print` function, it looks like this:\n",
    "```python\n",
    "!        %\n",
    "!!      %%\n",
    "!!!    %%%\n",
    "!!!!  %%%%\n",
    "!!!!!%%%%%\n",
    "```"
   ]
  },
  {
   "cell_type": "code",
   "execution_count": 8,
   "metadata": {
    "tags": [
     "q1"
    ]
   },
   "outputs": [],
   "source": [
    "def vfan(c1, odd_value, c2) -> str:\n",
    "    # replace pass with your code\n",
    "    lines = []\n",
    "    for i in range(odd_value):\n",
    "        line = c1 * (i + 1) + ' ' * (2 * (odd_value - i - 1)) + c2 * (i + 1)\n",
    "        lines.append(line)\n",
    "    return '\\n'.join(lines)\n",
    "\n"
   ]
  },
  {
   "cell_type": "code",
   "execution_count": 9,
   "metadata": {},
   "outputs": [
    {
     "data": {
      "text/plain": [
       "'!        %\\n!!      %%\\n!!!    %%%\\n!!!!  %%%%\\n!!!!!%%%%%'"
      ]
     },
     "execution_count": 9,
     "metadata": {},
     "output_type": "execute_result"
    }
   ],
   "source": [
    "# Sample 1.1\n",
    "vfan('!', 5, '%')"
   ]
  },
  {
   "cell_type": "code",
   "execution_count": 10,
   "metadata": {},
   "outputs": [
    {
     "name": "stdout",
     "output_type": "stream",
     "text": [
      "!        %\n",
      "!!      %%\n",
      "!!!    %%%\n",
      "!!!!  %%%%\n",
      "!!!!!%%%%%\n"
     ]
    }
   ],
   "source": [
    "# the following code is only for demonstration purpose, not used for grading\n",
    "# function is actually what is being tested\n",
    "print(vfan('!', 5, '%'))"
   ]
  },
  {
   "cell_type": "code",
   "execution_count": 11,
   "metadata": {},
   "outputs": [
    {
     "name": "stdout",
     "output_type": "stream",
     "text": [
      "W                    M\n",
      "WW                  MM\n",
      "WWW                MMM\n",
      "WWWW              MMMM\n",
      "WWWWW            MMMMM\n",
      "WWWWWW          MMMMMM\n",
      "WWWWWWW        MMMMMMM\n",
      "WWWWWWWW      MMMMMMMM\n",
      "WWWWWWWWW    MMMMMMMMM\n",
      "WWWWWWWWWW  MMMMMMMMMM\n",
      "WWWWWWWWWWWMMMMMMMMMMM\n"
     ]
    }
   ],
   "source": [
    "# Sample 1.2\n",
    "print(vfan('W', 11, 'M'))"
   ]
  },
  {
   "cell_type": "markdown",
   "metadata": {},
   "source": [
    "<h2 style='font-family: Verdana'>Question 2 - Logging with Lists</h2>\n",
    "\n",
    "Write a function `every_n(ls, n)`, which takes a non-empty list `ls` and a positive integer `n`, and return the elements whose log base `n` is an integer.\n",
    "\n",
    "For example, `every_n([1,2,4,6,8,10], 2)` will return `[1, 2, 4, 8]`.\n",
    "\n",
    "The function code should take no more than one line without the use of semicolons.\n",
    "\n",
    "You can assume that every element in ls is numeric and is positive (i.e., greater than zero) and `n` is greater than 1.\n",
    "\n",
    "Note: If you are unable to solve using one line or without use of additional libraries, you may answer using multiple lines or importing libraries; 50% of the marks will still be awarded."
   ]
  },
  {
   "cell_type": "code",
   "execution_count": 12,
   "metadata": {
    "tags": [
     "q2"
    ]
   },
   "outputs": [],
   "source": [
    "# you are allowed to use the math library for this question and this question only\n",
    "import math\n",
    "\n",
    "def every_n(ls, n) -> list:\n",
    "    return [x for x in ls if math.log(x, n).is_integer()]\n"
   ]
  },
  {
   "cell_type": "code",
   "execution_count": 13,
   "metadata": {},
   "outputs": [
    {
     "data": {
      "text/plain": [
       "[1, 2, 4, 8]"
      ]
     },
     "execution_count": 13,
     "metadata": {},
     "output_type": "execute_result"
    }
   ],
   "source": [
    "# Sample 2.1\n",
    "every_n([1,2,4,6,8,10], 2)"
   ]
  },
  {
   "cell_type": "code",
   "execution_count": 14,
   "metadata": {},
   "outputs": [
    {
     "data": {
      "text/plain": [
       "[3, 9, 27]"
      ]
     },
     "execution_count": 14,
     "metadata": {},
     "output_type": "execute_result"
    }
   ],
   "source": [
    "# Sample 2.2\n",
    "every_n([.1,3,4,5,6,7,8,9,10,11,12,13,14,15,16,17,18,21,24,27,30], 3)"
   ]
  },
  {
   "cell_type": "markdown",
   "metadata": {},
   "source": [
    "<h2 style='font-family: Verdana'>Question 3 - Sorting dictionaries</h2>\n",
    "\n",
    "Write a function `sorted_dic` that takes in a dictionary whose keys are items (string) and values are currency values (string), and returns a dictionary with the same key-value pairs except that the values are sorted in descending order.\n",
    "\n",
    "You can assume each currency value starts with `$` and has precision up to six decimal places.\n",
    "\n",
    "The function code should take no more than one line without the use of semicolons.\n",
    "\n",
    "Note: If you are unable to solve using one line or without use of additional libraries, you may answer using multiple lines or importing libraries; 50% of the marks will still be awarded."
   ]
  },
  {
   "cell_type": "code",
   "execution_count": 15,
   "metadata": {
    "tags": [
     "q3"
    ]
   },
   "outputs": [],
   "source": [
    "def sorted_dic(menu) -> dict:\n",
    "    return {k: v for k, v in sorted(menu.items(), key=lambda item: float(item[1][1:]), reverse=True)}\n"
   ]
  },
  {
   "cell_type": "code",
   "execution_count": 16,
   "metadata": {},
   "outputs": [
    {
     "data": {
      "text/plain": [
       "{'poached cod': '$20.10',\n",
       " 'seared pollock': '$16.80',\n",
       " 'smoked salmon': '$14.70',\n",
       " 'grilled fish': '$12.50',\n",
       " 'fish & chips': '$9.50',\n",
       " 'raw fish': '$2.99'}"
      ]
     },
     "execution_count": 16,
     "metadata": {},
     "output_type": "execute_result"
    }
   ],
   "source": [
    "# Sample 3.1\n",
    "menu1 = {\n",
    "    'grilled fish': '$12.50',\n",
    "    'fish & chips': '$9.50',\n",
    "    'smoked salmon': '$14.70',\n",
    "    'raw fish': '$2.99',\n",
    "    'poached cod': '$20.10',\n",
    "    'seared pollock': '$16.80'\n",
    "}\n",
    "sorted_dic(menu1)"
   ]
  },
  {
   "cell_type": "code",
   "execution_count": 17,
   "metadata": {},
   "outputs": [
    {
     "data": {
      "text/plain": [
       "{'lobster ball': '$2.40',\n",
       " 'crab ball': '$2.20',\n",
       " 'prawn ball': '$1.70',\n",
       " 'cuttlefish ball': '$1.30',\n",
       " 'fish ball': '$1.20'}"
      ]
     },
     "execution_count": 17,
     "metadata": {},
     "output_type": "execute_result"
    }
   ],
   "source": [
    "# Sample 3.2\n",
    "menu2 = {\n",
    "    'fish ball': '$1.20',\n",
    "    'prawn ball': '$1.70',\n",
    "    'lobster ball': '$2.40',\n",
    "    'crab ball': '$2.20',\n",
    "    'cuttlefish ball': '$1.30',\n",
    "}\n",
    "sorted_dic(menu2)"
   ]
  },
  {
   "cell_type": "markdown",
   "metadata": {},
   "source": [
    "<h2 style='font-family: Verdana'>Question 4 - Sum the bounce</h2>\n",
    "\n",
    "On a hypothetical planet, a ball is released from a height $h$ will drop down, hit the ground and then bounce back up to a height $h \\times alpha$, where $alpha$ is a value between 0 and 1 exclusive, i.e., (0, 1).\n",
    "\n",
    "Of course, once it has bounced up, the ball will fall back down and then bounce up again.\n",
    "\n",
    "For example, if $h = 100$ and $alpha = 0.5$, then the ball would have travelled $100 + 50 + 50 + 25 + 25 + 12.5 + 12.5$ when it hits the ground the fourth time.\n",
    "\n",
    "Write a function `sum_bounce(h, alpha, n)` where `h` is the starting height (positive, greater than zero), `alpha` as explained and `n` is the number of times the ball hits the ground. The return value is the total distance travelled.\n",
    "\n",
    "You can assume `n` to be a positive integer (greater than zero)."
   ]
  },
  {
   "cell_type": "code",
   "execution_count": 24,
   "metadata": {
    "tags": [
     "q4"
    ]
   },
   "outputs": [],
   "source": [
    "def sum_bounce(h, alpha, n) -> float:\n",
    "    distance = h\n",
    "    for _ in range(n):\n",
    "        distance += 2 * alpha * h\n",
    "        h *= alpha\n",
    "    return distance\n"
   ]
  },
  {
   "cell_type": "code",
   "execution_count": 25,
   "metadata": {},
   "outputs": [
    {
     "data": {
      "text/plain": [
       "287.5"
      ]
     },
     "execution_count": 25,
     "metadata": {},
     "output_type": "execute_result"
    }
   ],
   "source": [
    "# Sample 4.1\n",
    "sum_bounce(100, .5, 4)"
   ]
  },
  {
   "cell_type": "code",
   "execution_count": 26,
   "metadata": {},
   "outputs": [
    {
     "data": {
      "text/plain": [
       "29.999999999999996"
      ]
     },
     "execution_count": 26,
     "metadata": {},
     "output_type": "execute_result"
    }
   ],
   "source": [
    "# Sample 4.2\n",
    "sum_bounce(20, .2, 100)"
   ]
  },
  {
   "cell_type": "markdown",
   "metadata": {},
   "source": [
    "<h2 style='font-family: Verdana'>Question 5 - Palindrome Clock Time</h2>\n",
    "\n",
    "A digital clock which displays time in the format of hh:mm:ss (hour-hour in 24 hours format, minute-minute, and second-second) will occasionally show a string that looks the same backward as forward, which we call a palindromic clock time. For example, 12:33:21. In this question, your task is to list all palindromic clock time in chronological order for a given interval defined by two times.\n",
    "\n",
    "Write a function named `find_palindrome_times` which takes in `start_time` and `end_time` as string arguments in the format of hh:mm, and returns a list of palindromic clock time between the two times inclusive, or an empty list if none found.\n",
    "\n",
    "You can assume that the times will be valid times (00:00 to 23:59), and `start_time` will always be earlier than the `end_time`.\n",
    "\n",
    "Note: If you are unable to solve without use of additional libraries, you may answer by importing libraries; 50% of the marks will still be awarded."
   ]
  },
  {
   "cell_type": "code",
   "execution_count": 27,
   "metadata": {
    "tags": [
     "q5"
    ]
   },
   "outputs": [],
   "source": [
    "def find_palindrome_times(start_time, end_time) -> list:\n",
    "    palindromes = []\n",
    "    hour, minute = map(int, start_time.split(':'))\n",
    "    \n",
    "    while True:\n",
    "        current_time = f'{hour:02d}:{minute:02d}'\n",
    "        if current_time == current_time[::-1]:\n",
    "            palindromes.append(current_time)\n",
    "        \n",
    "        if hour == int(end_time[:2]) and minute == int(end_time[3:]):\n",
    "            break\n",
    "        \n",
    "        minute += 1\n",
    "        if minute == 60:\n",
    "            minute = 0\n",
    "            hour += 1\n",
    "            if hour == 24:\n",
    "                hour = 0\n",
    "    \n",
    "    return palindromes\n"
   ]
  },
  {
   "cell_type": "code",
   "execution_count": 28,
   "metadata": {},
   "outputs": [
    {
     "data": {
      "text/plain": [
       "[]"
      ]
     },
     "execution_count": 28,
     "metadata": {},
     "output_type": "execute_result"
    }
   ],
   "source": [
    "# Sample 5.1\n",
    "find_palindrome_times('00:01', '00:59')"
   ]
  },
  {
   "cell_type": "code",
   "execution_count": 29,
   "metadata": {},
   "outputs": [
    {
     "data": {
      "text/plain": [
       "['23:32']"
      ]
     },
     "execution_count": 29,
     "metadata": {},
     "output_type": "execute_result"
    }
   ],
   "source": [
    "# Sample 5.2\n",
    "find_palindrome_times('23:00', '23:59')"
   ]
  },
  {
   "cell_type": "markdown",
   "metadata": {},
   "source": [
    "<h2 style='font-family: Verdana'>Question 6 - Fraction to Decimal</h2>\n",
    "\n",
    "A mixed number is a whole number and a proper fraction represented together. It generally represents a number between any two whole numbers. Examples of mixed numbers are as following:\n",
    "\n",
    "$$\n",
    "1 \\frac{1}{2}, -7\\frac{3}{4}, 20\\frac{5}{7}\n",
    "$$\n",
    "\n",
    "In the one of the above examples, $1$ $1/2$, 1 is the whole number, and $\\frac{1}{2}$ is the fraction.\n",
    "\n",
    "Write a function `frac_to_dec` that takes in a string input of a mixed number and return the decimal value. For example, $1$ $1/2$ = 1.5.\n",
    "\n",
    "The function code should not be longer than five lines without the use of semicolons.\n",
    "\n",
    "You may assume that the mixed number can have an *optional* whole number (can be positive or negative or zero) and the numerator and denominator of the fraction are positive integers.\n",
    "You may also assume that there are no invalid characters.\n",
    "\n",
    "Note: If you are unable to solve using at most five lines or without use of additional libraries, you may answer using more lines or importing libraries; 50% of the marks will still be awarded."
   ]
  },
  {
   "cell_type": "code",
   "execution_count": 39,
   "metadata": {
    "tags": [
     "q6"
    ]
   },
   "outputs": [],
   "source": [
    "def frac_to_dec(frac) -> float:\n",
    "    parts = frac.split()\n",
    "    numerator, denominator = map(int, parts[-1].split('/'))\n",
    "    return round(sum(map(int, parts[:-1])) + numerator / denominator, 5)\n"
   ]
  },
  {
   "cell_type": "code",
   "execution_count": 40,
   "metadata": {},
   "outputs": [
    {
     "data": {
      "text/plain": [
       "1.5"
      ]
     },
     "execution_count": 40,
     "metadata": {},
     "output_type": "execute_result"
    }
   ],
   "source": [
    "# Sample 6.1\n",
    "frac_to_dec('1 1/2')"
   ]
  },
  {
   "cell_type": "code",
   "execution_count": 41,
   "metadata": {
    "scrolled": true
   },
   "outputs": [
    {
     "data": {
      "text/plain": [
       "0.0101"
      ]
     },
     "execution_count": 41,
     "metadata": {},
     "output_type": "execute_result"
    }
   ],
   "source": [
    "# Sample 6.2\n",
    "frac_to_dec('1/99')"
   ]
  },
  {
   "cell_type": "markdown",
   "metadata": {},
   "source": [
    "<h2 style='font-family: Verdana'>Question 7 - Sinful Treats</h2>\n",
    "\n",
    "Study the `NewYearGoodie` class. Each instance of `NewYearGoodie` has a name, calories per gram and weight in gram. You can assume calories and weight are positive (i.e., more than zero) quantities.\n",
    "\n",
    "Create a function called `isMoreSinful` that takes a varying number of treat instances and returns the name of treat with the highest caloric content *in total*.\n",
    "If multiple treats have the same caloric content, return the **first** treat according to the inputs of the function.\n",
    "\n",
    "You can assume the function will receive at least one input instance of NewYearGoodie"
   ]
  },
  {
   "cell_type": "code",
   "execution_count": 48,
   "metadata": {
    "tags": [
     "q7"
    ]
   },
   "outputs": [],
   "source": [
    "# do not change anything in this cell\n",
    "class NewYearGoodie:\n",
    "    def __init__(self, name, calories, weight):\n",
    "        self.name = name\n",
    "        self.calories = calories\n",
    "        self.weight = weight"
   ]
  },
  {
   "cell_type": "code",
   "execution_count": 49,
   "metadata": {
    "tags": [
     "q8"
    ]
   },
   "outputs": [],
   "source": [
    "### Your code here ###\n",
    "# the name of the function is isMoreSinful\n",
    "def isMoreSinful(*treats) -> str:\n",
    "    treat_calories = {}\n",
    "\n",
    "    for treat in treats:\n",
    "        if treat.name not in treat_calories:\n",
    "            treat_calories[treat.name] = treat.calories * treat.weight\n",
    "        else:\n",
    "            treat_calories[treat.name] += treat.calories * treat.weight\n",
    "\n",
    "    most_sinful_treat = max(treat_calories, key=treat_calories.get)\n",
    "    return most_sinful_treat\n"
   ]
  },
  {
   "cell_type": "code",
   "execution_count": 50,
   "metadata": {},
   "outputs": [
    {
     "data": {
      "text/plain": [
       "'Pineapple Tarts'"
      ]
     },
     "execution_count": 50,
     "metadata": {},
     "output_type": "execute_result"
    }
   ],
   "source": [
    "# Sample 7.1\n",
    "isMoreSinful(NewYearGoodie('Pineapple Tarts', 82.5, 20),\n",
    "            NewYearGoodie('Bak Kwa', 115, 28),\n",
    "            NewYearGoodie('Pineapple Tarts', 82.5, 20))"
   ]
  },
  {
   "cell_type": "code",
   "execution_count": 51,
   "metadata": {},
   "outputs": [
    {
     "data": {
      "text/plain": [
       "'Pineapple Tarts'"
      ]
     },
     "execution_count": 51,
     "metadata": {},
     "output_type": "execute_result"
    }
   ],
   "source": [
    "# Sample 7.2\n",
    "isMoreSinful(NewYearGoodie('Pineapple Tarts', 82.5, 20),\n",
    "            NewYearGoodie('Love Letters', 56.5, 13),\n",
    "            NewYearGoodie('Pure Candy Cube', 165, 10.0))"
   ]
  },
  {
   "cell_type": "markdown",
   "metadata": {},
   "source": [
    "<h2 style='font-family: Verdana'>Question 8 - Inheriting the Rational</h2>\n",
    "\n",
    "Write a class called `Rational` which represents a rational number (i.e., a fraction). You do not have to worry about repesenting the fraction in proper form.\n",
    "\n",
    "The constructor (`__init__`) takes in two integers, one being the numerator, the other being the denominator. You can assume the denominator to be non-zero.\n",
    "\n",
    "The string (`__str__`) presents the rational number in string format, and code has been provided.\n",
    "\n",
    "The addition (and by extension, subtraction) operations of rational is performed as follows:\n",
    "\n",
    "$$\n",
    "\\frac{a}{b} + \\frac{c}{d} = \\frac{ad + bc}{bd}\n",
    "$$\n",
    "\n",
    "Your `Rational` class should implement an `add` method to perform the addition operation and return the resulting `Rational` instance.\n",
    "\n",
    "Then create a child class called `Integer` which represents an integer number.\n",
    "The constructor of the `Integer` class takes in only one integer value.\n",
    "\n",
    "The `Integer` class automatically inherits the addition method of the `Rational` class."
   ]
  },
  {
   "cell_type": "code",
   "execution_count": 52,
   "metadata": {
    "tags": [
     "q9"
    ]
   },
   "outputs": [],
   "source": [
    "class Rational:\n",
    "    def __init__(self, n, d):\n",
    "        self.n = n\n",
    "        self.d = d\n",
    "    \n",
    "    def add(self, another_r):\n",
    "        new_n = self.n * another_r.d + self.d * another_r.n\n",
    "        new_d = self.d * another_r.d\n",
    "        return Rational(new_n, new_d)\n",
    "\n",
    "    def __str__(self):\n",
    "        return f'{self.n} / {self.d}'\n",
    "\n",
    "class Integer(Rational):\n",
    "    def __init__(self, n):\n",
    "        super().__init__(n, 1)\n",
    "        \n",
    "def __str__(self):\n",
    "        return str(self.n)"
   ]
  },
  {
   "cell_type": "markdown",
   "metadata": {},
   "source": [
    "The test cases will still be examining the numerical contents of your object instances, but printing the objects makes it easy to verify that your operations work as intended."
   ]
  },
  {
   "cell_type": "code",
   "execution_count": 53,
   "metadata": {},
   "outputs": [
    {
     "name": "stdout",
     "output_type": "stream",
     "text": [
      "3 / 1\n"
     ]
    }
   ],
   "source": [
    "# Sample 8.1\n",
    "print(Integer(1).add(Integer(2)))"
   ]
  },
  {
   "cell_type": "code",
   "execution_count": 54,
   "metadata": {},
   "outputs": [
    {
     "name": "stdout",
     "output_type": "stream",
     "text": [
      "-3 / 2\n"
     ]
    }
   ],
   "source": [
    "# Sample 8.2\n",
    "print(Rational(1,2).add(Integer(-2)))"
   ]
  },
  {
   "cell_type": "code",
   "execution_count": null,
   "metadata": {},
   "outputs": [],
   "source": []
  }
 ],
 "metadata": {
  "kernelspec": {
   "display_name": "Python 3 (ipykernel)",
   "language": "python",
   "name": "python3"
  },
  "language_info": {
   "codemirror_mode": {
    "name": "ipython",
    "version": 3
   },
   "file_extension": ".py",
   "mimetype": "text/x-python",
   "name": "python",
   "nbconvert_exporter": "python",
   "pygments_lexer": "ipython3",
   "version": "3.10.9"
  }
 },
 "nbformat": 4,
 "nbformat_minor": 2
}
