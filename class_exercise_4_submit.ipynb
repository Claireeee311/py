{
 "cells": [
  {
   "cell_type": "markdown",
   "metadata": {},
   "source": [
    "## Python programming and Data Analysis\n",
    "\n",
    "## Class Exercise 4"
   ]
  },
  {
   "cell_type": "code",
   "execution_count": 1,
   "metadata": {},
   "outputs": [],
   "source": [
    "import numpy as np\n",
    "import pandas as pd"
   ]
  },
  {
   "cell_type": "markdown",
   "metadata": {},
   "source": [
    "## Numpy"
   ]
  },
  {
   "cell_type": "markdown",
   "metadata": {},
   "source": [
    "### Exercise 4.11"
   ]
  },
  {
   "cell_type": "markdown",
   "metadata": {},
   "source": [
    "Create below numpy arrays.\n",
    "1. a vector containing number 10 to -10 in descending order.\n",
    "2. a vector containing 10 zeros.\n",
    "3. a vector containing 15 ones.\n",
    "4. a 3x3 matrix:\n",
    "```\n",
    "5 6 7\n",
    "8 9 10\n",
    "11 12 13\n",
    "```\n",
    "5. a 3x3 matrix with random numbers\n",
    "6. a 3x3 matrix (without typing every element):\n",
    "```\n",
    "1 4 7\n",
    "2 5 8\n",
    "3 6 9\n",
    "```\n",
    "7. a 3x3 matrix (without typing every element):\n",
    "```\n",
    "3 2 1\n",
    "6 5 4\n",
    "9 8 7\n",
    "```\n",
    "8. a 3x3 matrix (without typing every element):\n",
    "```\n",
    "9 8 7\n",
    "6 5 4\n",
    "3 2 1\n",
    "```\n",
    "\n"
   ]
  },
  {
   "cell_type": "code",
   "execution_count": 14,
   "metadata": {},
   "outputs": [
    {
     "name": "stdout",
     "output_type": "stream",
     "text": [
      "[ 10   9   8   7   6   5   4   3   2   1   0  -1  -2  -3  -4  -5  -6  -7\n",
      "  -8  -9 -10]\n",
      "[0. 0. 0. 0. 0. 0. 0. 0. 0. 0.]\n",
      "[1. 1. 1. 1. 1. 1. 1. 1. 1. 1. 1. 1. 1. 1. 1.]\n",
      "[[ 5  6  7]\n",
      " [ 8  9 10]\n",
      " [11 12 13]]\n",
      "[[0.73551407 0.02624167 0.88649851]\n",
      " [0.14903607 0.0344632  0.21965854]\n",
      " [0.69419082 0.62093543 0.87950347]]\n",
      "[[1 4 7]\n",
      " [2 5 8]\n",
      " [3 6 9]]\n",
      "[[3 2 1]\n",
      " [6 5 4]\n",
      " [9 8 7]]\n",
      "[[9 8 7]\n",
      " [6 5 4]\n",
      " [3 2 1]]\n"
     ]
    }
   ],
   "source": [
    "# 1\n",
    "arr_1 = np.arange(10,-11,-1)\n",
    "print(arr_1)\n",
    "# 2\n",
    "arr_2 =np.zeros(10)\n",
    "print(arr_2)\n",
    "# 3\n",
    "arr_3 = np.ones(15)\n",
    "print(arr_3)\n",
    "# 4\n",
    "arr_4 = np.arange(5,14).reshape(3,3)\n",
    "print(arr_4)\n",
    "# 5\n",
    "arr_5 = np.random.rand(3,3)\n",
    "print(arr_5)\n",
    "# 6\n",
    "arr_6 = np.arange(1,10).reshape(3,3).T\n",
    "print(arr_6)\n",
    "# 7\n",
    "arr_7 = np.arange(1,10).reshape(3,3)[:,::-1]\n",
    "print(arr_7)\n",
    "# 8\n",
    "arr_8 = np.arange(1,10).reshape(3,3)[::-1,::-1]\n",
    "print(arr_8)\n"
   ]
  },
  {
   "cell_type": "code",
   "execution_count": null,
   "metadata": {},
   "outputs": [],
   "source": []
  },
  {
   "cell_type": "markdown",
   "metadata": {},
   "source": [
    "### Exercise 4.12"
   ]
  },
  {
   "cell_type": "markdown",
   "metadata": {},
   "source": [
    "Define a function ```to_nested_list()``` that takes a 2d array and returns the corresponding nested list.\n",
    "\n",
    "For example:\n",
    "```python\n",
    "print(to_nested_list(np.array([[1, 2, 3], [4, 5, 6]]))\n",
    "```\n",
    "\n",
    "will output\n",
    "```python\n",
    "[[1, 2, 3],  [4, 5, 6]]\n",
    "```\n"
   ]
  },
  {
   "cell_type": "code",
   "execution_count": 18,
   "metadata": {},
   "outputs": [],
   "source": [
    "def to_nested_list(arr):\n",
    "    return [list(row) for row in arr]\n",
    "   "
   ]
  },
  {
   "cell_type": "code",
   "execution_count": 19,
   "metadata": {},
   "outputs": [
    {
     "data": {
      "text/plain": [
       "[[1, 2, 3], [4, 5, 6]]"
      ]
     },
     "execution_count": 19,
     "metadata": {},
     "output_type": "execute_result"
    }
   ],
   "source": [
    "# test case\n",
    "arr_test = np.arange(1,7).reshape(2,3)\n",
    "\n",
    "to_nested_list(arr_test)"
   ]
  },
  {
   "cell_type": "code",
   "execution_count": null,
   "metadata": {},
   "outputs": [],
   "source": []
  },
  {
   "cell_type": "markdown",
   "metadata": {},
   "source": [
    "## Pandas"
   ]
  },
  {
   "cell_type": "markdown",
   "metadata": {},
   "source": [
    "### Exercise 4.13"
   ]
  },
  {
   "cell_type": "markdown",
   "metadata": {},
   "source": [
    "1. Given two lists of the same size, ```l1``` and ```l2```, use ```l1``` as the index and ```l2``` as the data to create a pandas Series ```s```.\n",
    "\n",
    "2. create another pandas Series ```s1``` from ```s```, using the index in ```s``` as data in ```s1``` and the data in ```s``` as index in ```s1```.\n",
    "\n",
    "3. multiply all items in ```s``` by 2.\n",
    "\n",
    "4. change the index of `s` to lower-case letters 'a', 'b', ..., 'h'.\n",
    "\n",
    "5. define a function to add 1 to first item in ```s```, 2 to second item, 3 to third item, etc.\n",
    "\n",
    "Remove the underline and fill in your code. Each underline is for one line of code.\n"
   ]
  },
  {
   "cell_type": "code",
   "execution_count": 22,
   "metadata": {},
   "outputs": [
    {
     "name": "stdout",
     "output_type": "stream",
     "text": [
      "[5, 7, 9, 11, 13, 15, 17, 19] [0, 5, 10, 15, 20, 25, 30, 35]\n",
      "5      0\n",
      "7      5\n",
      "9     10\n",
      "11    15\n",
      "13    20\n",
      "15    25\n",
      "17    30\n",
      "19    35\n",
      "dtype: int64\n",
      "0      5\n",
      "5      7\n",
      "10     9\n",
      "15    11\n",
      "20    13\n",
      "25    15\n",
      "30    17\n",
      "35    19\n",
      "dtype: int64\n",
      "5      0\n",
      "7     10\n",
      "9     20\n",
      "11    30\n",
      "13    40\n",
      "15    50\n",
      "17    60\n",
      "19    70\n",
      "dtype: int64\n",
      "a     0\n",
      "b    10\n",
      "c    20\n",
      "d    30\n",
      "e    40\n",
      "f    50\n",
      "g    60\n",
      "h    70\n",
      "dtype: int64\n"
     ]
    },
    {
     "data": {
      "text/plain": [
       "a     1\n",
       "b    12\n",
       "c    23\n",
       "d    34\n",
       "e    45\n",
       "f    56\n",
       "g    67\n",
       "h    78\n",
       "dtype: int64"
      ]
     },
     "execution_count": 22,
     "metadata": {},
     "output_type": "execute_result"
    }
   ],
   "source": [
    "l1 = list(range(5, 20, 2))\n",
    "l2 = [5*n for n in range(len(l1))]\n",
    "print(l1, l2)\n",
    "\n",
    "# 1 and #2 are provided to you to ensure everyone can get started\n",
    "s = pd.Series(l2, index=l1)\n",
    "print(s)\n",
    "\n",
    "# 2\n",
    "s1 = pd.Series(s.index, index=s.values)\n",
    "print(s1)   # not used in parts 3/4/5 below\n",
    "\n",
    "# 3\n",
    "s = s*2 # remove the underline and fill your code\n",
    "print(s)\n",
    "\n",
    "# 4\n",
    "s.index = list('abcdefgh') # remove the underline and fill your code\n",
    "print(s)\n",
    "\n",
    "# 5\n",
    "def add_n(ser):\n",
    "    for i in range(len(ser)):\n",
    "        ser.iloc[i]+= i+1\n",
    "    return ser\n",
    "\n",
    "add_n(s)"
   ]
  },
  {
   "cell_type": "code",
   "execution_count": null,
   "metadata": {},
   "outputs": [],
   "source": []
  },
  {
   "cell_type": "markdown",
   "metadata": {},
   "source": [
    "### Exercise 4.14"
   ]
  },
  {
   "cell_type": "markdown",
   "metadata": {},
   "source": [
    "1. Given a dictionary containing student names and their marks of three courses, create a DataFrame with their names as index and course names as columns.\n",
    "```python\n",
    "marks = { 'Names': ['James', 'Andrew', 'Bob', 'Carlson'],\n",
    "          'English': [58, 62, 77, 65],\n",
    "          'Chinese': [55, 32, 64, 80],\n",
    "          'Math': [61, 70, 81, 54]}\n",
    "```\n",
    "\n",
    "2. Given a dictionary containing students names and their marks of three courses, create a DataFrame with their names as index and course names as columns. Use the same column names as above.\n",
    "```\n",
    "marks = {'James': [58, 55, 61],\n",
    "         'Andrew': [62, 32, 70],\n",
    "         'Bob': [77, 64, 81],\n",
    "         'Carlson': [65, 80, 54]}\n",
    "```\n"
   ]
  },
  {
   "cell_type": "code",
   "execution_count": 34,
   "metadata": {},
   "outputs": [
    {
     "name": "stdout",
     "output_type": "stream",
     "text": [
      "         English  Chinese  Math\n",
      "Names                          \n",
      "James         58       55    61\n",
      "Andrew        62       32    70\n",
      "Bob           77       64    81\n",
      "Carlson       65       80    54\n",
      "         English  Chinese  Math\n",
      "James         58       55    61\n",
      "Andrew        62       32    70\n",
      "Bob           77       64    81\n",
      "Carlson       65       80    54\n"
     ]
    }
   ],
   "source": [
    "# 1\n",
    "marks = { 'Names': ['James', 'Andrew', 'Bob', 'Carlson'],\n",
    "          'English': [58, 62, 77, 65],\n",
    "          'Chinese': [55, 32, 64, 80],\n",
    "          'Math': [61, 70, 81, 54]}\n",
    "\n",
    "df = pd.DataFrame(marks) # remove the underline and fill your code\n",
    "df.set_index('Names',inplace=True) # remove the underline and fill your code\n",
    "print(df)\n",
    "\n",
    "# 2\n",
    "marks = {'James': [58, 55, 61],\n",
    "         'Andrew': [62, 32, 70],\n",
    "         'Bob': [77, 64, 81],\n",
    "         'Carlson': [65, 80, 54]}\n",
    "\n",
    "df = pd.DataFrame(marks.values(), # remove the underline and fill your code\n",
    "                  index=list(marks.keys()), # remove the underline and fill your code\n",
    "                  columns=['English', 'Chinese', 'Math'])\n",
    "print(df)"
   ]
  },
  {
   "cell_type": "code",
   "execution_count": 35,
   "metadata": {},
   "outputs": [
    {
     "data": {
      "image/png": "[encoded data removed]",
      "text/plain": [
       "<Figure size 640x480 with 2 Axes>"
      ]
     },
     "metadata": {},
     "output_type": "display_data"
    }
   ],
   "source": [
    "import matplotlib.pyplot as plt\n",
    "fig = plt.figure()\n",
    "ax1 = fig.add_subplot(1,2,1)\n",
    "ax2 = fig.add_subplot(1,2,2)\n",
    "ax1.set(title = 'Axes1')\n",
    "ax2.set(title = 'Axes2')\n",
    "plt.show()\n"
   ]
  },
  {
   "cell_type": "code",
   "execution_count": 50,
   "metadata": {},
   "outputs": [
    {
     "data": {
      "image/png": "[encoded data removed]",
      "text/plain": [
       "<Figure size 640x480 with 4 Axes>"
      ]
     },
     "metadata": {},
     "output_type": "display_data"
    }
   ],
   "source": [
    "import matplotlib.pyplot as plt\n",
    "fig, axes = plt.subplots(nrows = 2, ncols = 2)\n",
    "axes[0,0].set(title ='Axes1')\n",
    "axes[0,1].set(title = 'Axes2')\n",
    "axes[1,0].set(title = 'Axes3')\n",
    "axes[1,1].set(title = 'Axes4')\n",
    "fig.tight_layout()\n",
    "plt.show()"
   ]
  },
  {
   "cell_type": "code",
   "execution_count": 43,
   "metadata": {},
   "outputs": [
    {
     "data": {
      "image/png": "[encoded data removed]",
      "text/plain": [
       "<Figure size 640x480 with 1 Axes>"
      ]
     },
     "metadata": {},
     "output_type": "display_data"
    }
   ],
   "source": [
    "import matplotlib.pyplot as plt\n",
    "x = np.arange(10)\n",
    "y = np.random.randn(10)\n",
    "plt.scatter(x,y,c = 'blue', marker = '*')\n",
    "plt.show()"
   ]
  },
  {
   "cell_type": "code",
   "execution_count": 44,
   "metadata": {},
   "outputs": [
    {
     "data": {
      "image/png": "[encoded data removed]",
      "text/plain": [
       "<Figure size 640x480 with 1 Axes>"
      ]
     },
     "metadata": {},
     "output_type": "display_data"
    }
   ],
   "source": [
    "import matplotlib.pyplot as plt\n",
    "x = np.linspace(0, np.pi)\n",
    "y = np.sin(x)\n",
    "plt.plot(x,y)\n",
    "plt.show()"
   ]
  },
  {
   "cell_type": "code",
   "execution_count": 46,
   "metadata": {},
   "outputs": [
    {
     "data": {
      "image/png": "[encoded data removed]",
      "text/plain": [
       "<Figure size 640x480 with 1 Axes>"
      ]
     },
     "metadata": {},
     "output_type": "display_data"
    }
   ],
   "source": [
    "import matplotlib.pyplot as plt\n",
    "y = np.random.randn(5)\n",
    "x = np.arange(5)\n",
    "plt.bar(x,y)\n",
    "plt.show()"
   ]
  },
  {
   "cell_type": "code",
   "execution_count": 47,
   "metadata": {},
   "outputs": [
    {
     "data": {
      "image/png": "[encoded data removed]",
      "text/plain": [
       "<Figure size 640x480 with 1 Axes>"
      ]
     },
     "metadata": {},
     "output_type": "display_data"
    }
   ],
   "source": [
    "import matplotlib.pyplot as plt\n",
    "n_bins = 10\n",
    "x = np.random.randn(1000,2)\n",
    "plt.hist(x,n_bins)\n",
    "plt.show()"
   ]
  },
  {
   "cell_type": "code",
   "execution_count": 49,
   "metadata": {},
   "outputs": [
    {
     "data": {
      "image/png": "[encoded data removed]",
      "text/plain": [
       "<Figure size 640x480 with 1 Axes>"
      ]
     },
     "metadata": {},
     "output_type": "display_data"
    }
   ],
   "source": [
    "import matplotlib.pyplot as plt\n",
    "x = np.random.randn(100)\n",
    "plt.boxplot(x)\n",
    "plt.show()"
   ]
  },
  {
   "cell_type": "code",
   "execution_count": null,
   "metadata": {},
   "outputs": [],
   "source": []
  }
 ],
 "metadata": {
  "kernelspec": {
   "display_name": "Python 3 (ipykernel)",
   "language": "python",
   "name": "python3"
  },
  "language_info": {
   "codemirror_mode": {
    "name": "ipython",
    "version": 3
   },
   "file_extension": ".py",
   "mimetype": "text/x-python",
   "name": "python",
   "nbconvert_exporter": "python",
   "pygments_lexer": "ipython3",
   "version": "3.10.9"
  }
 },
 "nbformat": 4,
 "nbformat_minor": 4
}
