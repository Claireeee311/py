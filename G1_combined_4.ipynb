{
 "cells": [
  {
   "cell_type": "markdown",
   "metadata": {},
   "source": [
    "## Combined_4 (Week 8)\n",
    "\n",
    "### 08 Mar (Wed)"
   ]
  },
  {
   "cell_type": "markdown",
   "metadata": {},
   "source": [
    "## Contents\n",
    "\n",
    "[Numpy recap](#numpy) <br>\n",
    "[Pandas recap](#pandas) <br>\n",
    "\n",
    "**Class Exercise (Week 7)** <br>\n",
    "[Exercise 4.11](#Exercise_4_11) <br>\n",
    "[Exercise 4.12](#Exercise_4_12) <br>\n",
    "[Exercise 4.13](#Exercise_4_13) <br>\n",
    "[Exercise 4.14](#Exercise_4_14) <br>\n",
    "\n",
    "**Tutorial Questions (Week 8)** <br>\n",
    "[Question 4.21](#Question_4_21) <br>\n",
    "[Question 4.22](#Question_4_22) <br>\n",
    "[Question 4.23](#Question_4_23) <br>\n",
    "[Question 4.24](#Question_4_24) <br>\n",
    "[Question 4.25](#Question_4_25) <br>"
   ]
  },
  {
   "cell_type": "markdown",
   "metadata": {},
   "source": [
    "*Disclaimer: I have deliberately added only minimal comments to this notebook; it is not meant to replace the class session. <br> Students who have paid attention in class will understand the rationale and learning points for each code block. <br> If you have missed some portions of what I said in class, I do understand and not to worry at all, you can approach me anytime to seek clarifications.*"
   ]
  },
  {
   "cell_type": "code",
   "execution_count": 8,
   "metadata": {},
   "outputs": [
    {
     "ename": "OptionError",
     "evalue": "Pattern matched multiple keys",
     "output_type": "error",
     "traceback": [
      "\u001b[0;31m---------------------------------------------------------------------------\u001b[0m",
      "\u001b[0;31mOptionError\u001b[0m                               Traceback (most recent call last)",
      "Cell \u001b[0;32mIn[8], line 4\u001b[0m\n\u001b[1;32m      2\u001b[0m \u001b[38;5;28;01mimport\u001b[39;00m \u001b[38;5;21;01mpandas\u001b[39;00m \u001b[38;5;28;01mas\u001b[39;00m \u001b[38;5;21;01mpd\u001b[39;00m\n\u001b[1;32m      3\u001b[0m np\u001b[38;5;241m.\u001b[39mset_printoptions(precision\u001b[38;5;241m=\u001b[39m\u001b[38;5;241m2\u001b[39m)\n\u001b[0;32m----> 4\u001b[0m \u001b[43mpd\u001b[49m\u001b[38;5;241;43m.\u001b[39;49m\u001b[43mset_option\u001b[49m\u001b[43m(\u001b[49m\u001b[38;5;124;43m'\u001b[39;49m\u001b[38;5;124;43mprecision\u001b[39;49m\u001b[38;5;124;43m'\u001b[39;49m\u001b[43m,\u001b[49m\u001b[38;5;241;43m3\u001b[39;49m\u001b[43m)\u001b[49m\n",
      "File \u001b[0;32m~/anaconda3/lib/python3.10/site-packages/pandas/_config/config.py:263\u001b[0m, in \u001b[0;36mCallableDynamicDoc.__call__\u001b[0;34m(self, *args, **kwds)\u001b[0m\n\u001b[1;32m    262\u001b[0m \u001b[38;5;28;01mdef\u001b[39;00m \u001b[38;5;21m__call__\u001b[39m(\u001b[38;5;28mself\u001b[39m, \u001b[38;5;241m*\u001b[39margs, \u001b[38;5;241m*\u001b[39m\u001b[38;5;241m*\u001b[39mkwds) \u001b[38;5;241m-\u001b[39m\u001b[38;5;241m>\u001b[39m T:\n\u001b[0;32m--> 263\u001b[0m     \u001b[38;5;28;01mreturn\u001b[39;00m \u001b[38;5;28;43mself\u001b[39;49m\u001b[38;5;241;43m.\u001b[39;49m\u001b[38;5;18;43m__func__\u001b[39;49m\u001b[43m(\u001b[49m\u001b[38;5;241;43m*\u001b[39;49m\u001b[43margs\u001b[49m\u001b[43m,\u001b[49m\u001b[43m \u001b[49m\u001b[38;5;241;43m*\u001b[39;49m\u001b[38;5;241;43m*\u001b[39;49m\u001b[43mkwds\u001b[49m\u001b[43m)\u001b[49m\n",
      "File \u001b[0;32m~/anaconda3/lib/python3.10/site-packages/pandas/_config/config.py:156\u001b[0m, in \u001b[0;36m_set_option\u001b[0;34m(*args, **kwargs)\u001b[0m\n\u001b[1;32m    153\u001b[0m     \u001b[38;5;28;01mraise\u001b[39;00m \u001b[38;5;167;01mTypeError\u001b[39;00m(\u001b[38;5;124mf\u001b[39m\u001b[38;5;124m'\u001b[39m\u001b[38;5;124m_set_option() got an unexpected keyword argument \u001b[39m\u001b[38;5;124m\"\u001b[39m\u001b[38;5;132;01m{\u001b[39;00mkwarg\u001b[38;5;132;01m}\u001b[39;00m\u001b[38;5;124m\"\u001b[39m\u001b[38;5;124m'\u001b[39m)\n\u001b[1;32m    155\u001b[0m \u001b[38;5;28;01mfor\u001b[39;00m k, v \u001b[38;5;129;01min\u001b[39;00m \u001b[38;5;28mzip\u001b[39m(args[::\u001b[38;5;241m2\u001b[39m], args[\u001b[38;5;241m1\u001b[39m::\u001b[38;5;241m2\u001b[39m]):\n\u001b[0;32m--> 156\u001b[0m     key \u001b[38;5;241m=\u001b[39m \u001b[43m_get_single_key\u001b[49m\u001b[43m(\u001b[49m\u001b[43mk\u001b[49m\u001b[43m,\u001b[49m\u001b[43m \u001b[49m\u001b[43msilent\u001b[49m\u001b[43m)\u001b[49m\n\u001b[1;32m    158\u001b[0m     o \u001b[38;5;241m=\u001b[39m _get_registered_option(key)\n\u001b[1;32m    159\u001b[0m     \u001b[38;5;28;01mif\u001b[39;00m o \u001b[38;5;129;01mand\u001b[39;00m o\u001b[38;5;241m.\u001b[39mvalidator:\n",
      "File \u001b[0;32m~/anaconda3/lib/python3.10/site-packages/pandas/_config/config.py:123\u001b[0m, in \u001b[0;36m_get_single_key\u001b[0;34m(pat, silent)\u001b[0m\n\u001b[1;32m    121\u001b[0m     \u001b[38;5;28;01mraise\u001b[39;00m OptionError(\u001b[38;5;124mf\u001b[39m\u001b[38;5;124m\"\u001b[39m\u001b[38;5;124mNo such keys(s): \u001b[39m\u001b[38;5;132;01m{\u001b[39;00m\u001b[38;5;28mrepr\u001b[39m(pat)\u001b[38;5;132;01m}\u001b[39;00m\u001b[38;5;124m\"\u001b[39m)\n\u001b[1;32m    122\u001b[0m \u001b[38;5;28;01mif\u001b[39;00m \u001b[38;5;28mlen\u001b[39m(keys) \u001b[38;5;241m>\u001b[39m \u001b[38;5;241m1\u001b[39m:\n\u001b[0;32m--> 123\u001b[0m     \u001b[38;5;28;01mraise\u001b[39;00m OptionError(\u001b[38;5;124m\"\u001b[39m\u001b[38;5;124mPattern matched multiple keys\u001b[39m\u001b[38;5;124m\"\u001b[39m)\n\u001b[1;32m    124\u001b[0m key \u001b[38;5;241m=\u001b[39m keys[\u001b[38;5;241m0\u001b[39m]\n\u001b[1;32m    126\u001b[0m \u001b[38;5;28;01mif\u001b[39;00m \u001b[38;5;129;01mnot\u001b[39;00m silent:\n",
      "\u001b[0;31mOptionError\u001b[0m: Pattern matched multiple keys"
     ]
    }
   ],
   "source": [
    "import numpy as np\n",
    "import pandas as pd\n",
    "np.set_printoptions(precision=2)\n",
    "pd.set_option('precision',3)"
   ]
  },
  {
   "cell_type": "markdown",
   "metadata": {},
   "source": [
    "<a id='numpy'></a>\n",
    "\n",
    "### Numpy Recap"
   ]
  },
  {
   "cell_type": "markdown",
   "metadata": {},
   "source": [
    "#### Creating ndarray"
   ]
  },
  {
   "cell_type": "code",
   "execution_count": 7,
   "metadata": {},
   "outputs": [],
   "source": [
    "## List of list\n",
    "list_of_list = [\n",
    "    [1,2],\n",
    "    [3,4]\n",
    "]"
   ]
  },
  {
   "cell_type": "code",
   "execution_count": 6,
   "metadata": {},
   "outputs": [
    {
     "data": {
      "text/plain": [
       "array([[1, 2],\n",
       "       [3, 4]])"
      ]
     },
     "execution_count": 6,
     "metadata": {},
     "output_type": "execute_result"
    }
   ],
   "source": [
    "arr1a = np.array([\n",
    "    [1,2],\n",
    "    [3,4]\n",
    "])\n",
    "# arr1a = np.array([\n",
    "#     (1,2),\n",
    "#     (3,4)\n",
    "# ])\n",
    "arr1a"
   ]
  },
  {
   "cell_type": "code",
   "execution_count": 8,
   "metadata": {},
   "outputs": [
    {
     "data": {
      "text/plain": [
       "4"
      ]
     },
     "execution_count": 8,
     "metadata": {},
     "output_type": "execute_result"
    }
   ],
   "source": [
    "list_of_list[1][1]"
   ]
  },
  {
   "cell_type": "code",
   "execution_count": 9,
   "metadata": {},
   "outputs": [
    {
     "data": {
      "text/plain": [
       "4"
      ]
     },
     "execution_count": 9,
     "metadata": {},
     "output_type": "execute_result"
    }
   ],
   "source": [
    "arr1a[1][1]"
   ]
  },
  {
   "cell_type": "code",
   "execution_count": 11,
   "metadata": {},
   "outputs": [
    {
     "data": {
      "text/plain": [
       "numpy.ndarray"
      ]
     },
     "execution_count": 11,
     "metadata": {},
     "output_type": "execute_result"
    }
   ],
   "source": [
    "type(arr1a)"
   ]
  },
  {
   "cell_type": "code",
   "execution_count": null,
   "metadata": {},
   "outputs": [],
   "source": []
  },
  {
   "cell_type": "code",
   "execution_count": 12,
   "metadata": {},
   "outputs": [
    {
     "data": {
      "text/plain": [
       "(2, 2)"
      ]
     },
     "execution_count": 12,
     "metadata": {},
     "output_type": "execute_result"
    }
   ],
   "source": [
    "arr1a.shape"
   ]
  },
  {
   "cell_type": "code",
   "execution_count": 18,
   "metadata": {},
   "outputs": [
    {
     "data": {
      "text/plain": [
       "2"
      ]
     },
     "execution_count": 18,
     "metadata": {},
     "output_type": "execute_result"
    }
   ],
   "source": [
    "arr1a.ndim"
   ]
  },
  {
   "cell_type": "code",
   "execution_count": 19,
   "metadata": {},
   "outputs": [
    {
     "data": {
      "text/plain": [
       "2"
      ]
     },
     "execution_count": 19,
     "metadata": {},
     "output_type": "execute_result"
    }
   ],
   "source": [
    "len(arr1a.shape)"
   ]
  },
  {
   "cell_type": "code",
   "execution_count": 4,
   "metadata": {},
   "outputs": [],
   "source": [
    "a = np.arange(720).reshape(2,3,4,5,6)"
   ]
  },
  {
   "cell_type": "code",
   "execution_count": 5,
   "metadata": {},
   "outputs": [
    {
     "data": {
      "text/plain": [
       "array([[[[[  0,   1,   2,   3,   4,   5],\n",
       "          [  6,   7,   8,   9,  10,  11],\n",
       "          [ 12,  13,  14,  15,  16,  17],\n",
       "          [ 18,  19,  20,  21,  22,  23],\n",
       "          [ 24,  25,  26,  27,  28,  29]],\n",
       "\n",
       "         [[ 30,  31,  32,  33,  34,  35],\n",
       "          [ 36,  37,  38,  39,  40,  41],\n",
       "          [ 42,  43,  44,  45,  46,  47],\n",
       "          [ 48,  49,  50,  51,  52,  53],\n",
       "          [ 54,  55,  56,  57,  58,  59]],\n",
       "\n",
       "         [[ 60,  61,  62,  63,  64,  65],\n",
       "          [ 66,  67,  68,  69,  70,  71],\n",
       "          [ 72,  73,  74,  75,  76,  77],\n",
       "          [ 78,  79,  80,  81,  82,  83],\n",
       "          [ 84,  85,  86,  87,  88,  89]],\n",
       "\n",
       "         [[ 90,  91,  92,  93,  94,  95],\n",
       "          [ 96,  97,  98,  99, 100, 101],\n",
       "          [102, 103, 104, 105, 106, 107],\n",
       "          [108, 109, 110, 111, 112, 113],\n",
       "          [114, 115, 116, 117, 118, 119]]],\n",
       "\n",
       "\n",
       "        [[[120, 121, 122, 123, 124, 125],\n",
       "          [126, 127, 128, 129, 130, 131],\n",
       "          [132, 133, 134, 135, 136, 137],\n",
       "          [138, 139, 140, 141, 142, 143],\n",
       "          [144, 145, 146, 147, 148, 149]],\n",
       "\n",
       "         [[150, 151, 152, 153, 154, 155],\n",
       "          [156, 157, 158, 159, 160, 161],\n",
       "          [162, 163, 164, 165, 166, 167],\n",
       "          [168, 169, 170, 171, 172, 173],\n",
       "          [174, 175, 176, 177, 178, 179]],\n",
       "\n",
       "         [[180, 181, 182, 183, 184, 185],\n",
       "          [186, 187, 188, 189, 190, 191],\n",
       "          [192, 193, 194, 195, 196, 197],\n",
       "          [198, 199, 200, 201, 202, 203],\n",
       "          [204, 205, 206, 207, 208, 209]],\n",
       "\n",
       "         [[210, 211, 212, 213, 214, 215],\n",
       "          [216, 217, 218, 219, 220, 221],\n",
       "          [222, 223, 224, 225, 226, 227],\n",
       "          [228, 229, 230, 231, 232, 233],\n",
       "          [234, 235, 236, 237, 238, 239]]],\n",
       "\n",
       "\n",
       "        [[[240, 241, 242, 243, 244, 245],\n",
       "          [246, 247, 248, 249, 250, 251],\n",
       "          [252, 253, 254, 255, 256, 257],\n",
       "          [258, 259, 260, 261, 262, 263],\n",
       "          [264, 265, 266, 267, 268, 269]],\n",
       "\n",
       "         [[270, 271, 272, 273, 274, 275],\n",
       "          [276, 277, 278, 279, 280, 281],\n",
       "          [282, 283, 284, 285, 286, 287],\n",
       "          [288, 289, 290, 291, 292, 293],\n",
       "          [294, 295, 296, 297, 298, 299]],\n",
       "\n",
       "         [[300, 301, 302, 303, 304, 305],\n",
       "          [306, 307, 308, 309, 310, 311],\n",
       "          [312, 313, 314, 315, 316, 317],\n",
       "          [318, 319, 320, 321, 322, 323],\n",
       "          [324, 325, 326, 327, 328, 329]],\n",
       "\n",
       "         [[330, 331, 332, 333, 334, 335],\n",
       "          [336, 337, 338, 339, 340, 341],\n",
       "          [342, 343, 344, 345, 346, 347],\n",
       "          [348, 349, 350, 351, 352, 353],\n",
       "          [354, 355, 356, 357, 358, 359]]]],\n",
       "\n",
       "\n",
       "\n",
       "       [[[[360, 361, 362, 363, 364, 365],\n",
       "          [366, 367, 368, 369, 370, 371],\n",
       "          [372, 373, 374, 375, 376, 377],\n",
       "          [378, 379, 380, 381, 382, 383],\n",
       "          [384, 385, 386, 387, 388, 389]],\n",
       "\n",
       "         [[390, 391, 392, 393, 394, 395],\n",
       "          [396, 397, 398, 399, 400, 401],\n",
       "          [402, 403, 404, 405, 406, 407],\n",
       "          [408, 409, 410, 411, 412, 413],\n",
       "          [414, 415, 416, 417, 418, 419]],\n",
       "\n",
       "         [[420, 421, 422, 423, 424, 425],\n",
       "          [426, 427, 428, 429, 430, 431],\n",
       "          [432, 433, 434, 435, 436, 437],\n",
       "          [438, 439, 440, 441, 442, 443],\n",
       "          [444, 445, 446, 447, 448, 449]],\n",
       "\n",
       "         [[450, 451, 452, 453, 454, 455],\n",
       "          [456, 457, 458, 459, 460, 461],\n",
       "          [462, 463, 464, 465, 466, 467],\n",
       "          [468, 469, 470, 471, 472, 473],\n",
       "          [474, 475, 476, 477, 478, 479]]],\n",
       "\n",
       "\n",
       "        [[[480, 481, 482, 483, 484, 485],\n",
       "          [486, 487, 488, 489, 490, 491],\n",
       "          [492, 493, 494, 495, 496, 497],\n",
       "          [498, 499, 500, 501, 502, 503],\n",
       "          [504, 505, 506, 507, 508, 509]],\n",
       "\n",
       "         [[510, 511, 512, 513, 514, 515],\n",
       "          [516, 517, 518, 519, 520, 521],\n",
       "          [522, 523, 524, 525, 526, 527],\n",
       "          [528, 529, 530, 531, 532, 533],\n",
       "          [534, 535, 536, 537, 538, 539]],\n",
       "\n",
       "         [[540, 541, 542, 543, 544, 545],\n",
       "          [546, 547, 548, 549, 550, 551],\n",
       "          [552, 553, 554, 555, 556, 557],\n",
       "          [558, 559, 560, 561, 562, 563],\n",
       "          [564, 565, 566, 567, 568, 569]],\n",
       "\n",
       "         [[570, 571, 572, 573, 574, 575],\n",
       "          [576, 577, 578, 579, 580, 581],\n",
       "          [582, 583, 584, 585, 586, 587],\n",
       "          [588, 589, 590, 591, 592, 593],\n",
       "          [594, 595, 596, 597, 598, 599]]],\n",
       "\n",
       "\n",
       "        [[[600, 601, 602, 603, 604, 605],\n",
       "          [606, 607, 608, 609, 610, 611],\n",
       "          [612, 613, 614, 615, 616, 617],\n",
       "          [618, 619, 620, 621, 622, 623],\n",
       "          [624, 625, 626, 627, 628, 629]],\n",
       "\n",
       "         [[630, 631, 632, 633, 634, 635],\n",
       "          [636, 637, 638, 639, 640, 641],\n",
       "          [642, 643, 644, 645, 646, 647],\n",
       "          [648, 649, 650, 651, 652, 653],\n",
       "          [654, 655, 656, 657, 658, 659]],\n",
       "\n",
       "         [[660, 661, 662, 663, 664, 665],\n",
       "          [666, 667, 668, 669, 670, 671],\n",
       "          [672, 673, 674, 675, 676, 677],\n",
       "          [678, 679, 680, 681, 682, 683],\n",
       "          [684, 685, 686, 687, 688, 689]],\n",
       "\n",
       "         [[690, 691, 692, 693, 694, 695],\n",
       "          [696, 697, 698, 699, 700, 701],\n",
       "          [702, 703, 704, 705, 706, 707],\n",
       "          [708, 709, 710, 711, 712, 713],\n",
       "          [714, 715, 716, 717, 718, 719]]]]])"
      ]
     },
     "execution_count": 5,
     "metadata": {},
     "output_type": "execute_result"
    }
   ],
   "source": [
    "a"
   ]
  },
  {
   "cell_type": "code",
   "execution_count": 22,
   "metadata": {},
   "outputs": [
    {
     "name": "stdout",
     "output_type": "stream",
     "text": [
      "202\n",
      "202\n"
     ]
    }
   ],
   "source": [
    "print(a[0][1][2][3][4])\n",
    "print(a[0,1,2,3,4])"
   ]
  },
  {
   "cell_type": "code",
   "execution_count": 26,
   "metadata": {
    "scrolled": true
   },
   "outputs": [],
   "source": [
    "# a[0]"
   ]
  },
  {
   "cell_type": "code",
   "execution_count": 27,
   "metadata": {
    "scrolled": true
   },
   "outputs": [],
   "source": [
    "# a[0][1]"
   ]
  },
  {
   "cell_type": "code",
   "execution_count": 32,
   "metadata": {},
   "outputs": [
    {
     "data": {
      "text/plain": [
       "(3, 4, 5, 6)"
      ]
     },
     "execution_count": 32,
     "metadata": {},
     "output_type": "execute_result"
    }
   ],
   "source": [
    "# a[0,:,:,:,:]\n",
    "# a[0, ...]\n",
    "a[0,].shape"
   ]
  },
  {
   "cell_type": "code",
   "execution_count": 28,
   "metadata": {
    "scrolled": true
   },
   "outputs": [],
   "source": [
    "# # a[0,:,:,:,:]\n",
    "# # a[1,:,:,:,:]\n",
    "# for i in range(a.shape[0]):\n",
    "#     print(a[i,:,:,:,:])"
   ]
  },
  {
   "cell_type": "code",
   "execution_count": null,
   "metadata": {},
   "outputs": [],
   "source": []
  },
  {
   "cell_type": "code",
   "execution_count": 34,
   "metadata": {},
   "outputs": [
    {
     "data": {
      "text/plain": [
       "array([[  0,   1,   2,   3,   4,   5],\n",
       "       [100, 101, 102, 103, 104, 105],\n",
       "       [200, 201, 202, 203, 204, 205],\n",
       "       [300, 301, 302, 303, 304, 305],\n",
       "       [400, 401, 402, 403, 404, 405]])"
      ]
     },
     "execution_count": 34,
     "metadata": {},
     "output_type": "execute_result"
    }
   ],
   "source": [
    "arr1b = np.array([[100*i+j for j in range(6)] for i in range(5)])\n",
    "arr1b"
   ]
  },
  {
   "cell_type": "code",
   "execution_count": 33,
   "metadata": {},
   "outputs": [],
   "source": [
    "arr1c = np.array([[[i+j+k for k in range(3)] for j in range(4)] for i in range(5)])"
   ]
  },
  {
   "cell_type": "code",
   "execution_count": 34,
   "metadata": {},
   "outputs": [
    {
     "data": {
      "text/plain": [
       "(5, 4, 3)"
      ]
     },
     "execution_count": 34,
     "metadata": {},
     "output_type": "execute_result"
    }
   ],
   "source": [
    "arr1c.shape"
   ]
  },
  {
   "cell_type": "code",
   "execution_count": 35,
   "metadata": {},
   "outputs": [
    {
     "data": {
      "text/plain": [
       "array([0, 1, 2])"
      ]
     },
     "execution_count": 35,
     "metadata": {},
     "output_type": "execute_result"
    }
   ],
   "source": [
    "arr1c[0][0]"
   ]
  },
  {
   "cell_type": "code",
   "execution_count": 36,
   "metadata": {},
   "outputs": [],
   "source": [
    "dictionary = {\n",
    "    'apple': [1.5, 1.8, 1.2, 0.9],\n",
    "    'orange': [1.2, 1.3, 1.1, 0.9],\n",
    "    'banana': [1.6, 1.7, 1.4, 1.1],\n",
    "}\n",
    "\n",
    "df = pd.DataFrame(\n",
    "    dictionary\n",
    ")\n"
   ]
  },
  {
   "cell_type": "code",
   "execution_count": 37,
   "metadata": {
    "scrolled": true
   },
   "outputs": [
    {
     "data": {
      "text/html": [
       "<div>\n",
       "<style scoped>\n",
       "    .dataframe tbody tr th:only-of-type {\n",
       "        vertical-align: middle;\n",
       "    }\n",
       "\n",
       "    .dataframe tbody tr th {\n",
       "        vertical-align: top;\n",
       "    }\n",
       "\n",
       "    .dataframe thead th {\n",
       "        text-align: right;\n",
       "    }\n",
       "</style>\n",
       "<table border=\"1\" class=\"dataframe\">\n",
       "  <thead>\n",
       "    <tr style=\"text-align: right;\">\n",
       "      <th></th>\n",
       "      <th>apple</th>\n",
       "      <th>orange</th>\n",
       "      <th>banana</th>\n",
       "    </tr>\n",
       "  </thead>\n",
       "  <tbody>\n",
       "    <tr>\n",
       "      <th>0</th>\n",
       "      <td>1.5</td>\n",
       "      <td>1.2</td>\n",
       "      <td>1.6</td>\n",
       "    </tr>\n",
       "    <tr>\n",
       "      <th>1</th>\n",
       "      <td>1.8</td>\n",
       "      <td>1.3</td>\n",
       "      <td>1.7</td>\n",
       "    </tr>\n",
       "    <tr>\n",
       "      <th>2</th>\n",
       "      <td>1.2</td>\n",
       "      <td>1.1</td>\n",
       "      <td>1.4</td>\n",
       "    </tr>\n",
       "    <tr>\n",
       "      <th>3</th>\n",
       "      <td>0.9</td>\n",
       "      <td>0.9</td>\n",
       "      <td>1.1</td>\n",
       "    </tr>\n",
       "  </tbody>\n",
       "</table>\n",
       "</div>"
      ],
      "text/plain": [
       "   apple  orange  banana\n",
       "0    1.5     1.2     1.6\n",
       "1    1.8     1.3     1.7\n",
       "2    1.2     1.1     1.4\n",
       "3    0.9     0.9     1.1"
      ]
     },
     "execution_count": 37,
     "metadata": {},
     "output_type": "execute_result"
    }
   ],
   "source": [
    "df"
   ]
  },
  {
   "cell_type": "code",
   "execution_count": 39,
   "metadata": {},
   "outputs": [
    {
     "name": "stdout",
     "output_type": "stream",
     "text": [
      "   apple  orange  banana\n",
      "0    1.5     1.2     1.6\n",
      "1    1.8     1.3     1.7\n",
      "2    1.2     1.1     1.4\n",
      "3    0.9     0.9     1.1\n"
     ]
    }
   ],
   "source": [
    "print(df)"
   ]
  },
  {
   "cell_type": "code",
   "execution_count": 40,
   "metadata": {},
   "outputs": [
    {
     "data": {
      "text/html": [
       "<div>\n",
       "<style scoped>\n",
       "    .dataframe tbody tr th:only-of-type {\n",
       "        vertical-align: middle;\n",
       "    }\n",
       "\n",
       "    .dataframe tbody tr th {\n",
       "        vertical-align: top;\n",
       "    }\n",
       "\n",
       "    .dataframe thead th {\n",
       "        text-align: right;\n",
       "    }\n",
       "</style>\n",
       "<table border=\"1\" class=\"dataframe\">\n",
       "  <thead>\n",
       "    <tr style=\"text-align: right;\">\n",
       "      <th></th>\n",
       "      <th>apple</th>\n",
       "      <th>orange</th>\n",
       "      <th>banana</th>\n",
       "    </tr>\n",
       "  </thead>\n",
       "  <tbody>\n",
       "    <tr>\n",
       "      <th>0</th>\n",
       "      <td>1.5</td>\n",
       "      <td>1.2</td>\n",
       "      <td>1.6</td>\n",
       "    </tr>\n",
       "    <tr>\n",
       "      <th>1</th>\n",
       "      <td>1.8</td>\n",
       "      <td>1.3</td>\n",
       "      <td>1.7</td>\n",
       "    </tr>\n",
       "    <tr>\n",
       "      <th>2</th>\n",
       "      <td>1.2</td>\n",
       "      <td>1.1</td>\n",
       "      <td>1.4</td>\n",
       "    </tr>\n",
       "    <tr>\n",
       "      <th>3</th>\n",
       "      <td>0.9</td>\n",
       "      <td>0.9</td>\n",
       "      <td>1.1</td>\n",
       "    </tr>\n",
       "  </tbody>\n",
       "</table>\n",
       "</div>"
      ],
      "text/plain": [
       "   apple  orange  banana\n",
       "0    1.5     1.2     1.6\n",
       "1    1.8     1.3     1.7\n",
       "2    1.2     1.1     1.4\n",
       "3    0.9     0.9     1.1"
      ]
     },
     "execution_count": 40,
     "metadata": {},
     "output_type": "execute_result"
    }
   ],
   "source": [
    "df"
   ]
  },
  {
   "cell_type": "code",
   "execution_count": 38,
   "metadata": {},
   "outputs": [
    {
     "data": {
      "text/plain": [
       "Index(['apple', 'orange', 'banana'], dtype='object')"
      ]
     },
     "execution_count": 38,
     "metadata": {},
     "output_type": "execute_result"
    }
   ],
   "source": [
    "df.columns"
   ]
  },
  {
   "cell_type": "code",
   "execution_count": 41,
   "metadata": {},
   "outputs": [
    {
     "data": {
      "text/plain": [
       "array([[1.5, 1.2, 1.6],\n",
       "       [1.8, 1.3, 1.7],\n",
       "       [1.2, 1.1, 1.4],\n",
       "       [0.9, 0.9, 1.1]])"
      ]
     },
     "execution_count": 41,
     "metadata": {},
     "output_type": "execute_result"
    }
   ],
   "source": [
    "dictionary = {\n",
    "    'apple': [1.5, 1.8, 1.2, 0.9],\n",
    "    'orange': [1.2, 1.3, 1.1, 0.9],\n",
    "    'banana': [1.6, 1.7, 1.4, 1.1],\n",
    "}\n",
    "\n",
    "df = pd.DataFrame(\n",
    "    dictionary\n",
    ")\n",
    "\n",
    "arr1c = df.to_numpy()\n",
    "# arr1c = np.array(list(dictionary.values()))\n",
    "arr1c"
   ]
  },
  {
   "cell_type": "code",
   "execution_count": 43,
   "metadata": {},
   "outputs": [
    {
     "data": {
      "text/plain": [
       "array([[1.5, 1.2, 1.6],\n",
       "       [1.8, 1.3, 1.7],\n",
       "       [1.2, 1.1, 1.4],\n",
       "       [0.9, 0.9, 1.1]])"
      ]
     },
     "execution_count": 43,
     "metadata": {},
     "output_type": "execute_result"
    }
   ],
   "source": [
    "df.values"
   ]
  },
  {
   "cell_type": "code",
   "execution_count": 38,
   "metadata": {},
   "outputs": [
    {
     "data": {
      "text/plain": [
       "array([[1, 2],\n",
       "       [3, 4]])"
      ]
     },
     "execution_count": 38,
     "metadata": {},
     "output_type": "execute_result"
    }
   ],
   "source": [
    "arr1d = np.arange(1,5).reshape(2,2)\n",
    "arr1d"
   ]
  },
  {
   "cell_type": "code",
   "execution_count": 39,
   "metadata": {},
   "outputs": [
    {
     "data": {
      "text/plain": [
       "array([[0., 0.],\n",
       "       [0., 0.],\n",
       "       [0., 0.]])"
      ]
     },
     "execution_count": 39,
     "metadata": {},
     "output_type": "execute_result"
    }
   ],
   "source": [
    "arr1e = np.zeros((3,2))\n",
    "# arr1d = np.ones((3,2))\n",
    "arr1e"
   ]
  },
  {
   "cell_type": "code",
   "execution_count": 45,
   "metadata": {},
   "outputs": [
    {
     "data": {
      "text/plain": [
       "(6, 5, 4, 3)"
      ]
     },
     "execution_count": 45,
     "metadata": {},
     "output_type": "execute_result"
    }
   ],
   "source": [
    "np.zeros((6,5,4,3)).shape"
   ]
  },
  {
   "cell_type": "code",
   "execution_count": 49,
   "metadata": {},
   "outputs": [
    {
     "name": "stdout",
     "output_type": "stream",
     "text": [
      "(2, 3, 4, 5, 6)\n"
     ]
    }
   ],
   "source": [
    "type(a)\n",
    "print(a.shape)"
   ]
  },
  {
   "cell_type": "code",
   "execution_count": 50,
   "metadata": {},
   "outputs": [
    {
     "name": "stdout",
     "output_type": "stream",
     "text": [
      "(2, 3, 4, 5, 6)\n",
      "(2, 3, 4, 5, 6)\n"
     ]
    }
   ],
   "source": [
    "b = np.zeros(a.shape)\n",
    "c = np.zeros_like(a)\n",
    "print(b.shape)\n",
    "print(c.shape)"
   ]
  },
  {
   "cell_type": "code",
   "execution_count": 53,
   "metadata": {},
   "outputs": [
    {
     "data": {
      "text/plain": [
       "array([[0.2 , 0.64, 0.98],\n",
       "       [0.35, 0.81, 0.51]])"
      ]
     },
     "execution_count": 53,
     "metadata": {},
     "output_type": "execute_result"
    }
   ],
   "source": [
    "np.random.rand(2,3)"
   ]
  },
  {
   "cell_type": "code",
   "execution_count": 56,
   "metadata": {},
   "outputs": [
    {
     "data": {
      "text/plain": [
       "array([[ 0,  1,  2,  3,  4,  5,  6,  7,  8,  9, 10],\n",
       "       [11, 12, 13, 14, 15, 16, 17, 18, 19, 20, 21],\n",
       "       [22, 23, 24, 25, 26, 27, 28, 29, 30, 31, 32],\n",
       "       [33, 34, 35, 36, 37, 38, 39, 40, 41, 42, 43],\n",
       "       [44, 45, 46, 47, 48, 49, 50, 51, 52, 53, 54]])"
      ]
     },
     "execution_count": 56,
     "metadata": {},
     "output_type": "execute_result"
    }
   ],
   "source": [
    "p = np.arange(55).reshape(5,11)\n",
    "p"
   ]
  },
  {
   "cell_type": "code",
   "execution_count": 60,
   "metadata": {
    "scrolled": true
   },
   "outputs": [],
   "source": [
    "winner = np.random.rand(5,11) < 0.10"
   ]
  },
  {
   "cell_type": "code",
   "execution_count": 62,
   "metadata": {},
   "outputs": [
    {
     "data": {
      "text/plain": [
       "numpy.bool_"
      ]
     },
     "execution_count": 62,
     "metadata": {},
     "output_type": "execute_result"
    }
   ],
   "source": [
    "type(winner[0,0])"
   ]
  },
  {
   "cell_type": "code",
   "execution_count": 63,
   "metadata": {},
   "outputs": [
    {
     "data": {
      "text/plain": [
       "array([[False,  True, False,  True, False, False,  True,  True, False,\n",
       "        False, False],\n",
       "       [False, False, False, False, False,  True, False, False, False,\n",
       "        False, False],\n",
       "       [False, False, False, False, False, False, False, False, False,\n",
       "        False, False],\n",
       "       [False, False, False, False, False, False, False,  True, False,\n",
       "        False, False],\n",
       "       [ True, False, False, False, False, False, False, False, False,\n",
       "        False, False]])"
      ]
     },
     "execution_count": 63,
     "metadata": {},
     "output_type": "execute_result"
    }
   ],
   "source": [
    "winner"
   ]
  },
  {
   "cell_type": "code",
   "execution_count": 66,
   "metadata": {},
   "outputs": [
    {
     "data": {
      "text/plain": [
       "array([ 1,  3,  6,  7, 16, 40, 44])"
      ]
     },
     "execution_count": 66,
     "metadata": {},
     "output_type": "execute_result"
    }
   ],
   "source": [
    "p[winner]"
   ]
  },
  {
   "cell_type": "code",
   "execution_count": null,
   "metadata": {},
   "outputs": [],
   "source": []
  },
  {
   "cell_type": "code",
   "execution_count": null,
   "metadata": {},
   "outputs": [],
   "source": []
  },
  {
   "cell_type": "code",
   "execution_count": 41,
   "metadata": {},
   "outputs": [],
   "source": [
    "## np.random.\n",
    "# rand    # random float between 0 and 1\n",
    "# randn   # mu=1, sigma=1\n",
    "# uniform\n",
    "# normal"
   ]
  },
  {
   "cell_type": "code",
   "execution_count": 69,
   "metadata": {},
   "outputs": [
    {
     "data": {
      "text/plain": [
       "array([[ 0.75, -0.54,  0.12],\n",
       "       [ 0.45,  0.2 , -1.21]])"
      ]
     },
     "execution_count": 69,
     "metadata": {},
     "output_type": "execute_result"
    }
   ],
   "source": [
    "np.random.randn(2,3)"
   ]
  },
  {
   "cell_type": "code",
   "execution_count": 44,
   "metadata": {},
   "outputs": [
    {
     "data": {
      "text/plain": [
       "array([[13.85, 17.26],\n",
       "       [10.06, 13.14],\n",
       "       [11.21, 13.61]])"
      ]
     },
     "execution_count": 44,
     "metadata": {},
     "output_type": "execute_result"
    }
   ],
   "source": [
    "# arr1f = np.random.rand(3,2)                  # uniform distribution between 0 and 1\n",
    "arr1f = np.random.uniform(10, 20, size=(3,2))  # uniform distribution between low and high  # [low, high)\n",
    "# arr1f = np.random.normal(size=(3,2))         # Gaussian distribution\n",
    "arr1f"
   ]
  },
  {
   "cell_type": "markdown",
   "metadata": {},
   "source": [
    "#### Indexing & Slicing"
   ]
  },
  {
   "cell_type": "code",
   "execution_count": 70,
   "metadata": {
    "scrolled": true
   },
   "outputs": [
    {
     "data": {
      "text/plain": [
       "array([[[ 1,  2,  3,  4],\n",
       "        [ 5,  6,  7,  8],\n",
       "        [ 9, 10, 11, 12]],\n",
       "\n",
       "       [[13, 14, 15, 16],\n",
       "        [17, 18, 19, 20],\n",
       "        [21, 22, 23, 24]]])"
      ]
     },
     "execution_count": 70,
     "metadata": {},
     "output_type": "execute_result"
    }
   ],
   "source": [
    "arr2 = np.arange(1,25).reshape(2,3,4)\n",
    "arr2\n",
    "## 1 to 24 are individuals\n",
    "## 1 to 12 is Department A, 13 to 24 is Department B\n",
    "## 1 to 4 is Group_I in Department A\n",
    "## 13 to 16 is Group_I in Department B"
   ]
  },
  {
   "cell_type": "code",
   "execution_count": 71,
   "metadata": {},
   "outputs": [
    {
     "data": {
      "text/plain": [
       "78"
      ]
     },
     "execution_count": 71,
     "metadata": {},
     "output_type": "execute_result"
    }
   ],
   "source": [
    "np.sum(arr2[0])"
   ]
  },
  {
   "cell_type": "code",
   "execution_count": 46,
   "metadata": {},
   "outputs": [
    {
     "name": "stdout",
     "output_type": "stream",
     "text": [
      "7\n"
     ]
    }
   ],
   "source": [
    "## Department A\n",
    "## Group II\n",
    "## 3rd person\n",
    "print(arr2[0,1,2])"
   ]
  },
  {
   "cell_type": "code",
   "execution_count": 47,
   "metadata": {},
   "outputs": [
    {
     "name": "stdout",
     "output_type": "stream",
     "text": [
      "[1 2 3 4]\n"
     ]
    }
   ],
   "source": [
    "## Everyone in Department A Group I\n",
    "print(arr2[0,0,:])"
   ]
  },
  {
   "cell_type": "code",
   "execution_count": 48,
   "metadata": {},
   "outputs": [
    {
     "data": {
      "text/plain": [
       "10"
      ]
     },
     "execution_count": 48,
     "metadata": {},
     "output_type": "execute_result"
    }
   ],
   "source": [
    "np.sum(arr2[0,0,:])"
   ]
  },
  {
   "cell_type": "code",
   "execution_count": 72,
   "metadata": {},
   "outputs": [
    {
     "name": "stdout",
     "output_type": "stream",
     "text": [
      "[[ 1  2  3  4]\n",
      " [13 14 15 16]]\n"
     ]
    }
   ],
   "source": [
    "## Everyone in Group_I of any department\n",
    "print(arr2[:,0,:])\n"
   ]
  },
  {
   "cell_type": "code",
   "execution_count": 74,
   "metadata": {},
   "outputs": [
    {
     "name": "stdout",
     "output_type": "stream",
     "text": [
      "[[ 1  2  3  4]\n",
      " [13 14 15 16]]\n"
     ]
    }
   ],
   "source": [
    "print(arr2[:,0,])\n"
   ]
  },
  {
   "cell_type": "code",
   "execution_count": null,
   "metadata": {},
   "outputs": [],
   "source": []
  },
  {
   "cell_type": "code",
   "execution_count": 50,
   "metadata": {},
   "outputs": [
    {
     "name": "stdout",
     "output_type": "stream",
     "text": [
      "[1 2 3 4]\n",
      "[[ 1  2  3  4]\n",
      " [ 5  6  7  8]\n",
      " [ 9 10 11 12]]\n",
      "[[ 1  5  9]\n",
      " [13 17 21]]\n"
     ]
    }
   ],
   "source": [
    "print(arr2[0,0,:])\n",
    "print(arr2[0,:,:])\n",
    "\n",
    "## Every first member in each group in each Departments\n",
    "print(arr2[:,:,0])"
   ]
  },
  {
   "cell_type": "code",
   "execution_count": 81,
   "metadata": {
    "scrolled": true
   },
   "outputs": [
    {
     "data": {
      "text/plain": [
       "array([[10, 20],\n",
       "       [30, 40],\n",
       "       [50, 60]])"
      ]
     },
     "execution_count": 81,
     "metadata": {},
     "output_type": "execute_result"
    }
   ],
   "source": [
    "arr3 = np.arange(1,7).reshape(3,2) * 10\n",
    "arr3"
   ]
  },
  {
   "cell_type": "code",
   "execution_count": 82,
   "metadata": {},
   "outputs": [
    {
     "data": {
      "text/plain": [
       "array([[11, 22],\n",
       "       [31, 42],\n",
       "       [51, 62]])"
      ]
     },
     "execution_count": 82,
     "metadata": {},
     "output_type": "execute_result"
    }
   ],
   "source": [
    "arr3 + np.array([1,2])"
   ]
  },
  {
   "cell_type": "code",
   "execution_count": 83,
   "metadata": {
    "scrolled": true
   },
   "outputs": [
    {
     "data": {
      "text/plain": [
       "array([40, 60])"
      ]
     },
     "execution_count": 83,
     "metadata": {},
     "output_type": "execute_result"
    }
   ],
   "source": [
    "arr3[0,:] + arr3[1,:]     ## adding 1-by-2 array to another 1-by-2 array"
   ]
  },
  {
   "cell_type": "code",
   "execution_count": 84,
   "metadata": {},
   "outputs": [
    {
     "data": {
      "text/plain": [
       "[88, 2, 3, 4, 5]"
      ]
     },
     "execution_count": 84,
     "metadata": {},
     "output_type": "execute_result"
    }
   ],
   "source": [
    "# Mutable\n",
    "\n",
    "mylist = [1,2,3,4,5]\n",
    "mylist[0] = 88\n",
    "mylist"
   ]
  },
  {
   "cell_type": "code",
   "execution_count": 85,
   "metadata": {},
   "outputs": [
    {
     "data": {
      "text/plain": [
       "1"
      ]
     },
     "execution_count": 85,
     "metadata": {},
     "output_type": "execute_result"
    }
   ],
   "source": [
    "# Immutable\n",
    "\n",
    "mytuple = (1,2,3,4,5)\n",
    "mytuple[0]"
   ]
  },
  {
   "cell_type": "code",
   "execution_count": 87,
   "metadata": {},
   "outputs": [
    {
     "data": {
      "text/plain": [
       "array([[10, 20],\n",
       "       [30, 40],\n",
       "       [50, 60]])"
      ]
     },
     "execution_count": 87,
     "metadata": {},
     "output_type": "execute_result"
    }
   ],
   "source": [
    "arr3"
   ]
  },
  {
   "cell_type": "code",
   "execution_count": 88,
   "metadata": {
    "scrolled": true
   },
   "outputs": [
    {
     "data": {
      "text/plain": [
       "array([[10, 22],\n",
       "       [30, 40],\n",
       "       [99, 99]])"
      ]
     },
     "execution_count": 88,
     "metadata": {},
     "output_type": "execute_result"
    }
   ],
   "source": [
    "arr3[0,1] = 22\n",
    "arr3[2,:] = 99\n",
    "arr3"
   ]
  },
  {
   "cell_type": "code",
   "execution_count": 89,
   "metadata": {},
   "outputs": [
    {
     "data": {
      "text/plain": [
       "array([22, 99])"
      ]
     },
     "execution_count": 89,
     "metadata": {},
     "output_type": "execute_result"
    }
   ],
   "source": [
    "arr3[(0,2),1]"
   ]
  },
  {
   "cell_type": "markdown",
   "metadata": {},
   "source": [
    "#### Boolean Masking"
   ]
  },
  {
   "cell_type": "code",
   "execution_count": 90,
   "metadata": {},
   "outputs": [
    {
     "name": "stdout",
     "output_type": "stream",
     "text": [
      "[0 1 2 3 4 5 6 7 8 9]\n"
     ]
    }
   ],
   "source": [
    "b = np.arange(10)\n",
    "print(b)\n"
   ]
  },
  {
   "cell_type": "code",
   "execution_count": 91,
   "metadata": {
    "scrolled": true
   },
   "outputs": [
    {
     "data": {
      "text/plain": [
       "array([ True, False,  True, False,  True, False,  True, False,  True,\n",
       "       False])"
      ]
     },
     "execution_count": 91,
     "metadata": {},
     "output_type": "execute_result"
    }
   ],
   "source": [
    "b%2==0"
   ]
  },
  {
   "cell_type": "code",
   "execution_count": 92,
   "metadata": {},
   "outputs": [],
   "source": [
    "mask = b%2==0"
   ]
  },
  {
   "cell_type": "code",
   "execution_count": 93,
   "metadata": {},
   "outputs": [
    {
     "data": {
      "text/plain": [
       "array([ True, False,  True, False,  True, False,  True, False,  True,\n",
       "       False])"
      ]
     },
     "execution_count": 93,
     "metadata": {},
     "output_type": "execute_result"
    }
   ],
   "source": [
    "mask"
   ]
  },
  {
   "cell_type": "code",
   "execution_count": 94,
   "metadata": {},
   "outputs": [
    {
     "data": {
      "text/plain": [
       "array([0, 2, 4, 6, 8])"
      ]
     },
     "execution_count": 94,
     "metadata": {},
     "output_type": "execute_result"
    }
   ],
   "source": [
    "b[mask]"
   ]
  },
  {
   "cell_type": "code",
   "execution_count": 70,
   "metadata": {
    "scrolled": true
   },
   "outputs": [
    {
     "data": {
      "text/plain": [
       "array([False, False, False, False, False, False,  True,  True,  True,\n",
       "        True])"
      ]
     },
     "execution_count": 70,
     "metadata": {},
     "output_type": "execute_result"
    }
   ],
   "source": [
    "b > 5"
   ]
  },
  {
   "cell_type": "code",
   "execution_count": 95,
   "metadata": {},
   "outputs": [
    {
     "data": {
      "text/plain": [
       "array([False, False, False, False, False, False,  True, False,  True,\n",
       "       False])"
      ]
     },
     "execution_count": 95,
     "metadata": {},
     "output_type": "execute_result"
    }
   ],
   "source": [
    "(b%2==0) & (b > 5)"
   ]
  },
  {
   "cell_type": "code",
   "execution_count": 96,
   "metadata": {},
   "outputs": [],
   "source": [
    "mask2 = (b%2==0) & (b > 5)"
   ]
  },
  {
   "cell_type": "code",
   "execution_count": 98,
   "metadata": {},
   "outputs": [
    {
     "data": {
      "text/plain": [
       "array([6, 8])"
      ]
     },
     "execution_count": 98,
     "metadata": {},
     "output_type": "execute_result"
    }
   ],
   "source": [
    "b[mask2]"
   ]
  },
  {
   "cell_type": "code",
   "execution_count": 72,
   "metadata": {},
   "outputs": [
    {
     "data": {
      "text/plain": [
       "array([ True, False,  True, False,  True, False,  True,  True,  True,\n",
       "        True])"
      ]
     },
     "execution_count": 72,
     "metadata": {},
     "output_type": "execute_result"
    }
   ],
   "source": [
    "(b%2==0) | (b > 5)"
   ]
  },
  {
   "cell_type": "code",
   "execution_count": 99,
   "metadata": {},
   "outputs": [
    {
     "data": {
      "text/plain": [
       "array([0, 2, 4, 6, 7, 8, 9])"
      ]
     },
     "execution_count": 99,
     "metadata": {},
     "output_type": "execute_result"
    }
   ],
   "source": [
    "b[(b%2==0) | (b > 5)]"
   ]
  },
  {
   "cell_type": "markdown",
   "metadata": {},
   "source": [
    "<a id='numpy'></a>\n",
    "\n",
    "### Pandas Recap"
   ]
  },
  {
   "cell_type": "code",
   "execution_count": 100,
   "metadata": {},
   "outputs": [],
   "source": [
    "## 6 students, 4 subjects\n",
    "## marks between (70,99)\n",
    "marks_np = np.random.uniform(70,99,((6,4)))"
   ]
  },
  {
   "cell_type": "code",
   "execution_count": 101,
   "metadata": {},
   "outputs": [
    {
     "data": {
      "text/plain": [
       "array([[72.21, 72.9 , 85.96, 91.25],\n",
       "       [92.15, 71.08, 95.52, 70.35],\n",
       "       [73.46, 92.38, 91.8 , 96.07],\n",
       "       [80.06, 90.14, 96.42, 88.65],\n",
       "       [82.02, 85.31, 81.76, 79.76],\n",
       "       [95.03, 72.47, 81.25, 96.98]])"
      ]
     },
     "execution_count": 101,
     "metadata": {},
     "output_type": "execute_result"
    }
   ],
   "source": [
    "marks_np"
   ]
  },
  {
   "cell_type": "code",
   "execution_count": 102,
   "metadata": {
    "scrolled": true
   },
   "outputs": [
    {
     "data": {
      "text/html": [
       "<div>\n",
       "<style scoped>\n",
       "    .dataframe tbody tr th:only-of-type {\n",
       "        vertical-align: middle;\n",
       "    }\n",
       "\n",
       "    .dataframe tbody tr th {\n",
       "        vertical-align: top;\n",
       "    }\n",
       "\n",
       "    .dataframe thead th {\n",
       "        text-align: right;\n",
       "    }\n",
       "</style>\n",
       "<table border=\"1\" class=\"dataframe\">\n",
       "  <thead>\n",
       "    <tr style=\"text-align: right;\">\n",
       "      <th></th>\n",
       "      <th>Math</th>\n",
       "      <th>Physcis</th>\n",
       "      <th>Chem</th>\n",
       "      <th>Bio</th>\n",
       "    </tr>\n",
       "  </thead>\n",
       "  <tbody>\n",
       "    <tr>\n",
       "      <th>Alan</th>\n",
       "      <td>72.210</td>\n",
       "      <td>72.899</td>\n",
       "      <td>85.962</td>\n",
       "      <td>91.247</td>\n",
       "    </tr>\n",
       "    <tr>\n",
       "      <th>Bob</th>\n",
       "      <td>92.153</td>\n",
       "      <td>71.077</td>\n",
       "      <td>95.516</td>\n",
       "      <td>70.350</td>\n",
       "    </tr>\n",
       "    <tr>\n",
       "      <th>Charlie</th>\n",
       "      <td>73.462</td>\n",
       "      <td>92.382</td>\n",
       "      <td>91.796</td>\n",
       "      <td>96.074</td>\n",
       "    </tr>\n",
       "    <tr>\n",
       "      <th>Don</th>\n",
       "      <td>80.061</td>\n",
       "      <td>90.136</td>\n",
       "      <td>96.425</td>\n",
       "      <td>88.647</td>\n",
       "    </tr>\n",
       "    <tr>\n",
       "      <th>Eric</th>\n",
       "      <td>82.017</td>\n",
       "      <td>85.307</td>\n",
       "      <td>81.757</td>\n",
       "      <td>79.765</td>\n",
       "    </tr>\n",
       "    <tr>\n",
       "      <th>Frankie</th>\n",
       "      <td>95.030</td>\n",
       "      <td>72.474</td>\n",
       "      <td>81.255</td>\n",
       "      <td>96.982</td>\n",
       "    </tr>\n",
       "  </tbody>\n",
       "</table>\n",
       "</div>"
      ],
      "text/plain": [
       "           Math  Physcis    Chem     Bio\n",
       "Alan     72.210   72.899  85.962  91.247\n",
       "Bob      92.153   71.077  95.516  70.350\n",
       "Charlie  73.462   92.382  91.796  96.074\n",
       "Don      80.061   90.136  96.425  88.647\n",
       "Eric     82.017   85.307  81.757  79.765\n",
       "Frankie  95.030   72.474  81.255  96.982"
      ]
     },
     "execution_count": 102,
     "metadata": {},
     "output_type": "execute_result"
    }
   ],
   "source": [
    "marks_df = pd.DataFrame(marks_np)\n",
    "marks_df.index = ['Alan','Bob','Charlie','Don','Eric','Frankie']\n",
    "marks_df.columns = ['Math', 'Physcis', 'Chem', 'Bio']\n",
    "marks_df"
   ]
  },
  {
   "cell_type": "code",
   "execution_count": 103,
   "metadata": {},
   "outputs": [
    {
     "data": {
      "text/plain": [
       "pandas.core.frame.DataFrame"
      ]
     },
     "execution_count": 103,
     "metadata": {},
     "output_type": "execute_result"
    }
   ],
   "source": [
    "type(marks_df)"
   ]
  },
  {
   "cell_type": "code",
   "execution_count": 104,
   "metadata": {},
   "outputs": [
    {
     "data": {
      "text/plain": [
       "(6, 4)"
      ]
     },
     "execution_count": 104,
     "metadata": {},
     "output_type": "execute_result"
    }
   ],
   "source": [
    "marks_df.shape"
   ]
  },
  {
   "cell_type": "code",
   "execution_count": 78,
   "metadata": {},
   "outputs": [],
   "source": [
    "#marks_df.values   # object's attribute\n",
    "#marks_df.to_numpy()   # call a method"
   ]
  },
  {
   "cell_type": "code",
   "execution_count": 107,
   "metadata": {},
   "outputs": [
    {
     "data": {
      "text/plain": [
       "array([[72.21, 72.9 , 85.96, 91.25],\n",
       "       [92.15, 71.08, 95.52, 70.35],\n",
       "       [73.46, 92.38, 91.8 , 96.07],\n",
       "       [80.06, 90.14, 96.42, 88.65],\n",
       "       [82.02, 85.31, 81.76, 79.76],\n",
       "       [95.03, 72.47, 81.25, 96.98]])"
      ]
     },
     "execution_count": 107,
     "metadata": {},
     "output_type": "execute_result"
    }
   ],
   "source": [
    "marks_df.to_numpy()"
   ]
  },
  {
   "cell_type": "code",
   "execution_count": 110,
   "metadata": {},
   "outputs": [
    {
     "data": {
      "text/plain": [
       "array([72.21, 92.15, 73.46, 80.06, 82.02, 95.03])"
      ]
     },
     "execution_count": 110,
     "metadata": {},
     "output_type": "execute_result"
    }
   ],
   "source": [
    "marks_df.to_numpy()[:,0]"
   ]
  },
  {
   "cell_type": "code",
   "execution_count": 105,
   "metadata": {},
   "outputs": [
    {
     "data": {
      "text/plain": [
       "Alan       72.210\n",
       "Bob        92.153\n",
       "Charlie    73.462\n",
       "Don        80.061\n",
       "Eric       82.017\n",
       "Frankie    95.030\n",
       "Name: Math, dtype: float64"
      ]
     },
     "execution_count": 105,
     "metadata": {},
     "output_type": "execute_result"
    }
   ],
   "source": [
    "marks_df['Math']"
   ]
  },
  {
   "cell_type": "code",
   "execution_count": 111,
   "metadata": {},
   "outputs": [
    {
     "data": {
      "text/plain": [
       "Alan       72.210\n",
       "Bob        92.153\n",
       "Charlie    73.462\n",
       "Don        80.061\n",
       "Eric       82.017\n",
       "Frankie    95.030\n",
       "Name: Math, dtype: float64"
      ]
     },
     "execution_count": 111,
     "metadata": {},
     "output_type": "execute_result"
    }
   ],
   "source": [
    "# marks_df.iloc[2,1]\n",
    "marks_df.iloc[:,0]"
   ]
  },
  {
   "cell_type": "code",
   "execution_count": 112,
   "metadata": {},
   "outputs": [
    {
     "data": {
      "text/plain": [
       "Index(['Alan', 'Bob', 'Charlie', 'Don', 'Eric', 'Frankie'], dtype='object')"
      ]
     },
     "execution_count": 112,
     "metadata": {},
     "output_type": "execute_result"
    }
   ],
   "source": [
    "marks_df.index"
   ]
  },
  {
   "cell_type": "code",
   "execution_count": 113,
   "metadata": {},
   "outputs": [
    {
     "data": {
      "text/plain": [
       "Math       82.017\n",
       "Physcis    85.307\n",
       "Chem       81.757\n",
       "Bio        79.765\n",
       "Name: Eric, dtype: float64"
      ]
     },
     "execution_count": 113,
     "metadata": {},
     "output_type": "execute_result"
    }
   ],
   "source": [
    "marks_df.loc['Eric']"
   ]
  },
  {
   "cell_type": "code",
   "execution_count": 114,
   "metadata": {
    "scrolled": true
   },
   "outputs": [
    {
     "data": {
      "text/plain": [
       "Math       82.017\n",
       "Physcis    85.307\n",
       "Chem       81.757\n",
       "Bio        79.765\n",
       "Name: Eric, dtype: float64"
      ]
     },
     "execution_count": 114,
     "metadata": {},
     "output_type": "execute_result"
    }
   ],
   "source": [
    "## To get column\n",
    "\n",
    "# marks_df['Math']     ## use the column name\n",
    "# marks_df.iloc[:,0]   ## integers (treat it as np array)\n",
    "\n",
    "## To get row (by index)\n",
    "# marks_df.loc['Eric'] ## use the row name\n",
    "marks_df.iloc[4,:]     ## integers (treat it as np array)"
   ]
  },
  {
   "cell_type": "code",
   "execution_count": 93,
   "metadata": {},
   "outputs": [
    {
     "data": {
      "text/html": [
       "<div>\n",
       "<style scoped>\n",
       "    .dataframe tbody tr th:only-of-type {\n",
       "        vertical-align: middle;\n",
       "    }\n",
       "\n",
       "    .dataframe tbody tr th {\n",
       "        vertical-align: top;\n",
       "    }\n",
       "\n",
       "    .dataframe thead th {\n",
       "        text-align: right;\n",
       "    }\n",
       "</style>\n",
       "<table border=\"1\" class=\"dataframe\">\n",
       "  <thead>\n",
       "    <tr style=\"text-align: right;\">\n",
       "      <th></th>\n",
       "      <th>Math</th>\n",
       "      <th>Physcis</th>\n",
       "      <th>Chem</th>\n",
       "      <th>Bio</th>\n",
       "    </tr>\n",
       "  </thead>\n",
       "  <tbody>\n",
       "    <tr>\n",
       "      <th>Bob</th>\n",
       "      <td>88.177</td>\n",
       "      <td>76.067</td>\n",
       "      <td>70.364</td>\n",
       "      <td>84.082</td>\n",
       "    </tr>\n",
       "    <tr>\n",
       "      <th>Don</th>\n",
       "      <td>74.708</td>\n",
       "      <td>90.880</td>\n",
       "      <td>90.351</td>\n",
       "      <td>78.944</td>\n",
       "    </tr>\n",
       "  </tbody>\n",
       "</table>\n",
       "</div>"
      ],
      "text/plain": [
       "       Math  Physcis    Chem     Bio\n",
       "Bob  88.177   76.067  70.364  84.082\n",
       "Don  74.708   90.880  90.351  78.944"
      ]
     },
     "execution_count": 93,
     "metadata": {},
     "output_type": "execute_result"
    }
   ],
   "source": [
    "## To get multiple columns\n",
    "# marks_df[['Math','Bio']]\n",
    "# marks_df.iloc[:, [0,3]]\n",
    "\n",
    "## To get multiple rows\n",
    "marks_df.loc[['Bob','Don']]"
   ]
  },
  {
   "cell_type": "code",
   "execution_count": 115,
   "metadata": {},
   "outputs": [
    {
     "data": {
      "text/plain": [
       "Index(['Math', 'Physcis', 'Chem', 'Bio'], dtype='object')"
      ]
     },
     "execution_count": 115,
     "metadata": {},
     "output_type": "execute_result"
    }
   ],
   "source": [
    "marks_df.columns"
   ]
  },
  {
   "cell_type": "code",
   "execution_count": 116,
   "metadata": {},
   "outputs": [
    {
     "data": {
      "text/html": [
       "<div>\n",
       "<style scoped>\n",
       "    .dataframe tbody tr th:only-of-type {\n",
       "        vertical-align: middle;\n",
       "    }\n",
       "\n",
       "    .dataframe tbody tr th {\n",
       "        vertical-align: top;\n",
       "    }\n",
       "\n",
       "    .dataframe thead th {\n",
       "        text-align: right;\n",
       "    }\n",
       "</style>\n",
       "<table border=\"1\" class=\"dataframe\">\n",
       "  <thead>\n",
       "    <tr style=\"text-align: right;\">\n",
       "      <th></th>\n",
       "      <th>Math</th>\n",
       "      <th>Physcis</th>\n",
       "      <th>Chem</th>\n",
       "      <th>Bio</th>\n",
       "    </tr>\n",
       "  </thead>\n",
       "  <tbody>\n",
       "    <tr>\n",
       "      <th>Alan</th>\n",
       "      <td>72.210</td>\n",
       "      <td>72.899</td>\n",
       "      <td>85.962</td>\n",
       "      <td>91.247</td>\n",
       "    </tr>\n",
       "    <tr>\n",
       "      <th>U</th>\n",
       "      <td>92.153</td>\n",
       "      <td>71.077</td>\n",
       "      <td>95.516</td>\n",
       "      <td>70.350</td>\n",
       "    </tr>\n",
       "    <tr>\n",
       "      <th>Charlie</th>\n",
       "      <td>73.462</td>\n",
       "      <td>92.382</td>\n",
       "      <td>91.796</td>\n",
       "      <td>96.074</td>\n",
       "    </tr>\n",
       "    <tr>\n",
       "      <th>H</th>\n",
       "      <td>80.061</td>\n",
       "      <td>90.136</td>\n",
       "      <td>96.425</td>\n",
       "      <td>88.647</td>\n",
       "    </tr>\n",
       "    <tr>\n",
       "      <th>Eric</th>\n",
       "      <td>82.017</td>\n",
       "      <td>85.307</td>\n",
       "      <td>81.757</td>\n",
       "      <td>79.765</td>\n",
       "    </tr>\n",
       "    <tr>\n",
       "      <th>Frankie</th>\n",
       "      <td>95.030</td>\n",
       "      <td>72.474</td>\n",
       "      <td>81.255</td>\n",
       "      <td>96.982</td>\n",
       "    </tr>\n",
       "  </tbody>\n",
       "</table>\n",
       "</div>"
      ],
      "text/plain": [
       "           Math  Physcis    Chem     Bio\n",
       "Alan     72.210   72.899  85.962  91.247\n",
       "U        92.153   71.077  95.516  70.350\n",
       "Charlie  73.462   92.382  91.796  96.074\n",
       "H        80.061   90.136  96.425  88.647\n",
       "Eric     82.017   85.307  81.757  79.765\n",
       "Frankie  95.030   72.474  81.255  96.982"
      ]
     },
     "execution_count": 116,
     "metadata": {},
     "output_type": "execute_result"
    }
   ],
   "source": [
    "marks_df.index = ['Alan','U','Charlie','H','Eric','Frankie']\n",
    "marks_df"
   ]
  },
  {
   "cell_type": "code",
   "execution_count": 117,
   "metadata": {},
   "outputs": [
    {
     "data": {
      "text/plain": [
       "Math       92.153\n",
       "Physcis    71.077\n",
       "Chem       95.516\n",
       "Bio        70.350\n",
       "Name: U, dtype: float64"
      ]
     },
     "execution_count": 117,
     "metadata": {},
     "output_type": "execute_result"
    }
   ],
   "source": [
    "marks_df.loc['U']"
   ]
  },
  {
   "cell_type": "code",
   "execution_count": 96,
   "metadata": {},
   "outputs": [
    {
     "data": {
      "text/html": [
       "<div>\n",
       "<style scoped>\n",
       "    .dataframe tbody tr th:only-of-type {\n",
       "        vertical-align: middle;\n",
       "    }\n",
       "\n",
       "    .dataframe tbody tr th {\n",
       "        vertical-align: top;\n",
       "    }\n",
       "\n",
       "    .dataframe thead th {\n",
       "        text-align: right;\n",
       "    }\n",
       "</style>\n",
       "<table border=\"1\" class=\"dataframe\">\n",
       "  <thead>\n",
       "    <tr style=\"text-align: right;\">\n",
       "      <th></th>\n",
       "      <th>Math</th>\n",
       "      <th>Physcis</th>\n",
       "      <th>Chem</th>\n",
       "      <th>Bio</th>\n",
       "    </tr>\n",
       "  </thead>\n",
       "  <tbody>\n",
       "    <tr>\n",
       "      <th>U</th>\n",
       "      <td>74.383</td>\n",
       "      <td>81.139</td>\n",
       "      <td>97.384</td>\n",
       "      <td>98.641</td>\n",
       "    </tr>\n",
       "    <tr>\n",
       "      <th>Charlie</th>\n",
       "      <td>83.233</td>\n",
       "      <td>93.958</td>\n",
       "      <td>77.290</td>\n",
       "      <td>87.324</td>\n",
       "    </tr>\n",
       "    <tr>\n",
       "      <th>H</th>\n",
       "      <td>96.182</td>\n",
       "      <td>85.502</td>\n",
       "      <td>87.116</td>\n",
       "      <td>71.139</td>\n",
       "    </tr>\n",
       "  </tbody>\n",
       "</table>\n",
       "</div>"
      ],
      "text/plain": [
       "           Math  Physcis    Chem     Bio\n",
       "U        74.383   81.139  97.384  98.641\n",
       "Charlie  83.233   93.958  77.290  87.324\n",
       "H        96.182   85.502  87.116  71.139"
      ]
     },
     "execution_count": 96,
     "metadata": {},
     "output_type": "execute_result"
    }
   ],
   "source": [
    "## slicing\n",
    "# marks_df.iloc[2:5,1:3]\n",
    "# marks_df.iloc[1:4,:]\n",
    "#marks_df.loc['Bob':'Don']\n",
    "marks_df.loc['U':'H']"
   ]
  },
  {
   "cell_type": "code",
   "execution_count": 122,
   "metadata": {
    "scrolled": true
   },
   "outputs": [
    {
     "data": {
      "text/html": [
       "<div>\n",
       "<style scoped>\n",
       "    .dataframe tbody tr th:only-of-type {\n",
       "        vertical-align: middle;\n",
       "    }\n",
       "\n",
       "    .dataframe tbody tr th {\n",
       "        vertical-align: top;\n",
       "    }\n",
       "\n",
       "    .dataframe thead th {\n",
       "        text-align: right;\n",
       "    }\n",
       "</style>\n",
       "<table border=\"1\" class=\"dataframe\">\n",
       "  <thead>\n",
       "    <tr style=\"text-align: right;\">\n",
       "      <th></th>\n",
       "      <th>Math</th>\n",
       "      <th>Physcis</th>\n",
       "      <th>Chem</th>\n",
       "      <th>Bio</th>\n",
       "      <th>newsubject</th>\n",
       "      <th>Civic</th>\n",
       "      <th>PE</th>\n",
       "    </tr>\n",
       "  </thead>\n",
       "  <tbody>\n",
       "    <tr>\n",
       "      <th>Alan</th>\n",
       "      <td>72.210</td>\n",
       "      <td>72.899</td>\n",
       "      <td>85.962</td>\n",
       "      <td>91.247</td>\n",
       "      <td>99</td>\n",
       "      <td>100</td>\n",
       "      <td>91</td>\n",
       "    </tr>\n",
       "    <tr>\n",
       "      <th>U</th>\n",
       "      <td>92.153</td>\n",
       "      <td>71.077</td>\n",
       "      <td>95.516</td>\n",
       "      <td>70.350</td>\n",
       "      <td>99</td>\n",
       "      <td>100</td>\n",
       "      <td>92</td>\n",
       "    </tr>\n",
       "    <tr>\n",
       "      <th>Charlie</th>\n",
       "      <td>73.462</td>\n",
       "      <td>92.382</td>\n",
       "      <td>91.796</td>\n",
       "      <td>96.074</td>\n",
       "      <td>99</td>\n",
       "      <td>100</td>\n",
       "      <td>93</td>\n",
       "    </tr>\n",
       "    <tr>\n",
       "      <th>H</th>\n",
       "      <td>80.061</td>\n",
       "      <td>90.136</td>\n",
       "      <td>96.425</td>\n",
       "      <td>88.647</td>\n",
       "      <td>99</td>\n",
       "      <td>100</td>\n",
       "      <td>94</td>\n",
       "    </tr>\n",
       "    <tr>\n",
       "      <th>Eric</th>\n",
       "      <td>82.017</td>\n",
       "      <td>85.307</td>\n",
       "      <td>81.757</td>\n",
       "      <td>79.765</td>\n",
       "      <td>99</td>\n",
       "      <td>100</td>\n",
       "      <td>95</td>\n",
       "    </tr>\n",
       "    <tr>\n",
       "      <th>Frankie</th>\n",
       "      <td>95.030</td>\n",
       "      <td>72.474</td>\n",
       "      <td>81.255</td>\n",
       "      <td>96.982</td>\n",
       "      <td>99</td>\n",
       "      <td>100</td>\n",
       "      <td>96</td>\n",
       "    </tr>\n",
       "  </tbody>\n",
       "</table>\n",
       "</div>"
      ],
      "text/plain": [
       "           Math  Physcis    Chem     Bio  newsubject  Civic  PE\n",
       "Alan     72.210   72.899  85.962  91.247          99    100  91\n",
       "U        92.153   71.077  95.516  70.350          99    100  92\n",
       "Charlie  73.462   92.382  91.796  96.074          99    100  93\n",
       "H        80.061   90.136  96.425  88.647          99    100  94\n",
       "Eric     82.017   85.307  81.757  79.765          99    100  95\n",
       "Frankie  95.030   72.474  81.255  96.982          99    100  96"
      ]
     },
     "execution_count": 122,
     "metadata": {},
     "output_type": "execute_result"
    }
   ],
   "source": [
    "marks_df['Civic'] = 100\n",
    "marks_df['PE'] = [91,92,93,94,95,96]\n",
    "marks_df"
   ]
  },
  {
   "cell_type": "code",
   "execution_count": 95,
   "metadata": {},
   "outputs": [
    {
     "name": "stdout",
     "output_type": "stream",
     "text": [
      "<class 'pandas.core.series.Series'>\n"
     ]
    },
    {
     "data": {
      "text/plain": [
       "Alan       79.303\n",
       "Bob        88.177\n",
       "Charlie    84.870\n",
       "Don        74.708\n",
       "Eric       88.161\n",
       "Frankie    85.487\n",
       "Name: Math, dtype: float64"
      ]
     },
     "execution_count": 95,
     "metadata": {},
     "output_type": "execute_result"
    }
   ],
   "source": [
    "print(type(marks_df['Math']))\n",
    "marks_df['Math']"
   ]
  },
  {
   "cell_type": "code",
   "execution_count": 118,
   "metadata": {},
   "outputs": [],
   "source": [
    "def subway(x):\n",
    "    if x < 85:\n",
    "        return 85\n",
    "    else:\n",
    "        return x"
   ]
  },
  {
   "cell_type": "code",
   "execution_count": 123,
   "metadata": {
    "scrolled": true
   },
   "outputs": [
    {
     "data": {
      "text/html": [
       "<div>\n",
       "<style scoped>\n",
       "    .dataframe tbody tr th:only-of-type {\n",
       "        vertical-align: middle;\n",
       "    }\n",
       "\n",
       "    .dataframe tbody tr th {\n",
       "        vertical-align: top;\n",
       "    }\n",
       "\n",
       "    .dataframe thead th {\n",
       "        text-align: right;\n",
       "    }\n",
       "</style>\n",
       "<table border=\"1\" class=\"dataframe\">\n",
       "  <thead>\n",
       "    <tr style=\"text-align: right;\">\n",
       "      <th></th>\n",
       "      <th>Math</th>\n",
       "      <th>Physcis</th>\n",
       "      <th>Chem</th>\n",
       "      <th>Bio</th>\n",
       "      <th>newsubject</th>\n",
       "      <th>Civic</th>\n",
       "      <th>PE</th>\n",
       "    </tr>\n",
       "  </thead>\n",
       "  <tbody>\n",
       "    <tr>\n",
       "      <th>Alan</th>\n",
       "      <td>72.210</td>\n",
       "      <td>72.899</td>\n",
       "      <td>85.962</td>\n",
       "      <td>91.247</td>\n",
       "      <td>99</td>\n",
       "      <td>100</td>\n",
       "      <td>91</td>\n",
       "    </tr>\n",
       "    <tr>\n",
       "      <th>U</th>\n",
       "      <td>92.153</td>\n",
       "      <td>71.077</td>\n",
       "      <td>95.516</td>\n",
       "      <td>70.350</td>\n",
       "      <td>99</td>\n",
       "      <td>100</td>\n",
       "      <td>92</td>\n",
       "    </tr>\n",
       "    <tr>\n",
       "      <th>Charlie</th>\n",
       "      <td>73.462</td>\n",
       "      <td>92.382</td>\n",
       "      <td>91.796</td>\n",
       "      <td>96.074</td>\n",
       "      <td>99</td>\n",
       "      <td>100</td>\n",
       "      <td>93</td>\n",
       "    </tr>\n",
       "    <tr>\n",
       "      <th>H</th>\n",
       "      <td>80.061</td>\n",
       "      <td>90.136</td>\n",
       "      <td>96.425</td>\n",
       "      <td>88.647</td>\n",
       "      <td>99</td>\n",
       "      <td>100</td>\n",
       "      <td>94</td>\n",
       "    </tr>\n",
       "    <tr>\n",
       "      <th>Eric</th>\n",
       "      <td>82.017</td>\n",
       "      <td>85.307</td>\n",
       "      <td>81.757</td>\n",
       "      <td>79.765</td>\n",
       "      <td>99</td>\n",
       "      <td>100</td>\n",
       "      <td>95</td>\n",
       "    </tr>\n",
       "    <tr>\n",
       "      <th>Frankie</th>\n",
       "      <td>95.030</td>\n",
       "      <td>72.474</td>\n",
       "      <td>81.255</td>\n",
       "      <td>96.982</td>\n",
       "      <td>99</td>\n",
       "      <td>100</td>\n",
       "      <td>96</td>\n",
       "    </tr>\n",
       "  </tbody>\n",
       "</table>\n",
       "</div>"
      ],
      "text/plain": [
       "           Math  Physcis    Chem     Bio  newsubject  Civic  PE\n",
       "Alan     72.210   72.899  85.962  91.247          99    100  91\n",
       "U        92.153   71.077  95.516  70.350          99    100  92\n",
       "Charlie  73.462   92.382  91.796  96.074          99    100  93\n",
       "H        80.061   90.136  96.425  88.647          99    100  94\n",
       "Eric     82.017   85.307  81.757  79.765          99    100  95\n",
       "Frankie  95.030   72.474  81.255  96.982          99    100  96"
      ]
     },
     "execution_count": 123,
     "metadata": {},
     "output_type": "execute_result"
    }
   ],
   "source": [
    "marks_df"
   ]
  },
  {
   "cell_type": "code",
   "execution_count": 124,
   "metadata": {},
   "outputs": [
    {
     "data": {
      "text/plain": [
       "(6, 7)"
      ]
     },
     "execution_count": 124,
     "metadata": {},
     "output_type": "execute_result"
    }
   ],
   "source": [
    "marks_df['newsubject'] = 99\n",
    "marks_df.shape"
   ]
  },
  {
   "cell_type": "code",
   "execution_count": 125,
   "metadata": {},
   "outputs": [
    {
     "data": {
      "text/html": [
       "<div>\n",
       "<style scoped>\n",
       "    .dataframe tbody tr th:only-of-type {\n",
       "        vertical-align: middle;\n",
       "    }\n",
       "\n",
       "    .dataframe tbody tr th {\n",
       "        vertical-align: top;\n",
       "    }\n",
       "\n",
       "    .dataframe thead th {\n",
       "        text-align: right;\n",
       "    }\n",
       "</style>\n",
       "<table border=\"1\" class=\"dataframe\">\n",
       "  <thead>\n",
       "    <tr style=\"text-align: right;\">\n",
       "      <th></th>\n",
       "      <th>Math</th>\n",
       "      <th>Physcis</th>\n",
       "      <th>Chem</th>\n",
       "      <th>Bio</th>\n",
       "      <th>newsubject</th>\n",
       "      <th>Civic</th>\n",
       "      <th>PE</th>\n",
       "    </tr>\n",
       "  </thead>\n",
       "  <tbody>\n",
       "    <tr>\n",
       "      <th>Alan</th>\n",
       "      <td>72.210</td>\n",
       "      <td>72.899</td>\n",
       "      <td>85.962</td>\n",
       "      <td>91.247</td>\n",
       "      <td>99</td>\n",
       "      <td>100</td>\n",
       "      <td>91</td>\n",
       "    </tr>\n",
       "    <tr>\n",
       "      <th>U</th>\n",
       "      <td>92.153</td>\n",
       "      <td>71.077</td>\n",
       "      <td>95.516</td>\n",
       "      <td>70.350</td>\n",
       "      <td>99</td>\n",
       "      <td>100</td>\n",
       "      <td>92</td>\n",
       "    </tr>\n",
       "    <tr>\n",
       "      <th>Charlie</th>\n",
       "      <td>73.462</td>\n",
       "      <td>92.382</td>\n",
       "      <td>91.796</td>\n",
       "      <td>96.074</td>\n",
       "      <td>99</td>\n",
       "      <td>100</td>\n",
       "      <td>93</td>\n",
       "    </tr>\n",
       "    <tr>\n",
       "      <th>H</th>\n",
       "      <td>80.061</td>\n",
       "      <td>90.136</td>\n",
       "      <td>96.425</td>\n",
       "      <td>88.647</td>\n",
       "      <td>99</td>\n",
       "      <td>100</td>\n",
       "      <td>94</td>\n",
       "    </tr>\n",
       "    <tr>\n",
       "      <th>Eric</th>\n",
       "      <td>82.017</td>\n",
       "      <td>85.307</td>\n",
       "      <td>81.757</td>\n",
       "      <td>79.765</td>\n",
       "      <td>99</td>\n",
       "      <td>100</td>\n",
       "      <td>95</td>\n",
       "    </tr>\n",
       "    <tr>\n",
       "      <th>Frankie</th>\n",
       "      <td>95.030</td>\n",
       "      <td>72.474</td>\n",
       "      <td>81.255</td>\n",
       "      <td>96.982</td>\n",
       "      <td>99</td>\n",
       "      <td>100</td>\n",
       "      <td>96</td>\n",
       "    </tr>\n",
       "  </tbody>\n",
       "</table>\n",
       "</div>"
      ],
      "text/plain": [
       "           Math  Physcis    Chem     Bio  newsubject  Civic  PE\n",
       "Alan     72.210   72.899  85.962  91.247          99    100  91\n",
       "U        92.153   71.077  95.516  70.350          99    100  92\n",
       "Charlie  73.462   92.382  91.796  96.074          99    100  93\n",
       "H        80.061   90.136  96.425  88.647          99    100  94\n",
       "Eric     82.017   85.307  81.757  79.765          99    100  95\n",
       "Frankie  95.030   72.474  81.255  96.982          99    100  96"
      ]
     },
     "execution_count": 125,
     "metadata": {},
     "output_type": "execute_result"
    }
   ],
   "source": [
    "marks_df"
   ]
  },
  {
   "cell_type": "code",
   "execution_count": 127,
   "metadata": {},
   "outputs": [
    {
     "data": {
      "text/plain": [
       "pandas.core.series.Series"
      ]
     },
     "execution_count": 127,
     "metadata": {},
     "output_type": "execute_result"
    }
   ],
   "source": [
    "type(marks_df['Math'])"
   ]
  },
  {
   "cell_type": "code",
   "execution_count": 128,
   "metadata": {},
   "outputs": [
    {
     "data": {
      "text/plain": [
       "Alan       72.210\n",
       "U          92.153\n",
       "Charlie    73.462\n",
       "H          80.061\n",
       "Eric       82.017\n",
       "Frankie    95.030\n",
       "Name: Math, dtype: float64"
      ]
     },
     "execution_count": 128,
     "metadata": {},
     "output_type": "execute_result"
    }
   ],
   "source": [
    "marks_df['Math']"
   ]
  },
  {
   "cell_type": "code",
   "execution_count": 133,
   "metadata": {},
   "outputs": [
    {
     "data": {
      "text/plain": [
       "425"
      ]
     },
     "execution_count": 133,
     "metadata": {},
     "output_type": "execute_result"
    }
   ],
   "source": [
    "len(marks_df['Math'].__dir__())"
   ]
  },
  {
   "cell_type": "code",
   "execution_count": 134,
   "metadata": {},
   "outputs": [
    {
     "data": {
      "text/plain": [
       "162"
      ]
     },
     "execution_count": 134,
     "metadata": {},
     "output_type": "execute_result"
    }
   ],
   "source": [
    "len(marks_df['Math'].values.__dir__())"
   ]
  },
  {
   "cell_type": "code",
   "execution_count": 129,
   "metadata": {},
   "outputs": [
    {
     "data": {
      "text/plain": [
       "Alan       74.210\n",
       "U          94.153\n",
       "Charlie    75.462\n",
       "H          82.061\n",
       "Eric       84.017\n",
       "Frankie    97.030\n",
       "Name: Math, dtype: float64"
      ]
     },
     "execution_count": 129,
     "metadata": {},
     "output_type": "execute_result"
    }
   ],
   "source": [
    "marks_df['Math'].apply(lambda x: x+2)\n",
    "\n",
    "\n",
    "## def add(x):\n",
    "##    return x+2\n",
    "# marks_df['Math'].apply(add)"
   ]
  },
  {
   "cell_type": "code",
   "execution_count": 139,
   "metadata": {},
   "outputs": [
    {
     "data": {
      "text/html": [
       "<div>\n",
       "<style scoped>\n",
       "    .dataframe tbody tr th:only-of-type {\n",
       "        vertical-align: middle;\n",
       "    }\n",
       "\n",
       "    .dataframe tbody tr th {\n",
       "        vertical-align: top;\n",
       "    }\n",
       "\n",
       "    .dataframe thead th {\n",
       "        text-align: right;\n",
       "    }\n",
       "</style>\n",
       "<table border=\"1\" class=\"dataframe\">\n",
       "  <thead>\n",
       "    <tr style=\"text-align: right;\">\n",
       "      <th></th>\n",
       "      <th>Math</th>\n",
       "      <th>Physcis</th>\n",
       "      <th>Chem</th>\n",
       "      <th>Bio</th>\n",
       "      <th>newsubject</th>\n",
       "      <th>Civic</th>\n",
       "      <th>PE</th>\n",
       "    </tr>\n",
       "  </thead>\n",
       "  <tbody>\n",
       "    <tr>\n",
       "      <th>Alan</th>\n",
       "      <td>72.210</td>\n",
       "      <td>72.899</td>\n",
       "      <td>85.962</td>\n",
       "      <td>91.247</td>\n",
       "      <td>99</td>\n",
       "      <td>100</td>\n",
       "      <td>91</td>\n",
       "    </tr>\n",
       "    <tr>\n",
       "      <th>U</th>\n",
       "      <td>92.153</td>\n",
       "      <td>71.077</td>\n",
       "      <td>95.516</td>\n",
       "      <td>70.350</td>\n",
       "      <td>99</td>\n",
       "      <td>100</td>\n",
       "      <td>92</td>\n",
       "    </tr>\n",
       "    <tr>\n",
       "      <th>Charlie</th>\n",
       "      <td>73.462</td>\n",
       "      <td>92.382</td>\n",
       "      <td>91.796</td>\n",
       "      <td>96.074</td>\n",
       "      <td>99</td>\n",
       "      <td>100</td>\n",
       "      <td>93</td>\n",
       "    </tr>\n",
       "    <tr>\n",
       "      <th>H</th>\n",
       "      <td>80.061</td>\n",
       "      <td>90.136</td>\n",
       "      <td>96.425</td>\n",
       "      <td>88.647</td>\n",
       "      <td>99</td>\n",
       "      <td>100</td>\n",
       "      <td>94</td>\n",
       "    </tr>\n",
       "    <tr>\n",
       "      <th>Eric</th>\n",
       "      <td>82.017</td>\n",
       "      <td>85.307</td>\n",
       "      <td>81.757</td>\n",
       "      <td>79.765</td>\n",
       "      <td>99</td>\n",
       "      <td>100</td>\n",
       "      <td>95</td>\n",
       "    </tr>\n",
       "    <tr>\n",
       "      <th>Frankie</th>\n",
       "      <td>95.030</td>\n",
       "      <td>72.474</td>\n",
       "      <td>81.255</td>\n",
       "      <td>96.982</td>\n",
       "      <td>99</td>\n",
       "      <td>100</td>\n",
       "      <td>96</td>\n",
       "    </tr>\n",
       "  </tbody>\n",
       "</table>\n",
       "</div>"
      ],
      "text/plain": [
       "           Math  Physcis    Chem     Bio  newsubject  Civic  PE\n",
       "Alan     72.210   72.899  85.962  91.247          99    100  91\n",
       "U        92.153   71.077  95.516  70.350          99    100  92\n",
       "Charlie  73.462   92.382  91.796  96.074          99    100  93\n",
       "H        80.061   90.136  96.425  88.647          99    100  94\n",
       "Eric     82.017   85.307  81.757  79.765          99    100  95\n",
       "Frankie  95.030   72.474  81.255  96.982          99    100  96"
      ]
     },
     "execution_count": 139,
     "metadata": {},
     "output_type": "execute_result"
    }
   ],
   "source": [
    "marks_df"
   ]
  },
  {
   "cell_type": "code",
   "execution_count": 138,
   "metadata": {},
   "outputs": [
    {
     "data": {
      "text/plain": [
       "Math           82.489\n",
       "Physcis        80.713\n",
       "Chem           88.785\n",
       "Bio            87.177\n",
       "newsubject     99.000\n",
       "Civic         100.000\n",
       "PE             93.500\n",
       "dtype: float64"
      ]
     },
     "execution_count": 138,
     "metadata": {},
     "output_type": "execute_result"
    }
   ],
   "source": [
    "marks_df.apply(lambda x: np.mean(x))\n",
    "#marks_df.apply(lambda x: np.mean(x), axis=0)"
   ]
  },
  {
   "cell_type": "code",
   "execution_count": 122,
   "metadata": {},
   "outputs": [
    {
     "data": {
      "text/plain": [
       "Alan       72.710\n",
       "U          74.383\n",
       "Charlie    77.290\n",
       "H          71.139\n",
       "Eric       72.309\n",
       "Frankie    71.159\n",
       "dtype: float64"
      ]
     },
     "execution_count": 122,
     "metadata": {},
     "output_type": "execute_result"
    }
   ],
   "source": [
    "## apply   ## on series\n",
    "#marks_df['Math'].apply(lambda x: x+10)\n",
    "marks_df['Math'].apply(subway)\n",
    "\n",
    "## apply   ## on dataframe\n",
    "# marks_df.apply(lambda x: np.mean(x))  ## default axis=0\n",
    "# marks_df.apply(lambda x: np.mean(x), axis=0)   ## reduce on axis 0\n",
    "\n",
    "marks_df.apply(lambda x: np.min(x), axis=1)   ## reduce on axis 1\n",
    "#marks_df.apply(lambda x: len(x), axis=1)   ## reduce on axis 1\n"
   ]
  },
  {
   "cell_type": "code",
   "execution_count": 142,
   "metadata": {},
   "outputs": [],
   "source": [
    "marks_df['Math'] = ['good','good','good','very good','very good', 'excellent']"
   ]
  },
  {
   "cell_type": "code",
   "execution_count": 143,
   "metadata": {},
   "outputs": [
    {
     "data": {
      "text/plain": [
       "Alan            good\n",
       "U               good\n",
       "Charlie         good\n",
       "H          very good\n",
       "Eric       very good\n",
       "Frankie    excellent\n",
       "Name: Math, dtype: object"
      ]
     },
     "execution_count": 143,
     "metadata": {},
     "output_type": "execute_result"
    }
   ],
   "source": [
    "marks_df['Math']"
   ]
  },
  {
   "cell_type": "code",
   "execution_count": 144,
   "metadata": {},
   "outputs": [],
   "source": [
    "ser = marks_df['Math'].copy()"
   ]
  },
  {
   "cell_type": "code",
   "execution_count": 145,
   "metadata": {},
   "outputs": [
    {
     "data": {
      "text/plain": [
       "Alan            good\n",
       "U               good\n",
       "Charlie         good\n",
       "H          very good\n",
       "Eric       very good\n",
       "Frankie    excellent\n",
       "Name: Math, dtype: object"
      ]
     },
     "execution_count": 145,
     "metadata": {},
     "output_type": "execute_result"
    }
   ],
   "source": [
    "ser"
   ]
  },
  {
   "cell_type": "code",
   "execution_count": 147,
   "metadata": {},
   "outputs": [
    {
     "data": {
      "text/plain": [
       "Alan       4\n",
       "U          4\n",
       "Charlie    4\n",
       "H          9\n",
       "Eric       9\n",
       "Frankie    9\n",
       "Name: Math, dtype: int64"
      ]
     },
     "execution_count": 147,
     "metadata": {},
     "output_type": "execute_result"
    }
   ],
   "source": [
    "ser.apply(lambda x: len(x))"
   ]
  },
  {
   "cell_type": "code",
   "execution_count": 148,
   "metadata": {},
   "outputs": [
    {
     "data": {
      "text/plain": [
       "Alan            good\n",
       "U               good\n",
       "Charlie         good\n",
       "H          very good\n",
       "Eric       very good\n",
       "Frankie      perfect\n",
       "Name: Math, dtype: object"
      ]
     },
     "execution_count": 148,
     "metadata": {},
     "output_type": "execute_result"
    }
   ],
   "source": [
    "ser.replace('excellent','perfect')"
   ]
  },
  {
   "cell_type": "code",
   "execution_count": 149,
   "metadata": {
    "scrolled": true
   },
   "outputs": [
    {
     "data": {
      "text/plain": [
       "Alan            good\n",
       "U               good\n",
       "Charlie         good\n",
       "H          very good\n",
       "Eric       very good\n",
       "Frankie    excellent\n",
       "Name: Math, dtype: object"
      ]
     },
     "execution_count": 149,
     "metadata": {},
     "output_type": "execute_result"
    }
   ],
   "source": [
    "ser"
   ]
  },
  {
   "cell_type": "code",
   "execution_count": 150,
   "metadata": {},
   "outputs": [],
   "source": [
    "def myreplace(x):\n",
    "    if x == \"excellent\":\n",
    "        return \"perfect\"\n",
    "    else:\n",
    "        return x"
   ]
  },
  {
   "cell_type": "code",
   "execution_count": 152,
   "metadata": {},
   "outputs": [
    {
     "data": {
      "text/plain": [
       "Alan            good\n",
       "U               good\n",
       "Charlie         good\n",
       "H          very good\n",
       "Eric       very good\n",
       "Frankie    excellent\n",
       "Name: Math, dtype: object"
      ]
     },
     "execution_count": 152,
     "metadata": {},
     "output_type": "execute_result"
    }
   ],
   "source": [
    "ser"
   ]
  },
  {
   "cell_type": "code",
   "execution_count": 151,
   "metadata": {
    "scrolled": true
   },
   "outputs": [
    {
     "data": {
      "text/plain": [
       "Alan            good\n",
       "U               good\n",
       "Charlie         good\n",
       "H          very good\n",
       "Eric       very good\n",
       "Frankie      perfect\n",
       "Name: Math, dtype: object"
      ]
     },
     "execution_count": 151,
     "metadata": {},
     "output_type": "execute_result"
    }
   ],
   "source": [
    "ser.apply(myreplace)"
   ]
  },
  {
   "cell_type": "code",
   "execution_count": 153,
   "metadata": {},
   "outputs": [
    {
     "data": {
      "text/plain": [
       "Alan           NaN\n",
       "U              NaN\n",
       "Charlie        NaN\n",
       "H              NaN\n",
       "Eric           NaN\n",
       "Frankie    perfect\n",
       "Name: Math, dtype: object"
      ]
     },
     "execution_count": 153,
     "metadata": {},
     "output_type": "execute_result"
    }
   ],
   "source": [
    "ser.map({'excellent':'perfect'})"
   ]
  },
  {
   "cell_type": "code",
   "execution_count": 154,
   "metadata": {},
   "outputs": [],
   "source": [
    "def mapper(x):\n",
    "    mapping_dict = {'excellent':'perfect'}\n",
    "    return mapping_dict.get(x, x)   \n",
    "\n",
    "### if x in mapping_dict.keys():\n",
    "###     return mapping_dict[x]\n",
    "### else:\n",
    "###     return x"
   ]
  },
  {
   "cell_type": "code",
   "execution_count": 155,
   "metadata": {},
   "outputs": [
    {
     "data": {
      "text/plain": [
       "Alan            good\n",
       "U               good\n",
       "Charlie         good\n",
       "H          very good\n",
       "Eric       very good\n",
       "Frankie      perfect\n",
       "Name: Math, dtype: object"
      ]
     },
     "execution_count": 155,
     "metadata": {},
     "output_type": "execute_result"
    }
   ],
   "source": [
    "ser.apply(mapper)"
   ]
  },
  {
   "cell_type": "markdown",
   "metadata": {},
   "source": [
    "#### Adding & removing columns"
   ]
  },
  {
   "cell_type": "code",
   "execution_count": 102,
   "metadata": {},
   "outputs": [
    {
     "data": {
      "text/html": [
       "<div>\n",
       "<style scoped>\n",
       "    .dataframe tbody tr th:only-of-type {\n",
       "        vertical-align: middle;\n",
       "    }\n",
       "\n",
       "    .dataframe tbody tr th {\n",
       "        vertical-align: top;\n",
       "    }\n",
       "\n",
       "    .dataframe thead th {\n",
       "        text-align: right;\n",
       "    }\n",
       "</style>\n",
       "<table border=\"1\" class=\"dataframe\">\n",
       "  <thead>\n",
       "    <tr style=\"text-align: right;\">\n",
       "      <th></th>\n",
       "      <th>Math</th>\n",
       "      <th>Physcis</th>\n",
       "      <th>Chem</th>\n",
       "      <th>Bio</th>\n",
       "      <th>Civic</th>\n",
       "      <th>PE</th>\n",
       "      <th>newsubject</th>\n",
       "    </tr>\n",
       "  </thead>\n",
       "  <tbody>\n",
       "    <tr>\n",
       "      <th>Alan</th>\n",
       "      <td>79.303</td>\n",
       "      <td>94.978</td>\n",
       "      <td>93.901</td>\n",
       "      <td>79.712</td>\n",
       "      <td>100</td>\n",
       "      <td>91</td>\n",
       "      <td>99</td>\n",
       "    </tr>\n",
       "    <tr>\n",
       "      <th>Bob</th>\n",
       "      <td>88.177</td>\n",
       "      <td>76.067</td>\n",
       "      <td>70.364</td>\n",
       "      <td>84.082</td>\n",
       "      <td>100</td>\n",
       "      <td>92</td>\n",
       "      <td>99</td>\n",
       "    </tr>\n",
       "    <tr>\n",
       "      <th>Charlie</th>\n",
       "      <td>84.870</td>\n",
       "      <td>82.630</td>\n",
       "      <td>98.979</td>\n",
       "      <td>72.885</td>\n",
       "      <td>100</td>\n",
       "      <td>93</td>\n",
       "      <td>99</td>\n",
       "    </tr>\n",
       "    <tr>\n",
       "      <th>Don</th>\n",
       "      <td>74.708</td>\n",
       "      <td>90.880</td>\n",
       "      <td>90.351</td>\n",
       "      <td>78.944</td>\n",
       "      <td>100</td>\n",
       "      <td>94</td>\n",
       "      <td>99</td>\n",
       "    </tr>\n",
       "    <tr>\n",
       "      <th>Eric</th>\n",
       "      <td>88.161</td>\n",
       "      <td>87.787</td>\n",
       "      <td>71.927</td>\n",
       "      <td>95.530</td>\n",
       "      <td>100</td>\n",
       "      <td>95</td>\n",
       "      <td>99</td>\n",
       "    </tr>\n",
       "    <tr>\n",
       "      <th>Frankie</th>\n",
       "      <td>85.487</td>\n",
       "      <td>71.745</td>\n",
       "      <td>80.205</td>\n",
       "      <td>91.890</td>\n",
       "      <td>100</td>\n",
       "      <td>96</td>\n",
       "      <td>99</td>\n",
       "    </tr>\n",
       "  </tbody>\n",
       "</table>\n",
       "</div>"
      ],
      "text/plain": [
       "           Math  Physcis    Chem     Bio  Civic  PE  newsubject\n",
       "Alan     79.303   94.978  93.901  79.712    100  91          99\n",
       "Bob      88.177   76.067  70.364  84.082    100  92          99\n",
       "Charlie  84.870   82.630  98.979  72.885    100  93          99\n",
       "Don      74.708   90.880  90.351  78.944    100  94          99\n",
       "Eric     88.161   87.787  71.927  95.530    100  95          99\n",
       "Frankie  85.487   71.745  80.205  91.890    100  96          99"
      ]
     },
     "execution_count": 102,
     "metadata": {},
     "output_type": "execute_result"
    }
   ],
   "source": [
    "marks_df.drop(columns='Bio')\n",
    "marks_df"
   ]
  },
  {
   "cell_type": "code",
   "execution_count": 103,
   "metadata": {},
   "outputs": [],
   "source": [
    "marks_df.drop(columns=['Civic', 'PE', 'newsubject'], inplace=True)"
   ]
  },
  {
   "cell_type": "code",
   "execution_count": 104,
   "metadata": {},
   "outputs": [
    {
     "data": {
      "text/html": [
       "<div>\n",
       "<style scoped>\n",
       "    .dataframe tbody tr th:only-of-type {\n",
       "        vertical-align: middle;\n",
       "    }\n",
       "\n",
       "    .dataframe tbody tr th {\n",
       "        vertical-align: top;\n",
       "    }\n",
       "\n",
       "    .dataframe thead th {\n",
       "        text-align: right;\n",
       "    }\n",
       "</style>\n",
       "<table border=\"1\" class=\"dataframe\">\n",
       "  <thead>\n",
       "    <tr style=\"text-align: right;\">\n",
       "      <th></th>\n",
       "      <th>Math</th>\n",
       "      <th>Physcis</th>\n",
       "      <th>Chem</th>\n",
       "      <th>Bio</th>\n",
       "    </tr>\n",
       "  </thead>\n",
       "  <tbody>\n",
       "    <tr>\n",
       "      <th>Alan</th>\n",
       "      <td>79.303</td>\n",
       "      <td>94.978</td>\n",
       "      <td>93.901</td>\n",
       "      <td>79.712</td>\n",
       "    </tr>\n",
       "    <tr>\n",
       "      <th>Bob</th>\n",
       "      <td>88.177</td>\n",
       "      <td>76.067</td>\n",
       "      <td>70.364</td>\n",
       "      <td>84.082</td>\n",
       "    </tr>\n",
       "    <tr>\n",
       "      <th>Charlie</th>\n",
       "      <td>84.870</td>\n",
       "      <td>82.630</td>\n",
       "      <td>98.979</td>\n",
       "      <td>72.885</td>\n",
       "    </tr>\n",
       "    <tr>\n",
       "      <th>Don</th>\n",
       "      <td>74.708</td>\n",
       "      <td>90.880</td>\n",
       "      <td>90.351</td>\n",
       "      <td>78.944</td>\n",
       "    </tr>\n",
       "    <tr>\n",
       "      <th>Eric</th>\n",
       "      <td>88.161</td>\n",
       "      <td>87.787</td>\n",
       "      <td>71.927</td>\n",
       "      <td>95.530</td>\n",
       "    </tr>\n",
       "    <tr>\n",
       "      <th>Frankie</th>\n",
       "      <td>85.487</td>\n",
       "      <td>71.745</td>\n",
       "      <td>80.205</td>\n",
       "      <td>91.890</td>\n",
       "    </tr>\n",
       "  </tbody>\n",
       "</table>\n",
       "</div>"
      ],
      "text/plain": [
       "           Math  Physcis    Chem     Bio\n",
       "Alan     79.303   94.978  93.901  79.712\n",
       "Bob      88.177   76.067  70.364  84.082\n",
       "Charlie  84.870   82.630  98.979  72.885\n",
       "Don      74.708   90.880  90.351  78.944\n",
       "Eric     88.161   87.787  71.927  95.530\n",
       "Frankie  85.487   71.745  80.205  91.890"
      ]
     },
     "execution_count": 104,
     "metadata": {},
     "output_type": "execute_result"
    }
   ],
   "source": [
    "marks_df"
   ]
  },
  {
   "cell_type": "markdown",
   "metadata": {},
   "source": [
    "#### Appending two dataframes"
   ]
  },
  {
   "cell_type": "code",
   "execution_count": 7,
   "metadata": {},
   "outputs": [
    {
     "ename": "NameError",
     "evalue": "name 'marks_df' is not defined",
     "output_type": "error",
     "traceback": [
      "\u001b[0;31m---------------------------------------------------------------------------\u001b[0m",
      "\u001b[0;31mNameError\u001b[0m                                 Traceback (most recent call last)",
      "Cell \u001b[0;32mIn[7], line 1\u001b[0m\n\u001b[0;32m----> 1\u001b[0m \u001b[43mmarks_df\u001b[49m\n",
      "\u001b[0;31mNameError\u001b[0m: name 'marks_df' is not defined"
     ]
    }
   ],
   "source": [
    "marks_df"
   ]
  },
  {
   "cell_type": "code",
   "execution_count": 158,
   "metadata": {},
   "outputs": [
    {
     "data": {
      "text/html": [
       "<div>\n",
       "<style scoped>\n",
       "    .dataframe tbody tr th:only-of-type {\n",
       "        vertical-align: middle;\n",
       "    }\n",
       "\n",
       "    .dataframe tbody tr th {\n",
       "        vertical-align: top;\n",
       "    }\n",
       "\n",
       "    .dataframe thead th {\n",
       "        text-align: right;\n",
       "    }\n",
       "</style>\n",
       "<table border=\"1\" class=\"dataframe\">\n",
       "  <thead>\n",
       "    <tr style=\"text-align: right;\">\n",
       "      <th></th>\n",
       "      <th>Math</th>\n",
       "      <th>Physcis</th>\n",
       "      <th>Chem</th>\n",
       "      <th>Bio</th>\n",
       "      <th>newsubject</th>\n",
       "      <th>Civic</th>\n",
       "      <th>PE</th>\n",
       "    </tr>\n",
       "  </thead>\n",
       "  <tbody>\n",
       "    <tr>\n",
       "      <th>P</th>\n",
       "      <td>good</td>\n",
       "      <td>72.899</td>\n",
       "      <td>85.962</td>\n",
       "      <td>91.247</td>\n",
       "      <td>99</td>\n",
       "      <td>100</td>\n",
       "      <td>91</td>\n",
       "    </tr>\n",
       "    <tr>\n",
       "      <th>Q</th>\n",
       "      <td>good</td>\n",
       "      <td>71.077</td>\n",
       "      <td>95.516</td>\n",
       "      <td>70.350</td>\n",
       "      <td>99</td>\n",
       "      <td>100</td>\n",
       "      <td>92</td>\n",
       "    </tr>\n",
       "    <tr>\n",
       "      <th>R</th>\n",
       "      <td>good</td>\n",
       "      <td>92.382</td>\n",
       "      <td>91.796</td>\n",
       "      <td>96.074</td>\n",
       "      <td>99</td>\n",
       "      <td>100</td>\n",
       "      <td>93</td>\n",
       "    </tr>\n",
       "    <tr>\n",
       "      <th>S</th>\n",
       "      <td>very good</td>\n",
       "      <td>90.136</td>\n",
       "      <td>96.425</td>\n",
       "      <td>88.647</td>\n",
       "      <td>99</td>\n",
       "      <td>100</td>\n",
       "      <td>94</td>\n",
       "    </tr>\n",
       "    <tr>\n",
       "      <th>T</th>\n",
       "      <td>very good</td>\n",
       "      <td>85.307</td>\n",
       "      <td>81.757</td>\n",
       "      <td>79.765</td>\n",
       "      <td>99</td>\n",
       "      <td>100</td>\n",
       "      <td>95</td>\n",
       "    </tr>\n",
       "    <tr>\n",
       "      <th>U</th>\n",
       "      <td>excellent</td>\n",
       "      <td>72.474</td>\n",
       "      <td>81.255</td>\n",
       "      <td>96.982</td>\n",
       "      <td>99</td>\n",
       "      <td>100</td>\n",
       "      <td>96</td>\n",
       "    </tr>\n",
       "  </tbody>\n",
       "</table>\n",
       "</div>"
      ],
      "text/plain": [
       "        Math  Physcis    Chem     Bio  newsubject  Civic  PE\n",
       "P       good   72.899  85.962  91.247          99    100  91\n",
       "Q       good   71.077  95.516  70.350          99    100  92\n",
       "R       good   92.382  91.796  96.074          99    100  93\n",
       "S  very good   90.136  96.425  88.647          99    100  94\n",
       "T  very good   85.307  81.757  79.765          99    100  95\n",
       "U  excellent   72.474  81.255  96.982          99    100  96"
      ]
     },
     "execution_count": 158,
     "metadata": {},
     "output_type": "execute_result"
    }
   ],
   "source": [
    "marks_dfB = marks_df.copy()\n",
    "marks_dfB.index = list('PQRSTU')\n",
    "marks_dfB"
   ]
  },
  {
   "cell_type": "code",
   "execution_count": 159,
   "metadata": {
    "scrolled": true
   },
   "outputs": [
    {
     "data": {
      "text/html": [
       "<div>\n",
       "<style scoped>\n",
       "    .dataframe tbody tr th:only-of-type {\n",
       "        vertical-align: middle;\n",
       "    }\n",
       "\n",
       "    .dataframe tbody tr th {\n",
       "        vertical-align: top;\n",
       "    }\n",
       "\n",
       "    .dataframe thead th {\n",
       "        text-align: right;\n",
       "    }\n",
       "</style>\n",
       "<table border=\"1\" class=\"dataframe\">\n",
       "  <thead>\n",
       "    <tr style=\"text-align: right;\">\n",
       "      <th></th>\n",
       "      <th>Math</th>\n",
       "      <th>Physcis</th>\n",
       "      <th>Chem</th>\n",
       "      <th>Bio</th>\n",
       "      <th>newsubject</th>\n",
       "      <th>Civic</th>\n",
       "      <th>PE</th>\n",
       "    </tr>\n",
       "  </thead>\n",
       "  <tbody>\n",
       "    <tr>\n",
       "      <th>Alan</th>\n",
       "      <td>good</td>\n",
       "      <td>72.899</td>\n",
       "      <td>85.962</td>\n",
       "      <td>91.247</td>\n",
       "      <td>99</td>\n",
       "      <td>100</td>\n",
       "      <td>91</td>\n",
       "    </tr>\n",
       "    <tr>\n",
       "      <th>U</th>\n",
       "      <td>good</td>\n",
       "      <td>71.077</td>\n",
       "      <td>95.516</td>\n",
       "      <td>70.350</td>\n",
       "      <td>99</td>\n",
       "      <td>100</td>\n",
       "      <td>92</td>\n",
       "    </tr>\n",
       "    <tr>\n",
       "      <th>Charlie</th>\n",
       "      <td>good</td>\n",
       "      <td>92.382</td>\n",
       "      <td>91.796</td>\n",
       "      <td>96.074</td>\n",
       "      <td>99</td>\n",
       "      <td>100</td>\n",
       "      <td>93</td>\n",
       "    </tr>\n",
       "    <tr>\n",
       "      <th>H</th>\n",
       "      <td>very good</td>\n",
       "      <td>90.136</td>\n",
       "      <td>96.425</td>\n",
       "      <td>88.647</td>\n",
       "      <td>99</td>\n",
       "      <td>100</td>\n",
       "      <td>94</td>\n",
       "    </tr>\n",
       "    <tr>\n",
       "      <th>Eric</th>\n",
       "      <td>very good</td>\n",
       "      <td>85.307</td>\n",
       "      <td>81.757</td>\n",
       "      <td>79.765</td>\n",
       "      <td>99</td>\n",
       "      <td>100</td>\n",
       "      <td>95</td>\n",
       "    </tr>\n",
       "    <tr>\n",
       "      <th>Frankie</th>\n",
       "      <td>excellent</td>\n",
       "      <td>72.474</td>\n",
       "      <td>81.255</td>\n",
       "      <td>96.982</td>\n",
       "      <td>99</td>\n",
       "      <td>100</td>\n",
       "      <td>96</td>\n",
       "    </tr>\n",
       "    <tr>\n",
       "      <th>P</th>\n",
       "      <td>good</td>\n",
       "      <td>72.899</td>\n",
       "      <td>85.962</td>\n",
       "      <td>91.247</td>\n",
       "      <td>99</td>\n",
       "      <td>100</td>\n",
       "      <td>91</td>\n",
       "    </tr>\n",
       "    <tr>\n",
       "      <th>Q</th>\n",
       "      <td>good</td>\n",
       "      <td>71.077</td>\n",
       "      <td>95.516</td>\n",
       "      <td>70.350</td>\n",
       "      <td>99</td>\n",
       "      <td>100</td>\n",
       "      <td>92</td>\n",
       "    </tr>\n",
       "    <tr>\n",
       "      <th>R</th>\n",
       "      <td>good</td>\n",
       "      <td>92.382</td>\n",
       "      <td>91.796</td>\n",
       "      <td>96.074</td>\n",
       "      <td>99</td>\n",
       "      <td>100</td>\n",
       "      <td>93</td>\n",
       "    </tr>\n",
       "    <tr>\n",
       "      <th>S</th>\n",
       "      <td>very good</td>\n",
       "      <td>90.136</td>\n",
       "      <td>96.425</td>\n",
       "      <td>88.647</td>\n",
       "      <td>99</td>\n",
       "      <td>100</td>\n",
       "      <td>94</td>\n",
       "    </tr>\n",
       "    <tr>\n",
       "      <th>T</th>\n",
       "      <td>very good</td>\n",
       "      <td>85.307</td>\n",
       "      <td>81.757</td>\n",
       "      <td>79.765</td>\n",
       "      <td>99</td>\n",
       "      <td>100</td>\n",
       "      <td>95</td>\n",
       "    </tr>\n",
       "    <tr>\n",
       "      <th>U</th>\n",
       "      <td>excellent</td>\n",
       "      <td>72.474</td>\n",
       "      <td>81.255</td>\n",
       "      <td>96.982</td>\n",
       "      <td>99</td>\n",
       "      <td>100</td>\n",
       "      <td>96</td>\n",
       "    </tr>\n",
       "  </tbody>\n",
       "</table>\n",
       "</div>"
      ],
      "text/plain": [
       "              Math  Physcis    Chem     Bio  newsubject  Civic  PE\n",
       "Alan          good   72.899  85.962  91.247          99    100  91\n",
       "U             good   71.077  95.516  70.350          99    100  92\n",
       "Charlie       good   92.382  91.796  96.074          99    100  93\n",
       "H        very good   90.136  96.425  88.647          99    100  94\n",
       "Eric     very good   85.307  81.757  79.765          99    100  95\n",
       "Frankie  excellent   72.474  81.255  96.982          99    100  96\n",
       "P             good   72.899  85.962  91.247          99    100  91\n",
       "Q             good   71.077  95.516  70.350          99    100  92\n",
       "R             good   92.382  91.796  96.074          99    100  93\n",
       "S        very good   90.136  96.425  88.647          99    100  94\n",
       "T        very good   85.307  81.757  79.765          99    100  95\n",
       "U        excellent   72.474  81.255  96.982          99    100  96"
      ]
     },
     "execution_count": 159,
     "metadata": {},
     "output_type": "execute_result"
    }
   ],
   "source": [
    "# add rows\n",
    "pd.concat([marks_df, marks_dfB], axis=0)"
   ]
  },
  {
   "cell_type": "code",
   "execution_count": 6,
   "metadata": {
    "scrolled": true
   },
   "outputs": [
    {
     "ename": "NameError",
     "evalue": "name 'marks_df' is not defined",
     "output_type": "error",
     "traceback": [
      "\u001b[0;31m---------------------------------------------------------------------------\u001b[0m",
      "\u001b[0;31mNameError\u001b[0m                                 Traceback (most recent call last)",
      "Cell \u001b[0;32mIn[6], line 1\u001b[0m\n\u001b[0;32m----> 1\u001b[0m pd\u001b[38;5;241m.\u001b[39mconcat([\u001b[43mmarks_df\u001b[49m, marks_dfC], axis\u001b[38;5;241m=\u001b[39m\u001b[38;5;241m1\u001b[39m)\n",
      "\u001b[0;31mNameError\u001b[0m: name 'marks_df' is not defined"
     ]
    }
   ],
   "source": [
    "pd.concat([marks_df, marks_dfC], axis=1)"
   ]
  },
  {
   "cell_type": "markdown",
   "metadata": {},
   "source": [
    "## Python programming and Data Analysis\n",
    "\n",
    "## [Sample solution] Class Exercise 4"
   ]
  },
  {
   "cell_type": "markdown",
   "metadata": {},
   "source": [
    "## Numpy"
   ]
  },
  {
   "cell_type": "markdown",
   "metadata": {},
   "source": [
    "<a id='Exercise_4_11'></a>\n",
    "\n",
    "### Exercise 4.11"
   ]
  },
  {
   "cell_type": "markdown",
   "metadata": {},
   "source": [
    "Create the following numpy arrays:"
   ]
  },
  {
   "cell_type": "markdown",
   "metadata": {},
   "source": [
    "**1**. a vector containing number 10 to -10 in descending order."
   ]
  },
  {
   "cell_type": "code",
   "execution_count": 143,
   "metadata": {},
   "outputs": [
    {
     "data": {
      "text/plain": [
       "array([10,  9,  8,  7,  6,  5,  4,  3,  2,  1])"
      ]
     },
     "execution_count": 143,
     "metadata": {},
     "output_type": "execute_result"
    }
   ],
   "source": [
    "np.arange(0,10,1)  # start=0, stop=10(exclusive), step=1\n",
    "np.arange(10,0,-1)"
   ]
  },
  {
   "cell_type": "code",
   "execution_count": 45,
   "metadata": {},
   "outputs": [
    {
     "name": "stdout",
     "output_type": "stream",
     "text": [
      "[ 10   9   8   7   6   5   4   3   2   1   0  -1  -2  -3  -4  -5  -6  -7\n",
      "  -8  -9 -10]\n"
     ]
    }
   ],
   "source": [
    "arr_1 = np.arange(10,-11,-1)\n",
    "print(arr_1)"
   ]
  },
  {
   "cell_type": "markdown",
   "metadata": {},
   "source": [
    "**2**. a vector containing 10 zeros."
   ]
  },
  {
   "cell_type": "code",
   "execution_count": 46,
   "metadata": {},
   "outputs": [
    {
     "name": "stdout",
     "output_type": "stream",
     "text": [
      "[0. 0. 0. 0. 0. 0. 0. 0. 0. 0.]\n"
     ]
    }
   ],
   "source": [
    "arr_2 = np.zeros((10,))\n",
    "print(arr_2)"
   ]
  },
  {
   "cell_type": "markdown",
   "metadata": {},
   "source": [
    "**3**. a vector containing 15 ones."
   ]
  },
  {
   "cell_type": "code",
   "execution_count": 47,
   "metadata": {},
   "outputs": [
    {
     "name": "stdout",
     "output_type": "stream",
     "text": [
      "[1. 1. 1. 1. 1. 1. 1. 1. 1. 1. 1. 1. 1. 1. 1.]\n"
     ]
    }
   ],
   "source": [
    "arr_3 = np.ones((15,))\n",
    "print(arr_3)"
   ]
  },
  {
   "cell_type": "markdown",
   "metadata": {},
   "source": [
    "**4**. this 3x3 matrix:\n",
    "```\n",
    "5 6 7\n",
    "8 9 10\n",
    "11 12 13\n",
    "```"
   ]
  },
  {
   "cell_type": "code",
   "execution_count": 163,
   "metadata": {},
   "outputs": [
    {
     "name": "stdout",
     "output_type": "stream",
     "text": [
      "[[ 5  6  7]\n",
      " [ 8  9 10]\n",
      " [11 12 13]]\n"
     ]
    }
   ],
   "source": [
    "arr_4 = np.arange(5,14).reshape(3,3)\n",
    "print(arr_4)"
   ]
  },
  {
   "cell_type": "code",
   "execution_count": 166,
   "metadata": {},
   "outputs": [
    {
     "data": {
      "text/plain": [
       "array([[ 5,  6,  7],\n",
       "       [ 8,  9, 10],\n",
       "       [11, 12, 13]])"
      ]
     },
     "execution_count": 166,
     "metadata": {},
     "output_type": "execute_result"
    }
   ],
   "source": [
    "np.arange(9).reshape(3,3) + 5\n",
    "# np.arange(5,9+5).reshape(3,3)"
   ]
  },
  {
   "cell_type": "code",
   "execution_count": 147,
   "metadata": {},
   "outputs": [
    {
     "data": {
      "text/plain": [
       "(3, 3)"
      ]
     },
     "execution_count": 147,
     "metadata": {},
     "output_type": "execute_result"
    }
   ],
   "source": [
    "arr_4 = np.arange(5,14).reshape(3,-1)\n",
    "arr_4.shape"
   ]
  },
  {
   "cell_type": "markdown",
   "metadata": {},
   "source": [
    "**5**. a 3x3 matrix with random numbers"
   ]
  },
  {
   "cell_type": "code",
   "execution_count": 49,
   "metadata": {},
   "outputs": [
    {
     "name": "stdout",
     "output_type": "stream",
     "text": [
      "[[0.17 0.39 0.09]\n",
      " [0.82 0.15 0.38]\n",
      " [0.94 0.99 0.46]]\n"
     ]
    }
   ],
   "source": [
    "arr_5 = np.random.rand(3, 3)\n",
    "print(arr_5)"
   ]
  },
  {
   "cell_type": "markdown",
   "metadata": {},
   "source": [
    "**6**. this 3x3 matrix (without typing every element):\n",
    "```\n",
    "1 4 7\n",
    "2 5 8\n",
    "3 6 9\n",
    "```"
   ]
  },
  {
   "cell_type": "code",
   "execution_count": 50,
   "metadata": {},
   "outputs": [
    {
     "name": "stdout",
     "output_type": "stream",
     "text": [
      "[[1 4 7]\n",
      " [2 5 8]\n",
      " [3 6 9]]\n"
     ]
    }
   ],
   "source": [
    "arr_6 = np.arange(1,10).reshape(3,3).T\n",
    "print(arr_6)"
   ]
  },
  {
   "cell_type": "markdown",
   "metadata": {},
   "source": [
    "**7**. this 3x3 matrix (without typing every element):\n",
    "```\n",
    "3 2 1\n",
    "6 5 4\n",
    "9 8 7\n",
    "```"
   ]
  },
  {
   "cell_type": "code",
   "execution_count": 164,
   "metadata": {
    "scrolled": true
   },
   "outputs": [
    {
     "name": "stdout",
     "output_type": "stream",
     "text": [
      "Before\n",
      " [[1 2 3]\n",
      " [4 5 6]\n",
      " [7 8 9]]\n",
      "After\n"
     ]
    },
    {
     "data": {
      "text/plain": [
       "array([[3, 2, 1],\n",
       "       [6, 5, 4],\n",
       "       [9, 8, 7]])"
      ]
     },
     "execution_count": 164,
     "metadata": {},
     "output_type": "execute_result"
    }
   ],
   "source": [
    "print(\"Before\\n\", np.arange(1,10).reshape(3,3))\n",
    "\n",
    "print(\"After\")\n",
    "# np.arange(1,10).reshape(3,3)[:,[2,1,0]]\n",
    "np.arange(1,10).reshape(3,3)[:,::-1]\n"
   ]
  },
  {
   "cell_type": "code",
   "execution_count": 148,
   "metadata": {},
   "outputs": [
    {
     "name": "stdout",
     "output_type": "stream",
     "text": [
      "[[3 2 1]\n",
      " [6 5 4]\n",
      " [9 8 7]]\n"
     ]
    }
   ],
   "source": [
    "arr_7 = np.arange(1,10).reshape(3,3)[:,::-1]\n",
    "print(arr_7)"
   ]
  },
  {
   "cell_type": "markdown",
   "metadata": {},
   "source": [
    "**8**. this 3x3 matrix (without typing every element):\n",
    "```\n",
    "9 8 7\n",
    "6 5 4\n",
    "3 2 1\n",
    "```"
   ]
  },
  {
   "cell_type": "code",
   "execution_count": 52,
   "metadata": {},
   "outputs": [
    {
     "name": "stdout",
     "output_type": "stream",
     "text": [
      "[[9 8 7]\n",
      " [6 5 4]\n",
      " [3 2 1]]\n"
     ]
    }
   ],
   "source": [
    "## first `::-1` is swop the row order\n",
    "## second `::-1` is swop the col order\n",
    "\n",
    "arr_8 = np.arange(1,10).reshape(3,3)[::-1,::-1]\n",
    "print(arr_8)"
   ]
  },
  {
   "cell_type": "markdown",
   "metadata": {},
   "source": [
    "<a id='Exercise_4_12'></a>\n",
    "\n",
    "### Exercise 4.12"
   ]
  },
  {
   "cell_type": "markdown",
   "metadata": {},
   "source": [
    "Define a function ```to_nested_list()``` that takes a 2d array and returns the corresponding nested list.\n",
    "\n",
    "For example:\n",
    "```python\n",
    "print(to_nested_list(np.array([[1, 2, 3], [4, 5, 6]]))\n",
    "```\n",
    "\n",
    "will output\n",
    "```python\n",
    "[[1, 2, 3],  [4, 5, 6]]\n",
    "```"
   ]
  },
  {
   "cell_type": "code",
   "execution_count": 165,
   "metadata": {},
   "outputs": [
    {
     "data": {
      "text/plain": [
       "array([[1, 2, 3],\n",
       "       [4, 5, 6]])"
      ]
     },
     "execution_count": 165,
     "metadata": {},
     "output_type": "execute_result"
    }
   ],
   "source": [
    "# test case\n",
    "arr_test = np.arange(1,7).reshape(2,3)\n",
    "arr_test"
   ]
  },
  {
   "cell_type": "code",
   "execution_count": 54,
   "metadata": {},
   "outputs": [
    {
     "data": {
      "text/plain": [
       "[[1, 2, 3], [4, 5, 6]]"
      ]
     },
     "execution_count": 54,
     "metadata": {},
     "output_type": "execute_result"
    }
   ],
   "source": [
    "def to_nested_list(arr):\n",
    "    # arr_test.tolist()\n",
    "    return [list(row) for row in arr]\n",
    "\n",
    "to_nested_list(arr_test)"
   ]
  },
  {
   "cell_type": "markdown",
   "metadata": {},
   "source": [
    "## Pandas"
   ]
  },
  {
   "cell_type": "markdown",
   "metadata": {},
   "source": [
    "<a id='Exercise_4_13'></a>\n",
    "\n",
    "### Exercise 4.13"
   ]
  },
  {
   "cell_type": "markdown",
   "metadata": {},
   "source": [
    "**1**. Given two lists of the same size, `l1` and `l2`, use `l1` as the index and `l2` as the data to create a pandas Series `s`."
   ]
  },
  {
   "cell_type": "code",
   "execution_count": 167,
   "metadata": {},
   "outputs": [
    {
     "name": "stdout",
     "output_type": "stream",
     "text": [
      "[5, 7, 9, 11, 13, 15, 17, 19]\n",
      "[0, 5, 10, 15, 20, 25, 30, 35]\n"
     ]
    }
   ],
   "source": [
    "l1 = list(range(5, 20, 2))\n",
    "print(l1)\n",
    "l2 = [5*n for n in range(len(l1))]\n",
    "print(l2)"
   ]
  },
  {
   "cell_type": "code",
   "execution_count": 168,
   "metadata": {
    "scrolled": true
   },
   "outputs": [
    {
     "name": "stdout",
     "output_type": "stream",
     "text": [
      "5      0\n",
      "7      5\n",
      "9     10\n",
      "11    15\n",
      "13    20\n",
      "15    25\n",
      "17    30\n",
      "19    35\n",
      "dtype: int64\n"
     ]
    }
   ],
   "source": [
    "s = pd.Series(l2, index=l1)\n",
    "print(s)"
   ]
  },
  {
   "cell_type": "code",
   "execution_count": 169,
   "metadata": {},
   "outputs": [
    {
     "data": {
      "text/plain": [
       "Int64Index([5, 7, 9, 11, 13, 15, 17, 19], dtype='int64')"
      ]
     },
     "execution_count": 169,
     "metadata": {},
     "output_type": "execute_result"
    }
   ],
   "source": [
    "#type(s)\n",
    "#s.shape\n",
    "s.index"
   ]
  },
  {
   "cell_type": "code",
   "execution_count": 170,
   "metadata": {},
   "outputs": [
    {
     "data": {
      "text/plain": [
       "array([ 0,  5, 10, 15, 20, 25, 30, 35], dtype=int64)"
      ]
     },
     "execution_count": 170,
     "metadata": {},
     "output_type": "execute_result"
    }
   ],
   "source": [
    "s.values"
   ]
  },
  {
   "cell_type": "markdown",
   "metadata": {},
   "source": [
    "**2**. create another pandas Series `s1` from `s`, using the index in `s` as data in `s1` and the data in `s` as index in `s1`."
   ]
  },
  {
   "cell_type": "code",
   "execution_count": 63,
   "metadata": {},
   "outputs": [
    {
     "name": "stdout",
     "output_type": "stream",
     "text": [
      "0      5\n",
      "5      7\n",
      "10     9\n",
      "15    11\n",
      "20    13\n",
      "25    15\n",
      "30    17\n",
      "35    19\n",
      "dtype: int64\n"
     ]
    }
   ],
   "source": [
    "s1 = pd.Series(s.index, index=s.values)\n",
    "print(s1)"
   ]
  },
  {
   "cell_type": "markdown",
   "metadata": {},
   "source": [
    "**3**. multiply all items in `s` by 2."
   ]
  },
  {
   "cell_type": "code",
   "execution_count": 171,
   "metadata": {},
   "outputs": [
    {
     "name": "stdout",
     "output_type": "stream",
     "text": [
      "5      0\n",
      "7     10\n",
      "9     20\n",
      "11    30\n",
      "13    40\n",
      "15    50\n",
      "17    60\n",
      "19    70\n",
      "dtype: int64\n"
     ]
    }
   ],
   "source": [
    "s = s*2\n",
    "print(s)"
   ]
  },
  {
   "cell_type": "markdown",
   "metadata": {},
   "source": [
    "**4**. change the index of `s` to lower-case letters 'a', 'b', ..., 'h'."
   ]
  },
  {
   "cell_type": "code",
   "execution_count": 172,
   "metadata": {},
   "outputs": [
    {
     "name": "stdout",
     "output_type": "stream",
     "text": [
      "a     0\n",
      "b    10\n",
      "c    20\n",
      "d    30\n",
      "e    40\n",
      "f    50\n",
      "g    60\n",
      "h    70\n",
      "dtype: int64\n"
     ]
    }
   ],
   "source": [
    "s.index = ['a', 'b', 'c', 'd', 'e', 'f', 'g', 'h']\n",
    "s.index = list('abcdefgh')\n",
    "print(s)\n"
   ]
  },
  {
   "cell_type": "markdown",
   "metadata": {},
   "source": [
    "**5**. define a function to add 1 to first item in `s`, 2 to second item, 3 to third item, etc."
   ]
  },
  {
   "cell_type": "code",
   "execution_count": 173,
   "metadata": {},
   "outputs": [],
   "source": [
    "ser = s"
   ]
  },
  {
   "cell_type": "code",
   "execution_count": 174,
   "metadata": {},
   "outputs": [
    {
     "data": {
      "text/plain": [
       "a     0\n",
       "b    10\n",
       "c    20\n",
       "d    30\n",
       "e    40\n",
       "f    50\n",
       "g    60\n",
       "h    70\n",
       "dtype: int64"
      ]
     },
     "execution_count": 174,
     "metadata": {},
     "output_type": "execute_result"
    }
   ],
   "source": [
    "ser"
   ]
  },
  {
   "cell_type": "code",
   "execution_count": 177,
   "metadata": {},
   "outputs": [
    {
     "name": "stdout",
     "output_type": "stream",
     "text": [
      "0 0\n",
      "1 10\n",
      "2 20\n",
      "3 30\n",
      "4 40\n",
      "5 50\n",
      "6 60\n",
      "7 70\n"
     ]
    }
   ],
   "source": [
    "for i in range(len(ser)):\n",
    "    print(i, ser[i])"
   ]
  },
  {
   "cell_type": "code",
   "execution_count": 179,
   "metadata": {},
   "outputs": [],
   "source": [
    "ser.index = [5,'b','c','d','e','f','g','h']"
   ]
  },
  {
   "cell_type": "code",
   "execution_count": 180,
   "metadata": {
    "scrolled": true
   },
   "outputs": [
    {
     "data": {
      "text/plain": [
       "5     0\n",
       "b    10\n",
       "c    20\n",
       "d    30\n",
       "e    40\n",
       "f    50\n",
       "g    60\n",
       "h    70\n",
       "dtype: int64"
      ]
     },
     "execution_count": 180,
     "metadata": {},
     "output_type": "execute_result"
    }
   ],
   "source": [
    "ser"
   ]
  },
  {
   "cell_type": "code",
   "execution_count": 183,
   "metadata": {},
   "outputs": [
    {
     "name": "stdout",
     "output_type": "stream",
     "text": [
      "0 0\n",
      "1 10\n",
      "2 20\n",
      "3 30\n",
      "4 40\n",
      "5 50\n",
      "6 60\n",
      "7 70\n"
     ]
    }
   ],
   "source": [
    "for i in range(len(ser)):\n",
    "    print(i, ser[ser.index[i]])\n"
   ]
  },
  {
   "cell_type": "code",
   "execution_count": 184,
   "metadata": {},
   "outputs": [
    {
     "data": {
      "text/plain": [
       "5     0\n",
       "b    10\n",
       "c    20\n",
       "d    30\n",
       "e    40\n",
       "f    50\n",
       "g    60\n",
       "h    70\n",
       "dtype: int64"
      ]
     },
     "execution_count": 184,
     "metadata": {},
     "output_type": "execute_result"
    }
   ],
   "source": [
    "ser"
   ]
  },
  {
   "cell_type": "code",
   "execution_count": 200,
   "metadata": {},
   "outputs": [
    {
     "data": {
      "text/plain": [
       "5      4\n",
       "b     18\n",
       "c     32\n",
       "d     46\n",
       "e     60\n",
       "f     74\n",
       "g     88\n",
       "h    102\n",
       "dtype: int64"
      ]
     },
     "execution_count": 200,
     "metadata": {},
     "output_type": "execute_result"
    }
   ],
   "source": [
    "def add_n(ser):\n",
    "    output = ser.copy()\n",
    "    for i in range(len(output)):\n",
    "        output[output.index[i]] += i+1   # method 1\n",
    "        # ser.iloc[i] += i+1   # method 2\n",
    "        # ser[i] += i+1   # method 3\n",
    "    #return ser\n",
    "    return output\n",
    "\n",
    "add_n(ser)"
   ]
  },
  {
   "cell_type": "code",
   "execution_count": 201,
   "metadata": {},
   "outputs": [
    {
     "data": {
      "text/plain": [
       "5     3\n",
       "b    16\n",
       "c    29\n",
       "d    42\n",
       "e    55\n",
       "f    68\n",
       "g    81\n",
       "h    94\n",
       "dtype: int64"
      ]
     },
     "execution_count": 201,
     "metadata": {},
     "output_type": "execute_result"
    }
   ],
   "source": [
    "ser"
   ]
  },
  {
   "cell_type": "code",
   "execution_count": null,
   "metadata": {},
   "outputs": [],
   "source": []
  },
  {
   "cell_type": "code",
   "execution_count": 189,
   "metadata": {},
   "outputs": [
    {
     "data": {
      "text/plain": [
       "a     1\n",
       "b    12\n",
       "c    23\n",
       "d    34\n",
       "e    45\n",
       "f    56\n",
       "g    67\n",
       "h    78\n",
       "dtype: int64"
      ]
     },
     "execution_count": 189,
     "metadata": {},
     "output_type": "execute_result"
    }
   ],
   "source": [
    "#s + np.arange(1,len(s)+1)   # add an array\n",
    "s + [i for i in range(1,len(s)+1)]  # add a list"
   ]
  },
  {
   "cell_type": "markdown",
   "metadata": {},
   "source": [
    "<a id='Exercise_4_14'></a>\n",
    "\n",
    "### Exercise 4.14"
   ]
  },
  {
   "cell_type": "markdown",
   "metadata": {},
   "source": [
    "1. Given a dictionary containing student names and their marks of three courses, create a DataFrame with their names as index and course names as columns.\n",
    "```python\n",
    "marks = { 'Names': ['James', 'Andrew', 'Bob', 'Carlson'],\n",
    "          'English': [58, 62, 77, 65],\n",
    "          'Chinese': [55, 32, 64, 80],\n",
    "          'Math': [61, 70, 81, 54]}\n",
    "```"
   ]
  },
  {
   "cell_type": "code",
   "execution_count": 190,
   "metadata": {},
   "outputs": [
    {
     "name": "stdout",
     "output_type": "stream",
     "text": [
      "     Names  English  Chinese  Math\n",
      "0    James       58       55    61\n",
      "1   Andrew       62       32    70\n",
      "2      Bob       77       64    81\n",
      "3  Carlson       65       80    54\n",
      "------\n"
     ]
    },
    {
     "data": {
      "text/html": [
       "<div>\n",
       "<style scoped>\n",
       "    .dataframe tbody tr th:only-of-type {\n",
       "        vertical-align: middle;\n",
       "    }\n",
       "\n",
       "    .dataframe tbody tr th {\n",
       "        vertical-align: top;\n",
       "    }\n",
       "\n",
       "    .dataframe thead th {\n",
       "        text-align: right;\n",
       "    }\n",
       "</style>\n",
       "<table border=\"1\" class=\"dataframe\">\n",
       "  <thead>\n",
       "    <tr style=\"text-align: right;\">\n",
       "      <th></th>\n",
       "      <th>English</th>\n",
       "      <th>Chinese</th>\n",
       "      <th>Math</th>\n",
       "    </tr>\n",
       "    <tr>\n",
       "      <th>Names</th>\n",
       "      <th></th>\n",
       "      <th></th>\n",
       "      <th></th>\n",
       "    </tr>\n",
       "  </thead>\n",
       "  <tbody>\n",
       "    <tr>\n",
       "      <th>James</th>\n",
       "      <td>58</td>\n",
       "      <td>55</td>\n",
       "      <td>61</td>\n",
       "    </tr>\n",
       "    <tr>\n",
       "      <th>Andrew</th>\n",
       "      <td>62</td>\n",
       "      <td>32</td>\n",
       "      <td>70</td>\n",
       "    </tr>\n",
       "    <tr>\n",
       "      <th>Bob</th>\n",
       "      <td>77</td>\n",
       "      <td>64</td>\n",
       "      <td>81</td>\n",
       "    </tr>\n",
       "    <tr>\n",
       "      <th>Carlson</th>\n",
       "      <td>65</td>\n",
       "      <td>80</td>\n",
       "      <td>54</td>\n",
       "    </tr>\n",
       "  </tbody>\n",
       "</table>\n",
       "</div>"
      ],
      "text/plain": [
       "         English  Chinese  Math\n",
       "Names                          \n",
       "James         58       55    61\n",
       "Andrew        62       32    70\n",
       "Bob           77       64    81\n",
       "Carlson       65       80    54"
      ]
     },
     "execution_count": 190,
     "metadata": {},
     "output_type": "execute_result"
    }
   ],
   "source": [
    "marks = { \n",
    "    'Names': ['James', 'Andrew', 'Bob', 'Carlson'],\n",
    "    'English': [58, 62, 77, 65],\n",
    "    'Chinese': [55, 32, 64, 80],\n",
    "    'Math': [61, 70, 81, 54]\n",
    "}\n",
    "\n",
    "df = pd.DataFrame(marks)\n",
    "print(df)\n",
    "print(\"------\")\n",
    "df.set_index('Names', inplace=True)\n",
    "df"
   ]
  },
  {
   "cell_type": "markdown",
   "metadata": {},
   "source": [
    "2. Given a dictionary containing students names and their marks of three courses, create a DataFrame with their names as index and course names as columns. Use the same column names as above.\n",
    "```\n",
    "marks = {'James': [58, 55, 61],\n",
    "         'Andrew': [62, 32, 70],\n",
    "         'Bob': [77, 64, 81],\n",
    "         'Carlson': [65, 80, 54]}\n",
    "```"
   ]
  },
  {
   "cell_type": "code",
   "execution_count": 203,
   "metadata": {},
   "outputs": [],
   "source": [
    "marks = {\n",
    "    'James': [58, 55, 61],\n",
    "    'Andrew': [62, 32, 70],\n",
    "    'Bob': [77, 64, 81],\n",
    "    'Carlson': [65, 80, 54]\n",
    "}"
   ]
  },
  {
   "cell_type": "code",
   "execution_count": 204,
   "metadata": {
    "scrolled": false
   },
   "outputs": [
    {
     "data": {
      "text/html": [
       "<div>\n",
       "<style scoped>\n",
       "    .dataframe tbody tr th:only-of-type {\n",
       "        vertical-align: middle;\n",
       "    }\n",
       "\n",
       "    .dataframe tbody tr th {\n",
       "        vertical-align: top;\n",
       "    }\n",
       "\n",
       "    .dataframe thead th {\n",
       "        text-align: right;\n",
       "    }\n",
       "</style>\n",
       "<table border=\"1\" class=\"dataframe\">\n",
       "  <thead>\n",
       "    <tr style=\"text-align: right;\">\n",
       "      <th></th>\n",
       "      <th>James</th>\n",
       "      <th>Andrew</th>\n",
       "      <th>Bob</th>\n",
       "      <th>Carlson</th>\n",
       "    </tr>\n",
       "  </thead>\n",
       "  <tbody>\n",
       "    <tr>\n",
       "      <th>0</th>\n",
       "      <td>58</td>\n",
       "      <td>62</td>\n",
       "      <td>77</td>\n",
       "      <td>65</td>\n",
       "    </tr>\n",
       "    <tr>\n",
       "      <th>1</th>\n",
       "      <td>55</td>\n",
       "      <td>32</td>\n",
       "      <td>64</td>\n",
       "      <td>80</td>\n",
       "    </tr>\n",
       "    <tr>\n",
       "      <th>2</th>\n",
       "      <td>61</td>\n",
       "      <td>70</td>\n",
       "      <td>81</td>\n",
       "      <td>54</td>\n",
       "    </tr>\n",
       "  </tbody>\n",
       "</table>\n",
       "</div>"
      ],
      "text/plain": [
       "   James  Andrew  Bob  Carlson\n",
       "0     58      62   77       65\n",
       "1     55      32   64       80\n",
       "2     61      70   81       54"
      ]
     },
     "execution_count": 204,
     "metadata": {},
     "output_type": "execute_result"
    }
   ],
   "source": [
    "df = pd.DataFrame(marks)\n",
    "df"
   ]
  },
  {
   "cell_type": "code",
   "execution_count": 205,
   "metadata": {
    "collapsed": true
   },
   "outputs": [
    {
     "ename": "ValueError",
     "evalue": "Length mismatch: Expected axis has 3 elements, new values have 4 elements",
     "output_type": "error",
     "traceback": [
      "\u001b[1;31m---------------------------------------------------------------------------\u001b[0m",
      "\u001b[1;31mValueError\u001b[0m                                Traceback (most recent call last)",
      "\u001b[1;32m<ipython-input-205-0882cddc50ce>\u001b[0m in \u001b[0;36m<module>\u001b[1;34m()\u001b[0m\n\u001b[1;32m----> 1\u001b[1;33m \u001b[0mdf\u001b[0m\u001b[1;33m.\u001b[0m\u001b[0mindex\u001b[0m \u001b[1;33m=\u001b[0m \u001b[1;33m[\u001b[0m\u001b[1;34m'James'\u001b[0m\u001b[1;33m,\u001b[0m \u001b[1;34m'Andrew'\u001b[0m\u001b[1;33m,\u001b[0m \u001b[1;34m'Bob'\u001b[0m\u001b[1;33m,\u001b[0m \u001b[1;34m'Carlson'\u001b[0m\u001b[1;33m]\u001b[0m\u001b[1;33m\u001b[0m\u001b[0m\n\u001b[0m",
      "\u001b[1;32m~\\Anaconda\\lib\\site-packages\\pandas\\core\\generic.py\u001b[0m in \u001b[0;36m__setattr__\u001b[1;34m(self, name, value)\u001b[0m\n\u001b[0;32m   5152\u001b[0m         \u001b[1;32mtry\u001b[0m\u001b[1;33m:\u001b[0m\u001b[1;33m\u001b[0m\u001b[0m\n\u001b[0;32m   5153\u001b[0m             \u001b[0mobject\u001b[0m\u001b[1;33m.\u001b[0m\u001b[0m__getattribute__\u001b[0m\u001b[1;33m(\u001b[0m\u001b[0mself\u001b[0m\u001b[1;33m,\u001b[0m \u001b[0mname\u001b[0m\u001b[1;33m)\u001b[0m\u001b[1;33m\u001b[0m\u001b[0m\n\u001b[1;32m-> 5154\u001b[1;33m             \u001b[1;32mreturn\u001b[0m \u001b[0mobject\u001b[0m\u001b[1;33m.\u001b[0m\u001b[0m__setattr__\u001b[0m\u001b[1;33m(\u001b[0m\u001b[0mself\u001b[0m\u001b[1;33m,\u001b[0m \u001b[0mname\u001b[0m\u001b[1;33m,\u001b[0m \u001b[0mvalue\u001b[0m\u001b[1;33m)\u001b[0m\u001b[1;33m\u001b[0m\u001b[0m\n\u001b[0m\u001b[0;32m   5155\u001b[0m         \u001b[1;32mexcept\u001b[0m \u001b[0mAttributeError\u001b[0m\u001b[1;33m:\u001b[0m\u001b[1;33m\u001b[0m\u001b[0m\n\u001b[0;32m   5156\u001b[0m             \u001b[1;32mpass\u001b[0m\u001b[1;33m\u001b[0m\u001b[0m\n",
      "\u001b[1;32mpandas\\_libs\\properties.pyx\u001b[0m in \u001b[0;36mpandas._libs.properties.AxisProperty.__set__\u001b[1;34m()\u001b[0m\n",
      "\u001b[1;32m~\\Anaconda\\lib\\site-packages\\pandas\\core\\generic.py\u001b[0m in \u001b[0;36m_set_axis\u001b[1;34m(self, axis, labels)\u001b[0m\n\u001b[0;32m    562\u001b[0m     \u001b[1;32mdef\u001b[0m \u001b[0m_set_axis\u001b[0m\u001b[1;33m(\u001b[0m\u001b[0mself\u001b[0m\u001b[1;33m,\u001b[0m \u001b[0maxis\u001b[0m\u001b[1;33m:\u001b[0m \u001b[0mint\u001b[0m\u001b[1;33m,\u001b[0m \u001b[0mlabels\u001b[0m\u001b[1;33m:\u001b[0m \u001b[0mIndex\u001b[0m\u001b[1;33m)\u001b[0m \u001b[1;33m->\u001b[0m \u001b[1;32mNone\u001b[0m\u001b[1;33m:\u001b[0m\u001b[1;33m\u001b[0m\u001b[0m\n\u001b[0;32m    563\u001b[0m         \u001b[0mlabels\u001b[0m \u001b[1;33m=\u001b[0m \u001b[0mensure_index\u001b[0m\u001b[1;33m(\u001b[0m\u001b[0mlabels\u001b[0m\u001b[1;33m)\u001b[0m\u001b[1;33m\u001b[0m\u001b[0m\n\u001b[1;32m--> 564\u001b[1;33m         \u001b[0mself\u001b[0m\u001b[1;33m.\u001b[0m\u001b[0m_mgr\u001b[0m\u001b[1;33m.\u001b[0m\u001b[0mset_axis\u001b[0m\u001b[1;33m(\u001b[0m\u001b[0maxis\u001b[0m\u001b[1;33m,\u001b[0m \u001b[0mlabels\u001b[0m\u001b[1;33m)\u001b[0m\u001b[1;33m\u001b[0m\u001b[0m\n\u001b[0m\u001b[0;32m    565\u001b[0m         \u001b[0mself\u001b[0m\u001b[1;33m.\u001b[0m\u001b[0m_clear_item_cache\u001b[0m\u001b[1;33m(\u001b[0m\u001b[1;33m)\u001b[0m\u001b[1;33m\u001b[0m\u001b[0m\n\u001b[0;32m    566\u001b[0m \u001b[1;33m\u001b[0m\u001b[0m\n",
      "\u001b[1;32m~\\Anaconda\\lib\\site-packages\\pandas\\core\\internals\\managers.py\u001b[0m in \u001b[0;36mset_axis\u001b[1;34m(self, axis, new_labels)\u001b[0m\n\u001b[0;32m    225\u001b[0m         \u001b[1;32mif\u001b[0m \u001b[0mnew_len\u001b[0m \u001b[1;33m!=\u001b[0m \u001b[0mold_len\u001b[0m\u001b[1;33m:\u001b[0m\u001b[1;33m\u001b[0m\u001b[0m\n\u001b[0;32m    226\u001b[0m             raise ValueError(\n\u001b[1;32m--> 227\u001b[1;33m                 \u001b[1;34mf\"Length mismatch: Expected axis has {old_len} elements, new \"\u001b[0m\u001b[1;33m\u001b[0m\u001b[0m\n\u001b[0m\u001b[0;32m    228\u001b[0m                 \u001b[1;34mf\"values have {new_len} elements\"\u001b[0m\u001b[1;33m\u001b[0m\u001b[0m\n\u001b[0;32m    229\u001b[0m             )\n",
      "\u001b[1;31mValueError\u001b[0m: Length mismatch: Expected axis has 3 elements, new values have 4 elements"
     ]
    }
   ],
   "source": [
    "#df.index = ['James', 'Andrew', 'Bob', 'Carlson']"
   ]
  },
  {
   "cell_type": "code",
   "execution_count": 209,
   "metadata": {},
   "outputs": [
    {
     "data": {
      "text/html": [
       "<div>\n",
       "<style scoped>\n",
       "    .dataframe tbody tr th:only-of-type {\n",
       "        vertical-align: middle;\n",
       "    }\n",
       "\n",
       "    .dataframe tbody tr th {\n",
       "        vertical-align: top;\n",
       "    }\n",
       "\n",
       "    .dataframe thead th {\n",
       "        text-align: right;\n",
       "    }\n",
       "</style>\n",
       "<table border=\"1\" class=\"dataframe\">\n",
       "  <thead>\n",
       "    <tr style=\"text-align: right;\">\n",
       "      <th></th>\n",
       "      <th>James</th>\n",
       "      <th>Andrew</th>\n",
       "      <th>Bob</th>\n",
       "      <th>Carlson</th>\n",
       "    </tr>\n",
       "  </thead>\n",
       "  <tbody>\n",
       "    <tr>\n",
       "      <th>0</th>\n",
       "      <td>58</td>\n",
       "      <td>62</td>\n",
       "      <td>77</td>\n",
       "      <td>65</td>\n",
       "    </tr>\n",
       "    <tr>\n",
       "      <th>1</th>\n",
       "      <td>55</td>\n",
       "      <td>32</td>\n",
       "      <td>64</td>\n",
       "      <td>80</td>\n",
       "    </tr>\n",
       "    <tr>\n",
       "      <th>2</th>\n",
       "      <td>61</td>\n",
       "      <td>70</td>\n",
       "      <td>81</td>\n",
       "      <td>54</td>\n",
       "    </tr>\n",
       "  </tbody>\n",
       "</table>\n",
       "</div>"
      ],
      "text/plain": [
       "   James  Andrew  Bob  Carlson\n",
       "0     58      62   77       65\n",
       "1     55      32   64       80\n",
       "2     61      70   81       54"
      ]
     },
     "execution_count": 209,
     "metadata": {},
     "output_type": "execute_result"
    }
   ],
   "source": [
    "pd.DataFrame(marks)"
   ]
  },
  {
   "cell_type": "code",
   "execution_count": 207,
   "metadata": {},
   "outputs": [],
   "source": [
    "df = pd.DataFrame(marks,\n",
    "                  index=['James', 'Andrew', 'Bob', 'Carlson'],\n",
    "                  columns=['English', 'Chinese', 'Math'])"
   ]
  },
  {
   "cell_type": "code",
   "execution_count": 208,
   "metadata": {},
   "outputs": [
    {
     "data": {
      "text/html": [
       "<div>\n",
       "<style scoped>\n",
       "    .dataframe tbody tr th:only-of-type {\n",
       "        vertical-align: middle;\n",
       "    }\n",
       "\n",
       "    .dataframe tbody tr th {\n",
       "        vertical-align: top;\n",
       "    }\n",
       "\n",
       "    .dataframe thead th {\n",
       "        text-align: right;\n",
       "    }\n",
       "</style>\n",
       "<table border=\"1\" class=\"dataframe\">\n",
       "  <thead>\n",
       "    <tr style=\"text-align: right;\">\n",
       "      <th></th>\n",
       "      <th>English</th>\n",
       "      <th>Chinese</th>\n",
       "      <th>Math</th>\n",
       "    </tr>\n",
       "  </thead>\n",
       "  <tbody>\n",
       "    <tr>\n",
       "      <th>James</th>\n",
       "      <td>NaN</td>\n",
       "      <td>NaN</td>\n",
       "      <td>NaN</td>\n",
       "    </tr>\n",
       "    <tr>\n",
       "      <th>Andrew</th>\n",
       "      <td>NaN</td>\n",
       "      <td>NaN</td>\n",
       "      <td>NaN</td>\n",
       "    </tr>\n",
       "    <tr>\n",
       "      <th>Bob</th>\n",
       "      <td>NaN</td>\n",
       "      <td>NaN</td>\n",
       "      <td>NaN</td>\n",
       "    </tr>\n",
       "    <tr>\n",
       "      <th>Carlson</th>\n",
       "      <td>NaN</td>\n",
       "      <td>NaN</td>\n",
       "      <td>NaN</td>\n",
       "    </tr>\n",
       "  </tbody>\n",
       "</table>\n",
       "</div>"
      ],
      "text/plain": [
       "        English Chinese Math\n",
       "James       NaN     NaN  NaN\n",
       "Andrew      NaN     NaN  NaN\n",
       "Bob         NaN     NaN  NaN\n",
       "Carlson     NaN     NaN  NaN"
      ]
     },
     "execution_count": 208,
     "metadata": {},
     "output_type": "execute_result"
    }
   ],
   "source": [
    "df"
   ]
  },
  {
   "cell_type": "code",
   "execution_count": 213,
   "metadata": {},
   "outputs": [
    {
     "data": {
      "text/plain": [
       "array([[58, 55, 61],\n",
       "       [62, 32, 70],\n",
       "       [77, 64, 81],\n",
       "       [65, 80, 54]])"
      ]
     },
     "execution_count": 213,
     "metadata": {},
     "output_type": "execute_result"
    }
   ],
   "source": [
    "np.array(list(marks.values()))"
   ]
  },
  {
   "cell_type": "code",
   "execution_count": 214,
   "metadata": {},
   "outputs": [
    {
     "data": {
      "text/html": [
       "<div>\n",
       "<style scoped>\n",
       "    .dataframe tbody tr th:only-of-type {\n",
       "        vertical-align: middle;\n",
       "    }\n",
       "\n",
       "    .dataframe tbody tr th {\n",
       "        vertical-align: top;\n",
       "    }\n",
       "\n",
       "    .dataframe thead th {\n",
       "        text-align: right;\n",
       "    }\n",
       "</style>\n",
       "<table border=\"1\" class=\"dataframe\">\n",
       "  <thead>\n",
       "    <tr style=\"text-align: right;\">\n",
       "      <th></th>\n",
       "      <th>0</th>\n",
       "      <th>1</th>\n",
       "      <th>2</th>\n",
       "    </tr>\n",
       "  </thead>\n",
       "  <tbody>\n",
       "    <tr>\n",
       "      <th>0</th>\n",
       "      <td>58</td>\n",
       "      <td>55</td>\n",
       "      <td>61</td>\n",
       "    </tr>\n",
       "    <tr>\n",
       "      <th>1</th>\n",
       "      <td>62</td>\n",
       "      <td>32</td>\n",
       "      <td>70</td>\n",
       "    </tr>\n",
       "    <tr>\n",
       "      <th>2</th>\n",
       "      <td>77</td>\n",
       "      <td>64</td>\n",
       "      <td>81</td>\n",
       "    </tr>\n",
       "    <tr>\n",
       "      <th>3</th>\n",
       "      <td>65</td>\n",
       "      <td>80</td>\n",
       "      <td>54</td>\n",
       "    </tr>\n",
       "  </tbody>\n",
       "</table>\n",
       "</div>"
      ],
      "text/plain": [
       "    0   1   2\n",
       "0  58  55  61\n",
       "1  62  32  70\n",
       "2  77  64  81\n",
       "3  65  80  54"
      ]
     },
     "execution_count": 214,
     "metadata": {},
     "output_type": "execute_result"
    }
   ],
   "source": [
    "pd.DataFrame(np.array(list(marks.values())))"
   ]
  },
  {
   "cell_type": "code",
   "execution_count": 210,
   "metadata": {
    "scrolled": true
   },
   "outputs": [
    {
     "data": {
      "text/html": [
       "<div>\n",
       "<style scoped>\n",
       "    .dataframe tbody tr th:only-of-type {\n",
       "        vertical-align: middle;\n",
       "    }\n",
       "\n",
       "    .dataframe tbody tr th {\n",
       "        vertical-align: top;\n",
       "    }\n",
       "\n",
       "    .dataframe thead th {\n",
       "        text-align: right;\n",
       "    }\n",
       "</style>\n",
       "<table border=\"1\" class=\"dataframe\">\n",
       "  <thead>\n",
       "    <tr style=\"text-align: right;\">\n",
       "      <th></th>\n",
       "      <th>English</th>\n",
       "      <th>Chinese</th>\n",
       "      <th>Math</th>\n",
       "    </tr>\n",
       "  </thead>\n",
       "  <tbody>\n",
       "    <tr>\n",
       "      <th>James</th>\n",
       "      <td>58</td>\n",
       "      <td>55</td>\n",
       "      <td>61</td>\n",
       "    </tr>\n",
       "    <tr>\n",
       "      <th>Andrew</th>\n",
       "      <td>62</td>\n",
       "      <td>32</td>\n",
       "      <td>70</td>\n",
       "    </tr>\n",
       "    <tr>\n",
       "      <th>Bob</th>\n",
       "      <td>77</td>\n",
       "      <td>64</td>\n",
       "      <td>81</td>\n",
       "    </tr>\n",
       "    <tr>\n",
       "      <th>Carlson</th>\n",
       "      <td>65</td>\n",
       "      <td>80</td>\n",
       "      <td>54</td>\n",
       "    </tr>\n",
       "  </tbody>\n",
       "</table>\n",
       "</div>"
      ],
      "text/plain": [
       "         English  Chinese  Math\n",
       "James         58       55    61\n",
       "Andrew        62       32    70\n",
       "Bob           77       64    81\n",
       "Carlson       65       80    54"
      ]
     },
     "execution_count": 210,
     "metadata": {},
     "output_type": "execute_result"
    }
   ],
   "source": [
    "marks = {\n",
    "    'James': [58, 55, 61],\n",
    "    'Andrew': [62, 32, 70],\n",
    "    'Bob': [77, 64, 81],\n",
    "    'Carlson': [65, 80, 54]\n",
    "}\n",
    "\n",
    "df = pd.DataFrame(marks.values(),\n",
    "                  index=marks.keys(),\n",
    "                  columns=['English', 'Chinese', 'Math'])\n",
    "df"
   ]
  },
  {
   "cell_type": "code",
   "execution_count": 217,
   "metadata": {
    "scrolled": true
   },
   "outputs": [
    {
     "data": {
      "text/html": [
       "<div>\n",
       "<style scoped>\n",
       "    .dataframe tbody tr th:only-of-type {\n",
       "        vertical-align: middle;\n",
       "    }\n",
       "\n",
       "    .dataframe tbody tr th {\n",
       "        vertical-align: top;\n",
       "    }\n",
       "\n",
       "    .dataframe thead th {\n",
       "        text-align: right;\n",
       "    }\n",
       "</style>\n",
       "<table border=\"1\" class=\"dataframe\">\n",
       "  <thead>\n",
       "    <tr style=\"text-align: right;\">\n",
       "      <th></th>\n",
       "      <th>English</th>\n",
       "      <th>Chinese</th>\n",
       "      <th>Math</th>\n",
       "    </tr>\n",
       "  </thead>\n",
       "  <tbody>\n",
       "    <tr>\n",
       "      <th>James</th>\n",
       "      <td>58</td>\n",
       "      <td>55</td>\n",
       "      <td>61</td>\n",
       "    </tr>\n",
       "    <tr>\n",
       "      <th>Andrew</th>\n",
       "      <td>62</td>\n",
       "      <td>32</td>\n",
       "      <td>70</td>\n",
       "    </tr>\n",
       "    <tr>\n",
       "      <th>Bob</th>\n",
       "      <td>77</td>\n",
       "      <td>64</td>\n",
       "      <td>81</td>\n",
       "    </tr>\n",
       "    <tr>\n",
       "      <th>Carlson</th>\n",
       "      <td>65</td>\n",
       "      <td>80</td>\n",
       "      <td>54</td>\n",
       "    </tr>\n",
       "  </tbody>\n",
       "</table>\n",
       "</div>"
      ],
      "text/plain": [
       "         English  Chinese  Math\n",
       "James         58       55    61\n",
       "Andrew        62       32    70\n",
       "Bob           77       64    81\n",
       "Carlson       65       80    54"
      ]
     },
     "execution_count": 217,
     "metadata": {},
     "output_type": "execute_result"
    }
   ],
   "source": [
    "pd.DataFrame(marks, index=['English','Chinese','Math']).T"
   ]
  },
  {
   "cell_type": "code",
   "execution_count": 218,
   "metadata": {},
   "outputs": [],
   "source": [
    "df2 = pd.DataFrame(marks, index=['English','Chinese','Math']).T"
   ]
  },
  {
   "cell_type": "code",
   "execution_count": 219,
   "metadata": {
    "scrolled": true
   },
   "outputs": [
    {
     "data": {
      "text/plain": [
       "James      58\n",
       "Andrew     62\n",
       "Bob        77\n",
       "Carlson    65\n",
       "Name: English, dtype: int64"
      ]
     },
     "execution_count": 219,
     "metadata": {},
     "output_type": "execute_result"
    }
   ],
   "source": [
    "df2['English']"
   ]
  },
  {
   "cell_type": "code",
   "execution_count": 221,
   "metadata": {
    "scrolled": true
   },
   "outputs": [
    {
     "name": "stdout",
     "output_type": "stream",
     "text": [
      "0 58\n",
      "1 62\n",
      "2 77\n",
      "3 65\n"
     ]
    }
   ],
   "source": [
    "for i in range(len(df2['English'])):\n",
    "    print(i, df2['English'][i])"
   ]
  },
  {
   "cell_type": "code",
   "execution_count": 222,
   "metadata": {},
   "outputs": [
    {
     "data": {
      "text/plain": [
       "77"
      ]
     },
     "execution_count": 222,
     "metadata": {},
     "output_type": "execute_result"
    }
   ],
   "source": [
    "df2['English']['Bob']"
   ]
  },
  {
   "cell_type": "code",
   "execution_count": 223,
   "metadata": {},
   "outputs": [
    {
     "data": {
      "text/plain": [
       "77"
      ]
     },
     "execution_count": 223,
     "metadata": {},
     "output_type": "execute_result"
    }
   ],
   "source": [
    "df2['English'][2]"
   ]
  },
  {
   "cell_type": "code",
   "execution_count": 198,
   "metadata": {},
   "outputs": [
    {
     "name": "stdout",
     "output_type": "stream",
     "text": [
      "[58, 55, 61]\n",
      "[62, 32, 70]\n",
      "[77, 64, 81]\n",
      "[65, 80, 54]\n"
     ]
    }
   ],
   "source": [
    "for x in marks.values():\n",
    "    print(x)"
   ]
  },
  {
   "cell_type": "code",
   "execution_count": 196,
   "metadata": {},
   "outputs": [
    {
     "data": {
      "text/html": [
       "<div>\n",
       "<style scoped>\n",
       "    .dataframe tbody tr th:only-of-type {\n",
       "        vertical-align: middle;\n",
       "    }\n",
       "\n",
       "    .dataframe tbody tr th {\n",
       "        vertical-align: top;\n",
       "    }\n",
       "\n",
       "    .dataframe thead th {\n",
       "        text-align: right;\n",
       "    }\n",
       "</style>\n",
       "<table border=\"1\" class=\"dataframe\">\n",
       "  <thead>\n",
       "    <tr style=\"text-align: right;\">\n",
       "      <th></th>\n",
       "      <th>a</th>\n",
       "      <th>b</th>\n",
       "      <th>c</th>\n",
       "      <th>d</th>\n",
       "    </tr>\n",
       "  </thead>\n",
       "  <tbody>\n",
       "    <tr>\n",
       "      <th>0</th>\n",
       "      <td>58</td>\n",
       "      <td>62</td>\n",
       "      <td>77</td>\n",
       "      <td>65</td>\n",
       "    </tr>\n",
       "    <tr>\n",
       "      <th>1</th>\n",
       "      <td>55</td>\n",
       "      <td>32</td>\n",
       "      <td>64</td>\n",
       "      <td>80</td>\n",
       "    </tr>\n",
       "    <tr>\n",
       "      <th>2</th>\n",
       "      <td>61</td>\n",
       "      <td>70</td>\n",
       "      <td>81</td>\n",
       "      <td>54</td>\n",
       "    </tr>\n",
       "  </tbody>\n",
       "</table>\n",
       "</div>"
      ],
      "text/plain": [
       "    a   b   c   d\n",
       "0  58  62  77  65\n",
       "1  55  32  64  80\n",
       "2  61  70  81  54"
      ]
     },
     "execution_count": 196,
     "metadata": {},
     "output_type": "execute_result"
    }
   ],
   "source": [
    "marks = {\n",
    "    'James': [58, 55, 61],\n",
    "    'Andrew': [62, 32, 70],\n",
    "    'Bob': [77, 64, 81],\n",
    "    'Carlson': [65, 80, 54]\n",
    "}\n",
    "\n",
    "#df = pd.DataFrame(marks, columns=['a','b','c','d'])\n",
    "df = pd.DataFrame(marks)\n",
    "df.columns = ['a','b','c','d']\n",
    "df"
   ]
  },
  {
   "cell_type": "code",
   "execution_count": 76,
   "metadata": {},
   "outputs": [
    {
     "data": {
      "text/plain": [
       "Index(['James', 'Andrew', 'Bob', 'Carlson'], dtype='object')"
      ]
     },
     "execution_count": 76,
     "metadata": {},
     "output_type": "execute_result"
    }
   ],
   "source": [
    "df.index"
   ]
  },
  {
   "cell_type": "markdown",
   "metadata": {},
   "source": [
    "## [Sample solution] Tutorial 4"
   ]
  },
  {
   "cell_type": "markdown",
   "metadata": {},
   "source": [
    "*Disclaimer: The purpose of this exercise is to see how we can use Python to perform data analysis on something which might be applicable to our daily lives. I am sure investment data would be more engaging and relatable as compared to something like Titanic. The 'conclusions' drawn here are entirely for pedagogical purposes pertaining to Python programming. Please do not rely on this information to make any investments or transactions.*"
   ]
  },
  {
   "cell_type": "code",
   "execution_count": 227,
   "metadata": {
    "scrolled": true
   },
   "outputs": [],
   "source": [
    "# !pip install yfinance"
   ]
  },
  {
   "cell_type": "code",
   "execution_count": 228,
   "metadata": {},
   "outputs": [],
   "source": [
    "import yfinance as yf\n",
    "import numpy as np\n",
    "import pandas as pd\n",
    "import matplotlib.pyplot as plt\n",
    "\n",
    "np.warnings.filterwarnings('ignore', category=np.VisibleDeprecationWarning)\n",
    "pd.set_option('precision', 3)"
   ]
  },
  {
   "cell_type": "code",
   "execution_count": 229,
   "metadata": {},
   "outputs": [
    {
     "name": "stdout",
     "output_type": "stream",
     "text": [
      "[*********************100%***********************]  1 of 1 completed\n"
     ]
    }
   ],
   "source": [
    "## Download the data for SPDR S&P 500 ETF Trust (SPY)\n",
    "\n",
    "spy_df = yf.download('SPY', start='1993-01-29', end='2023-02-07')   ## the earliest entry is 29 Jan 1993"
   ]
  },
  {
   "cell_type": "code",
   "execution_count": 231,
   "metadata": {},
   "outputs": [
    {
     "data": {
      "text/html": [
       "<div>\n",
       "<style scoped>\n",
       "    .dataframe tbody tr th:only-of-type {\n",
       "        vertical-align: middle;\n",
       "    }\n",
       "\n",
       "    .dataframe tbody tr th {\n",
       "        vertical-align: top;\n",
       "    }\n",
       "\n",
       "    .dataframe thead th {\n",
       "        text-align: right;\n",
       "    }\n",
       "</style>\n",
       "<table border=\"1\" class=\"dataframe\">\n",
       "  <thead>\n",
       "    <tr style=\"text-align: right;\">\n",
       "      <th></th>\n",
       "      <th>Open</th>\n",
       "      <th>High</th>\n",
       "      <th>Low</th>\n",
       "      <th>Close</th>\n",
       "      <th>Adj Close</th>\n",
       "      <th>Volume</th>\n",
       "    </tr>\n",
       "    <tr>\n",
       "      <th>Date</th>\n",
       "      <th></th>\n",
       "      <th></th>\n",
       "      <th></th>\n",
       "      <th></th>\n",
       "      <th></th>\n",
       "      <th></th>\n",
       "    </tr>\n",
       "  </thead>\n",
       "  <tbody>\n",
       "    <tr>\n",
       "      <th>2023-01-31</th>\n",
       "      <td>401.13</td>\n",
       "      <td>406.53</td>\n",
       "      <td>400.77</td>\n",
       "      <td>406.48</td>\n",
       "      <td>406.48</td>\n",
       "      <td>86811800</td>\n",
       "    </tr>\n",
       "    <tr>\n",
       "      <th>2023-02-01</th>\n",
       "      <td>405.21</td>\n",
       "      <td>413.67</td>\n",
       "      <td>402.35</td>\n",
       "      <td>410.80</td>\n",
       "      <td>410.80</td>\n",
       "      <td>101459200</td>\n",
       "    </tr>\n",
       "    <tr>\n",
       "      <th>2023-02-02</th>\n",
       "      <td>414.86</td>\n",
       "      <td>418.31</td>\n",
       "      <td>412.88</td>\n",
       "      <td>416.78</td>\n",
       "      <td>416.78</td>\n",
       "      <td>101654500</td>\n",
       "    </tr>\n",
       "    <tr>\n",
       "      <th>2023-02-03</th>\n",
       "      <td>411.59</td>\n",
       "      <td>416.97</td>\n",
       "      <td>411.09</td>\n",
       "      <td>412.35</td>\n",
       "      <td>412.35</td>\n",
       "      <td>94736800</td>\n",
       "    </tr>\n",
       "    <tr>\n",
       "      <th>2023-02-06</th>\n",
       "      <td>409.79</td>\n",
       "      <td>411.29</td>\n",
       "      <td>408.10</td>\n",
       "      <td>409.83</td>\n",
       "      <td>409.83</td>\n",
       "      <td>60295300</td>\n",
       "    </tr>\n",
       "  </tbody>\n",
       "</table>\n",
       "</div>"
      ],
      "text/plain": [
       "              Open    High     Low   Close  Adj Close     Volume\n",
       "Date                                                            \n",
       "2023-01-31  401.13  406.53  400.77  406.48     406.48   86811800\n",
       "2023-02-01  405.21  413.67  402.35  410.80     410.80  101459200\n",
       "2023-02-02  414.86  418.31  412.88  416.78     416.78  101654500\n",
       "2023-02-03  411.59  416.97  411.09  412.35     412.35   94736800\n",
       "2023-02-06  409.79  411.29  408.10  409.83     409.83   60295300"
      ]
     },
     "execution_count": 231,
     "metadata": {},
     "output_type": "execute_result"
    }
   ],
   "source": [
    "# Look at the top rows and bottom rows\n",
    "\n",
    "spy_df.tail()"
   ]
  },
  {
   "cell_type": "code",
   "execution_count": 5,
   "metadata": {},
   "outputs": [
    {
     "data": {
      "text/html": [
       "<div>\n",
       "<style scoped>\n",
       "    .dataframe tbody tr th:only-of-type {\n",
       "        vertical-align: middle;\n",
       "    }\n",
       "\n",
       "    .dataframe tbody tr th {\n",
       "        vertical-align: top;\n",
       "    }\n",
       "\n",
       "    .dataframe thead th {\n",
       "        text-align: right;\n",
       "    }\n",
       "</style>\n",
       "<table border=\"1\" class=\"dataframe\">\n",
       "  <thead>\n",
       "    <tr style=\"text-align: right;\">\n",
       "      <th></th>\n",
       "      <th>Open</th>\n",
       "      <th>High</th>\n",
       "      <th>Low</th>\n",
       "      <th>Close</th>\n",
       "      <th>Adj Close</th>\n",
       "      <th>Volume</th>\n",
       "    </tr>\n",
       "    <tr>\n",
       "      <th>Date</th>\n",
       "      <th></th>\n",
       "      <th></th>\n",
       "      <th></th>\n",
       "      <th></th>\n",
       "      <th></th>\n",
       "      <th></th>\n",
       "    </tr>\n",
       "  </thead>\n",
       "  <tbody>\n",
       "    <tr>\n",
       "      <th>2023-01-31</th>\n",
       "      <td>401.13</td>\n",
       "      <td>406.53</td>\n",
       "      <td>400.77</td>\n",
       "      <td>406.48</td>\n",
       "      <td>406.48</td>\n",
       "      <td>86811800</td>\n",
       "    </tr>\n",
       "    <tr>\n",
       "      <th>2023-02-01</th>\n",
       "      <td>405.21</td>\n",
       "      <td>413.67</td>\n",
       "      <td>402.35</td>\n",
       "      <td>410.80</td>\n",
       "      <td>410.80</td>\n",
       "      <td>101459200</td>\n",
       "    </tr>\n",
       "    <tr>\n",
       "      <th>2023-02-02</th>\n",
       "      <td>414.86</td>\n",
       "      <td>418.31</td>\n",
       "      <td>412.88</td>\n",
       "      <td>416.78</td>\n",
       "      <td>416.78</td>\n",
       "      <td>101654500</td>\n",
       "    </tr>\n",
       "    <tr>\n",
       "      <th>2023-02-03</th>\n",
       "      <td>411.59</td>\n",
       "      <td>416.97</td>\n",
       "      <td>411.09</td>\n",
       "      <td>412.35</td>\n",
       "      <td>412.35</td>\n",
       "      <td>94647400</td>\n",
       "    </tr>\n",
       "    <tr>\n",
       "      <th>2023-02-06</th>\n",
       "      <td>409.79</td>\n",
       "      <td>411.29</td>\n",
       "      <td>408.10</td>\n",
       "      <td>409.83</td>\n",
       "      <td>409.83</td>\n",
       "      <td>60295300</td>\n",
       "    </tr>\n",
       "  </tbody>\n",
       "</table>\n",
       "</div>"
      ],
      "text/plain": [
       "              Open    High     Low   Close  Adj Close     Volume\n",
       "Date                                                            \n",
       "2023-01-31  401.13  406.53  400.77  406.48     406.48   86811800\n",
       "2023-02-01  405.21  413.67  402.35  410.80     410.80  101459200\n",
       "2023-02-02  414.86  418.31  412.88  416.78     416.78  101654500\n",
       "2023-02-03  411.59  416.97  411.09  412.35     412.35   94647400\n",
       "2023-02-06  409.79  411.29  408.10  409.83     409.83   60295300"
      ]
     },
     "execution_count": 5,
     "metadata": {},
     "output_type": "execute_result"
    }
   ],
   "source": [
    "spy_df.tail()"
   ]
  },
  {
   "cell_type": "code",
   "execution_count": 232,
   "metadata": {},
   "outputs": [
    {
     "name": "stdout",
     "output_type": "stream",
     "text": [
      "<class 'pandas.core.frame.DataFrame'>\n",
      "DatetimeIndex: 7560 entries, 1993-01-29 to 2023-02-06\n",
      "Data columns (total 6 columns):\n",
      " #   Column     Non-Null Count  Dtype  \n",
      "---  ------     --------------  -----  \n",
      " 0   Open       7560 non-null   float64\n",
      " 1   High       7560 non-null   float64\n",
      " 2   Low        7560 non-null   float64\n",
      " 3   Close      7560 non-null   float64\n",
      " 4   Adj Close  7560 non-null   float64\n",
      " 5   Volume     7560 non-null   int64  \n",
      "dtypes: float64(5), int64(1)\n",
      "memory usage: 413.4 KB\n"
     ]
    }
   ],
   "source": [
    "## Understand the number of entires in each column and their respective datatype\n",
    "spy_df.info()"
   ]
  },
  {
   "cell_type": "code",
   "execution_count": 7,
   "metadata": {},
   "outputs": [
    {
     "data": {
      "text/html": [
       "<div>\n",
       "<style scoped>\n",
       "    .dataframe tbody tr th:only-of-type {\n",
       "        vertical-align: middle;\n",
       "    }\n",
       "\n",
       "    .dataframe tbody tr th {\n",
       "        vertical-align: top;\n",
       "    }\n",
       "\n",
       "    .dataframe thead th {\n",
       "        text-align: right;\n",
       "    }\n",
       "</style>\n",
       "<table border=\"1\" class=\"dataframe\">\n",
       "  <thead>\n",
       "    <tr style=\"text-align: right;\">\n",
       "      <th></th>\n",
       "      <th>Open</th>\n",
       "      <th>High</th>\n",
       "      <th>Low</th>\n",
       "      <th>Close</th>\n",
       "      <th>Adj Close</th>\n",
       "      <th>Volume</th>\n",
       "    </tr>\n",
       "  </thead>\n",
       "  <tbody>\n",
       "    <tr>\n",
       "      <th>count</th>\n",
       "      <td>7560.000</td>\n",
       "      <td>7560.000</td>\n",
       "      <td>7560.000</td>\n",
       "      <td>7560.000</td>\n",
       "      <td>7560.000</td>\n",
       "      <td>7.560e+03</td>\n",
       "    </tr>\n",
       "    <tr>\n",
       "      <th>mean</th>\n",
       "      <td>162.681</td>\n",
       "      <td>163.669</td>\n",
       "      <td>161.587</td>\n",
       "      <td>162.684</td>\n",
       "      <td>135.569</td>\n",
       "      <td>8.455e+07</td>\n",
       "    </tr>\n",
       "    <tr>\n",
       "      <th>std</th>\n",
       "      <td>98.074</td>\n",
       "      <td>98.624</td>\n",
       "      <td>97.474</td>\n",
       "      <td>98.090</td>\n",
       "      <td>104.041</td>\n",
       "      <td>9.362e+07</td>\n",
       "    </tr>\n",
       "    <tr>\n",
       "      <th>min</th>\n",
       "      <td>43.344</td>\n",
       "      <td>43.531</td>\n",
       "      <td>42.812</td>\n",
       "      <td>43.406</td>\n",
       "      <td>24.913</td>\n",
       "      <td>5.200e+03</td>\n",
       "    </tr>\n",
       "    <tr>\n",
       "      <th>25%</th>\n",
       "      <td>103.740</td>\n",
       "      <td>104.490</td>\n",
       "      <td>102.939</td>\n",
       "      <td>103.747</td>\n",
       "      <td>70.947</td>\n",
       "      <td>9.192e+06</td>\n",
       "    </tr>\n",
       "    <tr>\n",
       "      <th>50%</th>\n",
       "      <td>130.684</td>\n",
       "      <td>131.429</td>\n",
       "      <td>129.635</td>\n",
       "      <td>130.622</td>\n",
       "      <td>93.738</td>\n",
       "      <td>6.177e+07</td>\n",
       "    </tr>\n",
       "    <tr>\n",
       "      <th>75%</th>\n",
       "      <td>205.827</td>\n",
       "      <td>206.893</td>\n",
       "      <td>204.778</td>\n",
       "      <td>205.745</td>\n",
       "      <td>179.778</td>\n",
       "      <td>1.180e+08</td>\n",
       "    </tr>\n",
       "    <tr>\n",
       "      <th>max</th>\n",
       "      <td>479.220</td>\n",
       "      <td>479.980</td>\n",
       "      <td>476.060</td>\n",
       "      <td>477.710</td>\n",
       "      <td>470.084</td>\n",
       "      <td>8.710e+08</td>\n",
       "    </tr>\n",
       "  </tbody>\n",
       "</table>\n",
       "</div>"
      ],
      "text/plain": [
       "           Open      High       Low     Close  Adj Close     Volume\n",
       "count  7560.000  7560.000  7560.000  7560.000   7560.000  7.560e+03\n",
       "mean    162.681   163.669   161.587   162.684    135.569  8.455e+07\n",
       "std      98.074    98.624    97.474    98.090    104.041  9.362e+07\n",
       "min      43.344    43.531    42.812    43.406     24.913  5.200e+03\n",
       "25%     103.740   104.490   102.939   103.747     70.947  9.192e+06\n",
       "50%     130.684   131.429   129.635   130.622     93.738  6.177e+07\n",
       "75%     205.827   206.893   204.778   205.745    179.778  1.180e+08\n",
       "max     479.220   479.980   476.060   477.710    470.084  8.710e+08"
      ]
     },
     "execution_count": 7,
     "metadata": {},
     "output_type": "execute_result"
    }
   ],
   "source": [
    "## Get some basic statistics\n",
    "## Keep a questioning mind, and never assume that the data is perfect\n",
    "spy_df.describe()"
   ]
  },
  {
   "cell_type": "markdown",
   "metadata": {},
   "source": [
    "### Data Visualization\n",
    "You have not learnt `matplotlib` yet (for those who are new to Python). Just run through it for now, and refer back here after you have completed lecture 5. Alternatively, if you prefer to skip straight to the contents that had already been covered thus far, click [here](#End_of_data_visualization).\n",
    "\n",
    "It is good practice to begin your data analysis with a simple sanity check. If you spot flaws in your data, this allows you to rectify the issue early with minimal loss of time."
   ]
  },
  {
   "cell_type": "code",
   "execution_count": 8,
   "metadata": {},
   "outputs": [],
   "source": [
    "import matplotlib.pyplot as plt\n",
    "\n",
    "## Use visualizations to perform sanity checks and get an overview of the data distribution"
   ]
  },
  {
   "cell_type": "code",
   "execution_count": 9,
   "metadata": {
    "scrolled": false
   },
   "outputs": [
    {
     "data": {
      "image/png": "[encoded data removed]",
      "text/plain": [
       "<Figure size 432x288 with 1 Axes>"
      ]
     },
     "metadata": {
      "needs_background": "light"
     },
     "output_type": "display_data"
    }
   ],
   "source": [
    "## Is the data in line with our domain knowledge?\n",
    "plt.plot(spy_df['Close'])\n",
    "plt.title(\"S&P 500 ETF daily close\")\n",
    "plt.show()"
   ]
  },
  {
   "cell_type": "code",
   "execution_count": 10,
   "metadata": {},
   "outputs": [
    {
     "data": {
      "image/png": "[encoded data removed]",
      "text/plain": [
       "<Figure size 432x288 with 1 Axes>"
      ]
     },
     "metadata": {
      "needs_background": "light"
     },
     "output_type": "display_data"
    }
   ],
   "source": [
    "## Check if the daily High and Low values are of the same order of magnitude as the daily Close\n",
    "plt.plot(spy_df['High'], 'g-')\n",
    "plt.plot(spy_df['Low'], 'r--')   ## At this scale, it is nearly an overlap, which is to be expected\n",
    "plt.title(\"S&P 500 ETF daily highs and lows\")\n",
    "plt.show()"
   ]
  },
  {
   "cell_type": "code",
   "execution_count": 11,
   "metadata": {},
   "outputs": [
    {
     "data": {
      "image/png": "[encoded data removed]",
      "text/plain": [
       "<Figure size 864x360 with 2 Axes>"
      ]
     },
     "metadata": {
      "needs_background": "light"
     },
     "output_type": "display_data"
    }
   ],
   "source": [
    "fig, axes = plt.subplots(1,2, figsize=(12,5))\n",
    "axes[0].plot(spy_df['Volume'], linewidth=0.5)\n",
    "axes[0].set(title = 'S&P 500 ETF daily volume')\n",
    "axes[1].plot(spy_df['Volume'], linewidth=0.5)\n",
    "plt.yscale('log')   ## volume increased substantially in 20+ years and log-scale makes it easier to see the trend in the early days with low volume  \n",
    "axes[1].set(title = 'S&P 500 ETF daily volume (log scale)')\n",
    "axes[1].plot(spy_df['Volume'].rolling(200).mean())   # Simple moving average of past 200 datapoints\n",
    "axes[1].legend(['Daily', '200-SMA'])\n",
    "plt.show()"
   ]
  },
  {
   "cell_type": "markdown",
   "metadata": {},
   "source": [
    "<a id='End_of_data_visualization'></a>\n",
    "#### End of data visualization <br>"
   ]
  },
  {
   "cell_type": "markdown",
   "metadata": {},
   "source": [
    "### Data Analysis"
   ]
  },
  {
   "cell_type": "markdown",
   "metadata": {},
   "source": [
    "Let's start asking questions. What insights can be gained from analyzing these data?\n",
    "1. [Q4.21] What is the average 200-trading-day returns? ie. If I were to do a lump-sum investment in the ETF and hold for 200 trading days, what would my returns have been?\n",
    "2. [Q4.22] What is the distribution of returns on a daily basis? We are interested not just in the sign (gain or loss), but also in their respective magnitudes. Since January 1993, how many days would an index investor experience a loss of 6% or worse a single day? How about a gain of 6% or more in a single day?\n",
    "3. [Q4.23] What are the average monthly returns across each of the twelve months? Are there certain months in which investors should be cautious and decrease the percentage of their stock holdings?\n",
    "4. [Q4.24] Do prices tend to close near the daily highs and lows each day?\n",
    "5. [Q4.25] Do high-volume days tend to be sustained over certain periods, or sporadic? How do we define 'high' *from the data*?"
   ]
  },
  {
   "cell_type": "markdown",
   "metadata": {},
   "source": [
    "<a id='Question_4_21'></a>\n",
    "\n",
    "### 1 (Question 4.21)\n",
    "We will use the change in closing price to get the returns. While it is possible to do so using a loop like what we learnt in Lecture/Tutorial 1, you are now equipped to perform this task in a much more efficient manner."
   ]
  },
  {
   "cell_type": "code",
   "execution_count": 234,
   "metadata": {},
   "outputs": [
    {
     "data": {
      "text/plain": [
       "Date\n",
       "1993-01-29      NaN\n",
       "1993-02-01      NaN\n",
       "1993-02-02      NaN\n",
       "1993-02-03      NaN\n",
       "1993-02-04      NaN\n",
       "              ...  \n",
       "2023-01-31   -0.083\n",
       "2023-02-01   -0.062\n",
       "2023-02-02   -0.048\n",
       "2023-02-03   -0.073\n",
       "2023-02-06   -0.078\n",
       "Name: 200day_return, Length: 7560, dtype: float64"
      ]
     },
     "execution_count": 234,
     "metadata": {},
     "output_type": "execute_result"
    }
   ],
   "source": [
    "spy_df['200day_return']"
   ]
  },
  {
   "cell_type": "code",
   "execution_count": 233,
   "metadata": {
    "scrolled": false
   },
   "outputs": [
    {
     "data": {
      "text/plain": [
       "count    7360.000\n",
       "mean        0.071\n",
       "std         0.145\n",
       "min        -0.519\n",
       "25%         0.004\n",
       "50%         0.090\n",
       "75%         0.159\n",
       "max         0.675\n",
       "Name: 200day_return, dtype: float64"
      ]
     },
     "execution_count": 233,
     "metadata": {},
     "output_type": "execute_result"
    }
   ],
   "source": [
    "n = 200  # number of trading days\n",
    "spy_df['200day_return'] = spy_df['Close'].pct_change(n)\n",
    "\n",
    "spy_df['200day_return'].describe()"
   ]
  },
  {
   "cell_type": "markdown",
   "metadata": {},
   "source": [
    "We see that the mean return after 200 trading days is 7.1%, and the median is 9.0%. The 'best' 200 trading days which a buy-and-hold investor would experience during the period of 1993 to 2022 is an increase of over 67%, while he/she would have seen a decline of close to 52% in the 'worst' 200 trading days."
   ]
  },
  {
   "cell_type": "code",
   "execution_count": 235,
   "metadata": {},
   "outputs": [],
   "source": [
    "a = np.arange(1000)"
   ]
  },
  {
   "cell_type": "code",
   "execution_count": 238,
   "metadata": {
    "scrolled": true
   },
   "outputs": [],
   "source": [
    "# a[-200:]   ## most 200 recent\n",
    "# a[200:]    ## everyting from 200 until the last\n",
    "# a[:-200]    ## everything from start, but stop at the last 200"
   ]
  },
  {
   "cell_type": "code",
   "execution_count": null,
   "metadata": {},
   "outputs": [],
   "source": []
  },
  {
   "cell_type": "code",
   "execution_count": 13,
   "metadata": {},
   "outputs": [
    {
     "name": "stderr",
     "output_type": "stream",
     "text": [
      "C:\\Users\\jameskohby\\Anaconda\\lib\\site-packages\\pandas\\core\\indexing.py:670: SettingWithCopyWarning: \n",
      "A value is trying to be set on a copy of a slice from a DataFrame\n",
      "\n",
      "See the caveats in the documentation: https://pandas.pydata.org/pandas-docs/stable/user_guide/indexing.html#returning-a-view-versus-a-copy\n",
      "  iloc._setitem_with_indexer(indexer, value)\n"
     ]
    }
   ],
   "source": [
    "## Suppose you do not know the existence of .pct_change(), you can also do it manually using just the basic building blocks\n",
    "\n",
    "## Method 2\n",
    "spy_df['200_days_ago'] = np.NaN\n",
    "spy_df['200_days_ago'].iloc[n:] = (spy_df['Close'].iloc[:-n]).values   # closing price n days ago\n",
    "\n",
    "spy_df['returnB'] = (spy_df['Close'] - spy_df['200_days_ago']) / spy_df['200_days_ago']"
   ]
  },
  {
   "cell_type": "code",
   "execution_count": 14,
   "metadata": {},
   "outputs": [
    {
     "name": "stdout",
     "output_type": "stream",
     "text": [
      "328.19000244140625\n",
      "328.19000244140625\n"
     ]
    }
   ],
   "source": [
    "# Do a sanity check\n",
    "day = 6789\n",
    "print(spy_df.iloc[day]['Close'])\n",
    "print(spy_df.iloc[day+(n)]['200_days_ago'])"
   ]
  },
  {
   "cell_type": "code",
   "execution_count": 15,
   "metadata": {},
   "outputs": [],
   "source": [
    "# after verifying (for learning purpose) that Method 2 works as well, we will delete this column\n",
    "spy_df.drop('returnB', axis=1, inplace=True)"
   ]
  },
  {
   "cell_type": "code",
   "execution_count": 16,
   "metadata": {
    "scrolled": true
   },
   "outputs": [
    {
     "data": {
      "text/plain": [
       "Date\n",
       "2021-02-11    0.367\n",
       "2021-04-26    0.328\n",
       "2021-07-07    0.314\n",
       "2021-09-16    0.235\n",
       "2021-11-26    0.175\n",
       "2022-02-08    0.080\n",
       "2022-04-21    0.008\n",
       "2022-07-05   -0.146\n",
       "2022-09-14   -0.140\n",
       "2022-11-23   -0.108\n",
       "Name: 200day_return, dtype: float64"
      ]
     },
     "execution_count": 16,
     "metadata": {},
     "output_type": "execute_result"
    }
   ],
   "source": [
    "# plt.plot(spy_df['return'])\n",
    "\n",
    "# Without using visualization tools, what we could do will be to sample the returns at regular intervals and view as a table\n",
    "spy_df['200day_return'].iloc[-500::50]    # starting from the last 500 data, take at intervals of 50"
   ]
  },
  {
   "cell_type": "markdown",
   "metadata": {},
   "source": [
    "For example, from the above, a person who has invested in the S&P500 ETF 200 trading days prior to 23rd Nov 2022 would have a return of -10.8% over those 200 trading days (ignoring transaction costs)."
   ]
  },
  {
   "cell_type": "markdown",
   "metadata": {},
   "source": [
    "<a id='Question_4_22'></a>\n",
    "\n",
    "### 2 (Question 4.22)"
   ]
  },
  {
   "cell_type": "markdown",
   "metadata": {},
   "source": [
    "(a) What is the distribution of returns on a daily basis? We are interested not just in the sign (gain or loss), but also in their respective magnitudes."
   ]
  },
  {
   "cell_type": "code",
   "execution_count": 239,
   "metadata": {},
   "outputs": [],
   "source": [
    "spy_df['daily_return'] = spy_df['Close'].pct_change(1)"
   ]
  },
  {
   "cell_type": "code",
   "execution_count": 242,
   "metadata": {},
   "outputs": [
    {
     "data": {
      "text/plain": [
       "(array([4.00e+00, 8.00e+00, 6.30e+01, 1.26e+03, 5.87e+03, 3.18e+02,\n",
       "        2.50e+01, 4.00e+00, 1.00e+00, 1.00e+00]),\n",
       " array([-0.11, -0.08, -0.06, -0.03, -0.01,  0.02,  0.04,  0.07,  0.09,\n",
       "         0.12,  0.15]),\n",
       " <a list of 10 Patch objects>)"
      ]
     },
     "execution_count": 242,
     "metadata": {},
     "output_type": "execute_result"
    },
    {
     "data": {
      "image/png": "[encoded data removed]",
      "text/plain": [
       "<Figure size 432x288 with 1 Axes>"
      ]
     },
     "metadata": {
      "needs_background": "light"
     },
     "output_type": "display_data"
    }
   ],
   "source": [
    "import matplotlib.pyplot as plt\n",
    "plt.hist(spy_df['daily_return'].values[1:])"
   ]
  },
  {
   "cell_type": "markdown",
   "metadata": {},
   "source": [
    "We see that the daily return is very often between -2% and 2%. In addition, in the span of a single day it is like a flip of a (slightly biased) coin as to whether the market moves up or down."
   ]
  },
  {
   "cell_type": "code",
   "execution_count": 18,
   "metadata": {},
   "outputs": [
    {
     "name": "stdout",
     "output_type": "stream",
     "text": [
      "Number of days the market closed lower:  3468\n",
      "Number of days the market closed higher:  4030\n"
     ]
    }
   ],
   "source": [
    "print(\"Number of days the market closed lower: \", sum(spy_df['daily_return'] < 0))\n",
    "print(\"Number of days the market closed higher: \", sum(spy_df['daily_return'] > 0))"
   ]
  },
  {
   "cell_type": "markdown",
   "metadata": {},
   "source": [
    "(b) Since January 1993, how many days would an index investor experience a loss of 6% or worse a single day? How about a gain of 6% or more in a single day?"
   ]
  },
  {
   "cell_type": "code",
   "execution_count": 19,
   "metadata": {
    "scrolled": true
   },
   "outputs": [
    {
     "name": "stdout",
     "output_type": "stream",
     "text": [
      "6% loss or worse in a single day:  12\n",
      "6% gain or better in a single day:  9\n"
     ]
    }
   ],
   "source": [
    "print(\"6% loss or worse in a single day: \", sum(spy_df['daily_return'] < -0.06))\n",
    "print(\"6% gain or better in a single day: \", sum(spy_df['daily_return'] > 0.06))"
   ]
  },
  {
   "cell_type": "code",
   "execution_count": 20,
   "metadata": {},
   "outputs": [],
   "source": [
    "# drop all rows containing na\n",
    "spy_df.dropna(inplace=True)"
   ]
  },
  {
   "cell_type": "code",
   "execution_count": 21,
   "metadata": {},
   "outputs": [
    {
     "data": {
      "text/plain": [
       "array([ 0.00471698, -0.00067069,  0.00469799, ...,  0.01455699,\n",
       "       -0.01062909, -0.00611136])"
      ]
     },
     "execution_count": 21,
     "metadata": {},
     "output_type": "execute_result"
    }
   ],
   "source": [
    "spy_df['daily_return'].values"
   ]
  },
  {
   "cell_type": "code",
   "execution_count": 22,
   "metadata": {
    "scrolled": true
   },
   "outputs": [
    {
     "data": {
      "image/png": "[encoded data removed]",
      "text/plain": [
       "<Figure size 432x288 with 1 Axes>"
      ]
     },
     "metadata": {
      "needs_background": "light"
     },
     "output_type": "display_data"
    },
    {
     "name": "stdout",
     "output_type": "stream",
     "text": [
      "10th percentile: -0.012\n",
      "25th percentile: -0.005\n",
      "50th percentile: 0.001\n",
      "75th percentile: 0.006\n",
      "90th percentile: 0.013\n"
     ]
    }
   ],
   "source": [
    "plt.hist(spy_df['daily_return'], bins=np.arange(-0.12, 0.12, 0.02))\n",
    "plt.show()\n",
    "\n",
    "# Suppose you really do not want to use plt now, you can also get statistics such as mean, median, 10th/25th/75th/90th percentile etc.\n",
    "for p in [10, 25, 50, 75, 90]:\n",
    "    print(\"%dth percentile: %.3f\" % (p, np.percentile(spy_df['daily_return'].values, p)))"
   ]
  },
  {
   "cell_type": "markdown",
   "metadata": {},
   "source": [
    "<a id='Question_4_23'></a>\n",
    "\n",
    "### 3 (Question 4.23)\n",
    "\n",
    "What are the average 20-day-return across each of the twelve months? Are there certain months in which investors should be cautious and decrease the percentage of their stock holdings?\n",
    "\n",
    "We will perform a forward looking analysis in this case. This is because the objective is to analysis, during the period of Jan 1993 to May 2022, what happened 20 trading days later if we were to stay invested in S&P500 for the month, in order to decide whether it is wise to trim our equities portfolio during particular 'bad months'."
   ]
  },
  {
   "cell_type": "code",
   "execution_count": 23,
   "metadata": {
    "scrolled": true
   },
   "outputs": [
    {
     "data": {
      "text/html": [
       "<div>\n",
       "<style scoped>\n",
       "    .dataframe tbody tr th:only-of-type {\n",
       "        vertical-align: middle;\n",
       "    }\n",
       "\n",
       "    .dataframe tbody tr th {\n",
       "        vertical-align: top;\n",
       "    }\n",
       "\n",
       "    .dataframe thead th {\n",
       "        text-align: right;\n",
       "    }\n",
       "</style>\n",
       "<table border=\"1\" class=\"dataframe\">\n",
       "  <thead>\n",
       "    <tr style=\"text-align: right;\">\n",
       "      <th></th>\n",
       "      <th>Open</th>\n",
       "      <th>High</th>\n",
       "      <th>Low</th>\n",
       "      <th>Close</th>\n",
       "      <th>Adj Close</th>\n",
       "      <th>Volume</th>\n",
       "      <th>200day_return</th>\n",
       "      <th>200_days_ago</th>\n",
       "      <th>daily_return</th>\n",
       "    </tr>\n",
       "    <tr>\n",
       "      <th>Date</th>\n",
       "      <th></th>\n",
       "      <th></th>\n",
       "      <th></th>\n",
       "      <th></th>\n",
       "      <th></th>\n",
       "      <th></th>\n",
       "      <th></th>\n",
       "      <th></th>\n",
       "      <th></th>\n",
       "    </tr>\n",
       "  </thead>\n",
       "  <tbody>\n",
       "    <tr>\n",
       "      <th>2023-01-31</th>\n",
       "      <td>401.13</td>\n",
       "      <td>406.53</td>\n",
       "      <td>400.77</td>\n",
       "      <td>406.48</td>\n",
       "      <td>406.48</td>\n",
       "      <td>86811800</td>\n",
       "      <td>-0.083</td>\n",
       "      <td>443.31</td>\n",
       "      <td>0.015</td>\n",
       "    </tr>\n",
       "    <tr>\n",
       "      <th>2023-02-01</th>\n",
       "      <td>405.21</td>\n",
       "      <td>413.67</td>\n",
       "      <td>402.35</td>\n",
       "      <td>410.80</td>\n",
       "      <td>410.80</td>\n",
       "      <td>101459200</td>\n",
       "      <td>-0.062</td>\n",
       "      <td>437.79</td>\n",
       "      <td>0.011</td>\n",
       "    </tr>\n",
       "    <tr>\n",
       "      <th>2023-02-02</th>\n",
       "      <td>414.86</td>\n",
       "      <td>418.31</td>\n",
       "      <td>412.88</td>\n",
       "      <td>416.78</td>\n",
       "      <td>416.78</td>\n",
       "      <td>101654500</td>\n",
       "      <td>-0.048</td>\n",
       "      <td>437.97</td>\n",
       "      <td>0.015</td>\n",
       "    </tr>\n",
       "    <tr>\n",
       "      <th>2023-02-03</th>\n",
       "      <td>411.59</td>\n",
       "      <td>416.97</td>\n",
       "      <td>411.09</td>\n",
       "      <td>412.35</td>\n",
       "      <td>412.35</td>\n",
       "      <td>94647400</td>\n",
       "      <td>-0.073</td>\n",
       "      <td>445.04</td>\n",
       "      <td>-0.011</td>\n",
       "    </tr>\n",
       "    <tr>\n",
       "      <th>2023-02-06</th>\n",
       "      <td>409.79</td>\n",
       "      <td>411.29</td>\n",
       "      <td>408.10</td>\n",
       "      <td>409.83</td>\n",
       "      <td>409.83</td>\n",
       "      <td>60295300</td>\n",
       "      <td>-0.078</td>\n",
       "      <td>444.71</td>\n",
       "      <td>-0.006</td>\n",
       "    </tr>\n",
       "  </tbody>\n",
       "</table>\n",
       "</div>"
      ],
      "text/plain": [
       "              Open    High     Low   Close  Adj Close     Volume  \\\n",
       "Date                                                               \n",
       "2023-01-31  401.13  406.53  400.77  406.48     406.48   86811800   \n",
       "2023-02-01  405.21  413.67  402.35  410.80     410.80  101459200   \n",
       "2023-02-02  414.86  418.31  412.88  416.78     416.78  101654500   \n",
       "2023-02-03  411.59  416.97  411.09  412.35     412.35   94647400   \n",
       "2023-02-06  409.79  411.29  408.10  409.83     409.83   60295300   \n",
       "\n",
       "            200day_return  200_days_ago  daily_return  \n",
       "Date                                                   \n",
       "2023-01-31         -0.083        443.31         0.015  \n",
       "2023-02-01         -0.062        437.79         0.011  \n",
       "2023-02-02         -0.048        437.97         0.015  \n",
       "2023-02-03         -0.073        445.04        -0.011  \n",
       "2023-02-06         -0.078        444.71        -0.006  "
      ]
     },
     "execution_count": 23,
     "metadata": {},
     "output_type": "execute_result"
    }
   ],
   "source": [
    "spy_df.tail()"
   ]
  },
  {
   "cell_type": "code",
   "execution_count": 24,
   "metadata": {},
   "outputs": [],
   "source": [
    "spy_df['20day_return'] = spy_df['Close'].pct_change(20)   # this computes the change wrt 20 rows ago\n",
    "spy_df.dropna(inplace=True)"
   ]
  },
  {
   "cell_type": "code",
   "execution_count": null,
   "metadata": {},
   "outputs": [],
   "source": [
    "# spy_df.index.to_series()   # This is a pandas series of the dates\n",
    "\n",
    "## each x that goes into the lambda function will be eg. 2019-02-19\t\n",
    "## it may or may not be a string"
   ]
  },
  {
   "cell_type": "code",
   "execution_count": 244,
   "metadata": {},
   "outputs": [
    {
     "data": {
      "text/plain": [
       "2"
      ]
     },
     "execution_count": 244,
     "metadata": {},
     "output_type": "execute_result"
    }
   ],
   "source": [
    "x = '2019-02-19'\n",
    "int(str(x).split('-')[1])"
   ]
  },
  {
   "cell_type": "code",
   "execution_count": 245,
   "metadata": {},
   "outputs": [
    {
     "data": {
      "text/plain": [
       "['2019', '02', '19']"
      ]
     },
     "execution_count": 245,
     "metadata": {},
     "output_type": "execute_result"
    }
   ],
   "source": [
    "str(x).split('-')"
   ]
  },
  {
   "cell_type": "code",
   "execution_count": 25,
   "metadata": {
    "scrolled": true
   },
   "outputs": [
    {
     "data": {
      "text/html": [
       "<div>\n",
       "<style scoped>\n",
       "    .dataframe tbody tr th:only-of-type {\n",
       "        vertical-align: middle;\n",
       "    }\n",
       "\n",
       "    .dataframe tbody tr th {\n",
       "        vertical-align: top;\n",
       "    }\n",
       "\n",
       "    .dataframe thead th {\n",
       "        text-align: right;\n",
       "    }\n",
       "</style>\n",
       "<table border=\"1\" class=\"dataframe\">\n",
       "  <thead>\n",
       "    <tr style=\"text-align: right;\">\n",
       "      <th></th>\n",
       "      <th>Open</th>\n",
       "      <th>High</th>\n",
       "      <th>Low</th>\n",
       "      <th>Close</th>\n",
       "      <th>Adj Close</th>\n",
       "      <th>Volume</th>\n",
       "      <th>200day_return</th>\n",
       "      <th>200_days_ago</th>\n",
       "      <th>daily_return</th>\n",
       "      <th>20day_return</th>\n",
       "      <th>month</th>\n",
       "    </tr>\n",
       "    <tr>\n",
       "      <th>Date</th>\n",
       "      <th></th>\n",
       "      <th></th>\n",
       "      <th></th>\n",
       "      <th></th>\n",
       "      <th></th>\n",
       "      <th></th>\n",
       "      <th></th>\n",
       "      <th></th>\n",
       "      <th></th>\n",
       "      <th></th>\n",
       "      <th></th>\n",
       "    </tr>\n",
       "  </thead>\n",
       "  <tbody>\n",
       "    <tr>\n",
       "      <th>2019-02-19</th>\n",
       "      <td>276.48</td>\n",
       "      <td>278.58</td>\n",
       "      <td>276.47</td>\n",
       "      <td>277.85</td>\n",
       "      <td>259.949</td>\n",
       "      <td>59120800</td>\n",
       "      <td>0.056</td>\n",
       "      <td>263.20</td>\n",
       "      <td>0.002</td>\n",
       "      <td>0.043</td>\n",
       "      <td>2</td>\n",
       "    </tr>\n",
       "    <tr>\n",
       "      <th>2019-12-03</th>\n",
       "      <td>308.65</td>\n",
       "      <td>309.64</td>\n",
       "      <td>307.13</td>\n",
       "      <td>309.55</td>\n",
       "      <td>293.647</td>\n",
       "      <td>73941700</td>\n",
       "      <td>0.114</td>\n",
       "      <td>277.85</td>\n",
       "      <td>-0.007</td>\n",
       "      <td>0.007</td>\n",
       "      <td>12</td>\n",
       "    </tr>\n",
       "    <tr>\n",
       "      <th>2020-09-18</th>\n",
       "      <td>335.37</td>\n",
       "      <td>335.49</td>\n",
       "      <td>327.97</td>\n",
       "      <td>330.65</td>\n",
       "      <td>319.728</td>\n",
       "      <td>105877900</td>\n",
       "      <td>0.068</td>\n",
       "      <td>309.55</td>\n",
       "      <td>-0.015</td>\n",
       "      <td>-0.023</td>\n",
       "      <td>9</td>\n",
       "    </tr>\n",
       "    <tr>\n",
       "      <th>2021-07-07</th>\n",
       "      <td>433.66</td>\n",
       "      <td>434.76</td>\n",
       "      <td>431.51</td>\n",
       "      <td>434.46</td>\n",
       "      <td>424.667</td>\n",
       "      <td>63549500</td>\n",
       "      <td>0.314</td>\n",
       "      <td>330.65</td>\n",
       "      <td>0.004</td>\n",
       "      <td>0.029</td>\n",
       "      <td>7</td>\n",
       "    </tr>\n",
       "    <tr>\n",
       "      <th>2022-04-21</th>\n",
       "      <td>448.54</td>\n",
       "      <td>450.01</td>\n",
       "      <td>437.10</td>\n",
       "      <td>438.06</td>\n",
       "      <td>432.406</td>\n",
       "      <td>85417300</td>\n",
       "      <td>0.008</td>\n",
       "      <td>434.46</td>\n",
       "      <td>-0.015</td>\n",
       "      <td>-0.013</td>\n",
       "      <td>4</td>\n",
       "    </tr>\n",
       "  </tbody>\n",
       "</table>\n",
       "</div>"
      ],
      "text/plain": [
       "              Open    High     Low   Close  Adj Close     Volume  \\\n",
       "Date                                                               \n",
       "2019-02-19  276.48  278.58  276.47  277.85    259.949   59120800   \n",
       "2019-12-03  308.65  309.64  307.13  309.55    293.647   73941700   \n",
       "2020-09-18  335.37  335.49  327.97  330.65    319.728  105877900   \n",
       "2021-07-07  433.66  434.76  431.51  434.46    424.667   63549500   \n",
       "2022-04-21  448.54  450.01  437.10  438.06    432.406   85417300   \n",
       "\n",
       "            200day_return  200_days_ago  daily_return  20day_return  month  \n",
       "Date                                                                        \n",
       "2019-02-19          0.056        263.20         0.002         0.043      2  \n",
       "2019-12-03          0.114        277.85        -0.007         0.007     12  \n",
       "2020-09-18          0.068        309.55        -0.015        -0.023      9  \n",
       "2021-07-07          0.314        330.65         0.004         0.029      7  \n",
       "2022-04-21          0.008        434.46        -0.015        -0.013      4  "
      ]
     },
     "execution_count": 25,
     "metadata": {},
     "output_type": "execute_result"
    }
   ],
   "source": [
    "spy_df['month'] = spy_df.index.to_series().apply(lambda x: int(str(x).split('-')[1]))\n",
    "\n",
    "## To look at recent samples (200 trading days apart)\n",
    "spy_df.iloc[-1000::200,]"
   ]
  },
  {
   "cell_type": "code",
   "execution_count": 26,
   "metadata": {
    "scrolled": true
   },
   "outputs": [
    {
     "data": {
      "image/png": "[encoded data removed]",
      "text/plain": [
       "<Figure size 432x288 with 1 Axes>"
      ]
     },
     "metadata": {
      "needs_background": "light"
     },
     "output_type": "display_data"
    }
   ],
   "source": [
    "## This histogram shows the distribution of 20-day returns over the entire dataset. Still not yet answered the question\n",
    "## 'Are there certain months in which investors should be cautious?'\n",
    "\n",
    "plt.hist(spy_df['20day_return'].values.flatten())\n",
    "plt.show()"
   ]
  },
  {
   "cell_type": "code",
   "execution_count": null,
   "metadata": {},
   "outputs": [],
   "source": [
    "## spy_df['month']==i is the boolean mask\n",
    "## spy_df[spy_df['month']==i] is a filtered subset of the dataframe; we only keep those at month i\n",
    "\n",
    "## spy_df[spy_df['month']==i] is a pd.DataFrame\n",
    "## spy_df[spy_df['month']==i]['20day_return'] is a pd.Series"
   ]
  },
  {
   "cell_type": "code",
   "execution_count": 27,
   "metadata": {
    "scrolled": true
   },
   "outputs": [
    {
     "name": "stdout",
     "output_type": "stream",
     "text": [
      "Month: 1\n",
      "  Average return: 0.70%\n",
      "  Proportion of positive 20-day returns: 64.6%\n",
      "Month: 2\n",
      "  Average return: 0.61%\n",
      "  Proportion of positive 20-day returns: 62.3%\n",
      "Month: 3\n",
      "  Average return: 0.04%\n",
      "  Proportion of positive 20-day returns: 58.6%\n",
      "Month: 4\n",
      "  Average return: 1.59%\n",
      "  Proportion of positive 20-day returns: 65.9%\n",
      "Month: 5\n",
      "  Average return: 1.03%\n",
      "  Proportion of positive 20-day returns: 63.3%\n",
      "Month: 6\n",
      "  Average return: 0.40%\n",
      "  Proportion of positive 20-day returns: 59.2%\n",
      "Month: 7\n",
      "  Average return: 0.61%\n",
      "  Proportion of positive 20-day returns: 64.1%\n",
      "Month: 8\n",
      "  Average return: 0.35%\n",
      "  Proportion of positive 20-day returns: 58.0%\n",
      "Month: 9\n",
      "  Average return: -0.15%\n",
      "  Proportion of positive 20-day returns: 58.9%\n",
      "Month: 10\n",
      "  Average return: -0.24%\n",
      "  Proportion of positive 20-day returns: 56.5%\n",
      "Month: 11\n",
      "  Average return: 2.36%\n",
      "  Proportion of positive 20-day returns: 76.9%\n",
      "Month: 12\n",
      "  Average return: 1.17%\n",
      "  Proportion of positive 20-day returns: 71.4%\n"
     ]
    }
   ],
   "source": [
    "returns = {}\n",
    "for i in range(1,13):\n",
    "    returns[i] = spy_df[spy_df['month']==i]['20day_return'].dropna().values\n",
    "    print(\"Month: {}\".format(i))\n",
    "    print(\"  Average return: {:.2f}%\".format(np.mean(returns[i])*100))\n",
    "    print(\"  Proportion of positive 20-day returns: {:.1f}%\".format(np.sum(returns[i]>0)/len(returns[i])*100))"
   ]
  },
  {
   "cell_type": "code",
   "execution_count": 28,
   "metadata": {},
   "outputs": [
    {
     "name": "stdout",
     "output_type": "stream",
     "text": [
      "12\n"
     ]
    }
   ],
   "source": [
    "months = ['Jan', 'Feb', 'Mar', 'Apr', 'May', 'Jun', 'Jul', 'Aug', 'Sep', 'Oct', 'Nov', 'Dec']\n",
    "monthly_returns = list(returns.values())\n",
    "\n",
    "print(len(monthly_returns))"
   ]
  },
  {
   "cell_type": "code",
   "execution_count": 29,
   "metadata": {},
   "outputs": [],
   "source": [
    "# #  Uncomment this when you are ready to see a beautiful boxplot  ##\n",
    "\n",
    "# months = ['Jan', 'Feb', 'Mar', 'Apr', 'May', 'Jun', 'Jul', 'Aug', 'Sep', 'Oct', 'Nov', 'Dec']\n",
    "# monthly_returns = list(returns.values())\n",
    "\n",
    "# plt.boxplot(monthly_returns)\n",
    "# plt.xticks(ticks=np.arange(1,13),labels=months)\n",
    "# plt.show()"
   ]
  },
  {
   "cell_type": "markdown",
   "metadata": {},
   "source": [
    "It is reasonable to conclude that there is no particular month which consistently gives a positive (or negative) return over a time-horizon of 20 trading days. However, if we really have to choose a month based on historical data, then an investor is most likely to have poorest 20-day returns in October, while November is the best month for short-term gains."
   ]
  },
  {
   "cell_type": "markdown",
   "metadata": {},
   "source": [
    "<a id='Question_4_24'></a>\n",
    "\n",
    "### 4 (Question 4.24)\n",
    "\n",
    "Do prices tend to close near the daily highs and lows each day?"
   ]
  },
  {
   "cell_type": "code",
   "execution_count": 30,
   "metadata": {
    "scrolled": true
   },
   "outputs": [],
   "source": [
    "# Let us define 'inclination' as follows, where a value of 0 indicates a close at the Low, while 1 indicates a close at the High\n",
    "\n",
    "spy_df['inclination'] = spy_df.apply(lambda x: (x.Close - x.Low) / (x.High - x.Low), axis=1)"
   ]
  },
  {
   "cell_type": "code",
   "execution_count": 31,
   "metadata": {},
   "outputs": [],
   "source": [
    "#spy_df.loc['2023-01-30':, ['High', 'Low', 'Close', 'inclination']]"
   ]
  },
  {
   "cell_type": "code",
   "execution_count": 32,
   "metadata": {
    "scrolled": true
   },
   "outputs": [
    {
     "data": {
      "image/png": "[encoded data removed]",
      "text/plain": [
       "<Figure size 432x288 with 1 Axes>"
      ]
     },
     "metadata": {
      "needs_background": "light"
     },
     "output_type": "display_data"
    },
    {
     "name": "stdout",
     "output_type": "stream",
     "text": [
      "The average inclination of prices closing towards its daily High is: 0.548\n",
      "34.7% of trading days ended at the top quartile of the price range\n"
     ]
    }
   ],
   "source": [
    "plt.hist(spy_df['inclination'])\n",
    "plt.show()\n",
    "\n",
    "# Again, suppose you really do not want to use plt now, can get statistics such as mean, median, 10th/25th/75th/90th percentile etc.\n",
    "# To avoid revealing the answers for Assignment 2 now, will do alternatives analysis that does not involve median or percentile.\n",
    "\n",
    "print(\"The average inclination of prices closing towards its daily High is: {:.3f}\".format(sum(spy_df['inclination'])/len(spy_df)))\n",
    "print(\"{:.1f}% of trading days ended at the top quartile of the price range\".format(100*sum(spy_df['inclination']>0.75)/len(spy_df)))"
   ]
  },
  {
   "cell_type": "markdown",
   "metadata": {},
   "source": [
    "We see that there is a slight inclination for the price to close near (in the code above, we define this as a closing price which is within quarter of the daily range) its daily high. Let us investigate if prices tend to close near its high during bull markets, and close near its low during bear markets."
   ]
  },
  {
   "cell_type": "code",
   "execution_count": 33,
   "metadata": {},
   "outputs": [],
   "source": [
    "# ##  Uncomment this when you are comfortable using plt.hist  ##\n",
    "\n",
    "# plt.hist(spy_df['inclination']['2000-01-01':'2002-12-01'])\n",
    "# plt.title('Closing price towards daily high from Jan 2000 to Dec 2002')\n",
    "# plt.show()\n",
    "# plt.hist(spy_df['inclination']['2009-01-01':'2019-12-01'])\n",
    "# plt.title('Closing price towards daily high from Jan 2009 to Dec 2019')\n",
    "# plt.show()"
   ]
  },
  {
   "cell_type": "markdown",
   "metadata": {},
   "source": [
    "<a id='Question_4_25'></a>\n",
    "\n",
    "### 5 (Question 4.25)\n",
    "\n",
    "*Note that this question is best answered in conjunction with data visualization*\n",
    "\n",
    "Do high-volume days tend to be sustained over certain periods, or sporadic?\n",
    "- Possible approach: Create a threshold ratio, and convert the float to categorical. Use apply function.\n",
    "\n",
    "How do we define 'high' *from the data*?\n",
    "- Possible approach: Create a moving average (otherwise all pre-2004 days will just be 'low volume'). Find the day's volume relative to its moving average."
   ]
  },
  {
   "cell_type": "code",
   "execution_count": 34,
   "metadata": {},
   "outputs": [
    {
     "data": {
      "image/png": "[encoded data removed]",
      "text/plain": [
       "<Figure size 1440x360 with 1 Axes>"
      ]
     },
     "metadata": {
      "needs_background": "light"
     },
     "output_type": "display_data"
    }
   ],
   "source": [
    "spy_df['volume_200ma'] = spy_df['Volume'].rolling(n).mean()\n",
    "plt.figure(figsize=(20,5))\n",
    "plt.plot(spy_df['Volume'], 'g--', linewidth=1)\n",
    "plt.plot(spy_df['volume_200ma'])\n",
    "plt.title(\"200-day moving average of S&P500 ETF daily volume\")\n",
    "plt.tight_layout()\n",
    "plt.show()"
   ]
  },
  {
   "cell_type": "code",
   "execution_count": 35,
   "metadata": {},
   "outputs": [],
   "source": [
    "spy_df['volume_ratio'] = spy_df['Volume'] / spy_df['volume_200ma']"
   ]
  },
  {
   "cell_type": "code",
   "execution_count": 36,
   "metadata": {
    "scrolled": true
   },
   "outputs": [
    {
     "data": {
      "image/png": "[encoded data removed]",
      "text/plain": [
       "<Figure size 1440x360 with 1 Axes>"
      ]
     },
     "metadata": {
      "needs_background": "light"
     },
     "output_type": "display_data"
    }
   ],
   "source": [
    "plt.figure(figsize=(20,5))\n",
    "plt.plot(spy_df['volume_ratio'])\n",
    "plt.axhline(y=1, color='r', linestyle='-')\n",
    "plt.title(\"Daily volume of S&P500 ETF traded, normalized wrt 200-day simple moving average\")\n",
    "plt.show()"
   ]
  },
  {
   "cell_type": "code",
   "execution_count": 251,
   "metadata": {},
   "outputs": [],
   "source": [
    "myfunc = lambda x: 1 if x>2 else 0\n",
    "def myfunc(x):\n",
    "    if x>2:\n",
    "        return 1\n",
    "    else:\n",
    "        return 0"
   ]
  },
  {
   "cell_type": "code",
   "execution_count": 249,
   "metadata": {},
   "outputs": [
    {
     "name": "stdout",
     "output_type": "stream",
     "text": [
      "0\n",
      "0\n",
      "0\n",
      "0\n",
      "1\n",
      "1\n",
      "1\n"
     ]
    }
   ],
   "source": [
    "for x in [0, 0.5, 1, 1.5, 3, 10, 100]:\n",
    "    print(myfunc(x))"
   ]
  },
  {
   "cell_type": "code",
   "execution_count": 37,
   "metadata": {
    "scrolled": true
   },
   "outputs": [
    {
     "data": {
      "text/html": [
       "<div>\n",
       "<style scoped>\n",
       "    .dataframe tbody tr th:only-of-type {\n",
       "        vertical-align: middle;\n",
       "    }\n",
       "\n",
       "    .dataframe tbody tr th {\n",
       "        vertical-align: top;\n",
       "    }\n",
       "\n",
       "    .dataframe thead th {\n",
       "        text-align: right;\n",
       "    }\n",
       "</style>\n",
       "<table border=\"1\" class=\"dataframe\">\n",
       "  <thead>\n",
       "    <tr style=\"text-align: right;\">\n",
       "      <th></th>\n",
       "      <th>Open</th>\n",
       "      <th>High</th>\n",
       "      <th>Low</th>\n",
       "      <th>Close</th>\n",
       "      <th>Adj Close</th>\n",
       "      <th>Volume</th>\n",
       "      <th>200day_return</th>\n",
       "      <th>200_days_ago</th>\n",
       "      <th>daily_return</th>\n",
       "      <th>20day_return</th>\n",
       "      <th>month</th>\n",
       "      <th>inclination</th>\n",
       "      <th>volume_200ma</th>\n",
       "      <th>volume_ratio</th>\n",
       "      <th>surge_day</th>\n",
       "    </tr>\n",
       "    <tr>\n",
       "      <th>Date</th>\n",
       "      <th></th>\n",
       "      <th></th>\n",
       "      <th></th>\n",
       "      <th></th>\n",
       "      <th></th>\n",
       "      <th></th>\n",
       "      <th></th>\n",
       "      <th></th>\n",
       "      <th></th>\n",
       "      <th></th>\n",
       "      <th></th>\n",
       "      <th></th>\n",
       "      <th></th>\n",
       "      <th></th>\n",
       "      <th></th>\n",
       "    </tr>\n",
       "  </thead>\n",
       "  <tbody>\n",
       "    <tr>\n",
       "      <th>1994-10-13</th>\n",
       "      <td>47.219</td>\n",
       "      <td>47.328</td>\n",
       "      <td>46.797</td>\n",
       "      <td>46.844</td>\n",
       "      <td>28.074</td>\n",
       "      <td>1564500</td>\n",
       "      <td>-0.004</td>\n",
       "      <td>47.031</td>\n",
       "      <td>0.003</td>\n",
       "      <td>-0.017</td>\n",
       "      <td>10</td>\n",
       "      <td>0.088</td>\n",
       "      <td>4.332e+05</td>\n",
       "      <td>3.612</td>\n",
       "      <td>1</td>\n",
       "    </tr>\n",
       "    <tr>\n",
       "      <th>1994-12-19</th>\n",
       "      <td>45.750</td>\n",
       "      <td>45.844</td>\n",
       "      <td>45.609</td>\n",
       "      <td>45.812</td>\n",
       "      <td>27.674</td>\n",
       "      <td>1120200</td>\n",
       "      <td>-0.019</td>\n",
       "      <td>46.688</td>\n",
       "      <td>0.001</td>\n",
       "      <td>-0.014</td>\n",
       "      <td>12</td>\n",
       "      <td>0.867</td>\n",
       "      <td>3.864e+05</td>\n",
       "      <td>2.899</td>\n",
       "      <td>1</td>\n",
       "    </tr>\n",
       "    <tr>\n",
       "      <th>1994-12-30</th>\n",
       "      <td>46.203</td>\n",
       "      <td>46.250</td>\n",
       "      <td>45.562</td>\n",
       "      <td>45.562</td>\n",
       "      <td>27.523</td>\n",
       "      <td>2209500</td>\n",
       "      <td>-0.036</td>\n",
       "      <td>47.250</td>\n",
       "      <td>-0.012</td>\n",
       "      <td>0.009</td>\n",
       "      <td>12</td>\n",
       "      <td>0.000</td>\n",
       "      <td>3.774e+05</td>\n",
       "      <td>5.855</td>\n",
       "      <td>1</td>\n",
       "    </tr>\n",
       "    <tr>\n",
       "      <th>1995-02-07</th>\n",
       "      <td>48.312</td>\n",
       "      <td>48.312</td>\n",
       "      <td>48.141</td>\n",
       "      <td>48.297</td>\n",
       "      <td>29.175</td>\n",
       "      <td>702900</td>\n",
       "      <td>0.077</td>\n",
       "      <td>44.859</td>\n",
       "      <td>0.001</td>\n",
       "      <td>0.047</td>\n",
       "      <td>2</td>\n",
       "      <td>0.909</td>\n",
       "      <td>3.189e+05</td>\n",
       "      <td>2.204</td>\n",
       "      <td>1</td>\n",
       "    </tr>\n",
       "    <tr>\n",
       "      <th>1995-05-03</th>\n",
       "      <td>51.734</td>\n",
       "      <td>52.281</td>\n",
       "      <td>51.734</td>\n",
       "      <td>52.281</td>\n",
       "      <td>31.753</td>\n",
       "      <td>724700</td>\n",
       "      <td>0.152</td>\n",
       "      <td>45.375</td>\n",
       "      <td>0.014</td>\n",
       "      <td>0.034</td>\n",
       "      <td>5</td>\n",
       "      <td>1.000</td>\n",
       "      <td>2.730e+05</td>\n",
       "      <td>2.655</td>\n",
       "      <td>1</td>\n",
       "    </tr>\n",
       "    <tr>\n",
       "      <th>...</th>\n",
       "      <td>...</td>\n",
       "      <td>...</td>\n",
       "      <td>...</td>\n",
       "      <td>...</td>\n",
       "      <td>...</td>\n",
       "      <td>...</td>\n",
       "      <td>...</td>\n",
       "      <td>...</td>\n",
       "      <td>...</td>\n",
       "      <td>...</td>\n",
       "      <td>...</td>\n",
       "      <td>...</td>\n",
       "      <td>...</td>\n",
       "      <td>...</td>\n",
       "      <td>...</td>\n",
       "    </tr>\n",
       "    <tr>\n",
       "      <th>2022-01-26</th>\n",
       "      <td>440.720</td>\n",
       "      <td>444.040</td>\n",
       "      <td>428.860</td>\n",
       "      <td>433.380</td>\n",
       "      <td>426.461</td>\n",
       "      <td>186391100</td>\n",
       "      <td>0.050</td>\n",
       "      <td>412.860</td>\n",
       "      <td>-0.003</td>\n",
       "      <td>-0.091</td>\n",
       "      <td>1</td>\n",
       "      <td>0.298</td>\n",
       "      <td>7.481e+07</td>\n",
       "      <td>2.492</td>\n",
       "      <td>1</td>\n",
       "    </tr>\n",
       "    <tr>\n",
       "      <th>2022-01-28</th>\n",
       "      <td>432.680</td>\n",
       "      <td>442.000</td>\n",
       "      <td>427.820</td>\n",
       "      <td>441.950</td>\n",
       "      <td>434.895</td>\n",
       "      <td>164457400</td>\n",
       "      <td>0.063</td>\n",
       "      <td>415.870</td>\n",
       "      <td>0.025</td>\n",
       "      <td>-0.072</td>\n",
       "      <td>1</td>\n",
       "      <td>0.996</td>\n",
       "      <td>7.577e+07</td>\n",
       "      <td>2.170</td>\n",
       "      <td>1</td>\n",
       "    </tr>\n",
       "    <tr>\n",
       "      <th>2022-01-31</th>\n",
       "      <td>441.240</td>\n",
       "      <td>450.280</td>\n",
       "      <td>439.810</td>\n",
       "      <td>449.910</td>\n",
       "      <td>442.728</td>\n",
       "      <td>152251400</td>\n",
       "      <td>0.078</td>\n",
       "      <td>417.260</td>\n",
       "      <td>0.018</td>\n",
       "      <td>-0.053</td>\n",
       "      <td>1</td>\n",
       "      <td>0.965</td>\n",
       "      <td>7.612e+07</td>\n",
       "      <td>2.000</td>\n",
       "      <td>1</td>\n",
       "    </tr>\n",
       "    <tr>\n",
       "      <th>2022-02-24</th>\n",
       "      <td>411.020</td>\n",
       "      <td>428.760</td>\n",
       "      <td>410.640</td>\n",
       "      <td>428.300</td>\n",
       "      <td>421.462</td>\n",
       "      <td>213942900</td>\n",
       "      <td>0.034</td>\n",
       "      <td>414.210</td>\n",
       "      <td>0.015</td>\n",
       "      <td>-0.012</td>\n",
       "      <td>2</td>\n",
       "      <td>0.975</td>\n",
       "      <td>7.984e+07</td>\n",
       "      <td>2.680</td>\n",
       "      <td>1</td>\n",
       "    </tr>\n",
       "    <tr>\n",
       "      <th>2022-03-08</th>\n",
       "      <td>419.620</td>\n",
       "      <td>427.210</td>\n",
       "      <td>415.120</td>\n",
       "      <td>416.250</td>\n",
       "      <td>409.605</td>\n",
       "      <td>164772700</td>\n",
       "      <td>0.003</td>\n",
       "      <td>414.940</td>\n",
       "      <td>-0.008</td>\n",
       "      <td>-0.069</td>\n",
       "      <td>3</td>\n",
       "      <td>0.093</td>\n",
       "      <td>8.152e+07</td>\n",
       "      <td>2.021</td>\n",
       "      <td>1</td>\n",
       "    </tr>\n",
       "  </tbody>\n",
       "</table>\n",
       "<p>461 rows × 15 columns</p>\n",
       "</div>"
      ],
      "text/plain": [
       "               Open     High      Low    Close  Adj Close     Volume  \\\n",
       "Date                                                                   \n",
       "1994-10-13   47.219   47.328   46.797   46.844     28.074    1564500   \n",
       "1994-12-19   45.750   45.844   45.609   45.812     27.674    1120200   \n",
       "1994-12-30   46.203   46.250   45.562   45.562     27.523    2209500   \n",
       "1995-02-07   48.312   48.312   48.141   48.297     29.175     702900   \n",
       "1995-05-03   51.734   52.281   51.734   52.281     31.753     724700   \n",
       "...             ...      ...      ...      ...        ...        ...   \n",
       "2022-01-26  440.720  444.040  428.860  433.380    426.461  186391100   \n",
       "2022-01-28  432.680  442.000  427.820  441.950    434.895  164457400   \n",
       "2022-01-31  441.240  450.280  439.810  449.910    442.728  152251400   \n",
       "2022-02-24  411.020  428.760  410.640  428.300    421.462  213942900   \n",
       "2022-03-08  419.620  427.210  415.120  416.250    409.605  164772700   \n",
       "\n",
       "            200day_return  200_days_ago  daily_return  20day_return  month  \\\n",
       "Date                                                                         \n",
       "1994-10-13         -0.004        47.031         0.003        -0.017     10   \n",
       "1994-12-19         -0.019        46.688         0.001        -0.014     12   \n",
       "1994-12-30         -0.036        47.250        -0.012         0.009     12   \n",
       "1995-02-07          0.077        44.859         0.001         0.047      2   \n",
       "1995-05-03          0.152        45.375         0.014         0.034      5   \n",
       "...                   ...           ...           ...           ...    ...   \n",
       "2022-01-26          0.050       412.860        -0.003        -0.091      1   \n",
       "2022-01-28          0.063       415.870         0.025        -0.072      1   \n",
       "2022-01-31          0.078       417.260         0.018        -0.053      1   \n",
       "2022-02-24          0.034       414.210         0.015        -0.012      2   \n",
       "2022-03-08          0.003       414.940        -0.008        -0.069      3   \n",
       "\n",
       "            inclination  volume_200ma  volume_ratio  surge_day  \n",
       "Date                                                            \n",
       "1994-10-13        0.088     4.332e+05         3.612          1  \n",
       "1994-12-19        0.867     3.864e+05         2.899          1  \n",
       "1994-12-30        0.000     3.774e+05         5.855          1  \n",
       "1995-02-07        0.909     3.189e+05         2.204          1  \n",
       "1995-05-03        1.000     2.730e+05         2.655          1  \n",
       "...                 ...           ...           ...        ...  \n",
       "2022-01-26        0.298     7.481e+07         2.492          1  \n",
       "2022-01-28        0.996     7.577e+07         2.170          1  \n",
       "2022-01-31        0.965     7.612e+07         2.000          1  \n",
       "2022-02-24        0.975     7.984e+07         2.680          1  \n",
       "2022-03-08        0.093     8.152e+07         2.021          1  \n",
       "\n",
       "[461 rows x 15 columns]"
      ]
     },
     "execution_count": 37,
     "metadata": {},
     "output_type": "execute_result"
    }
   ],
   "source": [
    "\n",
    "spy_df['surge_day'] = spy_df['volume_ratio'].apply(lambda x: 1 if x>2 else 0)\n",
    "spy_df[spy_df['surge_day']==1]\n"
   ]
  },
  {
   "cell_type": "code",
   "execution_count": 38,
   "metadata": {},
   "outputs": [],
   "source": [
    "## Create a new column called 'surge_day', denoting days in which trading volume is at least double its moving-average\n",
    "spy_df['surge_day'] = spy_df['volume_ratio'].apply(lambda x: 1 if x>2 else 0)"
   ]
  },
  {
   "cell_type": "code",
   "execution_count": 39,
   "metadata": {
    "scrolled": true
   },
   "outputs": [
    {
     "data": {
      "text/html": [
       "<div>\n",
       "<style scoped>\n",
       "    .dataframe tbody tr th:only-of-type {\n",
       "        vertical-align: middle;\n",
       "    }\n",
       "\n",
       "    .dataframe tbody tr th {\n",
       "        vertical-align: top;\n",
       "    }\n",
       "\n",
       "    .dataframe thead th {\n",
       "        text-align: right;\n",
       "    }\n",
       "</style>\n",
       "<table border=\"1\" class=\"dataframe\">\n",
       "  <thead>\n",
       "    <tr style=\"text-align: right;\">\n",
       "      <th></th>\n",
       "      <th>Open</th>\n",
       "      <th>High</th>\n",
       "      <th>Low</th>\n",
       "      <th>Close</th>\n",
       "      <th>Adj Close</th>\n",
       "      <th>Volume</th>\n",
       "      <th>200day_return</th>\n",
       "      <th>200_days_ago</th>\n",
       "      <th>daily_return</th>\n",
       "      <th>20day_return</th>\n",
       "      <th>month</th>\n",
       "      <th>inclination</th>\n",
       "      <th>volume_200ma</th>\n",
       "      <th>volume_ratio</th>\n",
       "      <th>surge_day</th>\n",
       "    </tr>\n",
       "    <tr>\n",
       "      <th>Date</th>\n",
       "      <th></th>\n",
       "      <th></th>\n",
       "      <th></th>\n",
       "      <th></th>\n",
       "      <th></th>\n",
       "      <th></th>\n",
       "      <th></th>\n",
       "      <th></th>\n",
       "      <th></th>\n",
       "      <th></th>\n",
       "      <th></th>\n",
       "      <th></th>\n",
       "      <th></th>\n",
       "      <th></th>\n",
       "      <th></th>\n",
       "    </tr>\n",
       "  </thead>\n",
       "  <tbody>\n",
       "    <tr>\n",
       "      <th>1994-10-13</th>\n",
       "      <td>47.219</td>\n",
       "      <td>47.328</td>\n",
       "      <td>46.797</td>\n",
       "      <td>46.844</td>\n",
       "      <td>28.074</td>\n",
       "      <td>1564500</td>\n",
       "      <td>-0.004</td>\n",
       "      <td>47.031</td>\n",
       "      <td>0.003</td>\n",
       "      <td>-0.017</td>\n",
       "      <td>10</td>\n",
       "      <td>0.088</td>\n",
       "      <td>4.332e+05</td>\n",
       "      <td>3.612</td>\n",
       "      <td>1</td>\n",
       "    </tr>\n",
       "    <tr>\n",
       "      <th>1994-12-19</th>\n",
       "      <td>45.750</td>\n",
       "      <td>45.844</td>\n",
       "      <td>45.609</td>\n",
       "      <td>45.812</td>\n",
       "      <td>27.674</td>\n",
       "      <td>1120200</td>\n",
       "      <td>-0.019</td>\n",
       "      <td>46.688</td>\n",
       "      <td>0.001</td>\n",
       "      <td>-0.014</td>\n",
       "      <td>12</td>\n",
       "      <td>0.867</td>\n",
       "      <td>3.864e+05</td>\n",
       "      <td>2.899</td>\n",
       "      <td>1</td>\n",
       "    </tr>\n",
       "    <tr>\n",
       "      <th>1994-12-30</th>\n",
       "      <td>46.203</td>\n",
       "      <td>46.250</td>\n",
       "      <td>45.562</td>\n",
       "      <td>45.562</td>\n",
       "      <td>27.523</td>\n",
       "      <td>2209500</td>\n",
       "      <td>-0.036</td>\n",
       "      <td>47.250</td>\n",
       "      <td>-0.012</td>\n",
       "      <td>0.009</td>\n",
       "      <td>12</td>\n",
       "      <td>0.000</td>\n",
       "      <td>3.774e+05</td>\n",
       "      <td>5.855</td>\n",
       "      <td>1</td>\n",
       "    </tr>\n",
       "    <tr>\n",
       "      <th>1995-02-07</th>\n",
       "      <td>48.312</td>\n",
       "      <td>48.312</td>\n",
       "      <td>48.141</td>\n",
       "      <td>48.297</td>\n",
       "      <td>29.175</td>\n",
       "      <td>702900</td>\n",
       "      <td>0.077</td>\n",
       "      <td>44.859</td>\n",
       "      <td>0.001</td>\n",
       "      <td>0.047</td>\n",
       "      <td>2</td>\n",
       "      <td>0.909</td>\n",
       "      <td>3.189e+05</td>\n",
       "      <td>2.204</td>\n",
       "      <td>1</td>\n",
       "    </tr>\n",
       "    <tr>\n",
       "      <th>1995-05-03</th>\n",
       "      <td>51.734</td>\n",
       "      <td>52.281</td>\n",
       "      <td>51.734</td>\n",
       "      <td>52.281</td>\n",
       "      <td>31.753</td>\n",
       "      <td>724700</td>\n",
       "      <td>0.152</td>\n",
       "      <td>45.375</td>\n",
       "      <td>0.014</td>\n",
       "      <td>0.034</td>\n",
       "      <td>5</td>\n",
       "      <td>1.000</td>\n",
       "      <td>2.730e+05</td>\n",
       "      <td>2.655</td>\n",
       "      <td>1</td>\n",
       "    </tr>\n",
       "    <tr>\n",
       "      <th>...</th>\n",
       "      <td>...</td>\n",
       "      <td>...</td>\n",
       "      <td>...</td>\n",
       "      <td>...</td>\n",
       "      <td>...</td>\n",
       "      <td>...</td>\n",
       "      <td>...</td>\n",
       "      <td>...</td>\n",
       "      <td>...</td>\n",
       "      <td>...</td>\n",
       "      <td>...</td>\n",
       "      <td>...</td>\n",
       "      <td>...</td>\n",
       "      <td>...</td>\n",
       "      <td>...</td>\n",
       "    </tr>\n",
       "    <tr>\n",
       "      <th>2022-01-26</th>\n",
       "      <td>440.720</td>\n",
       "      <td>444.040</td>\n",
       "      <td>428.860</td>\n",
       "      <td>433.380</td>\n",
       "      <td>426.461</td>\n",
       "      <td>186391100</td>\n",
       "      <td>0.050</td>\n",
       "      <td>412.860</td>\n",
       "      <td>-0.003</td>\n",
       "      <td>-0.091</td>\n",
       "      <td>1</td>\n",
       "      <td>0.298</td>\n",
       "      <td>7.481e+07</td>\n",
       "      <td>2.492</td>\n",
       "      <td>1</td>\n",
       "    </tr>\n",
       "    <tr>\n",
       "      <th>2022-01-28</th>\n",
       "      <td>432.680</td>\n",
       "      <td>442.000</td>\n",
       "      <td>427.820</td>\n",
       "      <td>441.950</td>\n",
       "      <td>434.895</td>\n",
       "      <td>164457400</td>\n",
       "      <td>0.063</td>\n",
       "      <td>415.870</td>\n",
       "      <td>0.025</td>\n",
       "      <td>-0.072</td>\n",
       "      <td>1</td>\n",
       "      <td>0.996</td>\n",
       "      <td>7.577e+07</td>\n",
       "      <td>2.170</td>\n",
       "      <td>1</td>\n",
       "    </tr>\n",
       "    <tr>\n",
       "      <th>2022-01-31</th>\n",
       "      <td>441.240</td>\n",
       "      <td>450.280</td>\n",
       "      <td>439.810</td>\n",
       "      <td>449.910</td>\n",
       "      <td>442.728</td>\n",
       "      <td>152251400</td>\n",
       "      <td>0.078</td>\n",
       "      <td>417.260</td>\n",
       "      <td>0.018</td>\n",
       "      <td>-0.053</td>\n",
       "      <td>1</td>\n",
       "      <td>0.965</td>\n",
       "      <td>7.612e+07</td>\n",
       "      <td>2.000</td>\n",
       "      <td>1</td>\n",
       "    </tr>\n",
       "    <tr>\n",
       "      <th>2022-02-24</th>\n",
       "      <td>411.020</td>\n",
       "      <td>428.760</td>\n",
       "      <td>410.640</td>\n",
       "      <td>428.300</td>\n",
       "      <td>421.462</td>\n",
       "      <td>213942900</td>\n",
       "      <td>0.034</td>\n",
       "      <td>414.210</td>\n",
       "      <td>0.015</td>\n",
       "      <td>-0.012</td>\n",
       "      <td>2</td>\n",
       "      <td>0.975</td>\n",
       "      <td>7.984e+07</td>\n",
       "      <td>2.680</td>\n",
       "      <td>1</td>\n",
       "    </tr>\n",
       "    <tr>\n",
       "      <th>2022-03-08</th>\n",
       "      <td>419.620</td>\n",
       "      <td>427.210</td>\n",
       "      <td>415.120</td>\n",
       "      <td>416.250</td>\n",
       "      <td>409.605</td>\n",
       "      <td>164772700</td>\n",
       "      <td>0.003</td>\n",
       "      <td>414.940</td>\n",
       "      <td>-0.008</td>\n",
       "      <td>-0.069</td>\n",
       "      <td>3</td>\n",
       "      <td>0.093</td>\n",
       "      <td>8.152e+07</td>\n",
       "      <td>2.021</td>\n",
       "      <td>1</td>\n",
       "    </tr>\n",
       "  </tbody>\n",
       "</table>\n",
       "<p>461 rows × 15 columns</p>\n",
       "</div>"
      ],
      "text/plain": [
       "               Open     High      Low    Close  Adj Close     Volume  \\\n",
       "Date                                                                   \n",
       "1994-10-13   47.219   47.328   46.797   46.844     28.074    1564500   \n",
       "1994-12-19   45.750   45.844   45.609   45.812     27.674    1120200   \n",
       "1994-12-30   46.203   46.250   45.562   45.562     27.523    2209500   \n",
       "1995-02-07   48.312   48.312   48.141   48.297     29.175     702900   \n",
       "1995-05-03   51.734   52.281   51.734   52.281     31.753     724700   \n",
       "...             ...      ...      ...      ...        ...        ...   \n",
       "2022-01-26  440.720  444.040  428.860  433.380    426.461  186391100   \n",
       "2022-01-28  432.680  442.000  427.820  441.950    434.895  164457400   \n",
       "2022-01-31  441.240  450.280  439.810  449.910    442.728  152251400   \n",
       "2022-02-24  411.020  428.760  410.640  428.300    421.462  213942900   \n",
       "2022-03-08  419.620  427.210  415.120  416.250    409.605  164772700   \n",
       "\n",
       "            200day_return  200_days_ago  daily_return  20day_return  month  \\\n",
       "Date                                                                         \n",
       "1994-10-13         -0.004        47.031         0.003        -0.017     10   \n",
       "1994-12-19         -0.019        46.688         0.001        -0.014     12   \n",
       "1994-12-30         -0.036        47.250        -0.012         0.009     12   \n",
       "1995-02-07          0.077        44.859         0.001         0.047      2   \n",
       "1995-05-03          0.152        45.375         0.014         0.034      5   \n",
       "...                   ...           ...           ...           ...    ...   \n",
       "2022-01-26          0.050       412.860        -0.003        -0.091      1   \n",
       "2022-01-28          0.063       415.870         0.025        -0.072      1   \n",
       "2022-01-31          0.078       417.260         0.018        -0.053      1   \n",
       "2022-02-24          0.034       414.210         0.015        -0.012      2   \n",
       "2022-03-08          0.003       414.940        -0.008        -0.069      3   \n",
       "\n",
       "            inclination  volume_200ma  volume_ratio  surge_day  \n",
       "Date                                                            \n",
       "1994-10-13        0.088     4.332e+05         3.612          1  \n",
       "1994-12-19        0.867     3.864e+05         2.899          1  \n",
       "1994-12-30        0.000     3.774e+05         5.855          1  \n",
       "1995-02-07        0.909     3.189e+05         2.204          1  \n",
       "1995-05-03        1.000     2.730e+05         2.655          1  \n",
       "...                 ...           ...           ...        ...  \n",
       "2022-01-26        0.298     7.481e+07         2.492          1  \n",
       "2022-01-28        0.996     7.577e+07         2.170          1  \n",
       "2022-01-31        0.965     7.612e+07         2.000          1  \n",
       "2022-02-24        0.975     7.984e+07         2.680          1  \n",
       "2022-03-08        0.093     8.152e+07         2.021          1  \n",
       "\n",
       "[461 rows x 15 columns]"
      ]
     },
     "execution_count": 39,
     "metadata": {},
     "output_type": "execute_result"
    }
   ],
   "source": [
    "## Do this to check that high-volume days are correctly defined\n",
    "spy_df[spy_df['surge_day']==1]"
   ]
  },
  {
   "cell_type": "code",
   "execution_count": 40,
   "metadata": {
    "scrolled": true
   },
   "outputs": [
    {
     "data": {
      "image/png": "[encoded data removed]",
      "text/plain": [
       "<Figure size 432x288 with 1 Axes>"
      ]
     },
     "metadata": {
      "needs_background": "light"
     },
     "output_type": "display_data"
    }
   ],
   "source": [
    "plt.plot(np.cumsum(spy_df['surge_day']))\n",
    "plt.title(\"Cummulative number of 'surge days'\")\n",
    "plt.show()\n",
    "## We are looking out for 'sharp increases' in short period of time, to indicate that period sees frequent high trading volume."
   ]
  },
  {
   "cell_type": "markdown",
   "metadata": {},
   "source": [
    "We see that during the period of year 2009 till the end 2019, there are few days that saw a sudden surge in the traded volume of S&P500 ETF. However, year 2020 saw a relatively large number of 'surge days'. You can perform further analysis to check whether these surge days coincides with large price movements."
   ]
  },
  {
   "cell_type": "code",
   "execution_count": null,
   "metadata": {},
   "outputs": [],
   "source": []
  }
 ],
 "metadata": {
  "kernelspec": {
   "display_name": "Python 3 (ipykernel)",
   "language": "python",
   "name": "python3"
  },
  "language_info": {
   "codemirror_mode": {
    "name": "ipython",
    "version": 3
   },
   "file_extension": ".py",
   "mimetype": "text/x-python",
   "name": "python",
   "nbconvert_exporter": "python",
   "pygments_lexer": "ipython3",
   "version": "3.10.9"
  }
 },
 "nbformat": 4,
 "nbformat_minor": 4
}
