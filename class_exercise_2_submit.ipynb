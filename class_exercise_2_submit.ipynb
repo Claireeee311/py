{
 "cells": [
  {
   "cell_type": "markdown",
   "metadata": {},
   "source": [
    "## Python programming and Data Analysis\n",
    "\n",
    "## [Submit] Class Exercise 2 -- Python Intermediate"
   ]
  },
  {
   "cell_type": "markdown",
   "metadata": {},
   "source": [
    "### Exercise 2.11: Find all prime numbers in a list\n",
    "\n",
    "Given a list of integers, find all the prime numbers that exists in that given list.\n",
    "\n",
    "*Example* <br>\n",
    "*input --> num_list = [3, 5, 7, 9]* <br>\n",
    "*output <-- [3, 5, 7]*"
   ]
  },
  {
   "cell_type": "code",
   "execution_count": null,
   "metadata": {},
   "outputs": [],
   "source": [
    "num_list = [649, 778, 652, 653, 912, 402, 917, 536, 664, 922, 284, 158, 415, 672, 673, 33, 419, 414, 421, 811, 683, 48, 818, 566, 567, 310, 580, 838, 199, 586, 458, 460, 337, 728, 604, 94, 607, 865, 354, 230, 367, 752, 625, 371, 505, 635, 893, 382, 767]"
   ]
  },
  {
   "cell_type": "code",
   "execution_count": null,
   "metadata": {},
   "outputs": [],
   "source": [
    "# write your Python code here"
   ]
  },
  {
   "cell_type": "markdown",
   "metadata": {},
   "source": [
    "### Exercise 2.12: Using function with lambda to find all prime numbers\n",
    "\n",
    "Using the prime function you created in Qn 1.24 (of Tutorial 1) and lambda, solve the above Exercise 2.11 (ie. find all the prime numbers in a given list) using just one line.\n",
    "\n",
    "*Hint: use filter, lambda, and a function all together*"
   ]
  },
  {
   "cell_type": "code",
   "execution_count": null,
   "metadata": {},
   "outputs": [],
   "source": [
    "# write your Python code here"
   ]
  },
  {
   "cell_type": "markdown",
   "metadata": {},
   "source": [
    "### Exercise 2.13: Build a class called Parallelogram\n",
    "\n",
    "Create your own class (name the class as `Parallelogram`) that takes length, width and angle in degrees between sides as arguments. This class should have two methods; `perimeter` and `area`. With this, create an instance of Parallelogram with length 5, width 6 and angle 60. Then, print out its perimeter and area.\n",
    "\n",
    "*Hint: it may be helpful to import math if you want to compute sine or cosine.*"
   ]
  },
  {
   "cell_type": "code",
   "execution_count": 1,
   "metadata": {},
   "outputs": [],
   "source": [
    "import math\n",
    "\n",
    "class Parallelogram:\n",
    "    def __init__(self, length, width, angle):\n",
    "        self.length = length\n",
    "        self.width = width\n",
    "        self.angle = angle\n",
    "    def perimeter(self):\n",
    "        return 2*(self.length + self.width)\n",
    "    def area(self):\n",
    "        return self.length * self.width * math.sin(self.angle/180 * math.pi)\n"
   ]
  },
  {
   "cell_type": "code",
   "execution_count": 4,
   "metadata": {},
   "outputs": [
    {
     "name": "stdout",
     "output_type": "stream",
     "text": [
      "22\n",
      "25.980762113533157\n"
     ]
    }
   ],
   "source": [
    "paral = Parallelogram(5, 6, 60)\n",
    "print(paral.perimeter())\n",
    "print(paral.area())"
   ]
  },
  {
   "cell_type": "markdown",
   "metadata": {},
   "source": [
    "### Exercise 2.14: Inheritance I\n",
    "\n",
    "Write a `Rhombus` class that inherits from the `Parallelogram` class. Create an instance named `rh` with length 5 and angle 60, print out its perimeter and area."
   ]
  },
  {
   "cell_type": "code",
   "execution_count": 8,
   "metadata": {},
   "outputs": [],
   "source": [
    "class Rhombus(Parallelogram):\n",
    "    def __init__(self, length,angle):\n",
    "        super().__init__(length= length, width= length, angle=angle)\n",
    "    \n",
    "        \n",
    "            "
   ]
  },
  {
   "cell_type": "code",
   "execution_count": 9,
   "metadata": {},
   "outputs": [
    {
     "name": "stdout",
     "output_type": "stream",
     "text": [
      "20\n",
      "21.650635094610966\n"
     ]
    }
   ],
   "source": [
    "rh = Rhombus(5, 60)\n",
    "print(rh.perimeter())\n",
    "print(rh.area())"
   ]
  },
  {
   "cell_type": "markdown",
   "metadata": {},
   "source": [
    "### Exercise 2.15: Inheritance II\n",
    "\n",
    "Write a `Square` class that inherits from the `Rhombus` class. Create an instance named `sq` with length 5, print out its perimeter and area. Write a method, named `area`, that will return \"The area of a square with length xxx is xxx\"."
   ]
  },
  {
   "cell_type": "code",
   "execution_count": 21,
   "metadata": {},
   "outputs": [],
   "source": [
    "class Square(Rhombus):\n",
    "    def __init__(self,length):\n",
    "        self.length = length\n",
    "        self.width = length\n",
    "        self.angle = 90\n",
    "    \n",
    "    def area(self):\n",
    "        return \"The area of a square with length\" + ' '+str(self.length)+' '+ \"is\" + ' ' + 2*str(self.length)"
   ]
  },
  {
   "cell_type": "code",
   "execution_count": 22,
   "metadata": {},
   "outputs": [
    {
     "name": "stdout",
     "output_type": "stream",
     "text": [
      "20\n",
      "The area of a square with length 5 is 55\n"
     ]
    }
   ],
   "source": [
    "sq = Square(5)\n",
    "print(sq.perimeter())\n",
    "print(sq.area())"
   ]
  },
  {
   "cell_type": "code",
   "execution_count": 31,
   "metadata": {},
   "outputs": [
    {
     "name": "stdout",
     "output_type": "stream",
     "text": [
      "<re.Match object; span=(0, 3), match='abc'>\n",
      "<re.Match object; span=(16, 19), match='abc'>\n",
      "<re.Match object; span=(20, 23), match='abc'>\n",
      "<generator object <genexpr> at 0x7fda5f0821f0>\n",
      "<callable_iterator object at 0x7fda5e3e6f80>\n",
      "<re.Match object; span=(0, 3), match='abc'>\n",
      "['abc', 'abc', 'abc']\n"
     ]
    }
   ],
   "source": [
    "import re \n",
    "pat = re.compile(r'abc')\n",
    "match_1 = pat.search('abc,ABC,ABc,AbC,abc')\n",
    "match_2 = pat.findall('abc,ABC,ABc,AbC,abc,abc')\n",
    "finditer1 = pat.finditer('abc,ABC,ABc,AbC,abc,abc')\n",
    "for m in finditer1:\n",
    "    print(m)\n",
    "print(m for m in finditer1)\n",
    "print(finditer1)\n",
    "\n",
    "print(match_1)\n",
    "print(match_2)"
   ]
  },
  {
   "cell_type": "code",
   "execution_count": 49,
   "metadata": {},
   "outputs": [
    {
     "name": "stdout",
     "output_type": "stream",
     "text": [
      "['a', '', '', '', '', '', '', '', '', '']\n"
     ]
    }
   ],
   "source": [
    "import re\n",
    "p = re.compile(r'a?')\n",
    "m = p.findall('abcABD123')\n",
    "print(m)"
   ]
  },
  {
   "cell_type": "code",
   "execution_count": null,
   "metadata": {},
   "outputs": [],
   "source": []
  }
 ],
 "metadata": {
  "kernelspec": {
   "display_name": "Python 3 (ipykernel)",
   "language": "python",
   "name": "python3"
  },
  "language_info": {
   "codemirror_mode": {
    "name": "ipython",
    "version": 3
   },
   "file_extension": ".py",
   "mimetype": "text/x-python",
   "name": "python",
   "nbconvert_exporter": "python",
   "pygments_lexer": "ipython3",
   "version": "3.10.9"
  }
 },
 "nbformat": 4,
 "nbformat_minor": 2
}
