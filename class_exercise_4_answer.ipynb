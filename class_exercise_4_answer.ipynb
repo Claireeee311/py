{
 "cells": [
  {
   "cell_type": "markdown",
   "metadata": {},
   "source": [
    "## Python programming and Data Analysis\n",
    "\n",
    "## [Sample solution] Class Exercise 4"
   ]
  },
  {
   "cell_type": "code",
   "execution_count": 1,
   "metadata": {},
   "outputs": [],
   "source": [
    "import numpy as np\n",
    "import pandas as pd"
   ]
  },
  {
   "cell_type": "markdown",
   "metadata": {},
   "source": [
    "## Numpy"
   ]
  },
  {
   "cell_type": "markdown",
   "metadata": {},
   "source": [
    "### Exercise 4.11"
   ]
  },
  {
   "cell_type": "code",
   "execution_count": null,
   "metadata": {},
   "outputs": [],
   "source": [
    "arr_1 = np.arange(10,-11,-1)\n",
    "arr_2 = np.zeros((10,))\n",
    "arr_3 = np.ones((15,))\n",
    "arr_4 = np.arange(5,14).reshape(3,3)\n",
    "arr_5 = np.random.rand(3, 3)\n",
    "arr_6 = np.arange(1,10).reshape(3,3).T\n",
    "arr_7 = np.arange(1,10).reshape(3,3)[:,::-1]\n",
    "arr_8 = np.arange(1,10).reshape(3,3)[::-1,::-1]"
   ]
  },
  {
   "cell_type": "markdown",
   "metadata": {},
   "source": [
    "Create the following numpy arrays:"
   ]
  },
  {
   "cell_type": "markdown",
   "metadata": {},
   "source": [
    "**1**. a vector containing number 10 to -10 in descending order."
   ]
  },
  {
   "cell_type": "code",
   "execution_count": 2,
   "metadata": {
    "scrolled": true
   },
   "outputs": [
    {
     "name": "stdout",
     "output_type": "stream",
     "text": [
      "[ 10   9   8   7   6   5   4   3   2   1   0  -1  -2  -3  -4  -5  -6  -7\n",
      "  -8  -9 -10]\n"
     ]
    }
   ],
   "source": [
    "arr_1 = np.arange(10,-11,-1)\n",
    "print(arr_1)"
   ]
  },
  {
   "cell_type": "markdown",
   "metadata": {},
   "source": [
    "**2**. a vector containing 10 zeros."
   ]
  },
  {
   "cell_type": "code",
   "execution_count": 3,
   "metadata": {},
   "outputs": [
    {
     "name": "stdout",
     "output_type": "stream",
     "text": [
      "[0. 0. 0. 0. 0. 0. 0. 0. 0. 0.]\n"
     ]
    }
   ],
   "source": [
    "arr_2 = np.zeros((10,))\n",
    "print(arr_2)"
   ]
  },
  {
   "cell_type": "markdown",
   "metadata": {},
   "source": [
    "**3**. a vector containing 15 ones."
   ]
  },
  {
   "cell_type": "code",
   "execution_count": 4,
   "metadata": {},
   "outputs": [
    {
     "name": "stdout",
     "output_type": "stream",
     "text": [
      "[1. 1. 1. 1. 1. 1. 1. 1. 1. 1. 1. 1. 1. 1. 1.]\n"
     ]
    }
   ],
   "source": [
    "arr_3 = np.ones((15,))\n",
    "print(arr_3)"
   ]
  },
  {
   "cell_type": "markdown",
   "metadata": {},
   "source": [
    "**4**. this 3x3 matrix:\n",
    "```\n",
    "5 6 7\n",
    "8 9 10\n",
    "11 12 13\n",
    "```"
   ]
  },
  {
   "cell_type": "code",
   "execution_count": 5,
   "metadata": {},
   "outputs": [
    {
     "name": "stdout",
     "output_type": "stream",
     "text": [
      "[[ 5  6  7]\n",
      " [ 8  9 10]\n",
      " [11 12 13]]\n"
     ]
    }
   ],
   "source": [
    "arr_4 = np.arange(5,14).reshape(3,3)\n",
    "print(arr_4)"
   ]
  },
  {
   "cell_type": "markdown",
   "metadata": {},
   "source": [
    "**5**. a 3x3 matrix with random numbers"
   ]
  },
  {
   "cell_type": "code",
   "execution_count": 6,
   "metadata": {},
   "outputs": [
    {
     "name": "stdout",
     "output_type": "stream",
     "text": [
      "[[0.43008466 0.35717116 0.39590249]\n",
      " [0.96655984 0.61327482 0.62390726]\n",
      " [0.63801693 0.51829928 0.79468279]]\n"
     ]
    }
   ],
   "source": [
    "arr_5 = np.random.rand(3, 3)\n",
    "print(arr_5)"
   ]
  },
  {
   "cell_type": "markdown",
   "metadata": {},
   "source": [
    "**6**. this 3x3 matrix (without typing every element):\n",
    "```\n",
    "1 4 7\n",
    "2 5 8\n",
    "3 6 9\n",
    "```"
   ]
  },
  {
   "cell_type": "code",
   "execution_count": 7,
   "metadata": {},
   "outputs": [
    {
     "name": "stdout",
     "output_type": "stream",
     "text": [
      "[[1 4 7]\n",
      " [2 5 8]\n",
      " [3 6 9]]\n"
     ]
    }
   ],
   "source": [
    "arr_6 = np.arange(1,10).reshape(3,3).T\n",
    "print(arr_6)"
   ]
  },
  {
   "cell_type": "markdown",
   "metadata": {},
   "source": [
    "**7**. this 3x3 matrix (without typing every element):\n",
    "```\n",
    "3 2 1\n",
    "6 5 4\n",
    "9 8 7\n",
    "```"
   ]
  },
  {
   "cell_type": "code",
   "execution_count": 8,
   "metadata": {},
   "outputs": [
    {
     "name": "stdout",
     "output_type": "stream",
     "text": [
      "[[3 2 1]\n",
      " [6 5 4]\n",
      " [9 8 7]]\n"
     ]
    }
   ],
   "source": [
    "arr_7 = np.arange(1,10).reshape(3,3)[:,::-1]\n",
    "# can also use np.array([[i+j*3 for i in range(3,0,-1)] for j in range(3)])\n",
    "print(arr_7)"
   ]
  },
  {
   "cell_type": "markdown",
   "metadata": {},
   "source": [
    "**8**. this 3x3 matrix (without typing every element):\n",
    "```\n",
    "9 8 7\n",
    "6 5 4\n",
    "3 2 1\n",
    "```"
   ]
  },
  {
   "cell_type": "code",
   "execution_count": 9,
   "metadata": {},
   "outputs": [
    {
     "name": "stdout",
     "output_type": "stream",
     "text": [
      "[[9 8 7]\n",
      " [6 5 4]\n",
      " [3 2 1]]\n"
     ]
    }
   ],
   "source": [
    "arr_8 = np.arange(1,10).reshape(3,3)[::-1,::-1]  # or np.arange(9,0,-1).reshape(3,3)\n",
    "print(arr_8)"
   ]
  },
  {
   "cell_type": "markdown",
   "metadata": {},
   "source": [
    "### Exercise 4.12"
   ]
  },
  {
   "cell_type": "markdown",
   "metadata": {},
   "source": [
    "Define a function ```to_nested_list()``` that takes a 2d array and returns the corresponding nested list.\n",
    "\n",
    "For example:\n",
    "```python\n",
    "print(to_nested_list(np.array([[1, 2, 3], [4, 5, 6]]))\n",
    "```\n",
    "\n",
    "will output\n",
    "```python\n",
    "[[1, 2, 3],  [4, 5, 6]]\n",
    "```"
   ]
  },
  {
   "cell_type": "code",
   "execution_count": 10,
   "metadata": {},
   "outputs": [
    {
     "data": {
      "text/plain": [
       "array([[1, 2, 3],\n",
       "       [4, 5, 6]])"
      ]
     },
     "execution_count": 10,
     "metadata": {},
     "output_type": "execute_result"
    }
   ],
   "source": [
    "# test case\n",
    "arr_test = np.arange(1,7).reshape(2,3)\n",
    "arr_test"
   ]
  },
  {
   "cell_type": "code",
   "execution_count": 11,
   "metadata": {},
   "outputs": [],
   "source": [
    "def to_nested_list(arr):\n",
    "    return [list(row) for row in arr]   # can also use arr.tolist()"
   ]
  },
  {
   "cell_type": "code",
   "execution_count": 12,
   "metadata": {},
   "outputs": [
    {
     "data": {
      "text/plain": [
       "[[1, 2, 3], [4, 5, 6]]"
      ]
     },
     "execution_count": 12,
     "metadata": {},
     "output_type": "execute_result"
    }
   ],
   "source": [
    "to_nested_list(arr_test)"
   ]
  },
  {
   "cell_type": "code",
   "execution_count": null,
   "metadata": {},
   "outputs": [],
   "source": []
  },
  {
   "cell_type": "markdown",
   "metadata": {},
   "source": [
    "## Pandas"
   ]
  },
  {
   "cell_type": "markdown",
   "metadata": {},
   "source": [
    "### Exercise 4.13"
   ]
  },
  {
   "cell_type": "markdown",
   "metadata": {},
   "source": [
    "**1**. Given two lists of the same size, `l1` and `l2`, use `l1` as the index and `l2` as the data to create a pandas Series `s`."
   ]
  },
  {
   "cell_type": "code",
   "execution_count": 13,
   "metadata": {
    "scrolled": true
   },
   "outputs": [
    {
     "name": "stdout",
     "output_type": "stream",
     "text": [
      "[5, 7, 9, 11, 13, 15, 17, 19]\n",
      "[0, 5, 10, 15, 20, 25, 30, 35]\n"
     ]
    }
   ],
   "source": [
    "l1 = list(range(5, 20, 2))\n",
    "print(l1)\n",
    "l2 = [5*n for n in range(len(l1))]\n",
    "print(l2)"
   ]
  },
  {
   "cell_type": "code",
   "execution_count": 14,
   "metadata": {},
   "outputs": [
    {
     "name": "stdout",
     "output_type": "stream",
     "text": [
      "5      0\n",
      "7      5\n",
      "9     10\n",
      "11    15\n",
      "13    20\n",
      "15    25\n",
      "17    30\n",
      "19    35\n",
      "dtype: int64\n"
     ]
    }
   ],
   "source": [
    "s = pd.Series(l2, index=l1)\n",
    "print(s)"
   ]
  },
  {
   "cell_type": "markdown",
   "metadata": {},
   "source": [
    "**2**. create another pandas Series `s1` from `s`, using the index in `s` as data in `s1` and the data in `s` as index in `s1`."
   ]
  },
  {
   "cell_type": "code",
   "execution_count": 15,
   "metadata": {},
   "outputs": [
    {
     "name": "stdout",
     "output_type": "stream",
     "text": [
      "0      5\n",
      "5      7\n",
      "10     9\n",
      "15    11\n",
      "20    13\n",
      "25    15\n",
      "30    17\n",
      "35    19\n",
      "dtype: int64\n"
     ]
    }
   ],
   "source": [
    "s1 = pd.Series(s.index, index=s.values)\n",
    "print(s1)"
   ]
  },
  {
   "cell_type": "markdown",
   "metadata": {},
   "source": [
    "**3**. multiply all items in `s` by 2."
   ]
  },
  {
   "cell_type": "code",
   "execution_count": 16,
   "metadata": {},
   "outputs": [
    {
     "name": "stdout",
     "output_type": "stream",
     "text": [
      "5      0\n",
      "7     10\n",
      "9     20\n",
      "11    30\n",
      "13    40\n",
      "15    50\n",
      "17    60\n",
      "19    70\n",
      "dtype: int64\n"
     ]
    }
   ],
   "source": [
    "s = s*2\n",
    "print(s)"
   ]
  },
  {
   "cell_type": "markdown",
   "metadata": {},
   "source": [
    "**4**. change the index of `s` to lower-case letters 'a', 'b', ..., 'h'."
   ]
  },
  {
   "cell_type": "code",
   "execution_count": 17,
   "metadata": {},
   "outputs": [
    {
     "name": "stdout",
     "output_type": "stream",
     "text": [
      "a     0\n",
      "b    10\n",
      "c    20\n",
      "d    30\n",
      "e    40\n",
      "f    50\n",
      "g    60\n",
      "h    70\n",
      "dtype: int64\n"
     ]
    }
   ],
   "source": [
    "s.index = ['a', 'b', 'c', 'd', 'e', 'f', 'g', 'h']   # or simply list('abcdefgh')\n",
    "print(s)"
   ]
  },
  {
   "cell_type": "markdown",
   "metadata": {},
   "source": [
    "**5**. define a function to add 1 to first item in `s`, 2 to second item, 3 to third item, etc."
   ]
  },
  {
   "cell_type": "code",
   "execution_count": 18,
   "metadata": {},
   "outputs": [
    {
     "data": {
      "text/plain": [
       "a     0\n",
       "b    10\n",
       "c    20\n",
       "d    30\n",
       "e    40\n",
       "f    50\n",
       "g    60\n",
       "h    70\n",
       "dtype: int64"
      ]
     },
     "execution_count": 18,
     "metadata": {},
     "output_type": "execute_result"
    }
   ],
   "source": [
    "s"
   ]
  },
  {
   "cell_type": "code",
   "execution_count": 19,
   "metadata": {
    "scrolled": true
   },
   "outputs": [
    {
     "data": {
      "text/plain": [
       "a     1\n",
       "b    12\n",
       "c    23\n",
       "d    34\n",
       "e    45\n",
       "f    56\n",
       "g    67\n",
       "h    78\n",
       "dtype: int64"
      ]
     },
     "execution_count": 19,
     "metadata": {},
     "output_type": "execute_result"
    }
   ],
   "source": [
    "def add_n(ser):\n",
    "    # ser = ser + [i+1 for i in range(len(ser))]  # method 4\n",
    "    for i in range(len(ser)):\n",
    "        ser[ser.index[i]] += i+1   # method 1\n",
    "        # ser.iloc[i] += i+1   # method 2\n",
    "    return ser\n",
    "\n",
    "add_n(s)"
   ]
  },
  {
   "cell_type": "markdown",
   "metadata": {},
   "source": [
    "### Exercise 4.14"
   ]
  },
  {
   "cell_type": "markdown",
   "metadata": {},
   "source": [
    "1. Given a dictionary containing student names and their marks of three courses, create a DataFrame with their names as index and course names as columns.\n",
    "```python\n",
    "marks = { 'Names': ['James', 'Andrew', 'Bob', 'Carlson'],\n",
    "          'English': [58, 62, 77, 65],\n",
    "          'Chinese': [55, 32, 64, 80],\n",
    "          'Math': [61, 70, 81, 54]}\n",
    "```"
   ]
  },
  {
   "cell_type": "code",
   "execution_count": 20,
   "metadata": {},
   "outputs": [
    {
     "name": "stdout",
     "output_type": "stream",
     "text": [
      "         English  Chinese  Math\n",
      "Names                          \n",
      "James         58       55    61\n",
      "Andrew        62       32    70\n",
      "Bob           77       64    81\n",
      "Carlson       65       80    54\n"
     ]
    }
   ],
   "source": [
    "marks = { \n",
    "    'Names': ['James', 'Andrew', 'Bob', 'Carlson'],\n",
    "    'English': [58, 62, 77, 65],\n",
    "    'Chinese': [55, 32, 64, 80],\n",
    "    'Math': [61, 70, 81, 54]\n",
    "}\n",
    "\n",
    "df = pd.DataFrame(marks)\n",
    "df.set_index('Names', inplace=True)\n",
    "print(df)"
   ]
  },
  {
   "cell_type": "markdown",
   "metadata": {},
   "source": [
    "2. Given a dictionary containing students names and their marks of three courses, create a DataFrame with their names as index and course names as columns. Use the same column names as above.\n",
    "```\n",
    "marks = {'James': [58, 55, 61],\n",
    "         'Andrew': [62, 32, 70],\n",
    "         'Bob': [77, 64, 81],\n",
    "         'Carlson': [65, 80, 54]}\n",
    "```"
   ]
  },
  {
   "cell_type": "code",
   "execution_count": 21,
   "metadata": {},
   "outputs": [
    {
     "name": "stdout",
     "output_type": "stream",
     "text": [
      "         English  Chinese  Math\n",
      "James         58       55    61\n",
      "Andrew        62       32    70\n",
      "Bob           77       64    81\n",
      "Carlson       65       80    54\n"
     ]
    }
   ],
   "source": [
    "marks = {\n",
    "    'James': [58, 55, 61],\n",
    "    'Andrew': [62, 32, 70],\n",
    "    'Bob': [77, 64, 81],\n",
    "    'Carlson': [65, 80, 54]\n",
    "}\n",
    "\n",
    "df = pd.DataFrame(marks.values(),\n",
    "                  index=marks.keys(),\n",
    "                  columns=['English', 'Chinese', 'Math'])\n",
    "print(df)"
   ]
  },
  {
   "cell_type": "code",
   "execution_count": null,
   "metadata": {},
   "outputs": [],
   "source": []
  }
 ],
 "metadata": {
  "kernelspec": {
   "display_name": "Python 3",
   "language": "python",
   "name": "python3"
  },
  "language_info": {
   "codemirror_mode": {
    "name": "ipython",
    "version": 3
   },
   "file_extension": ".py",
   "mimetype": "text/x-python",
   "name": "python",
   "nbconvert_exporter": "python",
   "pygments_lexer": "ipython3",
   "version": "3.7.0"
  }
 },
 "nbformat": 4,
 "nbformat_minor": 4
}
