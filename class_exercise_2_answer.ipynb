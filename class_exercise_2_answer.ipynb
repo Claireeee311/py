{
 "cells": [
  {
   "cell_type": "markdown",
   "metadata": {},
   "source": [
    "## Python programming and Data Analysis\n",
    "\n",
    "## [Sample solution] Class Exercise 2 -- Python Intermediate"
   ]
  },
  {
   "cell_type": "markdown",
   "metadata": {},
   "source": [
    "### Exercise 2.11: Find all prime numbers in a list\n",
    "\n",
    "Given a list of integers, find all the prime numbers that exists in that given list\n",
    "\n",
    "*Example* <br>\n",
    "*input --> num_list = [3, 5, 7, 9]* <br>\n",
    "*output <-- [3, 5, 7]*"
   ]
  },
  {
   "cell_type": "code",
   "execution_count": 1,
   "metadata": {},
   "outputs": [],
   "source": [
    "num_list = [649, 778, 652, 653, 912, 402, 917, 536, 664, 922, 284, 158, 415, 672, 673, 33, 419, 414, 421, 811, 683, 48, 818, 566, 567, 310, 580, 838, 199, 586, 458, 460, 337, 728, 604, 94, 607, 865, 354, 230, 367, 752, 625, 371, 505, 635, 893, 382, 767]"
   ]
  },
  {
   "cell_type": "code",
   "execution_count": 2,
   "metadata": {},
   "outputs": [
    {
     "name": "stdout",
     "output_type": "stream",
     "text": [
      "[653, 673, 419, 421, 811, 683, 199, 337, 607, 367]\n"
     ]
    }
   ],
   "source": [
    "def prime(n):\n",
    "    if n==2:\n",
    "        return True\n",
    "    elif n % 2 == 0:                 # check whether n is an even number\n",
    "        return False\n",
    "    else:                                \n",
    "        for i in range(3, n, 2):     # starting from 3, increment by 2 at each step     \n",
    "            if n % i == 0:           # n is divisible by i\n",
    "                return False\n",
    "    return True\n",
    "\n",
    "\n",
    "prime_list = []    # initialize empty list\n",
    "\n",
    "for n in num_list:\n",
    "    if prime(n):\n",
    "        prime_list.append(n)\n",
    "\n",
    "print(prime_list)"
   ]
  },
  {
   "cell_type": "markdown",
   "metadata": {},
   "source": [
    "### Exercise 2.12: Using function with lambda to find all prime numbers\n",
    "\n",
    "Using the prime function you created above, solve the above Exercise 2.11 (ie. find all the prime numbers in a given list) using just one line.\n",
    "\n",
    "*Hint: use filter, lambda, and a function all together*"
   ]
  },
  {
   "cell_type": "code",
   "execution_count": 3,
   "metadata": {},
   "outputs": [
    {
     "name": "stdout",
     "output_type": "stream",
     "text": [
      "[653, 673, 419, 421, 811, 683, 199, 337, 607, 367]\n"
     ]
    }
   ],
   "source": [
    "primes = filter(lambda x: prime(x), num_list)\n",
    "print(list(primes))"
   ]
  },
  {
   "cell_type": "markdown",
   "metadata": {},
   "source": [
    "### Exercise 2.13: Build a class called Parallelogram\n",
    "\n",
    "Create your own class (name the class as `Parallelogram`) that takes length, width and angle in degrees between sides as arguments. This class should have two methods; `perimeter` and `area`. With this, create an instance of Parallelogram with length 5, width 6 and angle 60. Then, print out its perimeter and area.\n",
    "\n",
    "*Hint: it may be helpful to import math if you want to compute sine or cosine.*"
   ]
  },
  {
   "cell_type": "code",
   "execution_count": 4,
   "metadata": {},
   "outputs": [],
   "source": [
    "import math\n",
    "class Parallelogram:\n",
    "    def __init__(self, length, width, angle):\n",
    "        self.length = length\n",
    "        self.width = width\n",
    "        self.angle = angle\n",
    "\n",
    "    def perimeter(self):\n",
    "        return 2 * (self.length + self.width)\n",
    "\n",
    "    def area(self):\n",
    "        return self.length * self.width * math.sin(self.angle/180 * math.pi)"
   ]
  },
  {
   "cell_type": "code",
   "execution_count": 5,
   "metadata": {},
   "outputs": [
    {
     "name": "stdout",
     "output_type": "stream",
     "text": [
      "22\n",
      "25.980762113533157\n"
     ]
    }
   ],
   "source": [
    "paral = Parallelogram(5, 6, 60)\n",
    "print(paral.perimeter())\n",
    "print(paral.area())"
   ]
  },
  {
   "cell_type": "markdown",
   "metadata": {},
   "source": [
    "### Exercise 2.14: Inheritance I\n",
    "\n",
    "Write a `Rhombus` class that inherits from the `Parallelogram` class. Create an instance named `rh` with length 5 and angle 60, print out its perimeter and area."
   ]
  },
  {
   "cell_type": "code",
   "execution_count": 6,
   "metadata": {},
   "outputs": [],
   "source": [
    "class Rhombus(Parallelogram):\n",
    "    def __init__(self, length, angle):\n",
    "        super().__init__(length, length, angle)"
   ]
  },
  {
   "cell_type": "code",
   "execution_count": 7,
   "metadata": {},
   "outputs": [
    {
     "name": "stdout",
     "output_type": "stream",
     "text": [
      "20\n",
      "21.650635094610966\n"
     ]
    }
   ],
   "source": [
    "rh = Rhombus(5, 60)\n",
    "print(rh.perimeter())\n",
    "print(rh.area())"
   ]
  },
  {
   "cell_type": "markdown",
   "metadata": {},
   "source": [
    "### Exercise 2.15: Inheritance II\n",
    "\n",
    "Write a `Square` class that inherits from the `Rhombus` class. Create an instance named `sq` with length 5, print out its perimeter and area. Write a method, named `area`, that will return \"The area of a square with length xxx is xxx\"."
   ]
  },
  {
   "cell_type": "code",
   "execution_count": 8,
   "metadata": {},
   "outputs": [],
   "source": [
    "class Square(Rhombus):\n",
    "    def __init__(self, length):\n",
    "        super().__init__(length, angle = 90)\n",
    "\n",
    "    def area(self):\n",
    "        return \"The area of a square with length \" + str(self.length) + \" is \" + str(self.length ** 2)"
   ]
  },
  {
   "cell_type": "code",
   "execution_count": 9,
   "metadata": {},
   "outputs": [
    {
     "name": "stdout",
     "output_type": "stream",
     "text": [
      "20\n",
      "The area of a square with length 5 is 25\n"
     ]
    }
   ],
   "source": [
    "sq = Square(5)\n",
    "print(sq.perimeter())\n",
    "print(sq.area())"
   ]
  }
 ],
 "metadata": {
  "kernelspec": {
   "display_name": "Python 3",
   "language": "python",
   "name": "python3"
  },
  "language_info": {
   "codemirror_mode": {
    "name": "ipython",
    "version": 3
   },
   "file_extension": ".py",
   "mimetype": "text/x-python",
   "name": "python",
   "nbconvert_exporter": "python",
   "pygments_lexer": "ipython3",
   "version": "3.7.0"
  }
 },
 "nbformat": 4,
 "nbformat_minor": 2
}
