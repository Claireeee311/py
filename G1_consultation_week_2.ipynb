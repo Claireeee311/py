{
 "cells": [
  {
   "cell_type": "markdown",
   "metadata": {},
   "source": [
    "### Jan to Mar 2023\n",
    "#### Week 2"
   ]
  },
  {
   "cell_type": "code",
   "execution_count": 1,
   "metadata": {},
   "outputs": [],
   "source": [
    "s = 'abbabcdefghijihgfedcbaaabbbbaaaabbaaaabbbbaaabc'"
   ]
  },
  {
   "cell_type": "code",
   "execution_count": 31,
   "metadata": {},
   "outputs": [],
   "source": [
    "s = 'superreviverpp'"
   ]
  },
  {
   "cell_type": "code",
   "execution_count": 32,
   "metadata": {},
   "outputs": [
    {
     "data": {
      "text/plain": [
       "14"
      ]
     },
     "execution_count": 32,
     "metadata": {},
     "output_type": "execute_result"
    }
   ],
   "source": [
    "len(s)"
   ]
  },
  {
   "cell_type": "code",
   "execution_count": null,
   "metadata": {},
   "outputs": [],
   "source": []
  },
  {
   "cell_type": "code",
   "execution_count": 33,
   "metadata": {},
   "outputs": [
    {
     "name": "stdout",
     "output_type": "stream",
     "text": [
      "8\n",
      "12\n"
     ]
    }
   ],
   "source": [
    "for i in [8,12]:\n",
    "    print(i)"
   ]
  },
  {
   "cell_type": "code",
   "execution_count": 37,
   "metadata": {},
   "outputs": [
    {
     "name": "stdout",
     "output_type": "stream",
     "text": [
      "8 i\n",
      "i-j:  7 v i+j:  9 v\n",
      "True\n",
      "i-j:  6 e i+j:  10 e\n",
      "True\n",
      "i-j:  5 r i+j:  11 r\n",
      "True\n",
      "i-j:  4 r i+j:  12 p\n",
      "False\n",
      "We are going to stop now\n",
      "The palindrome we have found is:  reviver\n"
     ]
    }
   ],
   "source": [
    "n = len(s)\n",
    "\n",
    "# find palindromes with odd number of char\n",
    "#for i in range(n):\n",
    "for i in [8]:\n",
    "    print(i, s[i])\n",
    "    j = 1                           \n",
    "    while j <= i and j < n - i:               # consider strings center at [i], from index i-j to index i+j\n",
    "        print(\"i-j: \", i-j, s[i-j], \"i+j: \", i+j, s[i+j])\n",
    "        print(s[i-j] == s[i+j])\n",
    "        if s[i-j] != s[i+j]:\n",
    "            print(\"We are going to stop now\")\n",
    "            break \n",
    "        j += 1\n",
    "    print(\"The palindrome we have found is: \", s[i-j+1:i+j])\n",
    "    \n",
    "    \n",
    "    "
   ]
  },
  {
   "cell_type": "code",
   "execution_count": 43,
   "metadata": {},
   "outputs": [
    {
     "name": "stdout",
     "output_type": "stream",
     "text": [
      "this is what we are checking r r\n",
      "check 3 e 6 e\n",
      "check 2 p 7 v\n",
      "The palindrome we have found is:  erre\n"
     ]
    }
   ],
   "source": [
    "n = len(s)\n",
    "# s = 'superreviverpp'\n",
    "\n",
    "for i in [4]:\n",
    "    print(\"this is what we are checking\", s[i], s[i+1])\n",
    "    if s[i] == s[i+1]:\n",
    "        j = 1\n",
    "        while j <= i and j < n - i - 1:       # from index i-j to index i+1+j\n",
    "            print(\"check\", i-j, s[i-j], i+1+j, s[i+1+j])\n",
    "            if s[i-j] != s[i+1+j]:\n",
    "                break\n",
    "            j += 1\n",
    "        print(\"The palindrome we have found is: \", s[i-j+1:i+1+j])\n",
    "            "
   ]
  },
  {
   "cell_type": "code",
   "execution_count": 44,
   "metadata": {},
   "outputs": [],
   "source": [
    "palindrome = {\n",
    "    7: 'reviver',\n",
    "    4: 'erre'\n",
    "}"
   ]
  },
  {
   "cell_type": "code",
   "execution_count": 45,
   "metadata": {},
   "outputs": [
    {
     "name": "stdout",
     "output_type": "stream",
     "text": [
      "7\n",
      "The longest palindrome is reviver\n"
     ]
    }
   ],
   "source": [
    "longest = max(palindrome.keys())\n",
    "print(longest)\n",
    "print(\"The longest palindrome is\", palindrome[longest])   # dictionary[key] --> to give me the value"
   ]
  },
  {
   "cell_type": "code",
   "execution_count": 2,
   "metadata": {},
   "outputs": [
    {
     "name": "stdout",
     "output_type": "stream",
     "text": [
      "The longest palindrome is cbaaabbbbaaaabbaaaabbbbaaabc\n"
     ]
    }
   ],
   "source": [
    "n = len(s)\n",
    "palindrome = {}\n",
    "\n",
    "# find palindromes with odd number of char\n",
    "for i in range(n):\n",
    "    j = 1                           \n",
    "    while j <= i and j < n - i:               # consider strings center at [i], from index i-j to index i+j\n",
    "        if s[i-j] != s[i+j]:\n",
    "            break                             # break when the characters do not match\n",
    "        j += 1\n",
    "    if 2 * j - 1 not in palindrome:   # 2*j-1 is length of the 'eve'\n",
    "         palindrome[2*j-1] = s[i-j+1:i+j]   # s[i-j+1:i+j] is 'eve'\n",
    "\n",
    "# find palindromes with even number of char\n",
    "for i in range(n-1):\n",
    "    if s[i] == s[i+1]:                        # consider strings center at [i] and [i+1]\n",
    "        j = 1\n",
    "        while j <= i and j < n - i - 1:       # from index i-j to index i+1+j\n",
    "            if s[i-j] != s[i+1+j]:\n",
    "                break\n",
    "            j += 1\n",
    "        if 2 * j not in palindrome:\n",
    "            palindrome[2*j] = s[i-j+1:i+1+j]\n",
    "\n",
    "#print(palindrome)\n",
    "longest = max(palindrome.keys())\n",
    "print(\"The longest palindrome is\", palindrome[longest])\n",
    "\n",
    "# longest is the dictionary's key (eg. 4)\n",
    "# palindrome[longest] is the corresponding value (eg. 'oooo')\n"
   ]
  },
  {
   "cell_type": "code",
   "execution_count": null,
   "metadata": {},
   "outputs": [],
   "source": []
  },
  {
   "cell_type": "code",
   "execution_count": null,
   "metadata": {},
   "outputs": [],
   "source": []
  },
  {
   "cell_type": "code",
   "execution_count": 64,
   "metadata": {},
   "outputs": [],
   "source": [
    "## s = 'abc123def456.789.012345.6789-12345678.9012311111.456$#@'\n",
    "\n",
    "#s = '7.89.8ab'\n",
    "s = '7.89c65'"
   ]
  },
  {
   "cell_type": "code",
   "execution_count": 65,
   "metadata": {},
   "outputs": [
    {
     "data": {
      "text/plain": [
       "'7.89c65'"
      ]
     },
     "execution_count": 65,
     "metadata": {},
     "output_type": "execute_result"
    }
   ],
   "source": [
    "s"
   ]
  },
  {
   "cell_type": "code",
   "execution_count": 66,
   "metadata": {},
   "outputs": [
    {
     "name": "stdout",
     "output_type": "stream",
     "text": [
      "In first if block: i =  0  s[i] =  7\n",
      "first:  07\n",
      "second:  07\n",
      "In elif block: i =  1  s[i] =  .\n",
      " In the second block, first =  0 second =  07.\n",
      "In first if block: i =  2  s[i] =  8\n",
      "first:  08\n",
      "second:  07.8\n",
      "In first if block: i =  3  s[i] =  9\n",
      "first:  089\n",
      "second:  07.89\n",
      "In last elif i =  4  s[i] =  c\n",
      "In first if block: i =  5  s[i] =  6\n",
      "first:  06\n",
      "second:  06\n",
      "In first if block: i =  6  s[i] =  5\n",
      "first:  065\n",
      "second:  065\n",
      "89.0\n"
     ]
    }
   ],
   "source": [
    "n = len(s)\n",
    "max_float = 0.0\n",
    "first, second = '0', '0'\n",
    "for i in range(n):\n",
    "    if s[i].isdigit():\n",
    "        print(\"In first if block: i = \", i, \" s[i] = \", s[i])\n",
    "        first += s[i]                             # concatenate the new digit\n",
    "        second += s[i]\n",
    "        print(\"first: \", first)\n",
    "        print(\"second: \", second)\n",
    "    elif s[i] == '.':\n",
    "        print(\"In elif block: i = \", i, \" s[i] = \", s[i])                               # then, make a new buffer for an integer without '.'\n",
    "        max_float = max(max_float, float(second)) # settle the second buffer which may contain a decimal\n",
    "        second = first + '.'                      # then, make a new standby buffer for a decimal with '.' \n",
    "        first = '0'     \n",
    "        print(\" In the second block, first = \", first, \"second = \", second)\n",
    "        \n",
    "    elif len(first) > 1 or len(second) > 1:       \n",
    "        print(\"In last elif i = \", i, \" s[i] = \", s[i])\n",
    "        max_float = max(max_float, max(float(first), float(second)))  # settle the digits in the buffers and then reset\n",
    "        first, second = '0', '0'\n",
    "\n",
    "max_float = max(max_float, max(float(first), float(second)))\n",
    "print(max_float)"
   ]
  },
  {
   "cell_type": "code",
   "execution_count": null,
   "metadata": {},
   "outputs": [],
   "source": [
    "n = len(s)\n",
    "max_float = 0.0\n",
    "first, second = '0', '0'\n",
    "for i in range(n):\n",
    "    if s[i].isdigit():\n",
    "        first += s[i]                             # concatenate the new digit\n",
    "        second += s[i]\n",
    "    elif s[i] == '.':\n",
    "        max_float = max(max_float, float(second)) # settle the second buffer which may contain a decimal\n",
    "        second = first + '.'                      # then, make a new standby buffer for a decimal with '.' \n",
    "        first = '0'                               # then, make a new buffer for an integer without '.'\n",
    "    elif len(first) > 1 or len(second) > 1:       \n",
    "        max_float = max(max_float, max(float(first), float(second)))  # settle the digits in the buffers and then reset\n",
    "        first, second = '0', '0'\n",
    "\n",
    "max_float = max(max_float, max(float(first), float(second)))\n",
    "print(max_float)"
   ]
  },
  {
   "cell_type": "code",
   "execution_count": 75,
   "metadata": {},
   "outputs": [],
   "source": [
    "sudoku1 = [\n",
    "    '  7   1  ', \n",
    "    ' 59   23 ', \n",
    "    '823   456', \n",
    "    '51     78', \n",
    "    '9  1 3  4', \n",
    "    '  42 89  ', \n",
    "    ' 753 689 ', \n",
    "    ' 86   71 ', \n",
    "    ' 9     4 '\n",
    "]"
   ]
  },
  {
   "cell_type": "code",
   "execution_count": 4,
   "metadata": {},
   "outputs": [],
   "source": [
    "# gi = row // 3\n",
    "## row 0/1/2 gives gi = 0\n",
    "## row 3/4/5 gives gi = 1\n",
    "## row 6/7/8 gives gi = 2\n"
   ]
  },
  {
   "cell_type": "code",
   "execution_count": 68,
   "metadata": {},
   "outputs": [
    {
     "data": {
      "text/plain": [
       "[[-1, -1, -1, -1, -1, -1, -1, -1, -1],\n",
       " [-1, -1, -1, -1, -1, -1, -1, -1, -1],\n",
       " [-1, -1, -1, -1, -1, -1, -1, -1, -1],\n",
       " [-1, -1, -1, -1, -1, -1, -1, -1, -1],\n",
       " [-1, -1, -1, -1, -1, -1, -1, -1, -1],\n",
       " [-1, -1, -1, -1, -1, -1, -1, -1, -1],\n",
       " [-1, -1, -1, -1, -1, -1, -1, -1, -1],\n",
       " [-1, -1, -1, -1, -1, -1, -1, -1, -1],\n",
       " [-1, -1, -1, -1, -1, -1, -1, -1, -1]]"
      ]
     },
     "execution_count": 68,
     "metadata": {},
     "output_type": "execute_result"
    }
   ],
   "source": [
    "value = [[-1] * 9 for _ in range(9)]\n",
    "value"
   ]
  },
  {
   "cell_type": "code",
   "execution_count": 69,
   "metadata": {},
   "outputs": [],
   "source": [
    "possible = [[[True] * 10 for _ in range(9)] for _ in range(9)]\n"
   ]
  },
  {
   "cell_type": "code",
   "execution_count": 70,
   "metadata": {},
   "outputs": [
    {
     "name": "stdout",
     "output_type": "stream",
     "text": [
      "(9, 9, 10)\n"
     ]
    }
   ],
   "source": [
    "import numpy as np\n",
    "\n",
    "arr = np.array(possible)\n",
    "print(arr.shape)"
   ]
  },
  {
   "cell_type": "code",
   "execution_count": 71,
   "metadata": {},
   "outputs": [
    {
     "data": {
      "text/plain": [
       "[[[True, True, True, True, True],\n",
       "  [True, True, True, True, True],\n",
       "  [True, True, True, True, True],\n",
       "  [True, True, True, True, True]],\n",
       " [[True, True, True, True, True],\n",
       "  [True, True, True, True, True],\n",
       "  [True, True, True, True, True],\n",
       "  [True, True, True, True, True]],\n",
       " [[True, True, True, True, True],\n",
       "  [True, True, True, True, True],\n",
       "  [True, True, True, True, True],\n",
       "  [True, True, True, True, True]],\n",
       " [[True, True, True, True, True],\n",
       "  [True, True, True, True, True],\n",
       "  [True, True, True, True, True],\n",
       "  [True, True, True, True, True]]]"
      ]
     },
     "execution_count": 71,
     "metadata": {},
     "output_type": "execute_result"
    }
   ],
   "source": [
    "possible_small = [[[True] * 5 for _ in range(4)] for _ in range(4)]\n",
    "possible_small"
   ]
  },
  {
   "cell_type": "code",
   "execution_count": 72,
   "metadata": {},
   "outputs": [
    {
     "name": "stdout",
     "output_type": "stream",
     "text": [
      "(4, 4, 5)\n"
     ]
    }
   ],
   "source": [
    "arr_s = np.array(possible_small)\n",
    "print(arr_s.shape)"
   ]
  },
  {
   "cell_type": "code",
   "execution_count": 83,
   "metadata": {},
   "outputs": [
    {
     "data": {
      "text/plain": [
       "[True, True, True, True, True]"
      ]
     },
     "execution_count": 83,
     "metadata": {},
     "output_type": "execute_result"
    }
   ],
   "source": [
    "possible_small[0][0]"
   ]
  },
  {
   "cell_type": "code",
   "execution_count": 85,
   "metadata": {},
   "outputs": [
    {
     "name": "stdout",
     "output_type": "stream",
     "text": [
      "[True, False, True, True, True]\n"
     ]
    }
   ],
   "source": [
    "possible_small[0][0][1] = False\n",
    "print(possible_small[0][0])"
   ]
  },
  {
   "cell_type": "code",
   "execution_count": 76,
   "metadata": {},
   "outputs": [
    {
     "data": {
      "text/plain": [
       "['  7   1  ',\n",
       " ' 59   23 ',\n",
       " '823   456',\n",
       " '51     78',\n",
       " '9  1 3  4',\n",
       " '  42 89  ',\n",
       " ' 753 689 ',\n",
       " ' 86   71 ',\n",
       " ' 9     4 ']"
      ]
     },
     "execution_count": 76,
     "metadata": {},
     "output_type": "execute_result"
    }
   ],
   "source": [
    "s = sudoku1\n",
    "s"
   ]
  },
  {
   "cell_type": "code",
   "execution_count": null,
   "metadata": {},
   "outputs": [],
   "source": []
  },
  {
   "cell_type": "code",
   "execution_count": 87,
   "metadata": {},
   "outputs": [
    {
     "name": "stdout",
     "output_type": "stream",
     "text": [
      "  7   1  \n",
      "row:  0 col:  2\n",
      "v:  7\n",
      "0 0 7\n",
      "0 1 7\n",
      "0 2 7\n",
      "1 0 7\n",
      "1 1 7\n",
      "1 2 7\n",
      "2 0 7\n",
      "2 1 7\n",
      "2 2 7\n",
      "row:  0 col:  6\n",
      "v:  1\n",
      "0 6 1\n",
      "0 7 1\n",
      "0 8 1\n",
      "1 6 1\n",
      "1 7 1\n",
      "1 8 1\n",
      "2 6 1\n",
      "2 7 1\n",
      "2 8 1\n"
     ]
    }
   ],
   "source": [
    "row = 0\n",
    "\n",
    "for s in sudoku1:\n",
    "    print(s)\n",
    "    for col in range(9):\n",
    "        if s[col] != ' ':\n",
    "            v = int(s[col])\n",
    "            #print(v)\n",
    "            print(\"row: \", row, \"col: \", col)\n",
    "            value[row][col] = v\n",
    "            print(\"v: \", v)\n",
    "#             for jj in range(9):\n",
    "#                 if jj != col:\n",
    "#                     #possible[row][jj][v] = False\n",
    "#                     print(row, jj, v)\n",
    "#             for ii in range(9):\n",
    "#                 if ii != row:\n",
    "#                     #possible[ii][col][v] = False # mark other cells in the same column false on the same value\n",
    "#                     print(ii, col, v)\n",
    "            gi = row // 3 * 3   ## top left (either 0/3/6) green square in class\n",
    "            gj = col // 3 * 3   ## top left (either 0/3/6) green square in class\n",
    "            for ii in range(3):\n",
    "                for jj in range(3):\n",
    "                    #possible[gi + ii][gj + jj][v] = False # mark other cells in the same 3x3 grid false on the same value\n",
    "                    print(gi + ii, gj + jj, v)\n",
    "    row += 1\n",
    "    break   # to keep things clear for demo purpose"
   ]
  },
  {
   "cell_type": "code",
   "execution_count": null,
   "metadata": {},
   "outputs": [],
   "source": []
  },
  {
   "cell_type": "code",
   "execution_count": 5,
   "metadata": {},
   "outputs": [
    {
     "name": "stdout",
     "output_type": "stream",
     "text": [
      "(1, 1): 4 6\n",
      "(1, 2): 4 6\n",
      "(1, 4): 4 5 6 8 9\n",
      "(1, 5): 2 3 4 5 6 8 9\n",
      "(1, 6): 2 4 5 9\n",
      "(1, 8): 8\n",
      "(1, 9): 9\n",
      "(2, 1): 1 4 6\n",
      "(2, 4): 4 6 7 8\n",
      "(2, 5): 1 4 6 7 8\n",
      "(2, 6): 1 4 7\n",
      "(2, 9): 7\n",
      "(3, 4): 7 9\n",
      "(3, 5): 1 7 9\n",
      "(3, 6): 1 7 9\n",
      "(4, 3): 2\n",
      "(4, 4): 4 6 9\n",
      "(4, 5): 4 6 9\n",
      "(4, 6): 4 9\n",
      "(4, 7): 3 6\n",
      "(5, 2): 6\n",
      "(5, 3): 2 8\n",
      "(5, 5): 5 6 7\n",
      "(5, 7): 5 6\n",
      "(5, 8): 2 6\n",
      "(6, 1): 3 6 7\n",
      "(6, 2): 3 6\n",
      "(6, 5): 5 6 7\n",
      "(6, 8): 6\n",
      "(6, 9): 1 3 5\n",
      "(7, 1): 1 2 4\n",
      "(7, 5): 1 2 4\n",
      "(7, 9): 2\n",
      "(8, 1): 2 3 4\n",
      "(8, 4): 4 5 9\n",
      "(8, 5): 2 4 5 9\n",
      "(8, 6): 2 4 5 9\n",
      "(8, 9): 2 3 5\n",
      "(9, 1): 1 2 3\n",
      "(9, 3): 1 2\n",
      "(9, 4): 5 7 8\n",
      "(9, 5): 1 2 5 7 8\n",
      "(9, 6): 1 2 5 7\n",
      "(9, 7): 3 5 6\n",
      "(9, 9): 2 3 5\n"
     ]
    }
   ],
   "source": [
    "value = [[-1] * 9 for _ in range(9)]\n",
    "possible = [[[True] * 10 for _ in range(9)] for _ in range(9)]\n",
    "\n",
    "row = 0\n",
    "for s in sudoku1:\n",
    "    if len(s) != 9:\n",
    "        print('length should be 9:', s)\n",
    "    for col in range(9):\n",
    "        if s[col] != ' ':\n",
    "            v = int(s[col])\n",
    "            value[row][col] = v       # replace the -1, to indicate that this cell is already given in the question\n",
    "            for jj in range(9):\n",
    "                if jj != col:\n",
    "                    possible[row][jj][v] = False # mark other cells in the same row false on the same value\n",
    "            for ii in range(9):\n",
    "                if ii != row:\n",
    "                    possible[ii][col][v] = False # mark other cells in the same column false on the same value\n",
    "            gi = row // 3 * 3   ## top left (either 0/3/6) green square in class\n",
    "            gj = col // 3 * 3   ## top left (either 0/3/6) green square in class\n",
    "            for ii in range(3):\n",
    "                for jj in range(3):\n",
    "                    possible[gi + ii][gj + jj][v] = False # mark other cells in the same 3x3 grid false on the same value\n",
    "    row += 1\n",
    "    \n",
    "# just printing the results\n",
    "for row in range(9):\n",
    "    for col in range(9):\n",
    "        if value[row][col] == -1:\n",
    "            print('(%d, %d): %s' % (row+1, col+1, ' '.join([str(v) for v in range(1, 10) if possible[row][col][v]])))"
   ]
  },
  {
   "cell_type": "code",
   "execution_count": null,
   "metadata": {},
   "outputs": [],
   "source": []
  }
 ],
 "metadata": {
  "kernelspec": {
   "display_name": "Python 3",
   "language": "python",
   "name": "python3"
  },
  "language_info": {
   "codemirror_mode": {
    "name": "ipython",
    "version": 3
   },
   "file_extension": ".py",
   "mimetype": "text/x-python",
   "name": "python",
   "nbconvert_exporter": "python",
   "pygments_lexer": "ipython3",
   "version": "3.7.0"
  }
 },
 "nbformat": 4,
 "nbformat_minor": 5
}
