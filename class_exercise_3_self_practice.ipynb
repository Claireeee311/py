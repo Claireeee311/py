{
 "cells": [
  {
   "cell_type": "markdown",
   "metadata": {},
   "source": [
    "## Python programming and Data Analysis\n",
    "\n",
    "## Class Exercise 3 -- Regular Expressions"
   ]
  },
  {
   "cell_type": "code",
   "execution_count": 1,
   "metadata": {},
   "outputs": [],
   "source": [
    "import re"
   ]
  },
  {
   "cell_type": "code",
   "execution_count": 2,
   "metadata": {},
   "outputs": [
    {
     "name": "stdout",
     "output_type": "stream",
     "text": [
      "re.compile('abc')\n",
      "<class 're.Pattern'>\n"
     ]
    }
   ],
   "source": [
    "pat = re.compile(r'abc')\n",
    "print(pat)\n",
    "print(type(pat))"
   ]
  },
  {
   "cell_type": "code",
   "execution_count": 3,
   "metadata": {},
   "outputs": [
    {
     "name": "stdout",
     "output_type": "stream",
     "text": [
      "None\n",
      "<re.Match object; span=(0, 3), match='abc'>\n"
     ]
    }
   ],
   "source": [
    "mat_abc1 = pat.match('ABC,ABc,AbC,abc')\n",
    "mat_abc2 = pat.match('abc,ABc,AbC,abc')\n",
    "print(mat_abc1)\n",
    "print(mat_abc2)"
   ]
  },
  {
   "cell_type": "code",
   "execution_count": 4,
   "metadata": {},
   "outputs": [
    {
     "name": "stdout",
     "output_type": "stream",
     "text": [
      "<re.Match object; span=(12, 15), match='abc'>\n",
      "<re.Match object; span=(0, 3), match='abc'>\n",
      "<class 're.Match'>\n"
     ]
    }
   ],
   "source": [
    "sear_abc1 = pat.search('ABC,ABc,AbC,abc')\n",
    "sear_abc2 = pat.search('abc,ABc,AbC,abc')\n",
    "print(sear_abc1)\n",
    "print(sear_abc2)\n",
    "print(type(sear_abc1))"
   ]
  },
  {
   "cell_type": "code",
   "execution_count": 5,
   "metadata": {},
   "outputs": [
    {
     "name": "stdout",
     "output_type": "stream",
     "text": [
      "['abc']\n",
      "['abc', 'abc']\n"
     ]
    }
   ],
   "source": [
    "find_abc1 = pat.findall('ABC,ABc,AbC,abc')\n",
    "find_abc2 = pat.findall('abc,ABc,AbC,abc')\n",
    "print(find_abc1)\n",
    "print(find_abc2)"
   ]
  },
  {
   "cell_type": "code",
   "execution_count": 6,
   "metadata": {},
   "outputs": [
    {
     "name": "stdout",
     "output_type": "stream",
     "text": [
      "<callable_iterator object at 0x000001E6850897B8>\n",
      "<re.Match object; span=(0, 3), match='abc'>\n",
      "<re.Match object; span=(8, 11), match='abc'>\n",
      "<re.Match object; span=(12, 15), match='abc'>\n"
     ]
    }
   ],
   "source": [
    "finditer_abc = pat.finditer('abc,ABc,abc,abc')\n",
    "\n",
    "print(finditer_abc)\n",
    "\n",
    "for m in finditer_abc:\n",
    "    print(m)"
   ]
  },
  {
   "cell_type": "markdown",
   "metadata": {},
   "source": [
    "## Metacharacters"
   ]
  },
  {
   "cell_type": "markdown",
   "metadata": {},
   "source": [
    "### Metacharacters that match one character"
   ]
  },
  {
   "cell_type": "markdown",
   "metadata": {},
   "source": [
    "#### Dot (.)"
   ]
  },
  {
   "cell_type": "code",
   "execution_count": 7,
   "metadata": {
    "scrolled": true
   },
   "outputs": [
    {
     "name": "stdout",
     "output_type": "stream",
     "text": [
      "['a', '1', 'A', '#']\n"
     ]
    }
   ],
   "source": [
    "# Dot exmaple\n",
    "# ex1\n",
    "p = re.compile(r'.')\n",
    "m = p.findall('a1\\nA#')\n",
    "print(m)"
   ]
  },
  {
   "cell_type": "code",
   "execution_count": 8,
   "metadata": {},
   "outputs": [
    {
     "name": "stdout",
     "output_type": "stream",
     "text": [
      "['cat', 'bat', 'sat']\n"
     ]
    }
   ],
   "source": [
    "# ex2\n",
    "p = re.compile(r'.at')\n",
    "m = p.findall('cat bat sat cap')\n",
    "print(m)"
   ]
  },
  {
   "cell_type": "markdown",
   "metadata": {},
   "source": [
    "#### Character Class ([])"
   ]
  },
  {
   "cell_type": "code",
   "execution_count": 9,
   "metadata": {},
   "outputs": [
    {
     "name": "stdout",
     "output_type": "stream",
     "text": [
      "['a', 'A']\n"
     ]
    }
   ],
   "source": [
    "# Character Class example\n",
    "# ex1\n",
    "p = re.compile(r'[aA]')\n",
    "m = p.findall('a1\\nA#')\n",
    "print(m)"
   ]
  },
  {
   "cell_type": "code",
   "execution_count": 10,
   "metadata": {},
   "outputs": [
    {
     "name": "stdout",
     "output_type": "stream",
     "text": [
      "['a', 'b', 'c', 'A', 'B', 'C']\n"
     ]
    }
   ],
   "source": [
    "# ex2\n",
    "p = re.compile(r'[abcABC]')\n",
    "m = p.findall('abcABC')\n",
    "print(m)"
   ]
  },
  {
   "cell_type": "code",
   "execution_count": 11,
   "metadata": {},
   "outputs": [
    {
     "name": "stdout",
     "output_type": "stream",
     "text": [
      "['d', '0', '3', 'z', '6']\n",
      "['C', 'D', 'E', 'b', 'c', '2', '3', '4']\n",
      "['e', '-', 'a', '-', '-', 'e', 'a']\n"
     ]
    }
   ],
   "source": [
    "# ex3: [a-zA-Z0-9]\n",
    "p = re.compile(r'[a-z0-9]')\n",
    "m = p.findall('d0A3z6P')\n",
    "print(m)\n",
    "\n",
    "# ex4: \n",
    "p = re.compile(r'[C-Eb-c2-4]')\n",
    "m = p.findall('ABCDEF abcd 012345')\n",
    "print(m)\n",
    "\n",
    "# ex5:\n",
    "p = re.compile(r'[-a-e]') # or [a-e-]\n",
    "m = p.findall('e-a-s-y, easy')\n",
    "print(m)\n"
   ]
  },
  {
   "cell_type": "code",
   "execution_count": 12,
   "metadata": {
    "scrolled": true
   },
   "outputs": [
    {
     "name": "stdout",
     "output_type": "stream",
     "text": [
      "[' ', ' ', ' ', 'G']\n",
      "['1', '2', '3', '^', 'o']\n"
     ]
    }
   ],
   "source": [
    "# ex6: [^]\n",
    "p = re.compile(r'[^0-9a-z]')\n",
    "m = p.findall('1 2 3 Go')\n",
    "print(m)\n",
    "\n",
    "# ex7:\n",
    "p = re.compile(r'[0-9^a-z]')\n",
    "m = p.findall('1 2 3 ^Go')\n",
    "print(m)"
   ]
  },
  {
   "cell_type": "markdown",
   "metadata": {},
   "source": [
    "#### \\d and \\D\n",
    "\n"
   ]
  },
  {
   "cell_type": "code",
   "execution_count": 13,
   "metadata": {},
   "outputs": [
    {
     "name": "stdout",
     "output_type": "stream",
     "text": [
      "\\d matches:  ['1']\n",
      "\\D matches:  ['a', '\\n', 'A', '#']\n"
     ]
    }
   ],
   "source": [
    "# \\d and \\D examples\n",
    "# ex1\n",
    "p = re.compile(r'\\d')\n",
    "m = p.findall('a1\\nA#')\n",
    "print(\"\\d matches: \", m)\n",
    "\n",
    "# ex2\n",
    "p = re.compile(r'\\D')\n",
    "m = p.findall('a1\\nA#')\n",
    "print(\"\\D matches: \", m)"
   ]
  },
  {
   "cell_type": "markdown",
   "metadata": {},
   "source": [
    "#### \\w and \\W"
   ]
  },
  {
   "cell_type": "code",
   "execution_count": 14,
   "metadata": {},
   "outputs": [
    {
     "name": "stdout",
     "output_type": "stream",
     "text": [
      "\\w matches:  ['_', 'a', 'E', '4']\n",
      "\\W matches:  ['#', '!', '$', '-']\n"
     ]
    }
   ],
   "source": [
    "# \\w and \\W examples\n",
    "# ex1\n",
    "p = re.compile(r'\\w')\n",
    "m = p.findall('_#a!E$4-')\n",
    "print(\"\\w matches: \", m)\n",
    "\n",
    "# ex2\n",
    "p = re.compile(r'\\W')\n",
    "m = p.findall('_#a!E$4-')\n",
    "print(\"\\W matches: \", m)"
   ]
  },
  {
   "cell_type": "markdown",
   "metadata": {},
   "source": [
    "#### \\s and \\S"
   ]
  },
  {
   "cell_type": "code",
   "execution_count": 15,
   "metadata": {},
   "outputs": [
    {
     "name": "stdout",
     "output_type": "stream",
     "text": [
      "Name\tISSS610\n",
      "Joe Jones\tA\n",
      "\n",
      "\\s matches:  ['\\t', '\\n', ' ', '\\t', '\\n']\n",
      "\\S matches:  ['N', 'a', 'm', 'e', 'I', 'S', 'S', 'S', '6', '1', '0', 'J', 'o', 'e', 'J', 'o', 'n', 'e', 's', 'A']\n"
     ]
    }
   ],
   "source": [
    "# \\s and \\S examples\n",
    "# ex1\n",
    "text = 'Name\\tISSS610\\nJoe Jones\\tA\\n'\n",
    "print(text)\n",
    "\n",
    "p = re.compile(r'\\s')\n",
    "m = p.findall(text)\n",
    "print(\"\\s matches: \", m)\n",
    "\n",
    "# ex2\n",
    "p = re.compile(r'\\S')\n",
    "m = p.findall(text)\n",
    "\n",
    "print(\"\\S matches: \", m)"
   ]
  },
  {
   "cell_type": "markdown",
   "metadata": {},
   "source": [
    "### Escaping Character"
   ]
  },
  {
   "cell_type": "markdown",
   "metadata": {},
   "source": [
    "#### Backslash (\\\\) as Escaping Character"
   ]
  },
  {
   "cell_type": "code",
   "execution_count": 16,
   "metadata": {},
   "outputs": [
    {
     "name": "stdout",
     "output_type": "stream",
     "text": [
      "<re.Match object; span=(0, 1), match='s'> <re.Match object; span=(3, 4), match='.'>\n"
     ]
    }
   ],
   "source": [
    "# Escaping Character\n",
    "# ex1\n",
    "p1 = re.compile(r'.')\n",
    "p2 = re.compile(r'\\.')\n",
    "m1 = p1.search('smu.edu.sg')\n",
    "m2 = p2.search('smu.edu.sg')\n",
    "print(m1, m2)"
   ]
  },
  {
   "cell_type": "code",
   "execution_count": 17,
   "metadata": {},
   "outputs": [
    {
     "name": "stdout",
     "output_type": "stream",
     "text": [
      "['5\\\\d']\n"
     ]
    }
   ],
   "source": [
    "# ex2\n",
    "p = re.compile(r'\\d\\\\d')\n",
    "m = p.findall('135\\d')\n",
    "print(m)"
   ]
  },
  {
   "cell_type": "markdown",
   "metadata": {},
   "source": [
    "#### The Backslash Plague"
   ]
  },
  {
   "cell_type": "code",
   "execution_count": 18,
   "metadata": {},
   "outputs": [
    {
     "name": "stdout",
     "output_type": "stream",
     "text": [
      "\\\n"
     ]
    }
   ],
   "source": [
    "# The Backslash Plague\n",
    "# demo1\n",
    "\n",
    "print('\\\\')"
   ]
  },
  {
   "cell_type": "code",
   "execution_count": 19,
   "metadata": {},
   "outputs": [
    {
     "name": "stdout",
     "output_type": "stream",
     "text": [
      "['\\\\', '\\\\']\n"
     ]
    }
   ],
   "source": [
    "# The Backslash Plague\n",
    "# demo2\n",
    "\n",
    "p = re.compile(r'\\\\')\n",
    "m = p.findall('D:\\Courses\\Python')\n",
    "print(m)"
   ]
  },
  {
   "cell_type": "markdown",
   "metadata": {},
   "source": [
    "### Anchors"
   ]
  },
  {
   "cell_type": "markdown",
   "metadata": {},
   "source": [
    "#### Caret"
   ]
  },
  {
   "cell_type": "code",
   "execution_count": 20,
   "metadata": {},
   "outputs": [
    {
     "name": "stdout",
     "output_type": "stream",
     "text": [
      "['abc']\n"
     ]
    }
   ],
   "source": [
    "# Caret\n",
    "# ex1\n",
    "p = re.compile(r'^ab.')\n",
    "m = p.findall('abc abd abe abf')\n",
    "print(m)"
   ]
  },
  {
   "cell_type": "code",
   "execution_count": 21,
   "metadata": {
    "scrolled": true
   },
   "outputs": [
    {
     "name": "stdout",
     "output_type": "stream",
     "text": [
      "['aac']\n",
      "['aac', 'abc']\n"
     ]
    }
   ],
   "source": [
    "# ex2\n",
    "p = re.compile(r'^a[ab]c')\n",
    "m = p.findall('''aac\\nabc''')\n",
    "print(m)\n",
    "\n",
    "p = re.compile(r'^a[ab]c', re.M)\n",
    "m = p.findall('''aac\\nabc''')\n",
    "print(m)"
   ]
  },
  {
   "cell_type": "markdown",
   "metadata": {},
   "source": [
    "#### Dollar(\\$)"
   ]
  },
  {
   "cell_type": "code",
   "execution_count": 22,
   "metadata": {},
   "outputs": [
    {
     "name": "stdout",
     "output_type": "stream",
     "text": [
      "['abf']\n"
     ]
    }
   ],
   "source": [
    "# Dollar\n",
    "# ex1\n",
    "p = re.compile(r'ab.$')\n",
    "m = p.findall('abc abd abe abf')\n",
    "print(m)"
   ]
  },
  {
   "cell_type": "code",
   "execution_count": 23,
   "metadata": {},
   "outputs": [
    {
     "name": "stdout",
     "output_type": "stream",
     "text": [
      "['bc']\n",
      "['ac', 'bc']\n"
     ]
    }
   ],
   "source": [
    "# ex2\n",
    "p = re.compile(r'[ab]c$')\n",
    "m = p.findall('ac\\nbc')\n",
    "print(m)\n",
    "\n",
    "p = re.compile(r'[ab]c$', re.M)\n",
    "m = p.findall('ac\\nbc')\n",
    "print(m)"
   ]
  },
  {
   "cell_type": "markdown",
   "metadata": {},
   "source": [
    "#### Word Boundary: \\b and \\B"
   ]
  },
  {
   "cell_type": "code",
   "execution_count": 24,
   "metadata": {},
   "outputs": [
    {
     "name": "stdout",
     "output_type": "stream",
     "text": [
      "['11', '12', '13']\n"
     ]
    }
   ],
   "source": [
    "# Word Boundary:\n",
    "# ex1\n",
    "p = re.compile(r'\\b\\d\\d\\b')\n",
    "m = p.findall('1 2 3 11 12 13 111 112 113')\n",
    "print(m)"
   ]
  },
  {
   "cell_type": "code",
   "execution_count": 25,
   "metadata": {},
   "outputs": [
    {
     "name": "stdout",
     "output_type": "stream",
     "text": [
      "['aa', 'ab', 'ac', 'AA', 'AB', 'AC']\n"
     ]
    }
   ],
   "source": [
    "# ex2\n",
    "p = re.compile(r'\\b\\w\\w\\b')\n",
    "m = p.findall('aa,ab;ac(AA)AB AC')\n",
    "print(m)"
   ]
  },
  {
   "cell_type": "markdown",
   "metadata": {},
   "source": [
    "### Quantifiers"
   ]
  },
  {
   "cell_type": "markdown",
   "metadata": {},
   "source": [
    "#### Asterisk (\\*), Question Mark (?) and Plus (+)"
   ]
  },
  {
   "cell_type": "code",
   "execution_count": 26,
   "metadata": {},
   "outputs": [
    {
     "name": "stdout",
     "output_type": "stream",
     "text": [
      "['ac', 'abc', 'aac', 'aabc', 'aaac', 'ababc']\n",
      "['abc', 'aac', 'aabc', 'aaac', 'ababc']\n",
      "['ac', 'abc', 'aac', 'abc', 'aac', 'abc']\n"
     ]
    }
   ],
   "source": [
    "# Asterisk, Question Mark and Plus\n",
    "text = 'a ab ac abc aac aabc aaac ababc'\n",
    "\n",
    "# ex1\n",
    "p = re.compile(r'a[ab]*c')\n",
    "m = p.findall(text)\n",
    "print(m)\n",
    "\n",
    "p = re.compile(r'a[ab]+c')\n",
    "m = p.findall(text)\n",
    "print(m)\n",
    "\n",
    "p = re.compile(r'a[ab]?c')\n",
    "m = p.findall(text)\n",
    "print(m)"
   ]
  },
  {
   "cell_type": "markdown",
   "metadata": {},
   "source": [
    "#### {m} and {m,n}"
   ]
  },
  {
   "cell_type": "code",
   "execution_count": 27,
   "metadata": {},
   "outputs": [
    {
     "name": "stdout",
     "output_type": "stream",
     "text": [
      "['111', '112', '113']\n",
      "['11', '12', '13', '111', '112', '113']\n"
     ]
    }
   ],
   "source": [
    "# {m} and {m,n}\n",
    "text = '1 2 3 11 12 13 111 112 113'\n",
    "\n",
    "# ex1\n",
    "p = re.compile(r'\\d{3}')\n",
    "m = p.findall(text)\n",
    "print(m)\n",
    "\n",
    "p = re.compile(r'\\d{2,3}')\n",
    "m = p.findall(text)\n",
    "print(m)"
   ]
  },
  {
   "cell_type": "markdown",
   "metadata": {},
   "source": [
    "### Grouping Constructs"
   ]
  },
  {
   "cell_type": "markdown",
   "metadata": {},
   "source": [
    "#### Groups (())"
   ]
  },
  {
   "cell_type": "code",
   "execution_count": 28,
   "metadata": {},
   "outputs": [
    {
     "name": "stdout",
     "output_type": "stream",
     "text": [
      "[('Math', '89'), ('Physics', '92'), ('English', '78')]\n"
     ]
    }
   ],
   "source": [
    "# Groups\n",
    "# ex1\n",
    "\n",
    "p = re.compile(r'(\\w+): (\\d+)')\n",
    "m = p.findall('Course: Grade\\nMath: 89\\nPhysics: 92\\n English: 78')\n",
    "print(m)"
   ]
  },
  {
   "cell_type": "markdown",
   "metadata": {},
   "source": [
    "#### Quantifiers with Groups"
   ]
  },
  {
   "cell_type": "code",
   "execution_count": 29,
   "metadata": {},
   "outputs": [
    {
     "name": "stdout",
     "output_type": "stream",
     "text": [
      "['ha', 'ha']\n",
      "['12: Numpy', '13: Pandas', '14: Data Visualzation']\n"
     ]
    }
   ],
   "source": [
    "# Quantifiers with Groups\n",
    "# ex1\n",
    "\n",
    "p = re.compile(r'(ha)+')\n",
    "m = p.findall('ha hh aa hahahaha')\n",
    "print(m)\n",
    "\n",
    "# ex3\n",
    "chapters = 'Chapter 12: Numpy\\n\\\n",
    "Chapter 13: Pandas\\n\\\n",
    "Chapter 14: Data Visualzation'\n",
    "p = re.compile(r'^Chapter (\\d+: .+)', re.M)\n",
    "m = p.findall(chapters)\n",
    "print(m)"
   ]
  },
  {
   "cell_type": "markdown",
   "metadata": {},
   "source": [
    "#### Alternation (|)"
   ]
  },
  {
   "cell_type": "code",
   "execution_count": 30,
   "metadata": {},
   "outputs": [
    {
     "name": "stdout",
     "output_type": "stream",
     "text": [
      "[('game', 'exe'), ('auto', 'bat'), ('text', 'zip')]\n"
     ]
    }
   ],
   "source": [
    "# Alternation\n",
    "# ex1\n",
    "p = re.compile(r'(\\w+)\\.(bat|zip|exe)')\n",
    "m = p.findall('game.exe auto.bat text.zip')\n",
    "print(m)"
   ]
  },
  {
   "cell_type": "markdown",
   "metadata": {},
   "source": [
    "#### Retrieving matched groups\n"
   ]
  },
  {
   "cell_type": "code",
   "execution_count": 31,
   "metadata": {
    "scrolled": true
   },
   "outputs": [
    {
     "name": "stdout",
     "output_type": "stream",
     "text": [
      "<re.Match object; span=(0, 17), match='game.exe auto.bat'>\n",
      "('game.exe', 'auto.bat')\n"
     ]
    }
   ],
   "source": [
    "# re.Match.groups()\n",
    "# ex1\n",
    "\n",
    "p = re.compile(r'(\\w+\\.\\w+)\\s(\\w+\\.\\w+)')\n",
    "m = p.search('game.exe auto.bat text.zip')\n",
    "print(m)\n",
    "print(m.groups())"
   ]
  },
  {
   "cell_type": "code",
   "execution_count": 32,
   "metadata": {},
   "outputs": [
    {
     "name": "stdout",
     "output_type": "stream",
     "text": [
      "one,,,two:three++++++4\n",
      "one\n",
      "('two', 'three', '4')\n"
     ]
    }
   ],
   "source": [
    "# re.Match.group()\n",
    "# ex1\n",
    "pattern = r'(\\w+)\\W+(\\w+)\\W+(\\w+)\\W+(\\w)+'\n",
    "p = re.compile(pattern)\n",
    "m = p.search('one,,,two:three++++++4')\n",
    "print(m.group(0))\n",
    "print(m.group(1))\n",
    "print(m.group(2, 3, 4))"
   ]
  },
  {
   "cell_type": "markdown",
   "metadata": {},
   "source": [
    "#### Backreference\n"
   ]
  },
  {
   "cell_type": "code",
   "execution_count": 33,
   "metadata": {},
   "outputs": [
    {
     "name": "stdout",
     "output_type": "stream",
     "text": [
      "('1234123', '123')\n",
      "('11311', '11')\n",
      "('434', '4')\n"
     ]
    }
   ],
   "source": [
    "# (optional)\n",
    "# Backreference\n",
    "\n",
    "p = re.compile(r'((\\d+)\\d\\2)')\n",
    "m = p.finditer('1234123, 11311, 123, 54345')\n",
    "for string in m:\n",
    "    print(string.group(1, 2))"
   ]
  },
  {
   "cell_type": "markdown",
   "metadata": {},
   "source": [
    "### Flags"
   ]
  },
  {
   "cell_type": "code",
   "execution_count": 34,
   "metadata": {},
   "outputs": [
    {
     "name": "stdout",
     "output_type": "stream",
     "text": [
      "['abc'] ['abc', 'ABC', 'aBC', 'Abc']\n"
     ]
    }
   ],
   "source": [
    "# Flag re.I\n",
    "# ex1\n",
    "p1 = re.compile(r'abc')\n",
    "m1 = p1.findall('abc ABC aBC Abc')\n",
    "p2 = re.compile(r'abc', re.I)\n",
    "m2 = p2.findall('abc ABC aBC Abc')\n",
    "\n",
    "print(m1, m2)"
   ]
  },
  {
   "cell_type": "code",
   "execution_count": 35,
   "metadata": {},
   "outputs": [
    {
     "name": "stdout",
     "output_type": "stream",
     "text": [
      "['A', 'a', '1', '!', ' '] ['A', 'a', '1', '!', ' ', '\\n']\n"
     ]
    }
   ],
   "source": [
    "# Flag re.S\n",
    "# ex2\n",
    "p1 = re.compile(r'.')\n",
    "m1 = p1.findall('Aa1! \\n')\n",
    "p2 = re.compile(r'.', re.S)\n",
    "m2 = p2.findall('Aa1! \\n')\n",
    "\n",
    "print(m1, m2)"
   ]
  },
  {
   "cell_type": "markdown",
   "metadata": {},
   "source": [
    "### Model-Level Methods"
   ]
  },
  {
   "cell_type": "markdown",
   "metadata": {},
   "source": [
    "#### re.match, re.search, re.findall, re.finditer\n",
    "\n"
   ]
  },
  {
   "cell_type": "code",
   "execution_count": 36,
   "metadata": {},
   "outputs": [
    {
     "name": "stdout",
     "output_type": "stream",
     "text": [
      "match: <re.Match object; span=(0, 3), match='abc'>\n",
      "search: <re.Match object; span=(2, 5), match='abc'>\n",
      "findall: ['abc', 'abc']\n",
      "finditer: <callable_iterator object at 0x000001E6850A4438>\n"
     ]
    }
   ],
   "source": [
    "# (optional)\n",
    "text = 'abc abc ab bc a b c'\n",
    "\n",
    "match = re.match(r'abc', 'abc')\n",
    "search = re.search(r'abc', 'a abc')\n",
    "findall = re.findall(r'abc', text)\n",
    "finditer = re.finditer(r'abc', text)\n",
    "print(f'match: {match}')\n",
    "print(f'search: {search}')\n",
    "print(f'findall: {findall}')\n",
    "print(f'finditer: {finditer}')"
   ]
  },
  {
   "cell_type": "markdown",
   "metadata": {},
   "source": [
    "#### String-modifying methods\n"
   ]
  },
  {
   "cell_type": "code",
   "execution_count": 39,
   "metadata": {},
   "outputs": [
    {
     "name": "stdout",
     "output_type": "stream",
     "text": [
      "['The', 'split', 'method', 'is', 'powerful']\n",
      "['The', '~', 'split', '*', 'method', '-', 'is', '%', 'powerful']\n"
     ]
    }
   ],
   "source": [
    "# (optional)\n",
    "# re.split()\n",
    "\n",
    "p = re.compile(r'\\W+')\n",
    "split = p.split('The~split*method-is%powerful')\n",
    "print(split)\n",
    "\n",
    "p = re.compile(r'(\\W+)')\n",
    "split = p.split('The~split*method-is%powerful')\n",
    "print(split)"
   ]
  },
  {
   "cell_type": "code",
   "execution_count": 38,
   "metadata": {},
   "outputs": [
    {
     "name": "stdout",
     "output_type": "stream",
     "text": [
      "Tokyo is a large city.\n",
      "('Tokyo is Tokyo', 2)\n",
      "Tokyo is Tokyo\n"
     ]
    }
   ],
   "source": [
    "# (optional)\n",
    "# re.sub() and re.subn()\n",
    "\n",
    "p = re.compile(r'Toko')\n",
    "sub = p.sub('Tokyo', 'Toko is a large city.')\n",
    "subn = p.subn('Tokyo', 'Toko is Toko')\n",
    "print(sub)\n",
    "print(subn)\n",
    "\n",
    "# ex2\n",
    "sub = re.sub(r'Toko', 'Tokyo', \n",
    "             'Toko is Toko')\n",
    "print(sub)"
   ]
  },
  {
   "cell_type": "code",
   "execution_count": null,
   "metadata": {},
   "outputs": [],
   "source": []
  }
 ],
 "metadata": {
  "kernelspec": {
   "display_name": "Python 3",
   "language": "python",
   "name": "python3"
  },
  "language_info": {
   "codemirror_mode": {
    "name": "ipython",
    "version": 3
   },
   "file_extension": ".py",
   "mimetype": "text/x-python",
   "name": "python",
   "nbconvert_exporter": "python",
   "pygments_lexer": "ipython3",
   "version": "3.7.0"
  }
 },
 "nbformat": 4,
 "nbformat_minor": 4
}
