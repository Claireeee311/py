{
 "cells": [
  {
   "cell_type": "markdown",
   "metadata": {},
   "source": [
    "## Combined_3 (Week 6)\n",
    "\n",
    "### 15 Feb (Wed)"
   ]
  },
  {
   "cell_type": "code",
   "execution_count": 27,
   "metadata": {},
   "outputs": [],
   "source": [
    "import re"
   ]
  },
  {
   "cell_type": "code",
   "execution_count": 37,
   "metadata": {},
   "outputs": [
    {
     "name": "stdout",
     "output_type": "stream",
     "text": [
      "['e', '-', 'a', '-', 's', '-', 'y', ',', 'e', 'a', 's', 'y']\n",
      "['e', '-', 'a', '-', '-', 'e', 'a']\n"
     ]
    }
   ],
   "source": [
    "p = re.compile(r'\\S')\n",
    "p2 = re.compile(r'[a-e-]')\n",
    "m = p.findall('e-a-s-y,easy')\n",
    "n = p2.findall('e-a-s-y,easy')\n",
    "print(m)\n",
    "print(n)"
   ]
  },
  {
   "cell_type": "code",
   "execution_count": 3,
   "metadata": {},
   "outputs": [
    {
     "name": "stdout",
     "output_type": "stream",
     "text": [
      "15\n",
      "2024\n",
      "2025\n"
     ]
    }
   ],
   "source": [
    "text = \"\"\"\n",
    "When was the best time to sign up for diving? At 15 years old. \n",
    "When is_a the next best time? Today. \n",
    "Dont say wait till Year 2024, wait till Year 2025, etc.'\n",
    "\"\"\"\n",
    "\n",
    "p = re.compile(r'\\d+')\n",
    "for m in p.findall(text):\n",
    "    print(m)\n",
    "    "
   ]
  },
  {
   "cell_type": "code",
   "execution_count": 13,
   "metadata": {},
   "outputs": [
    {
     "data": {
      "text/plain": [
       "\"\\nWhen was the best time to sign up for diving? At 15 years old. \\nWhen is_a the next best time? Today. \\nDont say wait till Year 2024, wait till Year 2025, etc.'\\n\""
      ]
     },
     "execution_count": 13,
     "metadata": {},
     "output_type": "execute_result"
    }
   ],
   "source": [
    "text"
   ]
  },
  {
   "cell_type": "code",
   "execution_count": 7,
   "metadata": {},
   "outputs": [
    {
     "data": {
      "text/plain": [
       "<re.Match object; span=(146, 150), match='2025'>"
      ]
     },
     "execution_count": 7,
     "metadata": {},
     "output_type": "execute_result"
    }
   ],
   "source": [
    "list(p.finditer(text))[2]"
   ]
  },
  {
   "cell_type": "markdown",
   "metadata": {},
   "source": [
    "[a-zA-Z]\n",
    "[A-Za-z]\n",
    "[ABC....XYZabc....xyz]\n",
    "[abc....xyzABC....XYZ]\n",
    "[^d-z]  ---  [^defgh....xyz]"
   ]
  },
  {
   "cell_type": "code",
   "execution_count": 15,
   "metadata": {},
   "outputs": [],
   "source": []
  },
  {
   "cell_type": "code",
   "execution_count": 4,
   "metadata": {
    "scrolled": true
   },
   "outputs": [
    {
     "name": "stdout",
     "output_type": "stream",
     "text": [
      "When\n",
      "best\n",
      "time\n",
      "sign\n",
      "When\n",
      "is_a\n",
      "next\n",
      "best\n",
      "time\n",
      "Dont\n",
      "wait\n",
      "till\n",
      "Year\n",
      "2024\n",
      "wait\n",
      "till\n",
      "Year\n",
      "2025\n"
     ]
    }
   ],
   "source": [
    "p = re.compile(r'\\b\\w{4}\\b')\n",
    "for m in p.findall(text):\n",
    "    print(m)"
   ]
  },
  {
   "cell_type": "code",
   "execution_count": 2,
   "metadata": {},
   "outputs": [
    {
     "name": "stdout",
     "output_type": "stream",
     "text": [
      "<re.Match object; span=(120, 129), match='Year 2024'>\n",
      "('2024',)\n",
      "Year 2024\n",
      "<re.Match object; span=(141, 150), match='Year 2025'>\n",
      "('2025',)\n",
      "Year 2025\n"
     ]
    }
   ],
   "source": [
    "text = \"\"\"\n",
    "When was the best time to sign up for diving? At 15 years old. \n",
    "When is the next best time? Today. \n",
    "Dont say wait till Year 2024, wait till Year 2025, etc.'\n",
    "\"\"\"\n",
    "\n",
    "p = re.compile(r'Year (\\d+)')\n",
    "for m in p.finditer(text):\n",
    "    print(m)\n",
    "    print(m.groups())\n",
    "    print(m.group(0))\n"
   ]
  },
  {
   "cell_type": "code",
   "execution_count": 7,
   "metadata": {},
   "outputs": [
    {
     "name": "stdout",
     "output_type": "stream",
     "text": [
      "<re.Match object; span=(0, 4), match='1111'>\n",
      "<re.Match object; span=(4, 4), match=''>\n",
      "<re.Match object; span=(5, 10), match='22222'>\n",
      "<re.Match object; span=(10, 10), match=''>\n",
      "<re.Match object; span=(11, 16), match='33333'>\n",
      "<re.Match object; span=(16, 16), match=''>\n",
      "<re.Match object; span=(17, 24), match='4444444'>\n",
      "<re.Match object; span=(24, 24), match=''>\n"
     ]
    }
   ],
   "source": [
    "textB = \"1111 22222 33333 4444444\"\n",
    "\n",
    "p2 = re.compile(r'\\b\\d*\\b')\n",
    "for m in p2.finditer(textB):\n",
    "    print(m)"
   ]
  },
  {
   "cell_type": "code",
   "execution_count": 43,
   "metadata": {},
   "outputs": [
    {
     "name": "stdout",
     "output_type": "stream",
     "text": [
      "\n",
      " == m.groups() : \n",
      " ('one..two...three....4', 'one', 'two', 'three', '4')\n",
      "\n",
      " == m.group(0) : \n",
      " one..two...three....4zzzzzz\n",
      "\n",
      " == m.group(1) : \n",
      " one..two...three....4\n",
      "\n",
      " == m.group(2,3,4,5) : \n",
      " ('one', 'two', 'three', '4')\n"
     ]
    }
   ],
   "source": [
    "text = 'one..two...three....4zzzzzz'\n",
    "#p = re.compile(r'(\\w+)\\W+(\\w+)\\W+(\\w+)\\W+(\\w+)')\n",
    "p = re.compile(r'((\\w+)\\W+(\\w+)\\W+(\\w+)\\W+(\\d+))\\w+')\n",
    "for m in p.finditer(text):\n",
    "    print(\"\\n == m.groups() : \\n\", m.groups())\n",
    "    print(\"\\n == m.group(0) : \\n\", m.group(0))\n",
    "    print(\"\\n == m.group(1) : \\n\", m.group(1))\n",
    "    print(\"\\n == m.group(2,3,4,5) : \\n\", m.group(2,3,4,5))"
   ]
  },
  {
   "cell_type": "code",
   "execution_count": 44,
   "metadata": {},
   "outputs": [],
   "source": [
    "text = 'one..two...three....4'\n",
    "p = re.compile(r'((\\w+)\\W+(\\w+)\\W+(\\w+)\\W+(\\d+))\\w+')\n",
    "for m in p.finditer(text):\n",
    "    print(\"\\n == m.groups() : \\n\", m.groups())\n",
    "    print(\"\\n == m.group(0) : \\n\", m.group(0))\n",
    "    print(\"\\n == m.group(1) : \\n\", m.group(1))\n",
    "    print(\"\\n == m.group(2,3,4,5) : \\n\", m.group(2,3,4,5))"
   ]
  },
  {
   "cell_type": "code",
   "execution_count": 40,
   "metadata": {},
   "outputs": [
    {
     "data": {
      "text/plain": [
       "[]"
      ]
     },
     "execution_count": 40,
     "metadata": {},
     "output_type": "execute_result"
    }
   ],
   "source": [
    "list(p.finditer(text))"
   ]
  },
  {
   "cell_type": "code",
   "execution_count": 45,
   "metadata": {
    "scrolled": true
   },
   "outputs": [
    {
     "name": "stdout",
     "output_type": "stream",
     "text": [
      "\n",
      " == m.groups() : \n",
      " ('one..two...three....4', 'e', 'two', 'three', '4')\n",
      "\n",
      " == m.group(0) : \n",
      " one..two...three....4zzzz\n",
      "\n",
      " == m.group(1) : \n",
      " one..two...three....4\n",
      "\n",
      " == m.group(2,3,4,5) : \n",
      " ('e', 'two', 'three', '4')\n",
      "\n",
      " == m.group(2) : \n",
      " e\n"
     ]
    }
   ],
   "source": [
    "text = 'one..two...three....4zzzz'\n",
    "p = re.compile(r'((\\w)+\\W+(\\w+)\\W+(\\w+)\\W+(\\d+))\\w+')\n",
    "for m in p.finditer(text):\n",
    "    print(\"\\n == m.groups() : \\n\", m.groups())\n",
    "    print(\"\\n == m.group(0) : \\n\", m.group(0))\n",
    "    print(\"\\n == m.group(1) : \\n\", m.group(1))\n",
    "    print(\"\\n == m.group(2,3,4,5) : \\n\", m.group(2,3,4,5))\n",
    "    print(\"\\n == m.group(2) : \\n\", m.group(2))\n",
    "    "
   ]
  },
  {
   "cell_type": "code",
   "execution_count": 46,
   "metadata": {
    "scrolled": true
   },
   "outputs": [
    {
     "name": "stdout",
     "output_type": "stream",
     "text": [
      "\n",
      " == m.groups() : \n",
      " ('one..two...three....4', 'one', 'e', 'two', 'three', '4')\n",
      "\n",
      " == m.group(0) : \n",
      " one..two...three....4zzzz\n",
      "\n",
      " == m.group(1) : \n",
      " one..two...three....4\n",
      "\n",
      " == m.group(2,3,4,5) : \n",
      " ('one', 'e', 'two', 'three')\n",
      "\n",
      " == m.group(2) : \n",
      " one\n"
     ]
    }
   ],
   "source": [
    "text = 'one..two...three....4zzzz'\n",
    "p = re.compile(r'(((\\w)+)\\W+(\\w+)\\W+(\\w+)\\W+(\\d+))\\w+')\n",
    "for m in p.finditer(text):\n",
    "    print(\"\\n == m.groups() : \\n\", m.groups())\n",
    "    print(\"\\n == m.group(0) : \\n\", m.group(0))\n",
    "    print(\"\\n == m.group(1) : \\n\", m.group(1))\n",
    "    print(\"\\n == m.group(2,3,4,5) : \\n\", m.group(2,3,4,5))\n",
    "    print(\"\\n == m.group(2) : \\n\", m.group(2))\n",
    "    "
   ]
  },
  {
   "cell_type": "code",
   "execution_count": 53,
   "metadata": {},
   "outputs": [
    {
     "name": "stdout",
     "output_type": "stream",
     "text": [
      "\n",
      " == m.groups() : \n",
      " ('6789', '9')\n",
      "\n",
      " == m.group(0) : \n",
      " 6789...one\n",
      "\n",
      " == m.group(1) : \n",
      " 6789\n",
      "\n",
      " == m.group(2) : \n",
      " 9\n"
     ]
    }
   ],
   "source": [
    "text = 'one6789...one'\n",
    "p = re.compile(r'((\\d)+)\\W+\\w+')\n",
    "for m in p.finditer(text):\n",
    "    print(\"\\n == m.groups() : \\n\", m.groups())\n",
    "    print(\"\\n == m.group(0) : \\n\", m.group(0))\n",
    "    print(\"\\n == m.group(1) : \\n\", m.group(1))\n",
    "    print(\"\\n == m.group(2) : \\n\", m.group(2))\n",
    "    "
   ]
  },
  {
   "cell_type": "code",
   "execution_count": 61,
   "metadata": {},
   "outputs": [
    {
     "name": "stdout",
     "output_type": "stream",
     "text": [
      "--- i:  0\n",
      "6789...\n",
      "6789\n",
      "--- i:  1\n",
      "34567...\n",
      "34567\n"
     ]
    }
   ],
   "source": [
    "text = 'one6789...34567...'\n",
    "#p = re.compile(r'((\\d)+)\\W+')\n",
    "p = re.compile(r'(\\d+)\\W+')\n",
    "\n",
    "for i, m in enumerate(p.finditer(text)):\n",
    "    print(\"--- i: \", i)\n",
    "    print(m.group(0))\n",
    "    print(m.group(1))\n",
    "    #print(m.group(2))\n",
    "    "
   ]
  },
  {
   "cell_type": "code",
   "execution_count": 62,
   "metadata": {},
   "outputs": [
    {
     "name": "stdout",
     "output_type": "stream",
     "text": [
      "_____  1  _____\n",
      "<re.Match object; span=(0, 15), match='I like swimming'>\n",
      "<re.Match object; span=(42, 49), match='running'>\n"
     ]
    }
   ],
   "source": [
    "text = \"I like swimming. I like diving. I dislike running\"\n",
    "\n",
    "print(\"_____  1  _____\")\n",
    "p = re.compile(r'I like swimming|running')\n",
    "m = p.finditer(text)\n",
    "for match in m:\n",
    "    print(match)"
   ]
  },
  {
   "cell_type": "code",
   "execution_count": 63,
   "metadata": {},
   "outputs": [
    {
     "name": "stdout",
     "output_type": "stream",
     "text": [
      "_____  2  _____\n",
      "<re.Match object; span=(0, 15), match='I like swimming'>\n"
     ]
    }
   ],
   "source": [
    "print(\"_____  2  _____\")\n",
    "p2 = re.compile(r'I like (swimming|running)')\n",
    "m2 = p2.finditer(text)\n",
    "for match in m2:\n",
    "    print(match)"
   ]
  },
  {
   "cell_type": "code",
   "execution_count": 64,
   "metadata": {},
   "outputs": [
    {
     "name": "stdout",
     "output_type": "stream",
     "text": [
      "_____  3  _____\n",
      "<re.Match object; span=(0, 15), match='I like swimming'>\n",
      "<re.Match object; span=(17, 30), match='I like diving'>\n"
     ]
    }
   ],
   "source": [
    "print(\"_____  3  _____\")\n",
    "p3 = re.compile(r'I like (swimm|div)ing')\n",
    "m3 = p3.finditer(text)\n",
    "for match in m3:\n",
    "    print(match)"
   ]
  },
  {
   "cell_type": "code",
   "execution_count": 69,
   "metadata": {},
   "outputs": [
    {
     "name": "stdout",
     "output_type": "stream",
     "text": [
      "_____  4  _____\n"
     ]
    }
   ],
   "source": [
    "print(\"_____  4  _____\")\n",
    "p3 = re.compile(r'I like [swimm|div]ing')\n",
    "m3 = p3.finditer(text)\n",
    "#m3 = p3.finditer(\"I like wing\")\n",
    "for match in m3:\n",
    "    print(match)"
   ]
  },
  {
   "cell_type": "markdown",
   "metadata": {},
   "source": [
    "## Contents\n",
    "\n",
    "**Class Exercise (Week 5)** <br>\n",
    "[Exercise 3.11](#Exercise_3_11) <br>\n",
    "[Exercise 3.12](#Exercise_3_12) <br>\n",
    "[Exercise 3.13](#Exercise_3_13) <br>\n",
    "[Exercise 3.14](#Exercise_3_14) <br>\n",
    "[Exercise 3.15](#Exercise_3_15) <br>\n",
    "\n",
    "**Tutorial Questions (Week 6)** <br>\n",
    "[Question 3.21](#Question_3_21) <br>\n",
    "[Question 3.22](#Question_3_22) <br>\n",
    "[Question 3.23](#Question_3_23) <br>\n",
    "[Question 3.24](#Question_3_24) <br>\n",
    "[Question 3.25](#Question_3_25) <br>\n",
    "[Question 3.26](#Question_3_26) <br>"
   ]
  },
  {
   "cell_type": "markdown",
   "metadata": {},
   "source": [
    "<a id='Exercise_3_11'></a>\n",
    "\n",
    "### Exercise 3.11\n",
    "\n",
    "Match all phone numbers in the give text.\n",
    "```\n",
    "Please dial our hotline number:\n",
    "93611900\n",
    "93611909\n",
    "93611919\n",
    "```"
   ]
  },
  {
   "cell_type": "code",
   "execution_count": 70,
   "metadata": {},
   "outputs": [
    {
     "data": {
      "text/plain": [
       "[<re.Match object; span=(32, 40), match='93611900'>,\n",
       " <re.Match object; span=(41, 49), match='93611909'>,\n",
       " <re.Match object; span=(50, 58), match='93611919'>]"
      ]
     },
     "execution_count": 70,
     "metadata": {},
     "output_type": "execute_result"
    }
   ],
   "source": [
    "text = \"\"\"Please dial our hotline number:\n",
    "93611900\n",
    "93611909\n",
    "93611919\"\"\"\n",
    "\n",
    "p = re.compile(r'\\d{8}', re.M)\n",
    "\n",
    "list(p.finditer(text))"
   ]
  },
  {
   "cell_type": "code",
   "execution_count": null,
   "metadata": {},
   "outputs": [],
   "source": [
    "text = \"\"\"Please dial our 3 hotline numbers:\\n93611900\\n93611909\\n93611919\"\"\"\n"
   ]
  },
  {
   "cell_type": "code",
   "execution_count": 78,
   "metadata": {},
   "outputs": [
    {
     "data": {
      "text/plain": [
       "[<re.Match object; span=(35, 43), match='93611900'>,\n",
       " <re.Match object; span=(44, 52), match='93611909'>]"
      ]
     },
     "execution_count": 78,
     "metadata": {},
     "output_type": "execute_result"
    }
   ],
   "source": [
    "text = \"\"\"Please dial our 3 hotline numbers:\n",
    "93611900\n",
    "93611909\n",
    "9361191975\"\"\"\n",
    "\n",
    "#p = re.compile(r'\\b\\d{8}$', re.M)\n",
    "p = re.compile(r'\\b\\d{8}\\b')\n",
    "\n",
    "list(p.finditer(text))"
   ]
  },
  {
   "cell_type": "markdown",
   "metadata": {},
   "source": [
    "<a id='Exercise_3_12'></a>\n",
    "\n",
    "### Exercise 3.12\n",
    "\n",
    "Match all the prefixes and only the names following them in the text.\n",
    "```\n",
    "Here are the guests coming to the party tonight:\n",
    " - Mr. Joe Bean\n",
    " - Ms. Liz Johnson\n",
    " - Mrs. Alice Dawn Fredder\n",
    " - Miss. Emma Williams\n",
    "\n",
    "```"
   ]
  },
  {
   "cell_type": "code",
   "execution_count": null,
   "metadata": {},
   "outputs": [],
   "source": []
  },
  {
   "cell_type": "code",
   "execution_count": 79,
   "metadata": {},
   "outputs": [],
   "source": [
    "text = \"\"\"Mr. Joe Bean, Ms. Liz Johnson, Mrs. Alice Dawn Fredder, Miss. Emma Williams\"\"\""
   ]
  },
  {
   "cell_type": "code",
   "execution_count": 80,
   "metadata": {},
   "outputs": [
    {
     "data": {
      "text/plain": [
       "[<re.Match object; span=(31, 35), match='Mrs.'>]"
      ]
     },
     "execution_count": 80,
     "metadata": {},
     "output_type": "execute_result"
    }
   ],
   "source": [
    "p = re.compile(r'M[ris]s\\.')\n",
    "\n",
    "list(p.finditer(text))"
   ]
  },
  {
   "cell_type": "code",
   "execution_count": 88,
   "metadata": {},
   "outputs": [],
   "source": [
    "text = \"\"\"Here are the guests coming to the party tonight:\n",
    " - Mr. Joe Bean\n",
    " - Ms. Liz Johnson\n",
    " - Mrs. Alice Dawn Fredder\n",
    " - Miss. Emma Williams\"\"\""
   ]
  },
  {
   "cell_type": "code",
   "execution_count": 89,
   "metadata": {},
   "outputs": [
    {
     "data": {
      "text/plain": [
       "[<re.Match object; span=(52, 64), match='Mr. Joe Bean'>,\n",
       " <re.Match object; span=(68, 83), match='Ms. Liz Johnson'>,\n",
       " <re.Match object; span=(87, 110), match='Mrs. Alice Dawn Fredder'>,\n",
       " <re.Match object; span=(114, 133), match='Miss. Emma Williams'>]"
      ]
     },
     "execution_count": 89,
     "metadata": {},
     "output_type": "execute_result"
    }
   ],
   "source": [
    "p = re.compile(r'M[ris]s*\\. [\\w\\s]+$', re.M)\n",
    "\n",
    "list(p.finditer(text))"
   ]
  },
  {
   "cell_type": "markdown",
   "metadata": {},
   "source": [
    "<a id='Exercise_3_13'></a>\n",
    "\n",
    "### Exercise 3.13\n",
    "\n",
    "Match all email addresses from the given text.\n",
    "```\n",
    "My old email address jk@gmail.com is no longer in use. For the moment, my personal email address is jk_personal@yahoo.com.sg. You may also contact me at jameskohby@smu.edu.sg.\n",
    "```"
   ]
  },
  {
   "cell_type": "code",
   "execution_count": 94,
   "metadata": {},
   "outputs": [],
   "source": [
    "text = \"My old email address jk@gmail.com is no longer in use. For the moment, my personal email address is jk_personal@yahoo.com.sg. You may also contact me at jameskohby@smu.edu.sg.\""
   ]
  },
  {
   "cell_type": "code",
   "execution_count": 95,
   "metadata": {},
   "outputs": [
    {
     "data": {
      "text/plain": [
       "[<re.Match object; span=(21, 33), match='jk@gmail.com'>,\n",
       " <re.Match object; span=(100, 124), match='jk_personal@yahoo.com.sg'>,\n",
       " <re.Match object; span=(153, 174), match='jameskohby@smu.edu.sg'>]"
      ]
     },
     "execution_count": 95,
     "metadata": {},
     "output_type": "execute_result"
    }
   ],
   "source": [
    "p = re.compile(r'\\w+@[\\w\\.]+\\b', re.M)\n",
    "\n",
    "list(p.finditer(text))"
   ]
  },
  {
   "cell_type": "code",
   "execution_count": 98,
   "metadata": {},
   "outputs": [
    {
     "data": {
      "text/plain": [
       "[<re.Match object; span=(21, 33), match='jk@gmail.com'>,\n",
       " <re.Match object; span=(100, 124), match='jk_personal@yahoo.com.sg'>,\n",
       " <re.Match object; span=(153, 174), match='jameskohby@smu.edu.sg'>]"
      ]
     },
     "execution_count": 98,
     "metadata": {},
     "output_type": "execute_result"
    }
   ],
   "source": [
    "p = re.compile(r'\\w+@[\\w\\.]+\\b')\n",
    "\n",
    "list(p.finditer(text))"
   ]
  },
  {
   "cell_type": "markdown",
   "metadata": {},
   "source": [
    "<a id='Exercise_3_14'></a>\n",
    "\n",
    "### Exercise 3.14\n",
    "\n",
    "Match all the names and phone numbers from the given text and create a dictionary using the names as keys and phone numbers as values.\n",
    "\n",
    "Note that the correct format for a phone number is 9 digits evenly divided into three groups by two hyphens, e.g., 111-111-111. Please correct all the phone numbers with incorrect separators before you put them in the dictionary.\n",
    "\n",
    "*Note: This is different from the SCORM lecture. If you submit a solution to a different question, I will invite you to drink coffee with me.*"
   ]
  },
  {
   "cell_type": "code",
   "execution_count": 9,
   "metadata": {},
   "outputs": [],
   "source": [
    "phones = \"\"\"Mickey Mouse: 123-111-212\n",
    "Donald Duck: 391-399-128\n",
    "Snow White: 188381887\n",
    "Buzz Lightyear: 212-212212\n",
    "Winnie Pooh: 371*371&196\n",
    "Fairy Godmother: -192-182-736-\n",
    "Hua Mulan: 8198-18-817\"\"\""
   ]
  },
  {
   "cell_type": "code",
   "execution_count": 107,
   "metadata": {},
   "outputs": [
    {
     "data": {
      "text/plain": [
       "[<re.Match object; span=(0, 25), match='Mickey Mouse: 123-111-212'>,\n",
       " <re.Match object; span=(26, 50), match='Donald Duck: 391-399-128'>,\n",
       " <re.Match object; span=(51, 72), match='Snow White: 188381887'>,\n",
       " <re.Match object; span=(73, 99), match='Buzz Lightyear: 212-212212'>,\n",
       " <re.Match object; span=(100, 124), match='Winnie Pooh: 371*371&196'>,\n",
       " <re.Match object; span=(125, 155), match='Fairy Godmother: -192-182-736-'>,\n",
       " <re.Match object; span=(156, 178), match='Hua Mulan: 8198-18-817'>]"
      ]
     },
     "execution_count": 107,
     "metadata": {},
     "output_type": "execute_result"
    }
   ],
   "source": [
    "# p = re.compile('^([\\w\\s]+): ([\\d\\W]+)$', re.M)\n",
    "p = re.compile('^[\\w\\s]+: [\\d\\W]+$', re.M)\n",
    "\n",
    "list(p.finditer(phones))\n",
    "# list(p.findall(phones))"
   ]
  },
  {
   "cell_type": "code",
   "execution_count": 113,
   "metadata": {},
   "outputs": [
    {
     "name": "stdout",
     "output_type": "stream",
     "text": [
      "Mickey Mouse: 123-111-212\n"
     ]
    }
   ],
   "source": [
    "for m in p.finditer(phones):\n",
    "    start, end = m.span()\n",
    "    print(phones[start:end])\n",
    "    break"
   ]
  },
  {
   "cell_type": "code",
   "execution_count": 115,
   "metadata": {},
   "outputs": [
    {
     "name": "stdout",
     "output_type": "stream",
     "text": [
      "Mickey Mouse: 123-111-212\n"
     ]
    }
   ],
   "source": [
    "subtext = phones[start:end]\n",
    "print(subtext)"
   ]
  },
  {
   "cell_type": "code",
   "execution_count": 117,
   "metadata": {},
   "outputs": [
    {
     "data": {
      "text/plain": [
       "['1', '2', '3', '1', '1', '1', '2', '1', '2']"
      ]
     },
     "execution_count": 117,
     "metadata": {},
     "output_type": "execute_result"
    }
   ],
   "source": [
    "p = re.compile(r'\\d')\n",
    "# p.findall(subtext)\n",
    "p.findall(\"Mickey Mouse: 123-1+1&1-21@2\")\n"
   ]
  },
  {
   "cell_type": "code",
   "execution_count": 118,
   "metadata": {},
   "outputs": [
    {
     "data": {
      "text/plain": [
       "'123111212'"
      ]
     },
     "execution_count": 118,
     "metadata": {},
     "output_type": "execute_result"
    }
   ],
   "source": [
    "''.join(['1', '2', '3', '1', '1', '1', '2', '1', '2'])"
   ]
  },
  {
   "cell_type": "code",
   "execution_count": 120,
   "metadata": {},
   "outputs": [],
   "source": [
    "number = ''.join(['1', '2', '3', '1', '1', '1', '2', '1', '2'])"
   ]
  },
  {
   "cell_type": "code",
   "execution_count": 122,
   "metadata": {},
   "outputs": [
    {
     "data": {
      "text/plain": [
       "['123', '111', '212']"
      ]
     },
     "execution_count": 122,
     "metadata": {},
     "output_type": "execute_result"
    }
   ],
   "source": [
    "[number[3*i: 3*(i+1)] for i in range(3)]"
   ]
  },
  {
   "cell_type": "code",
   "execution_count": 121,
   "metadata": {
    "scrolled": true
   },
   "outputs": [
    {
     "data": {
      "text/plain": [
       "'123-111-212'"
      ]
     },
     "execution_count": 121,
     "metadata": {},
     "output_type": "execute_result"
    }
   ],
   "source": [
    "'-'.join(number[3*i: 3*(i+1)] for i in range(3))"
   ]
  },
  {
   "cell_type": "code",
   "execution_count": 123,
   "metadata": {},
   "outputs": [
    {
     "data": {
      "text/plain": [
       "['Mickey Mouse', ' 123-1+1&1-21@2']"
      ]
     },
     "execution_count": 123,
     "metadata": {},
     "output_type": "execute_result"
    }
   ],
   "source": [
    "\"Mickey Mouse: 123-1+1&1-21@2\".split(':')"
   ]
  },
  {
   "cell_type": "code",
   "execution_count": 9,
   "metadata": {
    "scrolled": true
   },
   "outputs": [
    {
     "data": {
      "text/plain": [
       "{'Mickey Mouse': '123-111-212',\n",
       " 'Donald Duck': '391-399-128',\n",
       " 'Snow White': '188-381-887',\n",
       " 'Buzz Lightyear': '212-212-212',\n",
       " 'Winnie Pooh': '371-371-196',\n",
       " 'Fairy Godmother': '192-182-736',\n",
       " 'Hua Mulan': '819-818-817'}"
      ]
     },
     "execution_count": 9,
     "metadata": {},
     "output_type": "execute_result"
    }
   ],
   "source": [
    "dictionary = {}\n",
    "num_pat = re.compile(r'\\d')\n",
    "\n",
    "for entry in p.finditer(phones):\n",
    "    start, end = entry.span()\n",
    "    name, number = phones[start:end].split(':')\n",
    "    \n",
    "    number = ''.join(num_pat.findall(number))\n",
    "    sep_number = '-'.join(number[3*i: 3*(i+1)] for i in range(3))\n",
    "    dictionary[name] = sep_number\n",
    "\n",
    "dictionary"
   ]
  },
  {
   "cell_type": "code",
   "execution_count": 127,
   "metadata": {},
   "outputs": [
    {
     "name": "stdout",
     "output_type": "stream",
     "text": [
      "Mickey Mouse\n",
      "123-111-212\n"
     ]
    }
   ],
   "source": [
    "p = re.compile(r'(\\w+\\s\\w+): (-*\\d+[-\\*]*\\d+[-\\&]*\\d+)')\n",
    "phone_dict = {}\n",
    "for m in p.finditer(phones):\n",
    "    print(m[1])\n",
    "    print(m[2])\n",
    "#     print(m.group(0))\n",
    "#     print(m.group(1))\n",
    "#     print(m.group(2))\n",
    "    s = m[2].replace('-','').replace('*','').replace('&','')\n",
    "    break"
   ]
  },
  {
   "cell_type": "code",
   "execution_count": 128,
   "metadata": {},
   "outputs": [
    {
     "data": {
      "text/plain": [
       "'123111212'"
      ]
     },
     "execution_count": 128,
     "metadata": {},
     "output_type": "execute_result"
    }
   ],
   "source": [
    "s"
   ]
  },
  {
   "cell_type": "code",
   "execution_count": 10,
   "metadata": {},
   "outputs": [
    {
     "name": "stdout",
     "output_type": "stream",
     "text": [
      "{'Mickey Mouse': '123-111-212', 'Donald Duck': '391-399-128', 'Snow White': '188-381-887', 'Buzz Lightyear': '212-212-212', 'Winnie Pooh': '371-371-196', 'Fairy Godmother': '192-182-736', 'Hua Mulan': '819-818-817'}\n"
     ]
    }
   ],
   "source": [
    "p = re.compile(r'(\\w+\\s\\w+): (-*\\d+[-\\*]*\\d+[-\\&]*\\d+)')\n",
    "phone_dict = {}\n",
    "for m in p.finditer(phones):\n",
    "    s = m[2].replace('-','').replace('*','').replace('&','')\n",
    "    phone_dict[m[1]] = s[:3] + '-' + s[3:6] + '-' + s[6:]\n",
    "\n",
    "print(phone_dict)   "
   ]
  },
  {
   "cell_type": "markdown",
   "metadata": {},
   "source": [
    "<a id='Exercise_3_15'></a>\n",
    "\n",
    "### Exercise 3.15\n",
    "\n",
    "Match all the words that contain at least 3 vowels from the given text."
   ]
  },
  {
   "cell_type": "code",
   "execution_count": 130,
   "metadata": {},
   "outputs": [
    {
     "data": {
      "text/plain": [
       "[<re.Match object; span=(10, 18), match='contains'>,\n",
       " <re.Match object; span=(36, 45), match='dangerous'>,\n",
       " <re.Match object; span=(46, 55), match='criminals'>]"
      ]
     },
     "execution_count": 130,
     "metadata": {},
     "output_type": "execute_result"
    }
   ],
   "source": [
    "text = \"The group contains some of the most dangerous criminals in the country.\"\n",
    "\n",
    "p = re.compile(r'(\\w*[AEIOUaeiou]\\w*){3,}')\n",
    "\n",
    "list(p.finditer(text))"
   ]
  },
  {
   "cell_type": "code",
   "execution_count": 132,
   "metadata": {},
   "outputs": [
    {
     "data": {
      "text/plain": [
       "('ins',)"
      ]
     },
     "execution_count": 132,
     "metadata": {},
     "output_type": "execute_result"
    }
   ],
   "source": [
    "list(p.finditer(text))[0].groups()"
   ]
  },
  {
   "cell_type": "code",
   "execution_count": 133,
   "metadata": {},
   "outputs": [
    {
     "data": {
      "text/plain": [
       "'contains'"
      ]
     },
     "execution_count": 133,
     "metadata": {},
     "output_type": "execute_result"
    }
   ],
   "source": [
    "list(p.finditer(text))[0].group(0)"
   ]
  },
  {
   "cell_type": "markdown",
   "metadata": {},
   "source": [
    "## [Sample solution] Tutorial 3"
   ]
  },
  {
   "cell_type": "markdown",
   "metadata": {},
   "source": [
    "<a id='Question_3_21'></a>\n",
    "\n",
    "### Question 3.21\n",
    "\n",
    "Ivy and Lynn are best friends. They both long song lyrics but do not like vowels.\n",
    "\n",
    "Using regex, find all words in the text that does not contain vowels. It is okay to return a string of consonants which cannot be found in the English dictionary."
   ]
  },
  {
   "cell_type": "code",
   "execution_count": 134,
   "metadata": {},
   "outputs": [
    {
     "data": {
      "text/plain": [
       "[<re.Match object; span=(77, 83), match='rhythm'>]"
      ]
     },
     "execution_count": 134,
     "metadata": {},
     "output_type": "execute_result"
    }
   ],
   "source": [
    "text = \"So comfortable, we're living in a bubble, A BUBBLE. We're all chained to the rhythm.\"\n",
    "\n",
    "\n",
    "p = re.compile(r'\\b[^aeiouAEIOU\\W]+\\b')\n",
    "list(p.finditer(text))"
   ]
  },
  {
   "cell_type": "code",
   "execution_count": 135,
   "metadata": {
    "scrolled": true
   },
   "outputs": [
    {
     "data": {
      "text/plain": [
       "[<re.Match object; span=(0, 1), match='S'>,\n",
       " <re.Match object; span=(3, 4), match='c'>,\n",
       " <re.Match object; span=(5, 7), match='mf'>,\n",
       " <re.Match object; span=(8, 10), match='rt'>,\n",
       " <re.Match object; span=(11, 13), match='bl'>,\n",
       " <re.Match object; span=(16, 17), match='w'>,\n",
       " <re.Match object; span=(19, 20), match='r'>,\n",
       " <re.Match object; span=(22, 23), match='l'>,\n",
       " <re.Match object; span=(24, 25), match='v'>,\n",
       " <re.Match object; span=(26, 28), match='ng'>,\n",
       " <re.Match object; span=(30, 31), match='n'>,\n",
       " <re.Match object; span=(34, 35), match='b'>,\n",
       " <re.Match object; span=(36, 39), match='bbl'>,\n",
       " <re.Match object; span=(44, 45), match='B'>,\n",
       " <re.Match object; span=(46, 49), match='BBL'>,\n",
       " <re.Match object; span=(52, 53), match='W'>,\n",
       " <re.Match object; span=(55, 56), match='r'>,\n",
       " <re.Match object; span=(59, 61), match='ll'>,\n",
       " <re.Match object; span=(62, 64), match='ch'>,\n",
       " <re.Match object; span=(66, 67), match='n'>,\n",
       " <re.Match object; span=(68, 69), match='d'>,\n",
       " <re.Match object; span=(70, 71), match='t'>,\n",
       " <re.Match object; span=(73, 75), match='th'>,\n",
       " <re.Match object; span=(77, 83), match='rhythm'>]"
      ]
     },
     "execution_count": 135,
     "metadata": {},
     "output_type": "execute_result"
    }
   ],
   "source": [
    "text = \"So comfortable, we're living in a bubble, A BUBBLE. We're all chained to the rhythm.\"\n",
    "\n",
    "\n",
    "p = re.compile(r'[^aeiouAEIOU\\W]+')\n",
    "list(p.finditer(text))"
   ]
  },
  {
   "cell_type": "code",
   "execution_count": 136,
   "metadata": {},
   "outputs": [
    {
     "data": {
      "text/plain": [
       "[<re.Match object; span=(0, 1), match='S'>,\n",
       " <re.Match object; span=(2, 4), match=' c'>,\n",
       " <re.Match object; span=(5, 7), match='mf'>,\n",
       " <re.Match object; span=(8, 10), match='rt'>,\n",
       " <re.Match object; span=(11, 13), match='bl'>,\n",
       " <re.Match object; span=(14, 17), match=', w'>,\n",
       " <re.Match object; span=(18, 20), match=\"'r\">,\n",
       " <re.Match object; span=(21, 23), match=' l'>,\n",
       " <re.Match object; span=(24, 25), match='v'>,\n",
       " <re.Match object; span=(26, 29), match='ng '>,\n",
       " <re.Match object; span=(30, 32), match='n '>,\n",
       " <re.Match object; span=(33, 35), match=' b'>,\n",
       " <re.Match object; span=(36, 39), match='bbl'>,\n",
       " <re.Match object; span=(40, 42), match=', '>,\n",
       " <re.Match object; span=(43, 45), match=' B'>,\n",
       " <re.Match object; span=(46, 49), match='BBL'>,\n",
       " <re.Match object; span=(50, 53), match='. W'>,\n",
       " <re.Match object; span=(54, 56), match=\"'r\">,\n",
       " <re.Match object; span=(57, 58), match=' '>,\n",
       " <re.Match object; span=(59, 64), match='ll ch'>,\n",
       " <re.Match object; span=(66, 67), match='n'>,\n",
       " <re.Match object; span=(68, 71), match='d t'>,\n",
       " <re.Match object; span=(72, 75), match=' th'>,\n",
       " <re.Match object; span=(76, 84), match=' rhythm.'>]"
      ]
     },
     "execution_count": 136,
     "metadata": {},
     "output_type": "execute_result"
    }
   ],
   "source": [
    "text = \"So comfortable, we're living in a bubble, A BUBBLE. We're all chained to the rhythm.\"\n",
    "\n",
    "\n",
    "p = re.compile(r'[^aeiouAEIOU]+')\n",
    "list(p.finditer(text))"
   ]
  },
  {
   "cell_type": "markdown",
   "metadata": {},
   "source": [
    "<a id='Question_3_22'></a>\n",
    "\n",
    "### Question 3.22\n",
    "\n",
    "Find all integers between 100 and 9999 inclusive from a given text."
   ]
  },
  {
   "cell_type": "code",
   "execution_count": 140,
   "metadata": {
    "scrolled": true
   },
   "outputs": [
    {
     "data": {
      "text/plain": [
       "[<re.Match object; span=(108, 111), match='999'>,\n",
       " <re.Match object; span=(112, 116), match='2345'>,\n",
       " <re.Match object; span=(117, 120), match='666'>,\n",
       " <re.Match object; span=(125, 129), match='1000'>,\n",
       " <re.Match object; span=(136, 139), match='123'>,\n",
       " <re.Match object; span=(140, 144), match='4567'>]"
      ]
     },
     "execution_count": 140,
     "metadata": {},
     "output_type": "execute_result"
    }
   ],
   "source": [
    "text = \"The following numbers are special, because out of an infinite number of possibilities they are chosen: 5 10 999 2345 666 0 1 1000 20000 123 4567 89\"\n",
    "\n",
    "p = re.compile(r'\\b[1-9][0-9]{2,3}\\b')\n",
    "list(p.finditer(text))"
   ]
  },
  {
   "cell_type": "code",
   "execution_count": 139,
   "metadata": {},
   "outputs": [
    {
     "data": {
      "text/plain": [
       "[<re.Match object; span=(108, 111), match='999'>,\n",
       " <re.Match object; span=(112, 116), match='2345'>,\n",
       " <re.Match object; span=(117, 120), match='666'>,\n",
       " <re.Match object; span=(125, 129), match='1000'>,\n",
       " <re.Match object; span=(130, 134), match='2000'>,\n",
       " <re.Match object; span=(136, 139), match='123'>,\n",
       " <re.Match object; span=(140, 144), match='4567'>]"
      ]
     },
     "execution_count": 139,
     "metadata": {},
     "output_type": "execute_result"
    }
   ],
   "source": [
    "text = \"The following numbers are special, because out of an infinite number of possibilities they are chosen: 5 10 999 2345 666 0 1 1000 20000 123 4567 89\"\n",
    "\n",
    "p = re.compile(r'[1-9][0-9]{2,3}')\n",
    "list(p.finditer(text))"
   ]
  },
  {
   "cell_type": "markdown",
   "metadata": {},
   "source": [
    "<a id='Question_3_23'></a>\n",
    "\n",
    "### Question 3.23\n",
    "\n",
    "Find out all words that are shorter than 7 characters in the given text."
   ]
  },
  {
   "cell_type": "code",
   "execution_count": 141,
   "metadata": {
    "scrolled": true
   },
   "outputs": [
    {
     "data": {
      "text/plain": [
       "[<re.Match object; span=(0, 4), match='This'>,\n",
       " <re.Match object; span=(5, 7), match='is'>,\n",
       " <re.Match object; span=(8, 12), match='also'>,\n",
       " <re.Match object; span=(13, 14), match='a'>,\n",
       " <re.Match object; span=(41, 43), match='it'>,\n",
       " <re.Match object; span=(44, 48), match='came'>,\n",
       " <re.Match object; span=(49, 52), match='out'>,\n",
       " <re.Match object; span=(53, 55), match='of'>,\n",
       " <re.Match object; span=(56, 58), match='my'>,\n",
       " <re.Match object; span=(59, 63), match='mind'>,\n",
       " <re.Match object; span=(64, 68), match='from'>,\n",
       " <re.Match object; span=(69, 71), match='an'>,\n",
       " <re.Match object; span=(81, 87), match='number'>,\n",
       " <re.Match object; span=(88, 90), match='of'>]"
      ]
     },
     "execution_count": 141,
     "metadata": {},
     "output_type": "execute_result"
    }
   ],
   "source": [
    "text = \"This is also a special sentence, because it came out of my mind from an infinite number of possibilities.\"\n",
    "\n",
    "p = re.compile(r'\\b\\w{1,6}\\b')\n",
    "list(p.finditer(text))"
   ]
  },
  {
   "cell_type": "code",
   "execution_count": 151,
   "metadata": {},
   "outputs": [
    {
     "data": {
      "text/plain": [
       "[<re.Match object; span=(0, 4), match='This'>,\n",
       " <re.Match object; span=(5, 7), match='is'>,\n",
       " <re.Match object; span=(8, 12), match='also'>,\n",
       " <re.Match object; span=(13, 14), match='a'>,\n",
       " <re.Match object; span=(15, 22), match='special'>,\n",
       " <re.Match object; span=(23, 31), match='sentence'>,\n",
       " <re.Match object; span=(33, 40), match='because'>,\n",
       " <re.Match object; span=(41, 43), match='it'>,\n",
       " <re.Match object; span=(44, 48), match='came'>,\n",
       " <re.Match object; span=(49, 52), match='out'>,\n",
       " <re.Match object; span=(53, 55), match='of'>,\n",
       " <re.Match object; span=(56, 58), match='my'>,\n",
       " <re.Match object; span=(59, 63), match='mind'>,\n",
       " <re.Match object; span=(64, 68), match='from'>,\n",
       " <re.Match object; span=(69, 71), match='an'>,\n",
       " <re.Match object; span=(72, 80), match='infinite'>,\n",
       " <re.Match object; span=(81, 87), match='number'>,\n",
       " <re.Match object; span=(88, 90), match='of'>,\n",
       " <re.Match object; span=(91, 104), match='possibilities'>]"
      ]
     },
     "execution_count": 151,
     "metadata": {},
     "output_type": "execute_result"
    }
   ],
   "source": [
    "text = \"This is also a special sentence, because it came out of my mind from an infinite number of possibilities.\"\n",
    "\n",
    "p = re.compile(r'\\w+')   ## for as many letters as possible\n",
    "list(p.finditer(text))"
   ]
  },
  {
   "cell_type": "markdown",
   "metadata": {},
   "source": [
    "<a id='Question_3_24'></a>\n",
    "\n",
    "### Question 3.24\n",
    "\n",
    "There is a system that has a list of requirements for valid usernames as follows:\n",
    "1. the username must be at least 5 and at most 10 characters.\n",
    "2. the first character must be a letter (can be upper or lower case).\n",
    "3. each character in the username must be from\n",
    "    - upper-case letters (A-Z)\n",
    "    - lower-case letters (a-z)\n",
    "    - digits (0-9)\n",
    "    - underline (\\_)\n",
    "\n",
    "Given a list of potential usernames, use regular expression to validate and determine which are acceptable. Define a function `validate()` that takes in the usernames in the form of a multi-line text, and returns a list of valid usernames (while dropping those which are not valid)."
   ]
  },
  {
   "cell_type": "code",
   "execution_count": null,
   "metadata": {},
   "outputs": [],
   "source": [
    "p = re.compile(r'[a-zA-Z]\\w{4,9}$', re.M)\n"
   ]
  },
  {
   "cell_type": "code",
   "execution_count": 162,
   "metadata": {},
   "outputs": [],
   "source": [
    "users = \"\"\"\n",
    "Tony1Stark\n",
    "Tony Stark\n",
    "Dr.Strange\n",
    "Dr_Strange\n",
    " Strange\n",
    "Stephen99\n",
    "99Stephen\n",
    "\"\"\""
   ]
  },
  {
   "cell_type": "code",
   "execution_count": 153,
   "metadata": {},
   "outputs": [
    {
     "data": {
      "text/plain": [
       "[<re.Match object; span=(1, 11), match='Tony1Stark'>,\n",
       " <re.Match object; span=(34, 44), match='Dr_Strange'>,\n",
       " <re.Match object; span=(54, 63), match='Stephen99'>]"
      ]
     },
     "execution_count": 153,
     "metadata": {},
     "output_type": "execute_result"
    }
   ],
   "source": [
    "p = re.compile(r'^([a-zA-Z]\\w{4,9})$', re.M)\n",
    "list(p.finditer(users))"
   ]
  },
  {
   "cell_type": "code",
   "execution_count": 160,
   "metadata": {},
   "outputs": [],
   "source": [
    "usersX = \"Qony1Starkzzz\""
   ]
  },
  {
   "cell_type": "code",
   "execution_count": 165,
   "metadata": {},
   "outputs": [
    {
     "data": {
      "text/plain": [
       "[<re.Match object; span=(1, 11), match='Tony1Stark'>,\n",
       " <re.Match object; span=(34, 44), match='Dr_Strange'>,\n",
       " <re.Match object; span=(54, 63), match='Stephen99'>]"
      ]
     },
     "execution_count": 165,
     "metadata": {},
     "output_type": "execute_result"
    }
   ],
   "source": [
    "p = re.compile(r'^[a-zA-Z]\\w{4,9}$', re.M)\n",
    "#p = re.compile(r'^[a-zA-Z]\\w{4,9}$')\n",
    "list(p.finditer(users))"
   ]
  },
  {
   "cell_type": "code",
   "execution_count": 16,
   "metadata": {},
   "outputs": [],
   "source": [
    "def validate(users):\n",
    "    holder = []\n",
    "    p = re.compile(r'^([a-zA-Z]\\w{4,9})$', re.M)\n",
    "    for x in p.finditer(users):\n",
    "        start, end = x.span()\n",
    "        holder.append(users[start:end])\n",
    "    return holder"
   ]
  },
  {
   "cell_type": "code",
   "execution_count": 17,
   "metadata": {},
   "outputs": [
    {
     "data": {
      "text/plain": [
       "['Tony1Stark', 'Dr_Strange', 'Stephen99']"
      ]
     },
     "execution_count": 17,
     "metadata": {},
     "output_type": "execute_result"
    }
   ],
   "source": [
    "validate(users)"
   ]
  },
  {
   "cell_type": "markdown",
   "metadata": {},
   "source": [
    "<a id='Question_3_25'></a>\n",
    "\n",
    "### Question 3.25\n",
    "\n",
    "Find all the price listed in the text below. Assume that all prices start with the '$' symbol."
   ]
  },
  {
   "cell_type": "code",
   "execution_count": 18,
   "metadata": {},
   "outputs": [
    {
     "data": {
      "text/plain": [
       "[<re.Match object; span=(36, 41), match='$1.50'>,\n",
       " <re.Match object; span=(59, 61), match='$2'>,\n",
       " <re.Match object; span=(80, 83), match='$10'>]"
      ]
     },
     "execution_count": 18,
     "metadata": {},
     "output_type": "execute_result"
    }
   ],
   "source": [
    "text = \"Mary sells fruits. Each apple costs $1.50. Each pear costs $2. Each mango costs $10.\"\n",
    "\n",
    "p = re.compile(r'\\$\\d+(\\.\\d*)?\\b')\n",
    "list(p.finditer(text))"
   ]
  },
  {
   "cell_type": "markdown",
   "metadata": {},
   "source": [
    "<a id='Question_3_26'></a>\n",
    "\n",
    "### Question 3.26\n",
    "\n",
    "James records his dives in the format 'dive%03d', ie. ending with three digits filled with leading zeros (because he does not foresee exceeding 999 dives in the entire life). When referred to at the start of a sentence, a capital D will be used.\n",
    "\n",
    "Find all relevant dives."
   ]
  },
  {
   "cell_type": "code",
   "execution_count": 11,
   "metadata": {},
   "outputs": [
    {
     "data": {
      "text/plain": [
       "[<re.Match object; span=(0, 7), match='Dive009'>,\n",
       " <re.Match object; span=(102, 109), match='dive018'>,\n",
       " <re.Match object; span=(150, 157), match='dive022'>]"
      ]
     },
     "execution_count": 11,
     "metadata": {},
     "output_type": "execute_result"
    }
   ],
   "source": [
    "text = \"Dive009 was memorable. I drank coke from a can at a depth of 30m. I saw my first turtle underwater in dive018, and came up close to another turtle in dive022! You will never have this experience in Block123 or on a Boeing777. You will not see dive01, fakedive123, or dive1000 in the log book.\"\n",
    "\n",
    "p = re.compile(r'\\b[Dd]ive(\\d{3})\\b')\n",
    "list(p.finditer(text))"
   ]
  },
  {
   "cell_type": "code",
   "execution_count": 12,
   "metadata": {},
   "outputs": [
    {
     "name": "stdout",
     "output_type": "stream",
     "text": [
      "Dive009\n",
      "('009',)\n",
      "dive018\n",
      "('018',)\n",
      "dive022\n",
      "('022',)\n"
     ]
    }
   ],
   "source": [
    "p = re.compile(r'\\b[Dd]ive(\\d{3})\\b')\n",
    "for m in p.finditer(text):\n",
    "    print(m.group(0))\n",
    "    print(m.groups())\n"
   ]
  },
  {
   "cell_type": "code",
   "execution_count": 13,
   "metadata": {},
   "outputs": [],
   "source": [
    "p = re.compile(r'^[Dd]ive(\\d{3})$')\n",
    "for m in p.finditer(text):\n",
    "    print(m.group(0))\n",
    "    print(m.groups())\n"
   ]
  },
  {
   "cell_type": "code",
   "execution_count": 14,
   "metadata": {},
   "outputs": [],
   "source": [
    "another_text = \"\"\"\n",
    "dive001\n",
    "Dive002\n",
    "Fakedive003\n",
    "\"\"\""
   ]
  },
  {
   "cell_type": "code",
   "execution_count": 15,
   "metadata": {},
   "outputs": [
    {
     "name": "stdout",
     "output_type": "stream",
     "text": [
      "dive001\n",
      "('001',)\n",
      "Dive002\n",
      "('002',)\n"
     ]
    }
   ],
   "source": [
    "p = re.compile(r'^[Dd]ive(\\d{3})$', re.M)\n",
    "for m in p.finditer(another_text):\n",
    "    print(m.group(0))\n",
    "    print(m.groups())\n"
   ]
  },
  {
   "cell_type": "code",
   "execution_count": 16,
   "metadata": {},
   "outputs": [],
   "source": [
    "text = 'ABC12432532 ABC5342463 ABC453763d465 AABBCCCC09343415324233 AAABBBCCC AAAABBBBCCCC091242157123 AAABBBCCC232314124567 ABBBBBC097123'\n",
    "\n"
   ]
  },
  {
   "cell_type": "code",
   "execution_count": 17,
   "metadata": {},
   "outputs": [
    {
     "name": "stdout",
     "output_type": "stream",
     "text": [
      "AAAABBBBCCCC\n",
      "BBBB\n",
      "AAABBBCCC\n",
      "BBB\n"
     ]
    }
   ],
   "source": [
    "p = re.compile(r'((A{3,})(B{3,})(C{3,}))\\d{4,}')\n",
    "\n",
    "for m in p.finditer(text):\n",
    "    #print(m.groups())\n",
    "    #print(m.group(0))\n",
    "    print(m.group(1))\n",
    "    print(m.group(3))"
   ]
  },
  {
   "cell_type": "code",
   "execution_count": 18,
   "metadata": {},
   "outputs": [
    {
     "name": "stdout",
     "output_type": "stream",
     "text": [
      "('AAAABBBBCCCC', 'AAAA', 'BBBB', 'CCCC')\n",
      "AAAABBBBCCCC091242157123\n",
      "AAAABBBBCCCC\n",
      "BBBB\n",
      "('AAABBBCCC', 'AAA', 'BBB', 'CCC')\n",
      "AAABBBCCC232314124567\n",
      "AAABBBCCC\n",
      "BBB\n"
     ]
    }
   ],
   "source": [
    "p = re.compile(r'((A{3,})(B{3,})(C{3,}))\\d{4,}')\n",
    "\n",
    "for m in p.finditer(text):\n",
    "    print(m.groups())\n",
    "    print(m.group(0))\n",
    "    print(m.group(1))\n",
    "    print(m.group(3))"
   ]
  },
  {
   "cell_type": "code",
   "execution_count": 26,
   "metadata": {},
   "outputs": [
    {
     "name": "stdout",
     "output_type": "stream",
     "text": [
      "CCCC\n",
      "CCC\n"
     ]
    }
   ],
   "source": [
    "p = re.compile(r'((A{3,})(B{3,})(C{3,}))\\d{4,}')\n",
    "\n",
    "for m in p.finditer(text):\n",
    "   \n",
    "    print(m.group(4))\n",
    "    "
   ]
  },
  {
   "cell_type": "code",
   "execution_count": null,
   "metadata": {},
   "outputs": [],
   "source": []
  }
 ],
 "metadata": {
  "kernelspec": {
   "display_name": "Python 3 (ipykernel)",
   "language": "python",
   "name": "python3"
  },
  "language_info": {
   "codemirror_mode": {
    "name": "ipython",
    "version": 3
   },
   "file_extension": ".py",
   "mimetype": "text/x-python",
   "name": "python",
   "nbconvert_exporter": "python",
   "pygments_lexer": "ipython3",
   "version": "3.10.9"
  }
 },
 "nbformat": 4,
 "nbformat_minor": 4
}
