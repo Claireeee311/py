{
 "cells": [
  {
   "cell_type": "markdown",
   "metadata": {},
   "source": [
    "## Combined_2 (Week 4)\n",
    "\n",
    "### 01 Feb (Wed)"
   ]
  },
  {
   "cell_type": "markdown",
   "metadata": {},
   "source": [
    "## Contents\n",
    "\n",
    "**Class Exercise (Week 3)** <br>\n",
    "[Exercise 2.11](#Exercise_2_11) <br>\n",
    "[Exercise 2.12](#Exercise_2_12) <br>\n",
    "[Exercise 2.13](#Exercise_2_13) <br>\n",
    "[Exercise 2.14](#Exercise_2_14) <br>\n",
    "[Exercise 2.15](#Exercise_2_15) <br>\n",
    "\n",
    "**Tutorial Questions (Week 4)** <br>\n",
    "[Question 2.21](#Question_2_21) <br>\n",
    "[Question 2.22](#Question_2_22) <br>\n",
    "[Question 2.23](#Question_2_23) <br>\n",
    "[Question 2.24](#Question_2_24) <br>"
   ]
  },
  {
   "cell_type": "code",
   "execution_count": 35,
   "metadata": {},
   "outputs": [],
   "source": [
    "def add_without_return(num1, num2):\n",
    "    ans = num1+num2\n",
    "    print(ans)"
   ]
  },
  {
   "cell_type": "code",
   "execution_count": 36,
   "metadata": {},
   "outputs": [
    {
     "name": "stdout",
     "output_type": "stream",
     "text": [
      "22\n"
     ]
    }
   ],
   "source": [
    "add_without_return(5,17)"
   ]
  },
  {
   "cell_type": "code",
   "execution_count": 37,
   "metadata": {},
   "outputs": [
    {
     "name": "stdout",
     "output_type": "stream",
     "text": [
      "22\n"
     ]
    },
    {
     "data": {
      "text/plain": [
       "NoneType"
      ]
     },
     "execution_count": 37,
     "metadata": {},
     "output_type": "execute_result"
    }
   ],
   "source": [
    "a = add_without_return(5,17)\n",
    "type(a)"
   ]
  },
  {
   "cell_type": "code",
   "execution_count": 13,
   "metadata": {},
   "outputs": [],
   "source": [
    "def add(num1, num2):\n",
    "    ans = num1+num2\n",
    "    return None\n",
    "    #return\n",
    "    ####"
   ]
  },
  {
   "cell_type": "code",
   "execution_count": 16,
   "metadata": {},
   "outputs": [
    {
     "data": {
      "text/plain": [
       "NoneType"
      ]
     },
     "execution_count": 16,
     "metadata": {},
     "output_type": "execute_result"
    }
   ],
   "source": [
    "output1 = add(5,17)\n",
    "type(output1)"
   ]
  },
  {
   "cell_type": "code",
   "execution_count": 1,
   "metadata": {},
   "outputs": [],
   "source": [
    "holder = []\n",
    "def addB(numlist):\n",
    "    for x in numlist:\n",
    "        ## check for some condition\n",
    "        holder.append(x)\n"
   ]
  },
  {
   "cell_type": "code",
   "execution_count": 2,
   "metadata": {},
   "outputs": [],
   "source": [
    "numlist = [11, 13, 17]"
   ]
  },
  {
   "cell_type": "code",
   "execution_count": 3,
   "metadata": {},
   "outputs": [
    {
     "name": "stdout",
     "output_type": "stream",
     "text": [
      "[11, 13, 17]\n"
     ]
    }
   ],
   "source": [
    "addB(numlist)\n",
    "print(holder)"
   ]
  },
  {
   "cell_type": "code",
   "execution_count": 21,
   "metadata": {},
   "outputs": [
    {
     "data": {
      "text/plain": [
       "[11, 13, 17]"
      ]
     },
     "execution_count": 21,
     "metadata": {},
     "output_type": "execute_result"
    }
   ],
   "source": [
    "numlist"
   ]
  },
  {
   "cell_type": "code",
   "execution_count": 25,
   "metadata": {},
   "outputs": [],
   "source": [
    "def addC(numlist):\n",
    "    newholder = []\n",
    "    for x in numlist:\n",
    "        ## check for some condition\n",
    "        newholder.append(x)\n"
   ]
  },
  {
   "cell_type": "code",
   "execution_count": 26,
   "metadata": {},
   "outputs": [],
   "source": [
    "addC(numlist)"
   ]
  },
  {
   "cell_type": "code",
   "execution_count": 27,
   "metadata": {},
   "outputs": [
    {
     "ename": "NameError",
     "evalue": "name 'newholder' is not defined",
     "output_type": "error",
     "traceback": [
      "\u001b[1;31m---------------------------------------------------------------------------\u001b[0m",
      "\u001b[1;31mNameError\u001b[0m                                 Traceback (most recent call last)",
      "\u001b[1;32m<ipython-input-27-98aee9f333da>\u001b[0m in \u001b[0;36m<module>\u001b[1;34m()\u001b[0m\n\u001b[1;32m----> 1\u001b[1;33m \u001b[0mnewholder\u001b[0m\u001b[1;33m\u001b[0m\u001b[0m\n\u001b[0m",
      "\u001b[1;31mNameError\u001b[0m: name 'newholder' is not defined"
     ]
    }
   ],
   "source": [
    "newholder"
   ]
  },
  {
   "cell_type": "code",
   "execution_count": 29,
   "metadata": {},
   "outputs": [],
   "source": [
    "def addD(numlist):\n",
    "    newholder = []\n",
    "    for x in numlist:\n",
    "        ## check for some condition\n",
    "        newholder.append(x)\n",
    "    return newholder"
   ]
  },
  {
   "cell_type": "code",
   "execution_count": 30,
   "metadata": {},
   "outputs": [],
   "source": [
    "new_output = addD([12,13,14])"
   ]
  },
  {
   "cell_type": "code",
   "execution_count": 33,
   "metadata": {},
   "outputs": [],
   "source": [
    "a = 100"
   ]
  },
  {
   "cell_type": "code",
   "execution_count": 31,
   "metadata": {},
   "outputs": [
    {
     "data": {
      "text/plain": [
       "[12, 13, 14]"
      ]
     },
     "execution_count": 31,
     "metadata": {},
     "output_type": "execute_result"
    }
   ],
   "source": [
    "new_output"
   ]
  },
  {
   "cell_type": "code",
   "execution_count": null,
   "metadata": {},
   "outputs": [],
   "source": [
    "def addD(numlist):\n",
    "    newholder = []\n",
    "    for x in numlist:\n",
    "        ## check for some condition\n",
    "        newholder.append(x)\n",
    "    return newholder"
   ]
  },
  {
   "cell_type": "code",
   "execution_count": 32,
   "metadata": {},
   "outputs": [
    {
     "data": {
      "text/plain": [
       "[16, 17, 18]"
      ]
     },
     "execution_count": 32,
     "metadata": {},
     "output_type": "execute_result"
    }
   ],
   "source": [
    "addD([16,17,18])"
   ]
  },
  {
   "cell_type": "code",
   "execution_count": 34,
   "metadata": {},
   "outputs": [
    {
     "data": {
      "text/plain": [
       "100"
      ]
     },
     "execution_count": 34,
     "metadata": {},
     "output_type": "execute_result"
    }
   ],
   "source": [
    "100"
   ]
  },
  {
   "cell_type": "code",
   "execution_count": 38,
   "metadata": {},
   "outputs": [
    {
     "name": "stdout",
     "output_type": "stream",
     "text": [
      "hello\n"
     ]
    }
   ],
   "source": [
    "b = print('hello')"
   ]
  },
  {
   "cell_type": "code",
   "execution_count": 39,
   "metadata": {},
   "outputs": [
    {
     "data": {
      "text/plain": [
       "NoneType"
      ]
     },
     "execution_count": 39,
     "metadata": {},
     "output_type": "execute_result"
    }
   ],
   "source": [
    "type(b)"
   ]
  },
  {
   "cell_type": "code",
   "execution_count": 40,
   "metadata": {},
   "outputs": [],
   "source": [
    "def sayhello():\n",
    "    return print('hello')"
   ]
  },
  {
   "cell_type": "code",
   "execution_count": 41,
   "metadata": {},
   "outputs": [
    {
     "name": "stdout",
     "output_type": "stream",
     "text": [
      "hello\n"
     ]
    },
    {
     "data": {
      "text/plain": [
       "NoneType"
      ]
     },
     "execution_count": 41,
     "metadata": {},
     "output_type": "execute_result"
    }
   ],
   "source": [
    "c = sayhello()\n",
    "type(c)"
   ]
  },
  {
   "cell_type": "code",
   "execution_count": 47,
   "metadata": {},
   "outputs": [],
   "source": [
    "apple = 10\n",
    "def change():\n",
    "    apple = 15\n",
    "    print('this is inside the function', apple)\n",
    "    return apple"
   ]
  },
  {
   "cell_type": "code",
   "execution_count": 48,
   "metadata": {},
   "outputs": [
    {
     "name": "stdout",
     "output_type": "stream",
     "text": [
      "this is inside the function 15\n"
     ]
    },
    {
     "data": {
      "text/plain": [
       "15"
      ]
     },
     "execution_count": 48,
     "metadata": {},
     "output_type": "execute_result"
    }
   ],
   "source": [
    "change()"
   ]
  },
  {
   "cell_type": "code",
   "execution_count": 49,
   "metadata": {},
   "outputs": [
    {
     "data": {
      "text/plain": [
       "10"
      ]
     },
     "execution_count": 49,
     "metadata": {},
     "output_type": "execute_result"
    }
   ],
   "source": [
    "apple"
   ]
  },
  {
   "cell_type": "code",
   "execution_count": 50,
   "metadata": {},
   "outputs": [],
   "source": [
    "def substract(num3, num4):\n",
    "    return num3 - num4"
   ]
  },
  {
   "cell_type": "code",
   "execution_count": 51,
   "metadata": {},
   "outputs": [],
   "source": [
    "substractB = lambda num3, num4: num3 - num4"
   ]
  },
  {
   "cell_type": "code",
   "execution_count": 52,
   "metadata": {},
   "outputs": [
    {
     "data": {
      "text/plain": [
       "2"
      ]
     },
     "execution_count": 52,
     "metadata": {},
     "output_type": "execute_result"
    }
   ],
   "source": [
    "substract(10,8)"
   ]
  },
  {
   "cell_type": "code",
   "execution_count": 53,
   "metadata": {
    "scrolled": true
   },
   "outputs": [
    {
     "data": {
      "text/plain": [
       "2"
      ]
     },
     "execution_count": 53,
     "metadata": {},
     "output_type": "execute_result"
    }
   ],
   "source": [
    "substractB(10,8)"
   ]
  },
  {
   "cell_type": "code",
   "execution_count": 57,
   "metadata": {},
   "outputs": [],
   "source": [
    "def sumall(somelist):\n",
    "#     ans = 0\n",
    "#     for x in somelist:\n",
    "#         ans += x\n",
    "#     return ans\n",
    "    return sum(somelist)"
   ]
  },
  {
   "cell_type": "code",
   "execution_count": 58,
   "metadata": {},
   "outputs": [
    {
     "data": {
      "text/plain": [
       "18"
      ]
     },
     "execution_count": 58,
     "metadata": {},
     "output_type": "execute_result"
    }
   ],
   "source": [
    "sumall([5,6,7])"
   ]
  },
  {
   "cell_type": "code",
   "execution_count": 61,
   "metadata": {},
   "outputs": [],
   "source": [
    "sumall_B = lambda somelist: sum(somelist)"
   ]
  },
  {
   "cell_type": "code",
   "execution_count": 62,
   "metadata": {},
   "outputs": [
    {
     "data": {
      "text/plain": [
       "27"
      ]
     },
     "execution_count": 62,
     "metadata": {},
     "output_type": "execute_result"
    }
   ],
   "source": [
    "sumall_B([8,9,10])"
   ]
  },
  {
   "cell_type": "code",
   "execution_count": 90,
   "metadata": {},
   "outputs": [],
   "source": [
    "class Parent:\n",
    "    def __init__(self, lastname):\n",
    "        self.lastname = lastname\n",
    "\n",
    "    def parent_method(self):\n",
    "        return 'This is a parent method'\n",
    "        \n",
    "class Child(Parent):\n",
    "    def __init__(self, firstname):\n",
    "        #super().__init__(None)\n",
    "        self.firstname = firstname\n",
    "        "
   ]
  },
  {
   "cell_type": "code",
   "execution_count": 77,
   "metadata": {},
   "outputs": [],
   "source": [
    "tom = Parent('Koh')\n"
   ]
  },
  {
   "cell_type": "code",
   "execution_count": 78,
   "metadata": {},
   "outputs": [
    {
     "data": {
      "text/plain": [
       "'Koh'"
      ]
     },
     "execution_count": 78,
     "metadata": {},
     "output_type": "execute_result"
    }
   ],
   "source": [
    "tom.lastname"
   ]
  },
  {
   "cell_type": "code",
   "execution_count": 82,
   "metadata": {},
   "outputs": [],
   "source": [
    "peter = Child('Peter')"
   ]
  },
  {
   "cell_type": "code",
   "execution_count": 83,
   "metadata": {},
   "outputs": [
    {
     "data": {
      "text/plain": [
       "'Peter'"
      ]
     },
     "execution_count": 83,
     "metadata": {},
     "output_type": "execute_result"
    }
   ],
   "source": [
    "peter.firstname"
   ]
  },
  {
   "cell_type": "code",
   "execution_count": 85,
   "metadata": {},
   "outputs": [
    {
     "data": {
      "text/plain": [
       "NoneType"
      ]
     },
     "execution_count": 85,
     "metadata": {},
     "output_type": "execute_result"
    }
   ],
   "source": [
    "type(peter.lastname)"
   ]
  },
  {
   "cell_type": "code",
   "execution_count": 91,
   "metadata": {},
   "outputs": [],
   "source": [
    "newpeter = Child('newPeter')"
   ]
  },
  {
   "cell_type": "code",
   "execution_count": 93,
   "metadata": {},
   "outputs": [
    {
     "data": {
      "text/plain": [
       "'This is a parent method'"
      ]
     },
     "execution_count": 93,
     "metadata": {},
     "output_type": "execute_result"
    }
   ],
   "source": [
    "newpeter.parent_method()"
   ]
  },
  {
   "cell_type": "markdown",
   "metadata": {},
   "source": [
    "<a id='Exercise_2_11'></a>\n",
    "\n",
    "### Exercise 2.11: Find all prime numbers in a list\n",
    "\n",
    "Given a list of integers, find all the prime numbers that exists in that given list\n",
    "\n",
    "*Example* <br>\n",
    "*input --> num_list = [3, 5, 7, 9]* <br>\n",
    "*output <-- [3, 5, 7]*"
   ]
  },
  {
   "cell_type": "code",
   "execution_count": 7,
   "metadata": {},
   "outputs": [],
   "source": [
    "num_list = [649, 778, 652, 653, 912, 402, 917, 536, 664, 922, 284, 158, 415, 672, 673, 33, 419, 414, 421, 811, 683, 48, 818, 566, 567, 310, 580, 838, 199, 586, 458, 460, 337, 728, 604, 94, 607, 865, 354, 230, 367, 752, 625, 371, 505, 635, 893, 382, 767]"
   ]
  },
  {
   "cell_type": "code",
   "execution_count": 27,
   "metadata": {},
   "outputs": [
    {
     "name": "stdout",
     "output_type": "stream",
     "text": [
      "[653, 673, 419, 421, 811, 683, 199, 337, 607, 367]\n"
     ]
    }
   ],
   "source": [
    "def prime(n):\n",
    "    if n==2:\n",
    "        return True\n",
    "    elif n % 2 == 0:                 # check whether n is an even number\n",
    "        return False\n",
    "    else:                                \n",
    "        for i in range(3, n, 2):     # starting from 3, increment by 2 at each step     \n",
    "            if n % i == 0:           # n is divisible by i\n",
    "                return False\n",
    "    return True\n",
    "\n",
    "\n",
    "prime_list = []    # initialize empty list\n",
    "\n",
    "for n in num_list:\n",
    "    if prime(n):\n",
    "        prime_list.append(n)\n",
    "\n",
    "print(prime_list)"
   ]
  },
  {
   "cell_type": "code",
   "execution_count": null,
   "metadata": {},
   "outputs": [],
   "source": []
  },
  {
   "cell_type": "markdown",
   "metadata": {},
   "source": [
    "<a id='Exercise_2_12'></a>\n",
    "\n",
    "### Exercise 2.12: Using function with lambda to find all prime numbers\n",
    "\n",
    "Using the prime function you created above, solve the above Exercise 2.11 (ie. find all the prime numbers in a given list) using just one line.\n",
    "\n",
    "*Hint: use filter, lambda, and a function all together*"
   ]
  },
  {
   "cell_type": "code",
   "execution_count": 28,
   "metadata": {},
   "outputs": [],
   "source": [
    "small_list = [1,2,3,4,5]\n",
    "list(filter(lambda x: x>3, small_list))\n",
    "\n",
    "## equivalent to below\n",
    "tmp = []\n",
    "for x in small_list:\n",
    "    if x>3:\n",
    "        tmp.append(x)\n",
    "    else:\n",
    "        pass"
   ]
  },
  {
   "cell_type": "code",
   "execution_count": 29,
   "metadata": {},
   "outputs": [
    {
     "data": {
      "text/plain": [
       "[4, 5]"
      ]
     },
     "execution_count": 29,
     "metadata": {},
     "output_type": "execute_result"
    }
   ],
   "source": [
    "tmp"
   ]
  },
  {
   "cell_type": "code",
   "execution_count": 30,
   "metadata": {},
   "outputs": [],
   "source": [
    "list_of_list = [[1,2,3,4,5], [11,12,13,14,15], [21,22,23,24,25]]"
   ]
  },
  {
   "cell_type": "code",
   "execution_count": 31,
   "metadata": {},
   "outputs": [
    {
     "name": "stdout",
     "output_type": "stream",
     "text": [
      "[1, 2, 3, 4, 5]\n",
      "[11, 12, 13, 14, 15]\n",
      "[21, 22, 23, 24, 25]\n"
     ]
    }
   ],
   "source": [
    "for x in list_of_list:\n",
    "    print(x)"
   ]
  },
  {
   "cell_type": "code",
   "execution_count": 32,
   "metadata": {},
   "outputs": [
    {
     "data": {
      "text/plain": [
       "[[1, 2, 3, 4, 5], [11, 12, 13, 14, 15]]"
      ]
     },
     "execution_count": 32,
     "metadata": {},
     "output_type": "execute_result"
    }
   ],
   "source": [
    "list(filter(lambda x: x[2]<14, list_of_list))\n"
   ]
  },
  {
   "cell_type": "code",
   "execution_count": 33,
   "metadata": {},
   "outputs": [
    {
     "name": "stdout",
     "output_type": "stream",
     "text": [
      "[653, 673, 419, 421, 811, 683, 199, 337, 607, 367]\n"
     ]
    }
   ],
   "source": [
    "primes = filter(lambda x: prime(x), num_list)\n",
    "print(list(primes))"
   ]
  },
  {
   "cell_type": "markdown",
   "metadata": {},
   "source": [
    "<a id='Exercise_2_13'></a>\n",
    "\n",
    "### Exercise 2.13: Build a class called Parallelogram\n",
    "\n",
    "Create your own class (name the class as `Parallelogram`) that takes length, width and angle in degrees between sides as arguments. This class should have two methods; `perimeter` and `area`. With this, create an instance of Parallelogram with length 5, width 6 and angle 60. Then, print out its perimeter and area.\n",
    "\n",
    "*Hint: it may be helpful to import math if you want to compute sine or cosine.*"
   ]
  },
  {
   "cell_type": "code",
   "execution_count": 4,
   "metadata": {},
   "outputs": [],
   "source": [
    "import math\n",
    "class Parallelogram:\n",
    "    def __init__(self, length, width, angle):\n",
    "        self.length = length\n",
    "        self.width = width\n",
    "        self.angle = angle\n",
    "\n",
    "    def perimeter(self):\n",
    "        return 2 * (self.length + self.width)\n",
    "\n",
    "    def area(self):\n",
    "        return self.length * self.width * math.sin(self.angle/180 * math.pi)"
   ]
  },
  {
   "cell_type": "code",
   "execution_count": 5,
   "metadata": {},
   "outputs": [
    {
     "name": "stdout",
     "output_type": "stream",
     "text": [
      "22\n",
      "25.980762113533157\n"
     ]
    }
   ],
   "source": [
    "paral = Parallelogram(5, 6, 60)\n",
    "print(paral.perimeter())\n",
    "print(paral.area())"
   ]
  },
  {
   "cell_type": "markdown",
   "metadata": {},
   "source": [
    "<a id='Exercise_2_14'></a>\n",
    "\n",
    "### Exercise 2.14: Inheritance I\n",
    "\n",
    "Write a `Rhombus` class that inherits from the `Parallelogram` class. Create an instance named `rh` with length 5 and angle 60, print out its perimeter and area."
   ]
  },
  {
   "cell_type": "code",
   "execution_count": 6,
   "metadata": {},
   "outputs": [],
   "source": [
    "class Rhombus(Parallelogram):\n",
    "    def __init__(self, length, angle):\n",
    "        #super().__init__(length, length, angle)\n",
    "        super().__init__(length=length, width=length, angle=angle)\n",
    "#         self.length = length\n",
    "#         self.width = length\n",
    "#         self.angle = angle"
   ]
  },
  {
   "cell_type": "code",
   "execution_count": 7,
   "metadata": {},
   "outputs": [
    {
     "name": "stdout",
     "output_type": "stream",
     "text": [
      "20\n",
      "21.650635094610966\n"
     ]
    }
   ],
   "source": [
    "rh = Rhombus(5, 60)\n",
    "print(rh.perimeter())\n",
    "print(rh.area())"
   ]
  },
  {
   "cell_type": "markdown",
   "metadata": {},
   "source": [
    "<a id='Exercise_2_15'></a>\n",
    "\n",
    "### Exercise 2.15: Inheritance II\n",
    "\n",
    "Write a `Square` class that inherits from the `Rhombus` class. Create an instance named `sq` with length 5, print out its perimeter and area. Write a method, named `area`, that will return \"The area of a square with length xxx is xxx\"."
   ]
  },
  {
   "cell_type": "code",
   "execution_count": 8,
   "metadata": {},
   "outputs": [],
   "source": [
    "class Square(Rhombus):\n",
    "    def __init__(self, length):\n",
    "        #super().__init__(length, angle = 90)\n",
    "        ## From Rhombus ##  super().__init__(length=length, width=length, angle=90)\n",
    "        ## From Par self.length = length\n",
    "        ## From Par self.width = width\n",
    "        ## From Par self.angle = 90\n",
    "        \n",
    "    def area(self):\n",
    "        return \"The area of a square with length \" + str(self.length) + \" is \" + str(self.length ** 2)"
   ]
  },
  {
   "cell_type": "code",
   "execution_count": 9,
   "metadata": {
    "scrolled": true
   },
   "outputs": [
    {
     "name": "stdout",
     "output_type": "stream",
     "text": [
      "20\n",
      "The area of a square with length 5 is 25\n"
     ]
    }
   ],
   "source": [
    "sq = Square(5)\n",
    "print(sq.perimeter())\n",
    "print(sq.area())"
   ]
  },
  {
   "cell_type": "code",
   "execution_count": null,
   "metadata": {},
   "outputs": [],
   "source": []
  },
  {
   "cell_type": "markdown",
   "metadata": {},
   "source": [
    "## [Sample solution] Tutorial 2"
   ]
  },
  {
   "cell_type": "markdown",
   "metadata": {},
   "source": [
    "<a id='Question_2_21'></a>\n",
    "\n",
    "### Question 2.21: Elevator movement\n",
    "\n",
    "The code below defines an `Elevator` class. In this `Elevator` class, <br/>\n",
    "* The elevator is associated with a current floor where it stands by. The integers `bottom` and `top` representing the top floor and the bottom floor the elevator can go to, respectively.\n",
    "* All floors are numbered by continuous integers except that floor -1 is one level below floor 1.\n",
    "* The first floor aboveground is 1, and the first floor underground is -1 if there is any underground floor.\n",
    "* The method `announce` prints a string stating where the elevator currrently is.\n",
    "    * if f is positive (eg. 3), it prints 'the elevator is at level 3'\n",
    "    * if f is negative (eg. -1), it prints 'the elevator is at basement 1'\n",
    "\n",
    "*example 1* <br>\n",
    "floors are [-2, -1, 1, 2, 3]. In this case, the elevator stops at basement 2, basement 1, level 1, level 2, level 3\n",
    "\n",
    "Complete the code to simulate the movement of the elevator between the requested floors."
   ]
  },
  {
   "cell_type": "code",
   "execution_count": 101,
   "metadata": {},
   "outputs": [],
   "source": [
    "class Elevator:\n",
    "    def __init__(self, bottom, top):\n",
    "        \"\"\"\n",
    "        Initialize the Elevator instance, with the current floor set to 1 as default\n",
    "        \"\"\"\n",
    "        self.bottom = bottom\n",
    "        self.top = top\n",
    "        self.current = 1\n",
    "        \n",
    "    def up(self):\n",
    "        \"\"\"\n",
    "        Make the elevator go up one floor.\n",
    "        If the elevator is unable to stop at a higher floor, remain and do nothing.\n",
    "        \"\"\"\n",
    "        if self.current == -1:\n",
    "            self.current = 1\n",
    "        elif self.current < self.top:\n",
    "            self.current += 1\n",
    "\n",
    "    def down(self):\n",
    "        \"\"\"\n",
    "        Make the elevator go down one floor.\n",
    "        If the elevator is unable to stop at a lower floor, remain and do nothing.\n",
    "        \"\"\"\n",
    "        if self.current == 1:\n",
    "            self.current = -1\n",
    "        elif self.current > self.bottom:\n",
    "            self.current -= 1\n",
    "\n",
    "    def announce(self):\n",
    "        \"\"\"\n",
    "        Prints a string stating where the elevator currrently is\n",
    "        \"\"\"\n",
    "        if self.current >= 1:\n",
    "            print(\"the elevator is at level {}\".format(self.current))\n",
    "        else:\n",
    "            print(\"the elevator is at basement {}\".format(abs(self.current)))"
   ]
  },
  {
   "cell_type": "code",
   "execution_count": 102,
   "metadata": {},
   "outputs": [],
   "source": [
    "elevator = Elevator(-3, 3)"
   ]
  },
  {
   "cell_type": "markdown",
   "metadata": {},
   "source": [
    "To test whether your *Elevator* class is working correctly, run the code blocks below."
   ]
  },
  {
   "cell_type": "code",
   "execution_count": 103,
   "metadata": {
    "scrolled": true
   },
   "outputs": [
    {
     "data": {
      "text/plain": [
       "['bottom',\n",
       " 'top',\n",
       " 'current',\n",
       " '__module__',\n",
       " '__init__',\n",
       " 'up',\n",
       " 'down',\n",
       " 'announce',\n",
       " '__dict__',\n",
       " '__weakref__',\n",
       " '__doc__',\n",
       " '__repr__',\n",
       " '__hash__',\n",
       " '__str__',\n",
       " '__getattribute__',\n",
       " '__setattr__',\n",
       " '__delattr__',\n",
       " '__lt__',\n",
       " '__le__',\n",
       " '__eq__',\n",
       " '__ne__',\n",
       " '__gt__',\n",
       " '__ge__',\n",
       " '__new__',\n",
       " '__reduce_ex__',\n",
       " '__reduce__',\n",
       " '__subclasshook__',\n",
       " '__init_subclass__',\n",
       " '__format__',\n",
       " '__sizeof__',\n",
       " '__dir__',\n",
       " '__class__']"
      ]
     },
     "execution_count": 103,
     "metadata": {},
     "output_type": "execute_result"
    }
   ],
   "source": [
    "elevator.__dir__()"
   ]
  },
  {
   "cell_type": "code",
   "execution_count": 104,
   "metadata": {},
   "outputs": [
    {
     "data": {
      "text/plain": [
       "['bottom', 'top', 'current', 'up', 'down', 'announce']"
      ]
     },
     "execution_count": 104,
     "metadata": {},
     "output_type": "execute_result"
    }
   ],
   "source": [
    "[x for x in elevator.__dir__() if not x.startswith('__')]"
   ]
  },
  {
   "cell_type": "code",
   "execution_count": 106,
   "metadata": {},
   "outputs": [
    {
     "data": {
      "text/plain": [
       "1"
      ]
     },
     "execution_count": 106,
     "metadata": {},
     "output_type": "execute_result"
    }
   ],
   "source": [
    "elevator.current"
   ]
  },
  {
   "cell_type": "code",
   "execution_count": 107,
   "metadata": {},
   "outputs": [
    {
     "name": "stdout",
     "output_type": "stream",
     "text": [
      "the elevator is at level 2\n"
     ]
    }
   ],
   "source": [
    "elevator.up()         # self.current changed from 1 to 2\n",
    "elevator.announce()   # should output 'the elevator is at level 2'"
   ]
  },
  {
   "cell_type": "code",
   "execution_count": 108,
   "metadata": {},
   "outputs": [
    {
     "data": {
      "text/plain": [
       "2"
      ]
     },
     "execution_count": 108,
     "metadata": {},
     "output_type": "execute_result"
    }
   ],
   "source": [
    "elevator.current"
   ]
  },
  {
   "cell_type": "code",
   "execution_count": 4,
   "metadata": {},
   "outputs": [
    {
     "name": "stdout",
     "output_type": "stream",
     "text": [
      "the elevator is at level 3\n"
     ]
    }
   ],
   "source": [
    "elevator.up()         # self.current changed from 2 to 3\n",
    "elevator.announce()   # should output 'the elevator is at level 3'"
   ]
  },
  {
   "cell_type": "code",
   "execution_count": 5,
   "metadata": {},
   "outputs": [
    {
     "name": "stdout",
     "output_type": "stream",
     "text": [
      "the elevator is at basement 1\n"
     ]
    }
   ],
   "source": [
    "elevator.up()         # self.current remains at 3\n",
    "elevator.down()       # self.current decrease to 2\n",
    "elevator.down()       # self.current decrease to 1\n",
    "elevator.down()       # self.current decrease to -1\n",
    "elevator.announce()   # should output 'the elevator is at basement 1'"
   ]
  },
  {
   "cell_type": "code",
   "execution_count": null,
   "metadata": {},
   "outputs": [],
   "source": []
  },
  {
   "cell_type": "markdown",
   "metadata": {},
   "source": [
    "<a id='Question_2_22'></a>\n",
    "\n",
    "### Question 2.22: Movie\n",
    "\n",
    "The code below defines a `Movie` class. In this `Movie` class, <br/>\n",
    "* The movie object stores \n",
    "    * its `title`\n",
    "    * the `year` it was first released\n",
    "    * the `lead` cast (actor or actress)\n",
    "    * the `length` of run-time in minutes\n",
    "* The method `display` shows all its stored attributes"
   ]
  },
  {
   "cell_type": "code",
   "execution_count": 109,
   "metadata": {},
   "outputs": [],
   "source": [
    "#Write your class here\n",
    "class Movie:\n",
    "    def __init__(self, title, year, lead, length):\n",
    "        self.title = title\n",
    "        self.year = year\n",
    "        self.lead = lead \n",
    "        self.length = length\n",
    "    \n",
    "    def display(self):\n",
    "        \"\"\"\n",
    "        Prints the attributes\n",
    "        \"\"\"\n",
    "        print('Title:', self.title)\n",
    "        print('Year:', self.year)\n",
    "        print('Lead:', self.lead)\n",
    "        print('Length:', self.length)"
   ]
  },
  {
   "cell_type": "code",
   "execution_count": 110,
   "metadata": {
    "scrolled": false
   },
   "outputs": [
    {
     "name": "stdout",
     "output_type": "stream",
     "text": [
      "Title: Jungle Cruise\n",
      "Year: 2021\n",
      "Lead: Dwayne Johnson\n",
      "Length: 127\n"
     ]
    }
   ],
   "source": [
    "movie1 = Movie('Jungle Cruise', 2021, 'Dwayne Johnson', 127)\n",
    "movie1.display()"
   ]
  },
  {
   "cell_type": "markdown",
   "metadata": {},
   "source": [
    "#### More on the Movie class - putting things together\n",
    "\n",
    "We shall now extend of the Movie class as follows:\n",
    "* add an attribute `prequel` which is `None` by default.\n",
    "* include a method called `add_prequel` and `describe_prequel`.\n",
    "\n",
    "Suppose we want to display the information of the movie prequel. Calling `.describe_prequel()` should print the information of the movie's prequel, assuming one exists, otherwise it should print 'No prequel exists'.\n",
    "\n",
    "In addition we will now store each movie as a value in a dictionary, where its corresponding key is the movie title as a string."
   ]
  },
  {
   "cell_type": "code",
   "execution_count": 125,
   "metadata": {},
   "outputs": [],
   "source": [
    "#Write your class here\n",
    "class Movie:\n",
    "    def __init__(self, title, year, lead, length, prequel=None):\n",
    "        self.title = title\n",
    "        self.year = year\n",
    "        self.lead = lead \n",
    "        self.length = length\n",
    "        #self.prequel = None\n",
    "        self.prequel = prequel\n",
    "    \n",
    "    def display(self):\n",
    "        \"\"\"\n",
    "        Prints the attributes\n",
    "        \"\"\"\n",
    "        print('Title:', self.title)\n",
    "        print('Year:', self.year)\n",
    "        print('Lead:', self.lead)\n",
    "        print('Length:', self.length)\n",
    "        \n",
    "    def add_prequel(self, prequel):\n",
    "        \"\"\"\n",
    "        Update its own attribute\n",
    "        \"\"\"\n",
    "        self.prequel = prequel\n",
    "        \n",
    "    def describe_prequel(self):\n",
    "        \"\"\"\n",
    "        Prints the attributes of its prequel, if it has one\n",
    "        \"\"\"\n",
    "        if self.prequel is None:\n",
    "            print(\"No prequel exists\")\n",
    "        else:\n",
    "            self.prequel.display()"
   ]
  },
  {
   "cell_type": "code",
   "execution_count": 113,
   "metadata": {},
   "outputs": [],
   "source": [
    "# Let us simply consider \"Jumanji: Welcome to the Jungle (2017)\" to be the first movie in the series, \n",
    "# and not discuss whether it is a sequel to Jumanji (1995).\n",
    "\n",
    "# replace the variable movie1 with a new instance of Movie, so that it has the attribute `prequel`\n",
    "movie1 = Movie('Jungle Cruise', 2021, 'Dwayne Johnson', 127)\n",
    "#movie1.display()\n",
    "\n",
    "movie2 = Movie('Jumanji: Welcome to the Jungle', 2017, 'Dwayne Johnson', 119)\n",
    "#movie2.display()\n",
    "\n",
    "movie3 = Movie('Jumanji: The Next Level', 2019, 'Dwayne Johnson', 123)\n",
    "movie3.add_prequel(movie2)\n",
    "#movie3.display()"
   ]
  },
  {
   "cell_type": "code",
   "execution_count": 128,
   "metadata": {},
   "outputs": [],
   "source": [
    "# newmovie = Movie('Jungle Book', 2000, 'Monkey', 100, 'Jungle Book 2')"
   ]
  },
  {
   "cell_type": "code",
   "execution_count": 129,
   "metadata": {},
   "outputs": [
    {
     "data": {
      "text/plain": [
       "'Jungle Book 2'"
      ]
     },
     "execution_count": 129,
     "metadata": {},
     "output_type": "execute_result"
    }
   ],
   "source": [
    "# newmovie.prequel\n"
   ]
  },
  {
   "cell_type": "code",
   "execution_count": 120,
   "metadata": {},
   "outputs": [
    {
     "data": {
      "text/plain": [
       "'Jungle Book 2'"
      ]
     },
     "execution_count": 120,
     "metadata": {},
     "output_type": "execute_result"
    }
   ],
   "source": [
    "# newmovie.add_prequel('Jungle Book 2')\n",
    "# newmovie.prequel"
   ]
  },
  {
   "cell_type": "code",
   "execution_count": 121,
   "metadata": {},
   "outputs": [],
   "source": [
    "# newmovie.prequel = 'hijack'"
   ]
  },
  {
   "cell_type": "code",
   "execution_count": 123,
   "metadata": {},
   "outputs": [
    {
     "name": "stdout",
     "output_type": "stream",
     "text": [
      "Title: Jungle Book\n",
      "Year: 2000\n",
      "Lead: Monkey\n",
      "Length: 100\n"
     ]
    }
   ],
   "source": [
    "# newmovie.display()"
   ]
  },
  {
   "cell_type": "code",
   "execution_count": 134,
   "metadata": {},
   "outputs": [
    {
     "data": {
      "text/plain": [
       "'Jungle Cruise'"
      ]
     },
     "execution_count": 134,
     "metadata": {},
     "output_type": "execute_result"
    }
   ],
   "source": [
    "#type(movie1.title)\n",
    "movie1.title"
   ]
  },
  {
   "cell_type": "code",
   "execution_count": null,
   "metadata": {},
   "outputs": [],
   "source": []
  },
  {
   "cell_type": "code",
   "execution_count": 133,
   "metadata": {},
   "outputs": [],
   "source": [
    "favourite_movies = {\n",
    "    movie1.title: movie1,\n",
    "    movie2.title: movie2,\n",
    "    movie3.title: movie3,\n",
    "}"
   ]
  },
  {
   "cell_type": "code",
   "execution_count": 135,
   "metadata": {},
   "outputs": [
    {
     "data": {
      "text/plain": [
       "<__main__.Movie at 0x1f954881a58>"
      ]
     },
     "execution_count": 135,
     "metadata": {},
     "output_type": "execute_result"
    }
   ],
   "source": [
    "favourite_movies['Jungle Cruise']"
   ]
  },
  {
   "cell_type": "code",
   "execution_count": 138,
   "metadata": {},
   "outputs": [
    {
     "data": {
      "text/plain": [
       "'Jumanji: The Next Level'"
      ]
     },
     "execution_count": 138,
     "metadata": {},
     "output_type": "execute_result"
    }
   ],
   "source": [
    "list(favourite_movies.keys())[2]"
   ]
  },
  {
   "cell_type": "code",
   "execution_count": 11,
   "metadata": {},
   "outputs": [
    {
     "name": "stdout",
     "output_type": "stream",
     "text": [
      "My favourite movies are  dict_keys(['Jungle Cruise', 'Jumanji: Welcome to the Jungle', 'Jumanji: The Next Level'])\n"
     ]
    }
   ],
   "source": [
    "print(\"My favourite movies are \", favourite_movies.keys())"
   ]
  },
  {
   "cell_type": "code",
   "execution_count": 12,
   "metadata": {
    "scrolled": true
   },
   "outputs": [
    {
     "name": "stdout",
     "output_type": "stream",
     "text": [
      "One of my favourite movies is Jumanji: The Next Level. You should watch it! Let us check whether there is a prequel...\n",
      "Title: Jumanji: Welcome to the Jungle\n",
      "Year: 2017\n",
      "Lead: Dwayne Johnson\n",
      "Length: 119\n"
     ]
    }
   ],
   "source": [
    "query = 'Jumanji: The Next Level'\n",
    "if query in favourite_movies.keys():\n",
    "    print(\"One of my favourite movies is {}. You should watch it! Let us check whether there is a prequel...\".format(query))\n",
    "    favourite_movies[query].describe_prequel()"
   ]
  },
  {
   "cell_type": "markdown",
   "metadata": {},
   "source": [
    "#### Inheritance\n",
    "\n",
    "The code below defines a `Blockbuster` class by building upon a `Movie` class. A `Blockbuster` is actually a movie (hence you should use inheritance) with a few extra nice things that comes along. Write the code such that an instance of `Blockbuster` also the method `display()` inherited from `Movie`. In addition, it has an attribute `profit`, unlike an instance of `Movie` where there is no mention of profit."
   ]
  },
  {
   "cell_type": "code",
   "execution_count": 13,
   "metadata": {},
   "outputs": [],
   "source": [
    "#Write your class here\n",
    "class Blockbuster(Movie):\n",
    "    def __init__(self, title, year, lead, length, profit):\n",
    "        super().__init__(title, year, lead, length)\n",
    "        self.profit = profit"
   ]
  },
  {
   "cell_type": "code",
   "execution_count": 14,
   "metadata": {},
   "outputs": [
    {
     "name": "stdout",
     "output_type": "stream",
     "text": [
      "2923000000.0\n",
      "Title: Avatar: The Way Of Water\n",
      "Year: 2022\n",
      "Lead: Sam Worthington\n",
      "Length: 192\n"
     ]
    }
   ],
   "source": [
    "blockbuster1 = Blockbuster('Avatar: The Way Of Water', 2022, 'Sam Worthington', 192, 2.923e9)\n",
    "print(blockbuster1.profit)\n",
    "blockbuster1.display()"
   ]
  },
  {
   "cell_type": "markdown",
   "metadata": {},
   "source": [
    "<a id='Question_2_23'></a>\n",
    "\n",
    "### Question 2.23: Teaching load\n",
    "\n",
    "Let us first define a `Course` class, where each instance represents a course that is offered in this term. In this `Course` class:\n",
    "* it has a `course_id` attribute, which is a string\n",
    "* it has a `complexity` attribute, which is a random float between 10 and 15."
   ]
  },
  {
   "cell_type": "code",
   "execution_count": 143,
   "metadata": {},
   "outputs": [
    {
     "data": {
      "text/plain": [
       "{'key_1': 10, 'key_2': 11, 'key_3': 12, 'key_4': 13, 'key_5': 14}"
      ]
     },
     "execution_count": 143,
     "metadata": {},
     "output_type": "execute_result"
    }
   ],
   "source": [
    "{'key_%d'%(x+1): x+10 for x in range(5)}"
   ]
  },
  {
   "cell_type": "code",
   "execution_count": 145,
   "metadata": {},
   "outputs": [
    {
     "name": "stdout",
     "output_type": "stream",
     "text": [
      "{'key_1': 10, 'key_2': 11, 'key_3': 12, 'key_4': 13, 'key_5': 14}\n"
     ]
    }
   ],
   "source": [
    "dictionary = {}\n",
    "for x in range(5):\n",
    "    key = 'key_%d'%(x+1)\n",
    "    val = x+10\n",
    "    dictionary[key] = val\n",
    "print(dictionary)"
   ]
  },
  {
   "cell_type": "code",
   "execution_count": 146,
   "metadata": {},
   "outputs": [
    {
     "data": {
      "text/plain": [
       "{'key_1': 10, 'key_2': 11, 'key_3': 12, 'key_4': 13, 'key_5': 14}"
      ]
     },
     "execution_count": 146,
     "metadata": {},
     "output_type": "execute_result"
    }
   ],
   "source": [
    "dictionary"
   ]
  },
  {
   "cell_type": "code",
   "execution_count": 149,
   "metadata": {},
   "outputs": [
    {
     "name": "stdout",
     "output_type": "stream",
     "text": [
      "in the key\n"
     ]
    }
   ],
   "source": [
    "#if 'key_1' in dictionary.keys():\n",
    "if 'key_1' in dictionary:\n",
    "    print('in the key')"
   ]
  },
  {
   "cell_type": "code",
   "execution_count": 151,
   "metadata": {},
   "outputs": [
    {
     "name": "stdout",
     "output_type": "stream",
     "text": [
      "key_1\n",
      "key_2\n",
      "key_3\n",
      "key_4\n",
      "key_5\n"
     ]
    }
   ],
   "source": [
    "#for x in dictionary:\n",
    "for x in dictionary.keys():\n",
    "    print(x)"
   ]
  },
  {
   "cell_type": "code",
   "execution_count": 157,
   "metadata": {},
   "outputs": [],
   "source": [
    "import random\n",
    "\n",
    "class Course:\n",
    "    def __init__(self, course_id):\n",
    "        self.course_id = course_id\n",
    "        self.complexity = 10 + 5 * random.random()"
   ]
  },
  {
   "cell_type": "code",
   "execution_count": 158,
   "metadata": {},
   "outputs": [
    {
     "name": "stdout",
     "output_type": "stream",
     "text": [
      "The complexity of cs601 is 10.9\n",
      "The complexity of cs602 is 12.8\n",
      "The complexity of cs603 is 13.8\n",
      "The complexity of cs604 is 11.6\n",
      "The complexity of cs605 is 11.4\n",
      "The complexity of cs606 is 13.8\n",
      "The complexity of cs607 is 14.2\n",
      "The complexity of cs608 is 10.1\n",
      "The complexity of cs609 is 12.6\n",
      "The complexity of cs610 is 10.5\n",
      "The complexity of cs611 is 10.2\n",
      "The complexity of cs612 is 14.9\n",
      "The complexity of cs613 is 12.2\n",
      "The complexity of cs614 is 14.5\n",
      "The complexity of cs615 is 10.2\n"
     ]
    }
   ],
   "source": [
    "all_courses = {'cs6{:02d}'.format(i+1): Course('cs6{:02d}'.format(i+1)) for i in range(15)}\n",
    "\n",
    "for key, val in all_courses.items():\n",
    "    print(\"The complexity of {} is {:.1f}\".format(key, val.complexity))"
   ]
  },
  {
   "cell_type": "markdown",
   "metadata": {},
   "source": [
    "Moving on, we will now define a `Professor` class, where each instance is associated with a professor. A professor can teach multiple sections of the same course. In this `Professor` class:\n",
    "* an attribute `sections` records all active courses the professor is currently teaching, and its corresponding number of sections, as keys and values in a dictionary. This attribute is updated by the `add_section` method.\n",
    "* an attribute `current_load` which is initialized to `None`\n",
    "* a `calculate_load` method which returns the sum of the complexity of all sections across all different courses."
   ]
  },
  {
   "cell_type": "code",
   "execution_count": 34,
   "metadata": {},
   "outputs": [],
   "source": [
    "class Professor:\n",
    "    def __init__(self):\n",
    "        \"\"\"\n",
    "        Create a new instance, with no active courses.\n",
    "        \"\"\"\n",
    "        self.sections = {}   # dictionary to record the courses taught and the corresponding number of each section\n",
    "        self.current_load = None\n",
    "    \n",
    "    \n",
    "    def add_section(self, course):\n",
    "        \"\"\"\n",
    "        Add a course to this professor. If he/she is already teaching this course, add one more section\n",
    "        \"\"\"\n",
    "        if course in self.sections:\n",
    "            self.sections[course] += 1\n",
    "        else:\n",
    "            self.sections[course] = 1\n",
    "    \n",
    "    \n",
    "    def calculate_load(self):\n",
    "        \"\"\"\n",
    "        Calculate the current load across all courses and sections\n",
    "        \"\"\"\n",
    "        self.current_load = sum([self.sections[c] * c.complexity for c in self.sections])\n",
    "        return self.current_load"
   ]
  },
  {
   "cell_type": "code",
   "execution_count": null,
   "metadata": {},
   "outputs": [],
   "source": []
  },
  {
   "cell_type": "code",
   "execution_count": 35,
   "metadata": {},
   "outputs": [
    {
     "ename": "NameError",
     "evalue": "name 'all_courses' is not defined",
     "output_type": "error",
     "traceback": [
      "\u001b[0;31m---------------------------------------------------------------------------\u001b[0m",
      "\u001b[0;31mNameError\u001b[0m                                 Traceback (most recent call last)",
      "Cell \u001b[0;32mIn[35], line 5\u001b[0m\n\u001b[1;32m      3\u001b[0m \u001b[38;5;66;03m## suppose the professor teaches two sections of cs609\u001b[39;00m\n\u001b[1;32m      4\u001b[0m \u001b[38;5;28;01mfor\u001b[39;00m _ \u001b[38;5;129;01min\u001b[39;00m \u001b[38;5;28mrange\u001b[39m(\u001b[38;5;241m2\u001b[39m):\n\u001b[0;32m----> 5\u001b[0m     prof1\u001b[38;5;241m.\u001b[39madd_section(\u001b[43mall_courses\u001b[49m[\u001b[38;5;124m'\u001b[39m\u001b[38;5;124mcs609\u001b[39m\u001b[38;5;124m'\u001b[39m])\n\u001b[1;32m      7\u001b[0m \u001b[38;5;28mprint\u001b[39m(\u001b[38;5;124m\"\u001b[39m\u001b[38;5;124mTotal teaching load is \u001b[39m\u001b[38;5;132;01m{:.1f}\u001b[39;00m\u001b[38;5;124m\"\u001b[39m\u001b[38;5;241m.\u001b[39m \u001b[38;5;28mformat\u001b[39m(prof1\u001b[38;5;241m.\u001b[39mcalculate_load()))\n",
      "\u001b[0;31mNameError\u001b[0m: name 'all_courses' is not defined"
     ]
    }
   ],
   "source": [
    "prof1 = Professor()\n",
    "\n",
    "## suppose the professor teaches two sections of cs609\n",
    "for _ in range(2):\n",
    "    prof1.add_section(all_courses['cs609'])\n",
    "\n",
    "print(\"Total teaching load is {:.1f}\". format(prof1.calculate_load()))"
   ]
  },
  {
   "cell_type": "code",
   "execution_count": 164,
   "metadata": {},
   "outputs": [
    {
     "name": "stdout",
     "output_type": "stream",
     "text": [
      "12.623333353479783\n"
     ]
    }
   ],
   "source": [
    "for c in prof1.sections:\n",
    "    print(c.complexity)\n",
    "    \n",
    "prof1.add_section(all_courses['cs609'])\n",
    "prof1.add_section(all_courses['cs609'])\n",
    "prof1.add_section(all_courses['cs609'])"
   ]
  },
  {
   "cell_type": "code",
   "execution_count": 165,
   "metadata": {},
   "outputs": [
    {
     "data": {
      "text/plain": [
       "{<__main__.Course at 0x1f9548a65f8>: 5}"
      ]
     },
     "execution_count": 165,
     "metadata": {},
     "output_type": "execute_result"
    }
   ],
   "source": [
    "prof1.sections"
   ]
  },
  {
   "cell_type": "code",
   "execution_count": 161,
   "metadata": {},
   "outputs": [
    {
     "data": {
      "text/plain": [
       "<__main__.Course at 0x1f9548a65f8>"
      ]
     },
     "execution_count": 161,
     "metadata": {},
     "output_type": "execute_result"
    }
   ],
   "source": [
    "all_courses['cs609']"
   ]
  },
  {
   "cell_type": "markdown",
   "metadata": {},
   "source": [
    "<a id='Question_2_24'></a>\n",
    "\n",
    "### Question 2.24 - University\n",
    "\n",
    "A `University` class can be implemented for Question 2.23. It has the attributes `courses` and `profs`. The former, `courses`, is a dictionary where the keys correspond to course_id while each associated value corresponds to an instance of `Course`. The latter, `profs`, is a list of objects, each of which is an instance of `Professor`.\n",
    "\n",
    "The university wants to balance the load between all professors, using the strategy below\n",
    "1. If there is a new section of a course, assign the new section to the professor has the lowest load. Do this in the `add_section` method. One course could be taught by multiple different professors if there are multiple sections. <br/>\n",
    "2. If adding the new section would make the average load more than 50, hire a new professor automatically. *Hint: this can be done by calling another method, say `ensure_availability`, each time the `add_section` method is called.* <br/>"
   ]
  },
  {
   "cell_type": "code",
   "execution_count": 167,
   "metadata": {},
   "outputs": [],
   "source": [
    "a = [876]"
   ]
  },
  {
   "cell_type": "code",
   "execution_count": 168,
   "metadata": {},
   "outputs": [
    {
     "data": {
      "text/plain": [
       "1"
      ]
     },
     "execution_count": 168,
     "metadata": {},
     "output_type": "execute_result"
    }
   ],
   "source": [
    "len(a)"
   ]
  },
  {
   "cell_type": "code",
   "execution_count": 169,
   "metadata": {},
   "outputs": [
    {
     "data": {
      "text/plain": [
       "876"
      ]
     },
     "execution_count": 169,
     "metadata": {},
     "output_type": "execute_result"
    }
   ],
   "source": [
    "a[0]"
   ]
  },
  {
   "cell_type": "code",
   "execution_count": null,
   "metadata": {},
   "outputs": [],
   "source": []
  },
  {
   "cell_type": "code",
   "execution_count": 170,
   "metadata": {},
   "outputs": [],
   "source": [
    "class University:\n",
    "    def __init__(self, courses):\n",
    "        \"\"\"\n",
    "        Initialize with one professor\n",
    "        \"\"\"\n",
    "        self.courses = courses\n",
    "        self.profs = [Professor()]   # initialize a list, with a single professor\n",
    "    \n",
    "    def add_section(self, course_id):\n",
    "        \"\"\"\n",
    "        Select a professor with the lowest load and add a section of that course to him/ her.\n",
    "        If it's a new course, add the course first\n",
    "        \"\"\"\n",
    "        if course_id not in self.courses:\n",
    "            self.courses[course_id] = Course(course_id)\n",
    "        \n",
    "        # create a list of floats corresponding to the load of each prof\n",
    "        load_by_prof = [p.calculate_load() for p in self.profs]\n",
    "        \n",
    "        # find the index corresponding to smallest value in the list, then get the corresponding object\n",
    "        index_least_load = load_by_prof.index(min(load_by_prof))\n",
    "        prof_least_load = self.profs[index_least_load]\n",
    "        \n",
    "        prof_least_load.add_section(self.courses[course_id])\n",
    "        self.ensure_availability()\n",
    "\n",
    "        \n",
    "    def avg_load(self):\n",
    "        return sum([p.calculate_load() for p in self.profs]) / len(self.profs)\n",
    "    \n",
    "    \n",
    "    def ensure_availability(self):\n",
    "        \"\"\"\n",
    "        If the average load is higher than 50, hire a new professor\n",
    "        \"\"\"\n",
    "        if self.avg_load() > 50:\n",
    "            self.profs.append(Professor())"
   ]
  },
  {
   "cell_type": "code",
   "execution_count": 171,
   "metadata": {
    "collapsed": true
   },
   "outputs": [
    {
     "name": "stdout",
     "output_type": "stream",
     "text": [
      "Adding new section for course cs601 with a complexity of 10.9\n",
      "Total 1 professors, with an average load of 10.9\n",
      "Adding new section for course cs612 with a complexity of 14.9\n",
      "Total 1 professors, with an average load of 25.8\n",
      "Adding new section for course cs606 with a complexity of 13.8\n",
      "Total 1 professors, with an average load of 39.6\n",
      "Adding new section for course cs606 with a complexity of 13.8\n",
      "Total 2 professors, with an average load of 26.7\n",
      "Adding new section for course cs606 with a complexity of 13.8\n",
      "Total 2 professors, with an average load of 33.6\n",
      "Adding new section for course cs615 with a complexity of 10.2\n",
      "Total 2 professors, with an average load of 38.7\n",
      "Adding new section for course cs611 with a complexity of 10.2\n",
      "Total 2 professors, with an average load of 43.8\n",
      "Adding new section for course cs608 with a complexity of 10.1\n",
      "Total 2 professors, with an average load of 48.8\n",
      "Adding new section for course cs604 with a complexity of 11.6\n",
      "Total 3 professors, with an average load of 36.4\n",
      "Adding new section for course cs607 with a complexity of 14.2\n",
      "Total 3 professors, with an average load of 41.2\n",
      "Adding new section for course cs602 with a complexity of 12.8\n",
      "Total 3 professors, with an average load of 45.4\n",
      "Adding new section for course cs606 with a complexity of 13.8\n",
      "Total 4 professors, with an average load of 37.5\n",
      "Adding new section for course cs603 with a complexity of 13.8\n",
      "Total 4 professors, with an average load of 41.0\n",
      "Adding new section for course cs610 with a complexity of 10.5\n",
      "Total 4 professors, with an average load of 43.6\n",
      "Adding new section for course cs603 with a complexity of 13.8\n",
      "Total 4 professors, with an average load of 47.0\n",
      "Adding new section for course cs608 with a complexity of 10.1\n",
      "Total 4 professors, with an average load of 49.6\n",
      "Adding new section for course cs608 with a complexity of 10.1\n",
      "Total 5 professors, with an average load of 41.7\n",
      "Adding new section for course cs605 with a complexity of 11.4\n",
      "Total 5 professors, with an average load of 43.9\n",
      "Adding new section for course cs602 with a complexity of 12.8\n",
      "Total 5 professors, with an average load of 46.5\n",
      "Adding new section for course cs606 with a complexity of 13.8\n",
      "Total 5 professors, with an average load of 49.3\n"
     ]
    }
   ],
   "source": [
    "best_uni = University(all_courses)\n",
    "\n",
    "for c in random.choices(list(all_courses.keys()), k = 20):\n",
    "    print(\"Adding new section for course {} with a complexity of {:.1f}\".format(c, all_courses[c].complexity))\n",
    "    best_uni.add_section(c)\n",
    "    print(\"Total {} professors, with an average load of {:.1f}\".format(len(best_uni.profs), best_uni.avg_load()))"
   ]
  },
  {
   "cell_type": "code",
   "execution_count": 172,
   "metadata": {},
   "outputs": [],
   "source": [
    "new_uni = University(all_courses)"
   ]
  },
  {
   "cell_type": "code",
   "execution_count": 174,
   "metadata": {},
   "outputs": [
    {
     "data": {
      "text/plain": [
       "['courses', 'profs', 'add_section', 'avg_load', 'ensure_availability']"
      ]
     },
     "execution_count": 174,
     "metadata": {},
     "output_type": "execute_result"
    }
   ],
   "source": [
    "[x for x in new_uni.__dir__() if not x.startswith('__')]"
   ]
  },
  {
   "cell_type": "code",
   "execution_count": 176,
   "metadata": {
    "collapsed": true
   },
   "outputs": [
    {
     "data": {
      "text/plain": [
       "{'cs601': <__main__.Course at 0x1f9548a6080>,\n",
       " 'cs602': <__main__.Course at 0x1f9548a6160>,\n",
       " 'cs603': <__main__.Course at 0x1f9548a6208>,\n",
       " 'cs604': <__main__.Course at 0x1f9548a62b0>,\n",
       " 'cs605': <__main__.Course at 0x1f9548a6358>,\n",
       " 'cs606': <__main__.Course at 0x1f9548a6400>,\n",
       " 'cs607': <__main__.Course at 0x1f9548a64a8>,\n",
       " 'cs608': <__main__.Course at 0x1f9548a6550>,\n",
       " 'cs609': <__main__.Course at 0x1f9548a65f8>,\n",
       " 'cs610': <__main__.Course at 0x1f9548a66a0>,\n",
       " 'cs611': <__main__.Course at 0x1f9548a6748>,\n",
       " 'cs612': <__main__.Course at 0x1f9548a67f0>,\n",
       " 'cs613': <__main__.Course at 0x1f9548a6898>,\n",
       " 'cs614': <__main__.Course at 0x1f9548a6940>,\n",
       " 'cs615': <__main__.Course at 0x1f9548a69e8>}"
      ]
     },
     "execution_count": 176,
     "metadata": {},
     "output_type": "execute_result"
    }
   ],
   "source": [
    "all_courses"
   ]
  },
  {
   "cell_type": "code",
   "execution_count": 175,
   "metadata": {},
   "outputs": [
    {
     "data": {
      "text/plain": [
       "{'cs601': <__main__.Course at 0x1f9548a6080>,\n",
       " 'cs602': <__main__.Course at 0x1f9548a6160>,\n",
       " 'cs603': <__main__.Course at 0x1f9548a6208>,\n",
       " 'cs604': <__main__.Course at 0x1f9548a62b0>,\n",
       " 'cs605': <__main__.Course at 0x1f9548a6358>,\n",
       " 'cs606': <__main__.Course at 0x1f9548a6400>,\n",
       " 'cs607': <__main__.Course at 0x1f9548a64a8>,\n",
       " 'cs608': <__main__.Course at 0x1f9548a6550>,\n",
       " 'cs609': <__main__.Course at 0x1f9548a65f8>,\n",
       " 'cs610': <__main__.Course at 0x1f9548a66a0>,\n",
       " 'cs611': <__main__.Course at 0x1f9548a6748>,\n",
       " 'cs612': <__main__.Course at 0x1f9548a67f0>,\n",
       " 'cs613': <__main__.Course at 0x1f9548a6898>,\n",
       " 'cs614': <__main__.Course at 0x1f9548a6940>,\n",
       " 'cs615': <__main__.Course at 0x1f9548a69e8>}"
      ]
     },
     "execution_count": 175,
     "metadata": {},
     "output_type": "execute_result"
    }
   ],
   "source": [
    "new_uni.courses"
   ]
  },
  {
   "cell_type": "code",
   "execution_count": 179,
   "metadata": {},
   "outputs": [
    {
     "data": {
      "text/plain": [
       "[<__main__.Professor at 0x1f9548a6eb8>]"
      ]
     },
     "execution_count": 179,
     "metadata": {},
     "output_type": "execute_result"
    }
   ],
   "source": [
    "new_uni.profs"
   ]
  },
  {
   "cell_type": "code",
   "execution_count": 180,
   "metadata": {},
   "outputs": [],
   "source": [
    "first_prof = new_uni.profs[0]"
   ]
  },
  {
   "cell_type": "code",
   "execution_count": 181,
   "metadata": {},
   "outputs": [
    {
     "data": {
      "text/plain": [
       "<__main__.Professor at 0x1f9548a6eb8>"
      ]
     },
     "execution_count": 181,
     "metadata": {},
     "output_type": "execute_result"
    }
   ],
   "source": [
    "first_prof"
   ]
  },
  {
   "cell_type": "code",
   "execution_count": 182,
   "metadata": {},
   "outputs": [
    {
     "data": {
      "text/plain": [
       "['sections', 'current_load', 'add_section', 'calculate_load']"
      ]
     },
     "execution_count": 182,
     "metadata": {},
     "output_type": "execute_result"
    }
   ],
   "source": [
    "[x for x in first_prof.__dir__() if not x.startswith('__')]"
   ]
  },
  {
   "cell_type": "code",
   "execution_count": 184,
   "metadata": {},
   "outputs": [
    {
     "data": {
      "text/plain": [
       "'cs611'"
      ]
     },
     "execution_count": 184,
     "metadata": {},
     "output_type": "execute_result"
    }
   ],
   "source": [
    "c"
   ]
  },
  {
   "cell_type": "code",
   "execution_count": 185,
   "metadata": {},
   "outputs": [],
   "source": [
    "new_uni.add_section(c)"
   ]
  },
  {
   "cell_type": "code",
   "execution_count": 187,
   "metadata": {},
   "outputs": [
    {
     "data": {
      "text/plain": [
       "<__main__.Professor at 0x1f9548a6eb8>"
      ]
     },
     "execution_count": 187,
     "metadata": {},
     "output_type": "execute_result"
    }
   ],
   "source": [
    "new_uni.profs[0]"
   ]
  },
  {
   "cell_type": "code",
   "execution_count": 189,
   "metadata": {},
   "outputs": [
    {
     "data": {
      "text/plain": [
       "10.200842235309922"
      ]
     },
     "execution_count": 189,
     "metadata": {},
     "output_type": "execute_result"
    }
   ],
   "source": [
    "new_uni.profs[0].calculate_load()"
   ]
  },
  {
   "cell_type": "code",
   "execution_count": 190,
   "metadata": {},
   "outputs": [
    {
     "data": {
      "text/plain": [
       "{<__main__.Course at 0x1f9548a6748>: 1}"
      ]
     },
     "execution_count": 190,
     "metadata": {},
     "output_type": "execute_result"
    }
   ],
   "source": [
    "new_uni.profs[0].sections"
   ]
  },
  {
   "cell_type": "code",
   "execution_count": 192,
   "metadata": {},
   "outputs": [
    {
     "data": {
      "text/plain": [
       "<__main__.Course at 0x1f9548a6748>"
      ]
     },
     "execution_count": 192,
     "metadata": {},
     "output_type": "execute_result"
    }
   ],
   "source": [
    "list(new_uni.profs[0].sections.keys())[0]"
   ]
  },
  {
   "cell_type": "code",
   "execution_count": 193,
   "metadata": {},
   "outputs": [
    {
     "data": {
      "text/plain": [
       "'cs611'"
      ]
     },
     "execution_count": 193,
     "metadata": {},
     "output_type": "execute_result"
    }
   ],
   "source": [
    "list(new_uni.profs[0].sections.keys())[0].course_id"
   ]
  },
  {
   "cell_type": "code",
   "execution_count": 194,
   "metadata": {},
   "outputs": [
    {
     "data": {
      "text/plain": [
       "10.200842235309922"
      ]
     },
     "execution_count": 194,
     "metadata": {},
     "output_type": "execute_result"
    }
   ],
   "source": [
    "list(new_uni.profs[0].sections.keys())[0].complexity"
   ]
  },
  {
   "cell_type": "code",
   "execution_count": null,
   "metadata": {},
   "outputs": [],
   "source": []
  }
 ],
 "metadata": {
  "kernelspec": {
   "display_name": "Python 3 (ipykernel)",
   "language": "python",
   "name": "python3"
  },
  "language_info": {
   "codemirror_mode": {
    "name": "ipython",
    "version": 3
   },
   "file_extension": ".py",
   "mimetype": "text/x-python",
   "name": "python",
   "nbconvert_exporter": "python",
   "pygments_lexer": "ipython3",
   "version": "3.10.9"
  }
 },
 "nbformat": 4,
 "nbformat_minor": 4
}
