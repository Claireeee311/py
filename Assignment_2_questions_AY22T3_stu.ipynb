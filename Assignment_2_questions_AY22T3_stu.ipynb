{
 "cells": [
  {
   "cell_type": "markdown",
   "metadata": {},
   "source": [
    "# Assignment 2\n",
    "\n",
    "The maximum possible score for this assignment is 40 marks.\n",
    "\n",
    "For the objective of this assignment, please use only the following library packages. If you use any other packages, marks would be deducted.\n",
    "\n",
    "For Question 1 and Question 3, the data is identical for candidates and instructors. Instructors do not have hidden data.\n",
    "\n",
    "Please replace ```### write your code here (or some other specific instructions) ###``` with the *your solution code*, but **do not remove the existing code or cell or change the names of each function, class, parameters, attributes and methods that are already provided in the question**."
   ]
  },
  {
   "cell_type": "code",
   "execution_count": 15,
   "metadata": {
    "tags": [
     "npms"
    ]
   },
   "outputs": [],
   "source": [
    "import numpy as np, pandas as pd, matplotlib.pyplot as plt, seaborn as sns, re"
   ]
  },
  {
   "cell_type": "markdown",
   "metadata": {},
   "source": [
    "## Question 1 - Regular Expressions"
   ]
  },
  {
   "cell_type": "markdown",
   "metadata": {},
   "source": [
    "<p>QUESTION 1a [2 marks]: Extract all numbers from the given text that are multiples of 5 (e.g., 0, 5, 10, 15, ...). Consider only space-separated numbers.</p>"
   ]
  },
  {
   "cell_type": "code",
   "execution_count": 134,
   "metadata": {
    "tags": [
     "q1a"
    ]
   },
   "outputs": [],
   "source": [
    "import re\n",
    "def a2q1a():\n",
    "    # replace the underline with your code; regex tokens exceeding 20 characters will incur penalty\n",
    "    p = re.compile(r'\\b(?:\\d*[05])\\b')\n",
    "\n",
    "    txt = '2482 3253 2291 1450 812 3403 3423 883 995 3870 1571 2955 294 2717 3677 2845 1739 72 1058 1365 607 848 3158 3216 3152 2252 1693 924 3124 1822 3967 2154 2859 1006 2820 2174 2640 1656 3044 2531 2511 1468 101 2239 24 3998 1340 3709 2246 1606 860 1673 303 3706 2677 3031 899 3160 2101 126 3205 3088 3368 3704 2146 575 3932 3247 2460 428 3157 3605 3227 2098 1795 40 3181 2393 995 936 3122 2967 2810 1018 791 246 1070 799 1108 1108 657 2378 1798 504 2468 964 3818 2953 2142 2626 945 2932 2049 3490 2804 2870 1850 1527 3094 3758 355 963 219 2955 2960 3072 134 386 3255 90 3662 2868 229 1342 1682 734 2492 2695 162 2907 3050 229 857 2012 2517 1629 3332 2859 1048 315 1639 1123 1064 3413 1409 2157 2135 914 938 83 2513 3865 2614 1707 93 2795 1387 2763 2004 3022 2200 119 3817 86 3062 3238 3024 1102 1938 1331 3008 2355 2281 182 593 1544 1733 416 2963 2213 3962 3511 268 2011 252 1652 3229 2368 3429 793 2586 2158 2408 13 1366 2965 3859 2277 1027 2257 1011 3086 2226 3098 360 3730 1133 2937 2592 3868 170 2101 2601 1141 115 2805 3212 3512 2627 3535 1468 2664 3246 0 433 116 2247 1097 1279 3675 3807 1507 1629 2882 2615 2695 1026 964 3585 2731 2215 984 1548 3540 1953 179 485 2973 88 1345 2104 1079 2312 2476 1370 3771 3158 3770 1142 3826 2086 3761 3499 3463 3998 3768 808 3096 293 2785 989 368 1693 1986 343 3370 447 3464 1006 3406 2378 2202 2793 1459 1918 356 2643 3574 1768 2384 1960 169 174 3851 3250 1246 3158 3864 3850 3827 2441 2432 1066 3468 90 1280 1049 182 94 2779 2455 1129 3627 1662 3200 2644 3330 1799 1313 3119 991 3082 3579 237 2205 3799 3073 375 2796 2077 1862 1131 683 327 2078 3098 2807 3858 3938 1605 515 383 2703 1297 143 3037 3349 62 2261 3057 1299 2198 2411 843 222 1074 240 3160 6 1163 747 1142 3172 1436 1354 1705 1602 2053 1900 3286 3357 2171 2269 520 91 2804 519 3055 2672 1319 2265 1360 517 3768 3949 818 1796 1527 1492 1671 2103 3691 453 3924 3771 756 28 1568 1740 2753 3554 1325 1346 1291 230 550 3125 2631 1101 2980 1451 3035 395 3488 1750 3891 870 3073 571 343 940 255 754 391 2507 3788 2087 2505 486 1337 2170 248 774 2101 3801 72 3803 1543 1987 1967 2939 2297 3185 56 255 3607 1634 1939 2382 1171 3296 2917 2265 817 3110 3600 78 41 837 2561 3605 1568 3249 1993 1076 3660 3318 3478 3370 2554 3457 448 3090 1333 204 2289 3438 3986 2108 1721 1253 208 333 2260 1055 2001 1054 44 3535 1707 3710 2226 2745 2224 2569 3745 2438 2891 181 3477'\n",
    "\n",
    "    output = re.findall(p, txt)\n",
    "    print(len(output)) # should expect more than 105\n",
    "    return output"
   ]
  },
  {
   "cell_type": "code",
   "execution_count": 135,
   "metadata": {},
   "outputs": [
    {
     "name": "stdout",
     "output_type": "stream",
     "text": [
      "106\n"
     ]
    },
    {
     "data": {
      "text/plain": [
       "['1450',\n",
       " '995',\n",
       " '3870',\n",
       " '2955',\n",
       " '2845',\n",
       " '1365',\n",
       " '2820',\n",
       " '2640',\n",
       " '1340',\n",
       " '860',\n",
       " '3160',\n",
       " '3205',\n",
       " '575',\n",
       " '2460',\n",
       " '3605',\n",
       " '1795',\n",
       " '40',\n",
       " '995',\n",
       " '2810',\n",
       " '1070',\n",
       " '945',\n",
       " '3490',\n",
       " '2870',\n",
       " '1850',\n",
       " '355',\n",
       " '2955',\n",
       " '2960',\n",
       " '3255',\n",
       " '90',\n",
       " '2695',\n",
       " '3050',\n",
       " '315',\n",
       " '2135',\n",
       " '3865',\n",
       " '2795',\n",
       " '2200',\n",
       " '2355',\n",
       " '2965',\n",
       " '360',\n",
       " '3730',\n",
       " '170',\n",
       " '115',\n",
       " '2805',\n",
       " '3535',\n",
       " '0',\n",
       " '3675',\n",
       " '2615',\n",
       " '2695',\n",
       " '3585',\n",
       " '2215',\n",
       " '3540',\n",
       " '485',\n",
       " '1345',\n",
       " '1370',\n",
       " '3770',\n",
       " '2785',\n",
       " '3370',\n",
       " '1960',\n",
       " '3250',\n",
       " '3850',\n",
       " '90',\n",
       " '1280',\n",
       " '2455',\n",
       " '3200',\n",
       " '3330',\n",
       " '2205',\n",
       " '375',\n",
       " '1605',\n",
       " '515',\n",
       " '240',\n",
       " '3160',\n",
       " '1705',\n",
       " '1900',\n",
       " '520',\n",
       " '3055',\n",
       " '2265',\n",
       " '1360',\n",
       " '1740',\n",
       " '1325',\n",
       " '230',\n",
       " '550',\n",
       " '3125',\n",
       " '2980',\n",
       " '3035',\n",
       " '395',\n",
       " '1750',\n",
       " '870',\n",
       " '940',\n",
       " '255',\n",
       " '2505',\n",
       " '2170',\n",
       " '3185',\n",
       " '255',\n",
       " '2265',\n",
       " '3110',\n",
       " '3600',\n",
       " '3605',\n",
       " '3660',\n",
       " '3370',\n",
       " '3090',\n",
       " '2260',\n",
       " '1055',\n",
       " '3535',\n",
       " '3710',\n",
       " '2745',\n",
       " '3745']"
      ]
     },
     "execution_count": 135,
     "metadata": {},
     "output_type": "execute_result"
    }
   ],
   "source": [
    "# use this cell to examine your output\n",
    "# your output variable is a list containing all numbers (str) that are multiples of 5\n",
    "a2q1a()\n"
   ]
  },
  {
   "cell_type": "markdown",
   "metadata": {},
   "source": [
    "QUESTION 1b [3 marks]: Write the regular expression to extract all **five-character** words.\n",
    "\n",
    "Treat \"Didn't\" as a single six-character word, for instance."
   ]
  },
  {
   "cell_type": "code",
   "execution_count": 25,
   "metadata": {
    "tags": [
     "q1b"
    ]
   },
   "outputs": [],
   "source": [
    "def a2q1b():\n",
    "    # replace the underline with your code; regex tokens exceeding 20 characters will incur penalty\n",
    "    p = re.compile(r'''\\b\\w{5}\\b|\\bDidn't\\b''')\n",
    "\n",
    "    speech = ['the United States has conducted an operation that killed Osama bin Laden',\n",
    "            'the United States launched a targeted operation against that compound',\n",
    "            'they did a lot of shooting and they did a lot of blasting even not going through the front door You know you would think you go through the door If you are a normal person you say Knock knock  May I come in',\n",
    "            'After a firefight they killed Osama bin Laden and took custody of his body',\n",
    "            'He died like a dog',\n",
    "            'Yet his death does not mark the end of our effort',\n",
    "            '1 beautiful dog 1 talented dog',\n",
    "            'We give thanks for the men who carried out this operation',\n",
    "            \"And I don't get any credit for this but thats okay I never do But here we are\",\n",
    "            'May God bless you And may God bless the United States of America',\n",
    "            \"And I'm writing a book I think I wrote 12 books All did very well\"]\n",
    "\n",
    "    return [ m.group() for i in speech for m in re.finditer(p, i) ]"
   ]
  },
  {
   "cell_type": "code",
   "execution_count": 26,
   "metadata": {},
   "outputs": [
    {
     "data": {
      "text/plain": [
       "['Osama',\n",
       " 'Laden',\n",
       " 'going',\n",
       " 'front',\n",
       " 'would',\n",
       " 'think',\n",
       " 'Knock',\n",
       " 'knock',\n",
       " 'After',\n",
       " 'Osama',\n",
       " 'Laden',\n",
       " 'death',\n",
       " 'thats',\n",
       " 'never',\n",
       " 'bless',\n",
       " 'bless',\n",
       " 'think',\n",
       " 'wrote',\n",
       " 'books']"
      ]
     },
     "execution_count": 26,
     "metadata": {},
     "output_type": "execute_result"
    }
   ],
   "source": [
    "# use this cell to examine your output\n",
    "# should be a list of five-character words\n",
    "a2q1b()"
   ]
  },
  {
   "cell_type": "markdown",
   "metadata": {},
   "source": [
    "QUESTION 1c [2 marks]: Please fill in the regular expression in the following code, so that the printout gets <b>whole number</b> (i.e., the fractional parts are removed) of each space-separated number."
   ]
  },
  {
   "cell_type": "code",
   "execution_count": 35,
   "metadata": {
    "tags": [
     "q1c"
    ]
   },
   "outputs": [],
   "source": [
    "def a2q1c():\n",
    "    # replace the underline with your code; regex tokens exceeding 20 characters will incur penalty\n",
    "    p = re.compile(r'(-?\\d+)\\.?\\d*')\n",
    "\n",
    "    txt = '-0.00 14.59 2259.65 488.0 889.8 9.99 1'\n",
    "\n",
    "    return re.findall(p, txt)"
   ]
  },
  {
   "cell_type": "code",
   "execution_count": 36,
   "metadata": {},
   "outputs": [
    {
     "data": {
      "text/plain": [
       "['-0', '14', '2259', '488', '889', '9', '1']"
      ]
     },
     "execution_count": 36,
     "metadata": {},
     "output_type": "execute_result"
    }
   ],
   "source": [
    "# use this cell to examine your output\n",
    "# should be ['-0', '14', '2259', '488', '889', '9', '1']\n",
    "a2q1c()"
   ]
  },
  {
   "cell_type": "markdown",
   "metadata": {},
   "source": [
    "QUESTION 1d [3 marks]: Please fill in the regular expression in the following code, where the underline is marked, so that it matches all words in `match` but none of the words in `nomatch`."
   ]
  },
  {
   "cell_type": "code",
   "execution_count": 46,
   "metadata": {
    "tags": [
     "q1d"
    ]
   },
   "outputs": [],
   "source": [
    "def a2q1d():\n",
    "    # replace the underline with your code; regex tokens exceeding 20 characters will incur penalty\n",
    "    p = re.compile(r\"\\b(?:ha|tr|ac|mi|fi|de|co|at)\\b|\\b(?:(?!mi|hu|li|vi|ou|mo|af|no|sp|de)\\w+)\\b\")\n",
    "\n",
    "\n",
    "    match = \"hannah trillion accommodate mission fitting dessert common attach\"\n",
    "\n",
    "    nomatch = \"michael hundred live vision outfit morning after noon special detach\"\n",
    "\n",
    "    # should be a list of all the words in match ['hannah', 'trillion', 'accommodate', 'mission', 'fitting', 'dessert', 'common', 'attach']\n",
    "    r1 = [i.group() for i in p.finditer(match)]\n",
    "\n",
    "    # should be an empty list []\n",
    "    r2 = [i.group() for i in p.finditer(nomatch)]\n",
    "    return r1, r2"
   ]
  },
  {
   "cell_type": "code",
   "execution_count": 47,
   "metadata": {},
   "outputs": [
    {
     "data": {
      "text/plain": [
       "(['hannah', 'trillion', 'accommodate', 'fitting', 'common', 'attach'], [])"
      ]
     },
     "execution_count": 47,
     "metadata": {},
     "output_type": "execute_result"
    }
   ],
   "source": [
    "# use this cell to examine your output\n",
    "a2q1d()"
   ]
  },
  {
   "cell_type": "markdown",
   "metadata": {},
   "source": [
    "## Question 2 - Numpy\n",
    "<p style='font-weight:lighter'>Note that you should implement methods from numpy library for the questions in this section or else you cannot get the full marks.</p>"
   ]
  },
  {
   "cell_type": "markdown",
   "metadata": {},
   "source": [
    "<p>QUESTION 2a [2 marks]: Write a lambda function that takes in two non-zero real numpy 1D arrays and returns the cosine similiarity.\n",
    "<p>You can find the mathematical definition of cosine similiarity online.</p>"
   ]
  },
  {
   "cell_type": "code",
   "execution_count": 43,
   "metadata": {
    "tags": [
     "q2a"
    ]
   },
   "outputs": [],
   "source": [
    "# replace the underline with your single line of code\n",
    "import numpy as np\n",
    "get_cossim = lambda v1, v2: np.dot(v1, v2) / (np.linalg.norm(v1) * np.linalg.norm(v2))\n"
   ]
  },
  {
   "cell_type": "code",
   "execution_count": 44,
   "metadata": {},
   "outputs": [
    {
     "name": "stdout",
     "output_type": "stream",
     "text": [
      "0.7071067811865475\n"
     ]
    }
   ],
   "source": [
    "# use this cell to examine your output\n",
    "a = np.array([0, 1])\n",
    "b = np.array([1, 1])\n",
    "print(get_cossim(a, b)) # expect 0.70710678..."
   ]
  },
  {
   "cell_type": "code",
   "execution_count": 45,
   "metadata": {},
   "outputs": [
    {
     "name": "stdout",
     "output_type": "stream",
     "text": [
      "0.8429272304235244\n"
     ]
    }
   ],
   "source": [
    "# use this cell to examine your output\n",
    "a = np.arange(10)\n",
    "b = np.ones(10)\n",
    "print(get_cossim(a, b)) # expect 0.84292723..."
   ]
  },
  {
   "cell_type": "markdown",
   "metadata": {},
   "source": [
    "QUESTION 2b [3 marks]:  Write a function that takes in two **boolean** numpy 1D arrays and returns the mutual information. Use the natural log (i.e., use `np.log`) in your calculations.\n",
    "\n",
    "Challenge yourself to write your function code in no more than two lines.\n",
    "\n",
    "<p>You can find the mathematical definition of mutual information online, such as <a href='https://www.youtube.com/watch?v=eJIp_mgVLwE'>Mutual Information, Clearly Explained!!!</a></p>"
   ]
  },
  {
   "cell_type": "code",
   "execution_count": 58,
   "metadata": {
    "tags": [
     "q2b"
    ]
   },
   "outputs": [],
   "source": [
    "def mutual_info(v1, v2):\n",
    "    return np.sum(np.log((np.sum(v1 & v2) / np.sum(v1)) / (np.sum(v2) / len(v2)))) if np.sum(v1) != 0 and np.sum(v2) != 0 else 0.0"
   ]
  },
  {
   "cell_type": "code",
   "execution_count": 59,
   "metadata": {
    "scrolled": true
   },
   "outputs": [
    {
     "name": "stdout",
     "output_type": "stream",
     "text": [
      "0.22314355131420976\n"
     ]
    }
   ],
   "source": [
    "# use this cell to examine your output\n",
    "v1 = np.array([1,1,1,0,0], dtype=bool)\n",
    "v2 = np.array([1,1,1,0,1], dtype=bool)\n",
    "print(mutual_info(v1, v2)) # expect 0.22314355..."
   ]
  },
  {
   "cell_type": "markdown",
   "metadata": {},
   "source": [
    "## Question 3 - Data Analysis and Visualisation"
   ]
  },
  {
   "cell_type": "markdown",
   "metadata": {},
   "source": [
    "<p>This exercise uses a bank loan dataset from Kaggle (href: https://www.kaggle.com/datasets/adarshsng/lending-club-loan-data-csv)</p>\n",
    "<p style='font-weight:1'>Lending Club is a peer-to-peer Lending company based in the US. They match people looking to invest money with people looking to borrow money. When investors invest their money through Lending Club, this money is passed onto borrowers, and when borrowers pay their loans back, the capital plus the interest passes on back to the investors. It is a win for everybody as they can get typically lower loan rates and higher investor returns.</p>\n",
    "<p style='font-weight:60'>The Lending Club dataset contains complete loan data for all loans issued through the 2007-2015, including the current loan status (Current, Late, Fully Paid, etc.) and latest payment information. Features (aka variables) include credit scores, number of finance inquiries, address including zip codes and state, and collections among others. Collections indicates whether the customer has missed one or more payments and the team is trying to recover their money. The file is a matrix of about 890 thousand observations and 75 variables.</p>\n",
    "<p>You can visit the webpage to quickly scan through the descriptions of the variables.</p>\n",
    "<p>This exercise will use a subset of the data that has been efficiently compressed into a pickle file.</p>"
   ]
  },
  {
   "cell_type": "code",
   "execution_count": 64,
   "metadata": {},
   "outputs": [],
   "source": [
    "df = pd.read_pickle('loan_data_2015.zip')"
   ]
  },
  {
   "cell_type": "markdown",
   "metadata": {},
   "source": [
    "Use the following code cell to quickly explore the dataset."
   ]
  },
  {
   "cell_type": "code",
   "execution_count": 69,
   "metadata": {
    "scrolled": false
   },
   "outputs": [
    {
     "data": {
      "text/html": [
       "<div>\n",
       "<style scoped>\n",
       "    .dataframe tbody tr th:only-of-type {\n",
       "        vertical-align: middle;\n",
       "    }\n",
       "\n",
       "    .dataframe tbody tr th {\n",
       "        vertical-align: top;\n",
       "    }\n",
       "\n",
       "    .dataframe thead th {\n",
       "        text-align: right;\n",
       "    }\n",
       "</style>\n",
       "<table border=\"1\" class=\"dataframe\">\n",
       "  <thead>\n",
       "    <tr style=\"text-align: right;\">\n",
       "      <th></th>\n",
       "      <th>id</th>\n",
       "      <th>member_id</th>\n",
       "      <th>loan_amnt</th>\n",
       "      <th>funded_amnt</th>\n",
       "      <th>funded_amnt_inv</th>\n",
       "      <th>term</th>\n",
       "      <th>int_rate</th>\n",
       "      <th>installment</th>\n",
       "      <th>grade</th>\n",
       "      <th>sub_grade</th>\n",
       "      <th>...</th>\n",
       "      <th>total_bal_il</th>\n",
       "      <th>il_util</th>\n",
       "      <th>open_rv_12m</th>\n",
       "      <th>open_rv_24m</th>\n",
       "      <th>max_bal_bc</th>\n",
       "      <th>all_util</th>\n",
       "      <th>total_rev_hi_lim</th>\n",
       "      <th>inq_fi</th>\n",
       "      <th>total_cu_tl</th>\n",
       "      <th>inq_last_12m</th>\n",
       "    </tr>\n",
       "  </thead>\n",
       "  <tbody>\n",
       "    <tr>\n",
       "      <th>0</th>\n",
       "      <td>68444620</td>\n",
       "      <td>73334399</td>\n",
       "      <td>35000</td>\n",
       "      <td>35000</td>\n",
       "      <td>35000.0</td>\n",
       "      <td>60 months</td>\n",
       "      <td>11.99</td>\n",
       "      <td>778.38</td>\n",
       "      <td>C</td>\n",
       "      <td>C1</td>\n",
       "      <td>...</td>\n",
       "      <td>35367.0</td>\n",
       "      <td>49.3</td>\n",
       "      <td>0.0</td>\n",
       "      <td>1.0</td>\n",
       "      <td>5020.0</td>\n",
       "      <td>40.1</td>\n",
       "      <td>52200.0</td>\n",
       "      <td>1.0</td>\n",
       "      <td>4.0</td>\n",
       "      <td>0.0</td>\n",
       "    </tr>\n",
       "    <tr>\n",
       "      <th>1</th>\n",
       "      <td>68547583</td>\n",
       "      <td>73437441</td>\n",
       "      <td>8650</td>\n",
       "      <td>8650</td>\n",
       "      <td>8650.0</td>\n",
       "      <td>36 months</td>\n",
       "      <td>5.32</td>\n",
       "      <td>260.50</td>\n",
       "      <td>A</td>\n",
       "      <td>A1</td>\n",
       "      <td>...</td>\n",
       "      <td>24041.0</td>\n",
       "      <td>88.8</td>\n",
       "      <td>0.0</td>\n",
       "      <td>3.0</td>\n",
       "      <td>3081.0</td>\n",
       "      <td>57.9</td>\n",
       "      <td>26800.0</td>\n",
       "      <td>1.0</td>\n",
       "      <td>0.0</td>\n",
       "      <td>5.0</td>\n",
       "    </tr>\n",
       "    <tr>\n",
       "      <th>2</th>\n",
       "      <td>67849662</td>\n",
       "      <td>72708407</td>\n",
       "      <td>4225</td>\n",
       "      <td>4225</td>\n",
       "      <td>4225.0</td>\n",
       "      <td>36 months</td>\n",
       "      <td>14.85</td>\n",
       "      <td>146.16</td>\n",
       "      <td>C</td>\n",
       "      <td>C5</td>\n",
       "      <td>...</td>\n",
       "      <td>3830.0</td>\n",
       "      <td>21.9</td>\n",
       "      <td>0.0</td>\n",
       "      <td>0.0</td>\n",
       "      <td>367.0</td>\n",
       "      <td>22.4</td>\n",
       "      <td>4300.0</td>\n",
       "      <td>0.0</td>\n",
       "      <td>0.0</td>\n",
       "      <td>0.0</td>\n",
       "    </tr>\n",
       "    <tr>\n",
       "      <th>3</th>\n",
       "      <td>68506885</td>\n",
       "      <td>73396712</td>\n",
       "      <td>10000</td>\n",
       "      <td>10000</td>\n",
       "      <td>10000.0</td>\n",
       "      <td>60 months</td>\n",
       "      <td>11.99</td>\n",
       "      <td>222.40</td>\n",
       "      <td>C</td>\n",
       "      <td>C1</td>\n",
       "      <td>...</td>\n",
       "      <td>35354.0</td>\n",
       "      <td>75.5</td>\n",
       "      <td>1.0</td>\n",
       "      <td>1.0</td>\n",
       "      <td>3118.0</td>\n",
       "      <td>67.4</td>\n",
       "      <td>14200.0</td>\n",
       "      <td>1.0</td>\n",
       "      <td>1.0</td>\n",
       "      <td>1.0</td>\n",
       "    </tr>\n",
       "    <tr>\n",
       "      <th>4</th>\n",
       "      <td>68341763</td>\n",
       "      <td>72928789</td>\n",
       "      <td>20000</td>\n",
       "      <td>20000</td>\n",
       "      <td>20000.0</td>\n",
       "      <td>60 months</td>\n",
       "      <td>10.78</td>\n",
       "      <td>432.66</td>\n",
       "      <td>B</td>\n",
       "      <td>B4</td>\n",
       "      <td>...</td>\n",
       "      <td>10827.0</td>\n",
       "      <td>72.8</td>\n",
       "      <td>0.0</td>\n",
       "      <td>2.0</td>\n",
       "      <td>2081.0</td>\n",
       "      <td>64.7</td>\n",
       "      <td>14000.0</td>\n",
       "      <td>2.0</td>\n",
       "      <td>5.0</td>\n",
       "      <td>1.0</td>\n",
       "    </tr>\n",
       "  </tbody>\n",
       "</table>\n",
       "<p>5 rows × 74 columns</p>\n",
       "</div>"
      ],
      "text/plain": [
       "         id  member_id  loan_amnt  funded_amnt  funded_amnt_inv        term  \\\n",
       "0  68444620   73334399      35000        35000          35000.0   60 months   \n",
       "1  68547583   73437441       8650         8650           8650.0   36 months   \n",
       "2  67849662   72708407       4225         4225           4225.0   36 months   \n",
       "3  68506885   73396712      10000        10000          10000.0   60 months   \n",
       "4  68341763   72928789      20000        20000          20000.0   60 months   \n",
       "\n",
       "   int_rate  installment grade sub_grade  ... total_bal_il il_util  \\\n",
       "0     11.99       778.38     C        C1  ...      35367.0    49.3   \n",
       "1      5.32       260.50     A        A1  ...      24041.0    88.8   \n",
       "2     14.85       146.16     C        C5  ...       3830.0    21.9   \n",
       "3     11.99       222.40     C        C1  ...      35354.0    75.5   \n",
       "4     10.78       432.66     B        B4  ...      10827.0    72.8   \n",
       "\n",
       "  open_rv_12m  open_rv_24m max_bal_bc all_util total_rev_hi_lim inq_fi  \\\n",
       "0         0.0          1.0     5020.0     40.1          52200.0    1.0   \n",
       "1         0.0          3.0     3081.0     57.9          26800.0    1.0   \n",
       "2         0.0          0.0      367.0     22.4           4300.0    0.0   \n",
       "3         1.0          1.0     3118.0     67.4          14200.0    1.0   \n",
       "4         0.0          2.0     2081.0     64.7          14000.0    2.0   \n",
       "\n",
       "  total_cu_tl inq_last_12m  \n",
       "0         4.0          0.0  \n",
       "1         0.0          5.0  \n",
       "2         0.0          0.0  \n",
       "3         1.0          1.0  \n",
       "4         5.0          1.0  \n",
       "\n",
       "[5 rows x 74 columns]"
      ]
     },
     "execution_count": 69,
     "metadata": {},
     "output_type": "execute_result"
    }
   ],
   "source": [
    "# df.shape\n",
    "df.head()\n",
    "# df.describe()\n",
    "# df.info()"
   ]
  },
  {
   "cell_type": "code",
   "execution_count": null,
   "metadata": {},
   "outputs": [],
   "source": []
  },
  {
   "cell_type": "markdown",
   "metadata": {},
   "source": [
    "### 3(a) Exploratory Analysis Questions\n",
    "\n",
    "<p style='font-weight:100'>Multiple approaches are possible, but your code should run without error and unambiguously demonstrate your approach to answering the question.</p>\n",
    "<p style='font-weight:100'>You should run your code and show your output, if any, clearly in your submitted notebook, or else marks will be deducted for questions requesting for explicit output.</p>"
   ]
  },
  {
   "cell_type": "markdown",
   "metadata": {},
   "source": [
    "<p>QUESTION 3a_i [2 marks]: Check that for every row, the <code>member_id</code> has no duplicated value (i.e., each member_id exists once and only once).</p>\n",
    "\n",
    "<p style='font-weight:100'><i>Check</i> means that your code is actually capable of 'checking.' That is, if there are indeed duplicated records, your code is capable of producing an output that will be different from the case where there is no duplicated record.</p>"
   ]
  },
  {
   "cell_type": "code",
   "execution_count": 70,
   "metadata": {
    "tags": [
     "q3ai"
    ]
   },
   "outputs": [
    {
     "name": "stdout",
     "output_type": "stream",
     "text": [
      "No duplicated records found.\n"
     ]
    }
   ],
   "source": [
    "data = df = pd.read_pickle('loan_data_2015.zip')\n",
    "duplicated_rows = data[data.duplicated(subset='member_id')]\n",
    "\n",
    "if duplicated_rows.empty:\n",
    "    print(\"No duplicated records found.\")\n",
    "else:\n",
    "    print(\"Duplicated records found:\")\n",
    "    print(duplicated_rows)"
   ]
  },
  {
   "cell_type": "markdown",
   "metadata": {},
   "source": [
    "<p>QUESTION 3a_ii [2 marks]: Check that <code>funded_amnt</code> and <code>int_rate</code> is positively correlated, using pandas or numpy.</p>"
   ]
  },
  {
   "cell_type": "code",
   "execution_count": 72,
   "metadata": {
    "tags": [
     "q3aii"
    ]
   },
   "outputs": [
    {
     "name": "stdout",
     "output_type": "stream",
     "text": [
      "Correlation between funded_amnt and int_rate: 0.14069006391675687\n"
     ]
    }
   ],
   "source": [
    "data = df = pd.read_pickle('loan_data_2015.zip')\n",
    "correlation = data['funded_amnt'].corr(data['int_rate'])\n",
    "\n",
    "print(\"Correlation between funded_amnt and int_rate:\", correlation)"
   ]
  },
  {
   "cell_type": "markdown",
   "metadata": {},
   "source": [
    "<p>QUESTION 3a_iii [3 marks]: Create a dataframe to show, for every <code>grade</code>, the sum and 99.9th percentile values of the <code>recoveries</code>.</p>\n",
    "<p>Make sure that the column labels are understandable to indicate what values are in every column.</p>"
   ]
  },
  {
   "cell_type": "code",
   "execution_count": 73,
   "metadata": {
    "tags": [
     "q3aiii"
    ]
   },
   "outputs": [
    {
     "name": "stdout",
     "output_type": "stream",
     "text": [
      "  grade        Sum  99.9th Percentile\n",
      "0     A   24822.72            0.00000\n",
      "1     B  146207.83            0.00000\n",
      "2     C  194972.32            0.00000\n",
      "3     D  197778.34          411.96806\n",
      "4     E  245848.22         2853.57285\n",
      "5     F  114014.55         4370.17368\n",
      "6     G   29402.74         5348.00948\n"
     ]
    }
   ],
   "source": [
    "df = data.groupby('grade')['recoveries'].agg([('Sum', 'sum'), ('99.9th Percentile', lambda x: x.quantile(0.999))])\n",
    "df.reset_index(inplace=True)\n",
    "\n",
    "print(df)"
   ]
  },
  {
   "cell_type": "markdown",
   "metadata": {},
   "source": [
    "## 3(b) Visualisations\n",
    "<p style='font-weight:100'>You can use matplotlib and/or seaborn. Your graphs must be clearly presented in the submitted notebook, or else marks will be deducted.</p>"
   ]
  },
  {
   "cell_type": "markdown",
   "metadata": {},
   "source": [
    "<p>QUESTION 3b_i [3 marks]: Plot a histogram chart of the <code>loan_amnt</code>.</p>\n",
    "<p>The title and axes should be clearly labelled so that any reader can easily understand your chart.</p>\n",
    "<p>Add a mean line (black dashed) to the chart.</p>"
   ]
  },
  {
   "cell_type": "code",
   "execution_count": 83,
   "metadata": {
    "tags": [
     "q3bi"
    ]
   },
   "outputs": [
    {
     "data": {
      "image/png": "[encoded data removed]",
      "text/plain": [
       "<Figure size 640x480 with 1 Axes>"
      ]
     },
     "metadata": {},
     "output_type": "display_data"
    }
   ],
   "source": [
    "\n",
    "loan_amounts = data['loan_amnt']\n",
    "\n",
    "fig, ax = plt.subplots()\n",
    "\n",
    "# Plot the histogram\n",
    "ax.hist(loan_amounts, bins=20, edgecolor='black', color='lightblue')\n",
    "\n",
    "# Calculate and plot the mean line\n",
    "mean_loan_amount = loan_amounts.mean()\n",
    "ax.axvline(mean_loan_amount, color='black', linestyle='dashed', linewidth=1)\n",
    "\n",
    "# Set chart title and axis labels\n",
    "ax.set_title(\"Distribution of Loan Amounts\")\n",
    "ax.set_xlabel(\"Loan Amount\")\n",
    "ax.set_ylabel(\"Frequency\")\n",
    "\n",
    "# Show the plot\n",
    "plt.show()\n",
    "\n"
   ]
  },
  {
   "cell_type": "markdown",
   "metadata": {},
   "source": [
    "<p>QUESTION 3b_ii [3 marks]:\n",
    "Plot a grouped bar plot of average <code>loan_amnt</code> by <code>grade</code>, for '36 months' and '60 months' <code>term</code>.</p>\n",
    "<p>You can refer to the sample output for guidance. You are free to choose your colour scheme and y-axis scale, but position the legend so that it does not overlap the bars.</p>"
   ]
  },
  {
   "cell_type": "code",
   "execution_count": 87,
   "metadata": {
    "tags": [
     "q3bii"
    ]
   },
   "outputs": [
    {
     "data": {
      "image/png": "[encoded data removed]",
      "text/plain": [
       "<Figure size 640x480 with 1 Axes>"
      ]
     },
     "metadata": {},
     "output_type": "display_data"
    }
   ],
   "source": [
    "grouped_data = df.groupby(['grade', 'term'])['loan_amnt'].mean().unstack()\n",
    "bar_width = 0.35\n",
    "grades = grouped_data.index\n",
    "x = [i for i in range(len(grades))]\n",
    "fig, ax = plt.subplots()\n",
    "rects1 = ax.bar([val - bar_width/2 for val in x], grouped_data[' 36 months'], bar_width, label='36 months')\n",
    "rects2 = ax.bar([val + bar_width/2 for val in x], grouped_data[' 60 months'], bar_width, label='60 months')\n",
    "\n",
    "ax.set_xlabel('Grade')\n",
    "ax.set_ylabel('Average Loan Amount')\n",
    "ax.set_title('Average Loan Amount by Grade and Term')\n",
    "ax.set_xticks(x)\n",
    "ax.set_xticklabels(grades)\n",
    "ax.legend()\n",
    "\n",
    "plt.show()\n"
   ]
  },
  {
   "cell_type": "markdown",
   "metadata": {},
   "source": [
    "## 3(c) Further Examinations\n",
    "\n",
    "<p style='font-weight:100'>For the following questions except 3c_iii and 3c_v, your code may or may not generate any output.</p>"
   ]
  },
  {
   "cell_type": "markdown",
   "metadata": {},
   "source": [
    "<p>QUESTION 3c_i [4 marks]: Convert the <code>emp_length</code> column to a numeric column (in years), using pandas or numpy methods.</p>\n",
    "<p>Using while- or for- loops would result in mark loss.</p>\n",
    "<p>For special cases,</p>\n",
    "<ul>\n",
    "<li>'< 1 year' to be transformed as the max-min scaled <code>annual_inc</code> of applicants with <code>emp_length = < 1 year</code>.</li>\n",
    "</ul>\n",
    "<p>The formula for max-min scaler is provided for reference.</p>\n",
    "\n",
    "$$x_{scaled} = \\frac{x - x_{\\min}}{x_{\\max} - x_{\\min}}$$\n",
    "\n",
    "E.g., if $x$ = 50, max of $x$ = 120 and min of $x$ = 20, then $$x_{scaled} = 0.3$$\n",
    "\n",
    "<ul>\n",
    "<li>'10+ years' to be treated as 10</li>\n",
    "<li>missing values to be median-imputed. Mean refers to the median of the column values when missing values are omitted.</li>\n",
    "</ul>\n",
    "<p>Name the newly created column as <code>emp_length_num</code>.</p>"
   ]
  },
  {
   "cell_type": "code",
   "execution_count": 106,
   "metadata": {
    "tags": [
     "q3ci"
    ]
   },
   "outputs": [],
   "source": [
    "import numpy as np\n",
    "import pandas as pd\n",
    "\n",
    "def convert_emp_length(df):\n",
    "    df = df.copy()\n",
    "    \n",
    "    # Replace '< 1 year' with max-min scaled annual_inc for applicants with emp_length = '< 1 year'\n",
    "    min_value = df.loc[df['emp_length'] != '< 1 year', 'annual_inc'].min()\n",
    "    max_value = df.loc[df['emp_length'] != '< 1 year', 'annual_inc'].max()\n",
    "    df['emp_length_num'] = df['emp_length']\n",
    "    df.loc[df['emp_length_num'] == '< 1 year', 'emp_length_num'] = (df['annual_inc'] - min_value) / (max_value - min_value)\n",
    "    \n",
    "    # Replace '10+ years' with 10\n",
    "    df.loc[df['emp_length_num'] == '10+ years', 'emp_length_num'] = 10\n",
    "    \n",
    "    # Convert emp_length_num to numeric\n",
    "    df['emp_length_num'] = pd.to_numeric(df['emp_length_num'], errors='coerce')\n",
    "    \n",
    "    # Median imputation for missing values\n",
    "    median_value = df['emp_length_num'].median()\n",
    "    df['emp_length_num'].fillna(median_value, inplace=True)\n",
    "    \n",
    "    return df\n",
    "\n"
   ]
  },
  {
   "cell_type": "code",
   "execution_count": 108,
   "metadata": {},
   "outputs": [
    {
     "data": {
      "text/html": [
       "<div>\n",
       "<style scoped>\n",
       "    .dataframe tbody tr th:only-of-type {\n",
       "        vertical-align: middle;\n",
       "    }\n",
       "\n",
       "    .dataframe tbody tr th {\n",
       "        vertical-align: top;\n",
       "    }\n",
       "\n",
       "    .dataframe thead th {\n",
       "        text-align: right;\n",
       "    }\n",
       "</style>\n",
       "<table border=\"1\" class=\"dataframe\">\n",
       "  <thead>\n",
       "    <tr style=\"text-align: right;\">\n",
       "      <th></th>\n",
       "      <th>emp_length</th>\n",
       "      <th>emp_length_num</th>\n",
       "    </tr>\n",
       "  </thead>\n",
       "  <tbody>\n",
       "    <tr>\n",
       "      <th>117078</th>\n",
       "      <td>2</td>\n",
       "      <td>2.0</td>\n",
       "    </tr>\n",
       "    <tr>\n",
       "      <th>25670</th>\n",
       "      <td>1</td>\n",
       "      <td>1.0</td>\n",
       "    </tr>\n",
       "    <tr>\n",
       "      <th>56902</th>\n",
       "      <td>3</td>\n",
       "      <td>3.0</td>\n",
       "    </tr>\n",
       "    <tr>\n",
       "      <th>116306</th>\n",
       "      <td>1</td>\n",
       "      <td>1.0</td>\n",
       "    </tr>\n",
       "    <tr>\n",
       "      <th>185055</th>\n",
       "      <td>3</td>\n",
       "      <td>3.0</td>\n",
       "    </tr>\n",
       "    <tr>\n",
       "      <th>184140</th>\n",
       "      <td>1</td>\n",
       "      <td>1.0</td>\n",
       "    </tr>\n",
       "    <tr>\n",
       "      <th>366172</th>\n",
       "      <td>3</td>\n",
       "      <td>3.0</td>\n",
       "    </tr>\n",
       "    <tr>\n",
       "      <th>54169</th>\n",
       "      <td>10</td>\n",
       "      <td>10.0</td>\n",
       "    </tr>\n",
       "    <tr>\n",
       "      <th>283923</th>\n",
       "      <td>2</td>\n",
       "      <td>2.0</td>\n",
       "    </tr>\n",
       "  </tbody>\n",
       "</table>\n",
       "</div>"
      ],
      "text/plain": [
       "       emp_length  emp_length_num\n",
       "117078          2             2.0\n",
       "25670           1             1.0\n",
       "56902           3             3.0\n",
       "116306          1             1.0\n",
       "185055          3             3.0\n",
       "184140          1             1.0\n",
       "366172          3             3.0\n",
       "54169          10            10.0\n",
       "283923          2             2.0"
      ]
     },
     "execution_count": 108,
     "metadata": {},
     "output_type": "execute_result"
    }
   ],
   "source": [
    "# test to examine a sample of your dataframe with two columns of interest\n",
    "get_emp_length_num(df)[['emp_length', 'emp_length_num']].sample(9)"
   ]
  },
  {
   "cell_type": "markdown",
   "metadata": {},
   "source": [
    "The following columns are read into the pandas dataframe as object (str).\n",
    "<ul>\n",
    "<li><code>issue_d</code> = the month which the loan was funded</li>\n",
    "<li><code>earliest_cr_line</code> = The month-year the borrower's earliest reported credit line was opened</li>\n",
    "</ul>\n",
    "<p>QUESTION 3c_ii [3 marks]: Convert the two columns into datetime format, and name the two newly created columns as <code>issue_d_dtm</code> and <code>earliest_cr_line_dtm</code> respectively.</p>\n",
    "<p>QUESTION 3c_iii [1 mark]: Display the latest recorded <code>issue_d_dtm</code>\n",
    "<p>QUESTION 3c_iv [1 mark]: Display the latest recorded <code>earliest_cr_line_dtm</code> \n",
    "\n",
    "<p style='font-weight:100'>'Latest' means, of the most recent date. E.g., when was the latest date you received the Covid vaccine? The value must make sense.</p>"
   ]
  },
  {
   "cell_type": "code",
   "execution_count": 137,
   "metadata": {
    "scrolled": true,
    "tags": [
     "q3cii"
    ]
   },
   "outputs": [],
   "source": [
    "# convert issue_d and earliest_cr_line columns to datetime columns\n",
    "df['issue_d_dtm'] = pd.to_datetime(df['issue_d'], format='%b-%y')\n",
    "df['earliest_cr_line_dtm'] = pd.to_datetime(df['earliest_cr_line'], format='%b-%y')"
   ]
  },
  {
   "cell_type": "code",
   "execution_count": 138,
   "metadata": {
    "tags": [
     "q3ciii"
    ]
   },
   "outputs": [
    {
     "name": "stdout",
     "output_type": "stream",
     "text": [
      "Latest recorded issue_d_dtm: 2015-12-01 00:00:00\n"
     ]
    }
   ],
   "source": [
    "# display the latest recorded issue_d_dtm\n",
    "latest_issue_d_dtm = df['issue_d_dtm'].max()\n",
    "print(\"Latest recorded issue_d_dtm:\", latest_issue_d_dtm)\n"
   ]
  },
  {
   "cell_type": "code",
   "execution_count": 139,
   "metadata": {
    "tags": [
     "q3civ"
    ]
   },
   "outputs": [
    {
     "name": "stdout",
     "output_type": "stream",
     "text": [
      "Latest recorded earliest_cr_line_dtm: 2068-12-01 00:00:00\n"
     ]
    }
   ],
   "source": [
    "# display the latest earliest_cr_line_dtm\n",
    "latest_earliest_cr_line_dtm = df['earliest_cr_line_dtm'].max()\n",
    "print(\"Latest recorded earliest_cr_line_dtm:\", latest_earliest_cr_line_dtm)"
   ]
  },
  {
   "cell_type": "markdown",
   "metadata": {},
   "source": [
    "<p>QUESTION 3c_v [3 marks]: Create a chart that clearly shows the trend of <code>funded_amnt</code> by '36 months' and '60 months' <code>term</code> since the <code>earliest_cr_line</code> date .</p>\n",
    "<ul>\n",
    "<li>You should choose the type of chart that is best suited for showing trend over time.</li>\n",
    "<li>To show trend, it is sufficient to calculate the average value by every year to smooth out fluctuations.</li>\n",
    "<li>You can make use of the results from QUESTION 3c_ii.</li>\n",
    "</ul>\n"
   ]
  },
  {
   "cell_type": "code",
   "execution_count": 143,
   "metadata": {
    "tags": [
     "q3cv"
    ]
   },
   "outputs": [
    {
     "data": {
      "image/png": "[encoded data removed]",
      "text/plain": [
       "<Figure size 1000x600 with 1 Axes>"
      ]
     },
     "metadata": {},
     "output_type": "display_data"
    }
   ],
   "source": [
    "# Group the data by term and year, and calculate the mean funded_amnt\n",
    "average_funded_amnt = df.groupby([df['term'], df['earliest_cr_line_dtm'].dt.year])['funded_amnt'].mean().unstack(level=0)\n",
    "\n",
    "# Plot the data using a line chart\n",
    "average_funded_amnt.plot(kind='line', figsize=(10, 6))\n",
    "\n",
    "plt.xlabel('Year')\n",
    "plt.ylabel('Average Funded Amount')\n",
    "plt.title('Trend of Funded Amount by Term')\n",
    "plt.legend(title='Term')\n",
    "plt.show()\n"
   ]
  },
  {
   "cell_type": "markdown",
   "metadata": {},
   "source": [
    "<p>In one-hot encoding, a new binary variable is added for each unique categorical value while avoiding issue of multicollinearity.</p>\n",
    "<p>For example, if there is a colour categorical column: {Red, Green Blue}, we only need two binary variables be created to one-hot-encode the three colours, assuming that there is no missing value.</p>\n",
    "<table>\n",
    "<tbody>\n",
    "<tr>\n",
    "<td>colour</td>\n",
    "<td>colour_red</td>\n",
    "<td>colour_blue</td>\n",
    "</tr>\n",
    "<tr>\n",
    "<td>red</td>\n",
    "<td>TRUE or 1</td>\n",
    "<td>FALSE or 0</td>\n",
    "</tr>\n",
    "<tr>\n",
    "<td>green</td>\n",
    "<td>FALSE</td>\n",
    "<td>FALSE</td>\n",
    "</tr>\n",
    "<tr>\n",
    "<td>blue</td>\n",
    "<td>FALSE</td>\n",
    "<td>TRUE</td>\n",
    "</tr>\n",
    "<tr>\n",
    "<td>red</td>\n",
    "<td>TRUE</td>\n",
    "<td>FALSE</td>\n",
    "</tr>\n",
    "<tr>\n",
    "<td>blue</td>\n",
    "<td>FALSE</td>\n",
    "<td>TRUE</td>\n",
    "</tr>\n",
    "</tbody>\n",
    "</table>\n",
    "\n",
    "<p>QUESTION 3c_vi [2 marks]: One-hot encode the <code>loan_status</code> column. Prefix the newly created columns with <code>loan_status_</code>.</p>"
   ]
  },
  {
   "cell_type": "code",
   "execution_count": 147,
   "metadata": {
    "scrolled": true,
    "tags": [
     "q3cvi"
    ]
   },
   "outputs": [
    {
     "data": {
      "text/html": [
       "<div>\n",
       "<style scoped>\n",
       "    .dataframe tbody tr th:only-of-type {\n",
       "        vertical-align: middle;\n",
       "    }\n",
       "\n",
       "    .dataframe tbody tr th {\n",
       "        vertical-align: top;\n",
       "    }\n",
       "\n",
       "    .dataframe thead th {\n",
       "        text-align: right;\n",
       "    }\n",
       "</style>\n",
       "<table border=\"1\" class=\"dataframe\">\n",
       "  <thead>\n",
       "    <tr style=\"text-align: right;\">\n",
       "      <th></th>\n",
       "      <th>id</th>\n",
       "      <th>member_id</th>\n",
       "      <th>loan_amnt</th>\n",
       "      <th>funded_amnt</th>\n",
       "      <th>funded_amnt_inv</th>\n",
       "      <th>term</th>\n",
       "      <th>int_rate</th>\n",
       "      <th>installment</th>\n",
       "      <th>grade</th>\n",
       "      <th>sub_grade</th>\n",
       "      <th>...</th>\n",
       "      <th>loan_status_Late (16-30 days)</th>\n",
       "      <th>loan_status_Late (31-120 days)</th>\n",
       "      <th>loan_status_Charged Off</th>\n",
       "      <th>loan_status_Current</th>\n",
       "      <th>loan_status_Default</th>\n",
       "      <th>loan_status_Fully Paid</th>\n",
       "      <th>loan_status_In Grace Period</th>\n",
       "      <th>loan_status_Issued</th>\n",
       "      <th>loan_status_Late (16-30 days)</th>\n",
       "      <th>loan_status_Late (31-120 days)</th>\n",
       "    </tr>\n",
       "  </thead>\n",
       "  <tbody>\n",
       "    <tr>\n",
       "      <th>0</th>\n",
       "      <td>68444620</td>\n",
       "      <td>73334399</td>\n",
       "      <td>35000</td>\n",
       "      <td>35000</td>\n",
       "      <td>35000.0</td>\n",
       "      <td>60 months</td>\n",
       "      <td>11.99</td>\n",
       "      <td>778.38</td>\n",
       "      <td>C</td>\n",
       "      <td>C1</td>\n",
       "      <td>...</td>\n",
       "      <td>0</td>\n",
       "      <td>0</td>\n",
       "      <td>0</td>\n",
       "      <td>0</td>\n",
       "      <td>0</td>\n",
       "      <td>0</td>\n",
       "      <td>0</td>\n",
       "      <td>1</td>\n",
       "      <td>0</td>\n",
       "      <td>0</td>\n",
       "    </tr>\n",
       "    <tr>\n",
       "      <th>1</th>\n",
       "      <td>68547583</td>\n",
       "      <td>73437441</td>\n",
       "      <td>8650</td>\n",
       "      <td>8650</td>\n",
       "      <td>8650.0</td>\n",
       "      <td>36 months</td>\n",
       "      <td>5.32</td>\n",
       "      <td>260.50</td>\n",
       "      <td>A</td>\n",
       "      <td>A1</td>\n",
       "      <td>...</td>\n",
       "      <td>0</td>\n",
       "      <td>0</td>\n",
       "      <td>0</td>\n",
       "      <td>0</td>\n",
       "      <td>0</td>\n",
       "      <td>0</td>\n",
       "      <td>0</td>\n",
       "      <td>1</td>\n",
       "      <td>0</td>\n",
       "      <td>0</td>\n",
       "    </tr>\n",
       "    <tr>\n",
       "      <th>2</th>\n",
       "      <td>67849662</td>\n",
       "      <td>72708407</td>\n",
       "      <td>4225</td>\n",
       "      <td>4225</td>\n",
       "      <td>4225.0</td>\n",
       "      <td>36 months</td>\n",
       "      <td>14.85</td>\n",
       "      <td>146.16</td>\n",
       "      <td>C</td>\n",
       "      <td>C5</td>\n",
       "      <td>...</td>\n",
       "      <td>0</td>\n",
       "      <td>0</td>\n",
       "      <td>0</td>\n",
       "      <td>0</td>\n",
       "      <td>0</td>\n",
       "      <td>0</td>\n",
       "      <td>0</td>\n",
       "      <td>1</td>\n",
       "      <td>0</td>\n",
       "      <td>0</td>\n",
       "    </tr>\n",
       "    <tr>\n",
       "      <th>3</th>\n",
       "      <td>68506885</td>\n",
       "      <td>73396712</td>\n",
       "      <td>10000</td>\n",
       "      <td>10000</td>\n",
       "      <td>10000.0</td>\n",
       "      <td>60 months</td>\n",
       "      <td>11.99</td>\n",
       "      <td>222.40</td>\n",
       "      <td>C</td>\n",
       "      <td>C1</td>\n",
       "      <td>...</td>\n",
       "      <td>0</td>\n",
       "      <td>0</td>\n",
       "      <td>0</td>\n",
       "      <td>0</td>\n",
       "      <td>0</td>\n",
       "      <td>0</td>\n",
       "      <td>0</td>\n",
       "      <td>1</td>\n",
       "      <td>0</td>\n",
       "      <td>0</td>\n",
       "    </tr>\n",
       "    <tr>\n",
       "      <th>4</th>\n",
       "      <td>68341763</td>\n",
       "      <td>72928789</td>\n",
       "      <td>20000</td>\n",
       "      <td>20000</td>\n",
       "      <td>20000.0</td>\n",
       "      <td>60 months</td>\n",
       "      <td>10.78</td>\n",
       "      <td>432.66</td>\n",
       "      <td>B</td>\n",
       "      <td>B4</td>\n",
       "      <td>...</td>\n",
       "      <td>0</td>\n",
       "      <td>0</td>\n",
       "      <td>0</td>\n",
       "      <td>0</td>\n",
       "      <td>0</td>\n",
       "      <td>0</td>\n",
       "      <td>0</td>\n",
       "      <td>1</td>\n",
       "      <td>0</td>\n",
       "      <td>0</td>\n",
       "    </tr>\n",
       "  </tbody>\n",
       "</table>\n",
       "<p>5 rows × 133 columns</p>\n",
       "</div>"
      ],
      "text/plain": [
       "         id  member_id  loan_amnt  funded_amnt  funded_amnt_inv        term  \\\n",
       "0  68444620   73334399      35000        35000          35000.0   60 months   \n",
       "1  68547583   73437441       8650         8650           8650.0   36 months   \n",
       "2  67849662   72708407       4225         4225           4225.0   36 months   \n",
       "3  68506885   73396712      10000        10000          10000.0   60 months   \n",
       "4  68341763   72928789      20000        20000          20000.0   60 months   \n",
       "\n",
       "   int_rate  installment grade sub_grade  ... loan_status_Late (16-30 days)  \\\n",
       "0     11.99       778.38     C        C1  ...                             0   \n",
       "1      5.32       260.50     A        A1  ...                             0   \n",
       "2     14.85       146.16     C        C5  ...                             0   \n",
       "3     11.99       222.40     C        C1  ...                             0   \n",
       "4     10.78       432.66     B        B4  ...                             0   \n",
       "\n",
       "  loan_status_Late (31-120 days) loan_status_Charged Off  loan_status_Current  \\\n",
       "0                              0                       0                    0   \n",
       "1                              0                       0                    0   \n",
       "2                              0                       0                    0   \n",
       "3                              0                       0                    0   \n",
       "4                              0                       0                    0   \n",
       "\n",
       "  loan_status_Default loan_status_Fully Paid loan_status_In Grace Period  \\\n",
       "0                   0                      0                           0   \n",
       "1                   0                      0                           0   \n",
       "2                   0                      0                           0   \n",
       "3                   0                      0                           0   \n",
       "4                   0                      0                           0   \n",
       "\n",
       "  loan_status_Issued loan_status_Late (16-30 days)  \\\n",
       "0                  1                             0   \n",
       "1                  1                             0   \n",
       "2                  1                             0   \n",
       "3                  1                             0   \n",
       "4                  1                             0   \n",
       "\n",
       "  loan_status_Late (31-120 days)  \n",
       "0                              0  \n",
       "1                              0  \n",
       "2                              0  \n",
       "3                              0  \n",
       "4                              0  \n",
       "\n",
       "[5 rows x 133 columns]"
      ]
     },
     "execution_count": 147,
     "metadata": {},
     "output_type": "execute_result"
    }
   ],
   "source": [
    "# one-hot encode loan_status column\n",
    "encoded_columns = pd.get_dummies(df['loan_status'], prefix='loan_status')\n",
    "df = pd.concat([df, encoded_columns], axis=1)\n",
    "df.head()\n"
   ]
  },
  {
   "cell_type": "code",
   "execution_count": null,
   "metadata": {},
   "outputs": [],
   "source": []
  }
 ],
 "metadata": {
  "kernelspec": {
   "display_name": "Python 3 (ipykernel)",
   "language": "python",
   "name": "python3"
  },
  "language_info": {
   "codemirror_mode": {
    "name": "ipython",
    "version": 3
   },
   "file_extension": ".py",
   "mimetype": "text/x-python",
   "name": "python",
   "nbconvert_exporter": "python",
   "pygments_lexer": "ipython3",
   "version": "3.10.9"
  }
 },
 "nbformat": 4,
 "nbformat_minor": 2
}
