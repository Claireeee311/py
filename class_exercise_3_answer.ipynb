{
 "cells": [
  {
   "cell_type": "markdown",
   "metadata": {},
   "source": [
    "## Python programming and Data Analysis\n",
    "\n",
    "## [Sample solution] Class Exercise 3 -- Regular Expressions"
   ]
  },
  {
   "cell_type": "code",
   "execution_count": 1,
   "metadata": {},
   "outputs": [],
   "source": [
    "import re"
   ]
  },
  {
   "cell_type": "markdown",
   "metadata": {},
   "source": [
    "### Exercise 3.11\n",
    "\n",
    "Match all phone numbers in the give text.\n",
    "```\n",
    "Please dial our hotline number:\n",
    "93611900\n",
    "93611909\n",
    "93611919\n",
    "```"
   ]
  },
  {
   "cell_type": "code",
   "execution_count": 2,
   "metadata": {},
   "outputs": [
    {
     "data": {
      "text/plain": [
       "[<re.Match object; span=(32, 40), match='93611900'>,\n",
       " <re.Match object; span=(41, 49), match='93611909'>,\n",
       " <re.Match object; span=(50, 58), match='93611919'>]"
      ]
     },
     "execution_count": 2,
     "metadata": {},
     "output_type": "execute_result"
    }
   ],
   "source": [
    "text = \"\"\"Please dial our hotline number:\n",
    "93611900\n",
    "93611909\n",
    "93611919\"\"\"\n",
    "\n",
    "p = re.compile(r'\\d{8}', re.M)\n",
    "\n",
    "list(p.finditer(text))"
   ]
  },
  {
   "cell_type": "code",
   "execution_count": null,
   "metadata": {},
   "outputs": [],
   "source": []
  },
  {
   "cell_type": "markdown",
   "metadata": {},
   "source": [
    "### Exercise 3.12\n",
    "\n",
    "Match all the prefixes and only the names following them in the text.\n",
    "```\n",
    "Here are the guests coming to the party tonight:\n",
    " - Mr. Joe Bean\n",
    " - Ms. Liz Johnson\n",
    " - Mrs. Alice Dawn Fredder\n",
    " - Miss. Emma Williams\n",
    "\n",
    "```"
   ]
  },
  {
   "cell_type": "code",
   "execution_count": 3,
   "metadata": {},
   "outputs": [],
   "source": [
    "text = \"\"\"Here are the guests coming to the party tonight:\n",
    " - Mr. Joe Bean\n",
    " - Ms. Liz Johnson\n",
    " - Mrs. Alice Dawn Fredder\n",
    " - Miss. Emma Williams\"\"\""
   ]
  },
  {
   "cell_type": "code",
   "execution_count": 4,
   "metadata": {},
   "outputs": [
    {
     "data": {
      "text/plain": [
       "[<re.Match object; span=(52, 64), match='Mr. Joe Bean'>,\n",
       " <re.Match object; span=(68, 83), match='Ms. Liz Johnson'>,\n",
       " <re.Match object; span=(87, 110), match='Mrs. Alice Dawn Fredder'>,\n",
       " <re.Match object; span=(114, 133), match='Miss. Emma Williams'>]"
      ]
     },
     "execution_count": 4,
     "metadata": {},
     "output_type": "execute_result"
    }
   ],
   "source": [
    "p = re.compile(r'M[ris]s*\\. [\\w\\s]+$', re.M)\n",
    "\n",
    "list(p.finditer(text))"
   ]
  },
  {
   "cell_type": "code",
   "execution_count": null,
   "metadata": {},
   "outputs": [],
   "source": [
    "\n"
   ]
  },
  {
   "cell_type": "markdown",
   "metadata": {},
   "source": [
    "### Exercise 3.13\n",
    "\n",
    "Match all email addresses from the given text.\n",
    "```\n",
    "My old email address jk@gmail.com is no longer in use. For the moment, my personal email address is jk_personal@yahoo.com.sg. You may also contact me at jameskohby@smu.edu.sg.\n",
    "```"
   ]
  },
  {
   "cell_type": "code",
   "execution_count": 5,
   "metadata": {},
   "outputs": [],
   "source": [
    "text = \"My old email address jk@gmail.com is no longer in use. For the moment, my personal email address is jk_personal@yahoo.com.sg. You may also contact me at jameskohby@smu.edu.sg.\""
   ]
  },
  {
   "cell_type": "code",
   "execution_count": 6,
   "metadata": {},
   "outputs": [
    {
     "data": {
      "text/plain": [
       "[<re.Match object; span=(21, 33), match='jk@gmail.com'>,\n",
       " <re.Match object; span=(100, 124), match='jk_personal@yahoo.com.sg'>,\n",
       " <re.Match object; span=(153, 174), match='jameskohby@smu.edu.sg'>]"
      ]
     },
     "execution_count": 6,
     "metadata": {},
     "output_type": "execute_result"
    }
   ],
   "source": [
    "p = re.compile(r'\\w+@[\\w.]+\\b', re.M)\n",
    "\n",
    "list(p.finditer(text))"
   ]
  },
  {
   "cell_type": "code",
   "execution_count": null,
   "metadata": {},
   "outputs": [],
   "source": []
  },
  {
   "cell_type": "markdown",
   "metadata": {},
   "source": [
    "### Exercise 3.14\n",
    "\n",
    "Match all the names and phone numbers from the given text and create a dictionary using the names as keys and phone numbers as values.\n",
    "\n",
    "Note that the correct format for a phone number is 9 digits evenly divided into three groups by two hyphens, e.g., 111-111-111. Please correct all the phone numbers with incorrect separators before you put them in the dictionary.\n",
    "\n",
    "*Note: This is different from the SCORM lecture. If you submit a solution to a different question, I will invite you to drink coffee with me.*"
   ]
  },
  {
   "cell_type": "code",
   "execution_count": 7,
   "metadata": {},
   "outputs": [],
   "source": [
    "phones = \"\"\"Mickey Mouse: 123-111-212\n",
    "Donald Duck: 391-399-128\n",
    "Snow White: 188381887\n",
    "Buzz Lightyear: 212-212212\n",
    "Winnie Pooh: 371*371&196\n",
    "Fairy Godmother: -192-182-736-\n",
    "Hua Mulan: 8198-18-817\"\"\""
   ]
  },
  {
   "cell_type": "code",
   "execution_count": 8,
   "metadata": {},
   "outputs": [
    {
     "data": {
      "text/plain": [
       "[<re.Match object; span=(0, 25), match='Mickey Mouse: 123-111-212'>,\n",
       " <re.Match object; span=(26, 50), match='Donald Duck: 391-399-128'>,\n",
       " <re.Match object; span=(51, 72), match='Snow White: 188381887'>,\n",
       " <re.Match object; span=(73, 99), match='Buzz Lightyear: 212-212212'>,\n",
       " <re.Match object; span=(100, 124), match='Winnie Pooh: 371*371&196'>,\n",
       " <re.Match object; span=(125, 155), match='Fairy Godmother: -192-182-736-'>,\n",
       " <re.Match object; span=(156, 178), match='Hua Mulan: 8198-18-817'>]"
      ]
     },
     "execution_count": 8,
     "metadata": {},
     "output_type": "execute_result"
    }
   ],
   "source": [
    "# p = re.compile('^([\\w\\s]+): ([\\d\\W]+)$', re.M)\n",
    "p = re.compile('^[\\w\\s]+: [\\d\\W]+$', re.M)\n",
    "\n",
    "list(p.finditer(phones))\n",
    "# list(p.findall(phones))"
   ]
  },
  {
   "cell_type": "code",
   "execution_count": 9,
   "metadata": {
    "scrolled": true
   },
   "outputs": [
    {
     "data": {
      "text/plain": [
       "{'Mickey Mouse': '123-111-212',\n",
       " 'Donald Duck': '391-399-128',\n",
       " 'Snow White': '188-381-887',\n",
       " 'Buzz Lightyear': '212-212-212',\n",
       " 'Winnie Pooh': '371-371-196',\n",
       " 'Fairy Godmother': '192-182-736',\n",
       " 'Hua Mulan': '819-818-817'}"
      ]
     },
     "execution_count": 9,
     "metadata": {},
     "output_type": "execute_result"
    }
   ],
   "source": [
    "dictionary = {}\n",
    "num_pat = re.compile(r'\\d')\n",
    "\n",
    "for entry in p.finditer(phones):\n",
    "    start, end = entry.span()\n",
    "    name, number = phones[start:end].split(':')\n",
    "    \n",
    "    number = ''.join(num_pat.findall(number))\n",
    "    sep_number = '-'.join(number[3*i: 3*(i+1)] for i in range(3))\n",
    "    dictionary[name] = sep_number\n",
    "\n",
    "dictionary"
   ]
  },
  {
   "cell_type": "code",
   "execution_count": null,
   "metadata": {},
   "outputs": [],
   "source": []
  },
  {
   "cell_type": "markdown",
   "metadata": {},
   "source": [
    "### Exercise 3.15\n",
    "\n",
    "Match all the words that contain at least 3 vowels from the given text."
   ]
  },
  {
   "cell_type": "code",
   "execution_count": 10,
   "metadata": {},
   "outputs": [
    {
     "data": {
      "text/plain": [
       "[<re.Match object; span=(10, 18), match='contains'>,\n",
       " <re.Match object; span=(36, 45), match='dangerous'>,\n",
       " <re.Match object; span=(46, 55), match='criminals'>]"
      ]
     },
     "execution_count": 10,
     "metadata": {},
     "output_type": "execute_result"
    }
   ],
   "source": [
    "text = \"The group contains some of the most dangerous criminals in the country.\"\n",
    "\n",
    "p = re.compile(r'(\\w*[AEIOUaeiou]\\w*){3,}')\n",
    "\n",
    "list(p.finditer(text))"
   ]
  },
  {
   "cell_type": "code",
   "execution_count": null,
   "metadata": {},
   "outputs": [],
   "source": []
  }
 ],
 "metadata": {
  "kernelspec": {
   "display_name": "Python 3",
   "language": "python",
   "name": "python3"
  },
  "language_info": {
   "codemirror_mode": {
    "name": "ipython",
    "version": 3
   },
   "file_extension": ".py",
   "mimetype": "text/x-python",
   "name": "python",
   "nbconvert_exporter": "python",
   "pygments_lexer": "ipython3",
   "version": "3.7.0"
  }
 },
 "nbformat": 4,
 "nbformat_minor": 4
}
